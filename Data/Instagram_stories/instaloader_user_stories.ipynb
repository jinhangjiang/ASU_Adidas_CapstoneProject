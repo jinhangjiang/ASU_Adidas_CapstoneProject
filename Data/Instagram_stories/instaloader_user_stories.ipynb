{
 "cells": [
  {
   "cell_type": "code",
   "execution_count": 1,
   "metadata": {},
   "outputs": [
    {
     "name": "stderr",
     "output_type": "stream",
     "text": [
      "C:\\Users\\jingh\\anaconda3\\lib\\site-packages\\win_unicode_console\\__init__.py:31: RuntimeWarning: sys.stdin.encoding == 'cp1252', whereas sys.stdout.encoding == 'UTF-8', readline hook consumer may assume they are the same\n",
      "  readline_hook.enable(use_pyreadline=use_pyreadline)\n"
     ]
    }
   ],
   "source": [
    "import instaloader\n",
    "import os\n",
    "from datetime import datetime"
   ]
  },
  {
   "cell_type": "code",
   "execution_count": 2,
   "metadata": {},
   "outputs": [
    {
     "name": "stdout",
     "output_type": "stream",
     "text": [
      "Enter Instagram password for wendyjacksen: ········\n"
     ]
    }
   ],
   "source": [
    "# get instance\n",
    "L = instaloader.Instaloader()\n",
    "\n",
    "L.interactive_login(\"wendyjacksen\")      # (ask password on terminal)\n",
    "#L.interactive_login(\"jing8247\")      # (ask password on terminal)"
   ]
  },
  {
   "cell_type": "code",
   "execution_count": 3,
   "metadata": {},
   "outputs": [
    {
     "name": "stdout",
     "output_type": "stream",
     "text": [
      "kerwinfrost\\2021-04-09_01-29-07_UTC.jpg kerwinfrost\\2021-04-09_01-29-07_UTC.mp4 json \n",
      "kerwinfrost\\2021-04-09_01-27-13_UTC.jpg json \n",
      "jerrylorenzo\\2021-04-09_12-57-51_UTC.jpg json \n",
      "jerrylorenzo\\2021-04-09_03-55-00_UTC.jpg json \n",
      "badbunnypr\\2021-04-09_23-38-06_UTC.jpg json \n",
      "badbunnypr\\2021-04-09_01-34-34_UTC.jpg badbunnypr\\2021-04-09_01-34-34_UTC.mp4 json \n",
      "codyrigsby\\2021-04-09_18-29-57_UTC.jpg codyrigsby\\2021-04-09_18-29-57_UTC.mp4 json \n",
      "codyrigsby\\2021-04-09_18-29-50_UTC.jpg codyrigsby\\2021-04-09_18-29-50_UTC.mp4 json \n",
      "codyrigsby\\2021-04-09_13-37-30_UTC.jpg json \n",
      "codyrigsby\\2021-04-09_11-34-31_UTC.jpg codyrigsby\\2021-04-09_11-34-31_UTC.mp4 json \n",
      "adrienelouise\\2021-04-09_22-49-17_UTC.jpg json \n",
      "adrienelouise\\2021-04-09_21-33-29_UTC.jpg json \n",
      "adrienelouise\\2021-04-09_21-33-21_UTC.jpg json \n",
      "adrienelouise\\2021-04-09_14-03-17_UTC.jpg json \n",
      "adrienelouise\\2021-04-09_13-58-09_UTC.jpg json \n",
      "adrienelouise\\2021-04-09_03-09-38_UTC.jpg adrienelouise\\2021-04-09_03-09-38_UTC.mp4 json \n",
      "adrienelouise\\2021-04-09_02-44-22_UTC.jpg json \n",
      "adrienelouise\\2021-04-09_02-13-44_UTC.jpg json \n",
      "adrienelouise\\2021-04-09_02-13-37_UTC.jpg json \n",
      "adrienelouise\\2021-04-09_02-13-31_UTC.jpg json \n",
      "adrienelouise\\2021-04-09_02-13-15_UTC.jpg json \n",
      "adrienelouise\\2021-04-09_02-11-59_UTC.jpg adrienelouise\\2021-04-09_02-11-59_UTC.mp4 json \n",
      "adrienelouise\\2021-04-09_02-09-55_UTC.jpg adrienelouise\\2021-04-09_02-09-55_UTC.mp4 json \n",
      "allymisslove\\2021-04-09_14-41-06_UTC.jpg allymisslove\\2021-04-09_14-41-06_UTC.mp4 json \n",
      "meagankong\\2021-04-09_21-55-30_UTC.jpg json \n",
      "meagankong\\2021-04-09_21-38-23_UTC.jpg json \n",
      "meagankong\\2021-04-09_21-37-57_UTC.jpg json \n",
      "meagankong\\2021-04-09_21-37-38_UTC.jpg json \n",
      "meagankong\\2021-04-09_21-34-20_UTC.jpg json \n",
      "meagankong\\2021-04-09_20-57-09_UTC.jpg json \n",
      "meagankong\\2021-04-09_20-07-13_UTC.jpg meagankong\\2021-04-09_20-07-13_UTC.mp4 json \n",
      "meagankong\\2021-04-09_17-10-25_UTC.jpg meagankong\\2021-04-09_17-10-25_UTC.mp4 json \n",
      "meagankong\\2021-04-09_16-49-01_UTC.jpg json \n",
      "meagankong\\2021-04-09_16-02-22_UTC.jpg json \n",
      "meagankong\\2021-04-09_00-41-48_UTC.jpg json \n",
      "nadyaokamoto\\2021-04-09_22-20-31_UTC.jpg nadyaokamoto\\2021-04-09_22-20-31_UTC.mp4 json \n",
      "nadyaokamoto\\2021-04-09_20-53-26_UTC.jpg json \n",
      "nadyaokamoto\\2021-04-09_20-01-17_UTC.jpg json \n",
      "nadyaokamoto\\2021-04-09_17-39-41_UTC.jpg nadyaokamoto\\2021-04-09_17-39-41_UTC.mp4 json \n",
      "nadyaokamoto\\2021-04-09_02-22-58_UTC.jpg nadyaokamoto\\2021-04-09_02-22-58_UTC.mp4 json \n",
      "nadyaokamoto\\2021-04-09_02-21-41_UTC.jpg json \n",
      "nadyaokamoto\\2021-04-09_02-18-31_UTC.jpg nadyaokamoto\\2021-04-09_02-18-31_UTC.mp4 json \n",
      "pharrell\\2021-04-09_15-37-25_UTC.jpg json \n",
      "yarashahidi\\2021-04-09_20-19-10_UTC.jpg json \n",
      "yarashahidi\\2021-04-09_20-17-08_UTC.jpg json \n",
      "yarashahidi\\2021-04-09_20-17-04_UTC.jpg json \n",
      "yarashahidi\\2021-04-09_20-15-28_UTC.jpg json \n",
      "yarashahidi\\2021-04-09_20-06-23_UTC.jpg json \n",
      "yarashahidi\\2021-04-09_19-59-03_UTC.jpg json \n",
      "yarashahidi\\2021-04-09_06-53-29_UTC.jpg json \n",
      "chinaealexander\\2021-04-09_23-31-38_UTC.jpg chinaealexander\\2021-04-09_23-31-38_UTC.mp4 json \n",
      "chinaealexander\\2021-04-09_22-18-26_UTC.jpg json \n",
      "chinaealexander\\2021-04-09_22-05-49_UTC.jpg json \n",
      "chinaealexander\\2021-04-09_21-17-55_UTC.jpg chinaealexander\\2021-04-09_21-17-55_UTC.mp4 json \n",
      "chinaealexander\\2021-04-09_19-33-49_UTC.jpg json \n",
      "chinaealexander\\2021-04-09_19-21-29_UTC.jpg json \n",
      "chinaealexander\\2021-04-09_19-19-26_UTC.jpg json \n",
      "chinaealexander\\2021-04-09_19-17-22_UTC.jpg chinaealexander\\2021-04-09_19-17-22_UTC.mp4 json \n",
      "chinaealexander\\2021-04-09_19-16-38_UTC.jpg chinaealexander\\2021-04-09_19-16-38_UTC.mp4 json \n",
      "chinaealexander\\2021-04-09_19-15-47_UTC.jpg chinaealexander\\2021-04-09_19-15-47_UTC.mp4 json \n",
      "chinaealexander\\2021-04-09_19-15-04_UTC.jpg chinaealexander\\2021-04-09_19-15-04_UTC.mp4 json \n",
      "chinaealexander\\2021-04-09_19-14-23_UTC.jpg chinaealexander\\2021-04-09_19-14-23_UTC.mp4 json \n",
      "chinaealexander\\2021-04-09_19-14-03_UTC.jpg chinaealexander\\2021-04-09_19-14-03_UTC.mp4 json \n",
      "chinaealexander\\2021-04-09_19-13-38_UTC.jpg chinaealexander\\2021-04-09_19-13-38_UTC.mp4 json \n",
      "chinaealexander\\2021-04-09_19-13-13_UTC.jpg chinaealexander\\2021-04-09_19-13-13_UTC.mp4 json \n",
      "chinaealexander\\2021-04-09_19-12-49_UTC.jpg chinaealexander\\2021-04-09_19-12-49_UTC.mp4 json \n",
      "chinaealexander\\2021-04-09_19-12-29_UTC.jpg chinaealexander\\2021-04-09_19-12-29_UTC.mp4 json \n",
      "chinaealexander\\2021-04-09_19-12-05_UTC.jpg chinaealexander\\2021-04-09_19-12-05_UTC.mp4 json \n",
      "chinaealexander\\2021-04-09_19-11-44_UTC.jpg chinaealexander\\2021-04-09_19-11-44_UTC.mp4 json \n",
      "chinaealexander\\2021-04-09_19-09-53_UTC.jpg chinaealexander\\2021-04-09_19-09-53_UTC.mp4 json \n",
      "chinaealexander\\2021-04-09_19-09-32_UTC.jpg chinaealexander\\2021-04-09_19-09-32_UTC.mp4 json \n",
      "chinaealexander\\2021-04-09_18-37-11_UTC.jpg json "
     ]
    },
    {
     "name": "stderr",
     "output_type": "stream",
     "text": [
      "400 Bad Request Unable to fetch high quality image version of <StoryItem 2548236068504083929>.\n"
     ]
    },
    {
     "name": "stdout",
     "output_type": "stream",
     "text": [
      "\n",
      "chinaealexander\\2021-04-09_18-37-05_UTC.jpg json "
     ]
    },
    {
     "name": "stderr",
     "output_type": "stream",
     "text": [
      "400 Bad Request Unable to fetch high quality image version of <StoryItem 2548236020387093367>.\n"
     ]
    },
    {
     "name": "stdout",
     "output_type": "stream",
     "text": [
      "\n"
     ]
    },
    {
     "name": "stderr",
     "output_type": "stream",
     "text": [
      "400 Bad Request Unable to fetch high quality image version of <StoryItem 2548235967111016031>.\n"
     ]
    },
    {
     "name": "stdout",
     "output_type": "stream",
     "text": [
      "chinaealexander\\2021-04-09_18-36-58_UTC.jpg json \n",
      "chinaealexander\\2021-04-09_18-36-52_UTC.jpg json "
     ]
    },
    {
     "name": "stderr",
     "output_type": "stream",
     "text": [
      "400 Bad Request Unable to fetch high quality image version of <StoryItem 2548235912073443520>.\n"
     ]
    },
    {
     "name": "stdout",
     "output_type": "stream",
     "text": [
      "\n",
      "chinaealexander\\2021-04-09_18-36-45_UTC.jpg json \n",
      "chinaealexander\\2021-04-09_17-21-50_UTC.jpg chinaealexander\\2021-04-09_17-21-50_UTC.mp4 json \n",
      "chinaealexander\\2021-04-09_17-20-12_UTC.jpg chinaealexander\\2021-04-09_17-20-12_UTC.mp4 json \n",
      "chinaealexander\\2021-04-09_17-19-55_UTC.jpg chinaealexander\\2021-04-09_17-19-55_UTC.mp4 json \n",
      "chinaealexander\\2021-04-09_17-19-54_UTC.jpg chinaealexander\\2021-04-09_17-19-54_UTC.mp4 json \n",
      "chinaealexander\\2021-04-09_17-15-44_UTC.jpg json \n",
      "chinaealexander\\2021-04-09_17-12-45_UTC.jpg json \n",
      "chinaealexander\\2021-04-09_16-48-18_UTC.jpg chinaealexander\\2021-04-09_16-48-18_UTC.mp4 json \n",
      "chinaealexander\\2021-04-09_16-44-10_UTC.jpg chinaealexander\\2021-04-09_16-44-10_UTC.mp4 json \n",
      "chinaealexander\\2021-04-09_16-41-12_UTC.jpg chinaealexander\\2021-04-09_16-41-12_UTC.mp4 json \n",
      "chinaealexander\\2021-04-09_16-41-11_UTC.jpg chinaealexander\\2021-04-09_16-41-11_UTC.mp4 json \n",
      "chinaealexander\\2021-04-09_16-40-01_UTC.jpg chinaealexander\\2021-04-09_16-40-01_UTC.mp4 json \n",
      "chinaealexander\\2021-04-09_16-39-31_UTC.jpg chinaealexander\\2021-04-09_16-39-31_UTC.mp4 json \n",
      "chinaealexander\\2021-04-09_16-39-30_UTC.jpg chinaealexander\\2021-04-09_16-39-30_UTC.mp4 json \n",
      "chinaealexander\\2021-04-09_16-35-17_UTC.jpg chinaealexander\\2021-04-09_16-35-17_UTC.mp4 json \n",
      "chinaealexander\\2021-04-09_16-33-41_UTC.jpg chinaealexander\\2021-04-09_16-33-41_UTC.mp4 json \n",
      "chinaealexander\\2021-04-09_16-33-40_UTC.jpg chinaealexander\\2021-04-09_16-33-40_UTC.mp4 json \n",
      "chinaealexander\\2021-04-09_16-33-39_UTC.jpg chinaealexander\\2021-04-09_16-33-39_UTC.mp4 json \n",
      "chinaealexander\\2021-04-09_16-32-22_UTC.jpg chinaealexander\\2021-04-09_16-32-22_UTC.mp4 json \n",
      "chinaealexander\\2021-04-09_16-32-21_UTC.jpg chinaealexander\\2021-04-09_16-32-21_UTC.mp4 json \n",
      "chinaealexander\\2021-04-09_16-32-20_UTC.jpg chinaealexander\\2021-04-09_16-32-20_UTC.mp4 json \n",
      "chinaealexander\\2021-04-09_16-31-12_UTC.jpg chinaealexander\\2021-04-09_16-31-12_UTC.mp4 json \n",
      "chinaealexander\\2021-04-09_16-31-11_UTC.jpg chinaealexander\\2021-04-09_16-31-11_UTC.mp4 json \n",
      "chinaealexander\\2021-04-09_16-31-10_UTC.jpg chinaealexander\\2021-04-09_16-31-10_UTC.mp4 json \n",
      "chinaealexander\\2021-04-09_16-31-09_UTC.jpg chinaealexander\\2021-04-09_16-31-09_UTC.mp4 json \n",
      "chinaealexander\\2021-04-09_16-29-37_UTC.jpg chinaealexander\\2021-04-09_16-29-37_UTC.mp4 json \n",
      "chinaealexander\\2021-04-09_16-29-36_UTC.jpg chinaealexander\\2021-04-09_16-29-36_UTC.mp4 json \n",
      "chinaealexander\\2021-04-09_16-27-54_UTC.jpg chinaealexander\\2021-04-09_16-27-54_UTC.mp4 json \n",
      "chinaealexander\\2021-04-09_16-27-53_UTC.jpg chinaealexander\\2021-04-09_16-27-53_UTC.mp4 json \n",
      "chinaealexander\\2021-04-09_16-27-52_UTC.jpg chinaealexander\\2021-04-09_16-27-52_UTC.mp4 json \n",
      "chinaealexander\\2021-04-09_16-25-16_UTC.jpg json \n",
      "chinaealexander\\2021-04-09_16-08-22_UTC.jpg chinaealexander\\2021-04-09_16-08-22_UTC.mp4 json \n",
      "chinaealexander\\2021-04-09_15-58-57_UTC.jpg chinaealexander\\2021-04-09_15-58-57_UTC.mp4 json \n",
      "chinaealexander\\2021-04-09_15-58-56_UTC.jpg chinaealexander\\2021-04-09_15-58-56_UTC.mp4 json \n",
      "chinaealexander\\2021-04-09_15-58-55_UTC.jpg chinaealexander\\2021-04-09_15-58-55_UTC.mp4 json \n",
      "chinaealexander\\2021-04-09_15-52-56_UTC.jpg chinaealexander\\2021-04-09_15-52-56_UTC.mp4 json \n",
      "chinaealexander\\2021-04-09_15-51-42_UTC.jpg json \n",
      "chinaealexander\\2021-04-09_15-50-58_UTC.jpg chinaealexander\\2021-04-09_15-50-58_UTC.mp4 json \n",
      "chinaealexander\\2021-04-09_15-50-57_UTC.jpg chinaealexander\\2021-04-09_15-50-57_UTC.mp4 json \n",
      "chinaealexander\\2021-04-09_15-41-56_UTC.jpg chinaealexander\\2021-04-09_15-41-56_UTC.mp4 json \n",
      "chinaealexander\\2021-04-09_15-40-36_UTC.jpg chinaealexander\\2021-04-09_15-40-36_UTC.mp4 json \n",
      "chinaealexander\\2021-04-09_15-40-35_UTC.jpg chinaealexander\\2021-04-09_15-40-35_UTC.mp4 json \n",
      "chinaealexander\\2021-04-09_15-39-38_UTC.jpg chinaealexander\\2021-04-09_15-39-38_UTC.mp4 json \n",
      "chinaealexander\\2021-04-09_15-39-37_UTC.jpg chinaealexander\\2021-04-09_15-39-37_UTC.mp4 json \n",
      "chinaealexander\\2021-04-09_15-39-36_UTC.jpg chinaealexander\\2021-04-09_15-39-36_UTC.mp4 json \n",
      "chinaealexander\\2021-04-09_15-39-35_UTC.jpg chinaealexander\\2021-04-09_15-39-35_UTC.mp4 json \n",
      "chinaealexander\\2021-04-09_15-29-28_UTC.jpg chinaealexander\\2021-04-09_15-29-28_UTC.mp4 json \n",
      "chinaealexander\\2021-04-09_15-20-58_UTC.jpg chinaealexander\\2021-04-09_15-20-58_UTC.mp4 json \n",
      "chinaealexander\\2021-04-09_15-15-54_UTC.jpg chinaealexander\\2021-04-09_15-15-54_UTC.mp4 json \n",
      "chinaealexander\\2021-04-09_15-15-53_UTC.jpg chinaealexander\\2021-04-09_15-15-53_UTC.mp4 json \n",
      "chinaealexander\\2021-04-09_15-13-45_UTC.jpg chinaealexander\\2021-04-09_15-13-45_UTC.mp4 json \n",
      "chinaealexander\\2021-04-09_15-13-44_UTC.jpg chinaealexander\\2021-04-09_15-13-44_UTC.mp4 json \n",
      "chinaealexander\\2021-04-09_15-12-24_UTC.jpg chinaealexander\\2021-04-09_15-12-24_UTC.mp4 json \n",
      "chinaealexander\\2021-04-09_15-12-23_UTC.jpg chinaealexander\\2021-04-09_15-12-23_UTC.mp4 json \n",
      "chinaealexander\\2021-04-09_15-12-22_UTC.jpg chinaealexander\\2021-04-09_15-12-22_UTC.mp4 json \n",
      "chinaealexander\\2021-04-09_15-09-58_UTC.jpg json \n",
      "chinaealexander\\2021-04-09_14-33-03_UTC.jpg chinaealexander\\2021-04-09_14-33-03_UTC.mp4 json \n",
      "chinaealexander\\2021-04-09_14-33-02_UTC.jpg chinaealexander\\2021-04-09_14-33-02_UTC.mp4 json \n",
      "chinaealexander\\2021-04-09_14-33-01_UTC.jpg chinaealexander\\2021-04-09_14-33-01_UTC.mp4 json \n",
      "chinaealexander\\2021-04-09_14-33-00_UTC.jpg chinaealexander\\2021-04-09_14-33-00_UTC.mp4 json \n",
      "chinaealexander\\2021-04-09_14-28-15_UTC.jpg chinaealexander\\2021-04-09_14-28-15_UTC.mp4 json \n",
      "chinaealexander\\2021-04-09_14-26-45_UTC.jpg chinaealexander\\2021-04-09_14-26-45_UTC.mp4 json \n",
      "chinaealexander\\2021-04-09_14-25-53_UTC.jpg chinaealexander\\2021-04-09_14-25-53_UTC.mp4 json \n",
      "chinaealexander\\2021-04-09_14-23-32_UTC.jpg chinaealexander\\2021-04-09_14-23-32_UTC.mp4 json \n",
      "chinaealexander\\2021-04-09_01-51-50_UTC.jpg chinaealexander\\2021-04-09_01-51-50_UTC.mp4 json \n",
      "chinaealexander\\2021-04-09_01-51-49_UTC.jpg chinaealexander\\2021-04-09_01-51-49_UTC.mp4 json \n",
      "chinaealexander\\2021-04-09_00-16-48_UTC.jpg chinaealexander\\2021-04-09_00-16-48_UTC.mp4 json \n",
      "chinaealexander\\2021-04-09_00-11-03_UTC.jpg json \n",
      "celinecelines\\2021-04-09_20-01-12_UTC.jpg json \n",
      "celinecelines\\2021-04-09_18-41-22_UTC.jpg json \n",
      "celinecelines\\2021-04-09_17-57-59_UTC.jpg json \n",
      "celinecelines\\2021-04-09_17-55-44_UTC.jpg celinecelines\\2021-04-09_17-55-44_UTC.mp4 json \n",
      "celinecelines\\2021-04-09_16-56-54_UTC.jpg json \n",
      "celinecelines\\2021-04-09_16-48-54_UTC.jpg json \n",
      "celinecelines\\2021-04-09_16-40-20_UTC.jpg json \n",
      "celinecelines\\2021-04-09_16-36-17_UTC.jpg json \n",
      "celinecelines\\2021-04-09_16-35-00_UTC.jpg celinecelines\\2021-04-09_16-35-00_UTC.mp4 json \n",
      "celinecelines\\2021-04-09_16-33-58_UTC.jpg json \n",
      "celinecelines\\2021-04-09_16-31-32_UTC.jpg json \n",
      "celinecelines\\2021-04-09_16-30-33_UTC.jpg celinecelines\\2021-04-09_16-30-33_UTC.mp4 json \n",
      "celinecelines\\2021-04-09_15-45-01_UTC.jpg json \n",
      "celinecelines\\2021-04-09_15-33-58_UTC.jpg json \n",
      "celinecelines\\2021-04-09_14-51-33_UTC.jpg json \n",
      "celinecelines\\2021-04-09_14-45-42_UTC.jpg json \n",
      "celinecelines\\2021-04-09_14-44-56_UTC.jpg json \n",
      "celinecelines\\2021-04-09_14-15-41_UTC.jpg json \n",
      "celinecelines\\2021-04-09_14-15-37_UTC.jpg json \n",
      "celinecelines\\2021-04-09_14-15-33_UTC.jpg json \n",
      "mynameisjessamyn\\2021-04-09_22-13-43_UTC.jpg json \n",
      "mynameisjessamyn\\2021-04-09_21-21-03_UTC.jpg json \n",
      "mynameisjessamyn\\2021-04-09_19-41-12_UTC.jpg mynameisjessamyn\\2021-04-09_19-41-12_UTC.mp4 json \n",
      "mynameisjessamyn\\2021-04-09_13-09-58_UTC.jpg json \n",
      "mynameisjessamyn\\2021-04-09_11-26-01_UTC.jpg mynameisjessamyn\\2021-04-09_11-26-01_UTC.mp4 json \n",
      "mynameisjessamyn\\2021-04-09_01-47-47_UTC.jpg json \n",
      "mynameisjessamyn\\2021-04-09_01-47-38_UTC.jpg json \n",
      "sean_wotherspoon\\2021-04-09_23-36-15_UTC.jpg json \n",
      "sean_wotherspoon\\2021-04-09_23-36-10_UTC.jpg json \n",
      "sean_wotherspoon\\2021-04-09_21-59-51_UTC.jpg json \n",
      "sean_wotherspoon\\2021-04-09_21-41-10_UTC.jpg json \n",
      "sean_wotherspoon\\2021-04-09_21-13-19_UTC.jpg json \n",
      "sean_wotherspoon\\2021-04-09_20-24-53_UTC.jpg json \n",
      "sean_wotherspoon\\2021-04-09_17-49-06_UTC.jpg json \n",
      "sean_wotherspoon\\2021-04-09_17-19-11_UTC.jpg json \n",
      "sean_wotherspoon\\2021-04-09_17-19-04_UTC.jpg json \n",
      "sean_wotherspoon\\2021-04-09_17-18-46_UTC.jpg json \n",
      "sean_wotherspoon\\2021-04-09_17-18-40_UTC.jpg json \n"
     ]
    },
    {
     "name": "stdout",
     "output_type": "stream",
     "text": [
      "sean_wotherspoon\\2021-04-09_17-18-34_UTC.jpg json \n",
      "sean_wotherspoon\\2021-04-09_17-09-18_UTC.jpg json \n",
      "sean_wotherspoon\\2021-04-09_16-34-23_UTC.jpg json \n",
      "sean_wotherspoon\\2021-04-09_16-07-58_UTC.jpg sean_wotherspoon\\2021-04-09_16-07-58_UTC.mp4 json \n",
      "sean_wotherspoon\\2021-04-09_15-30-07_UTC.jpg json \n",
      "sean_wotherspoon\\2021-04-09_15-16-41_UTC.jpg json \n",
      "sean_wotherspoon\\2021-04-09_14-24-33_UTC.jpg json \n",
      "sean_wotherspoon\\2021-04-09_14-24-26_UTC.jpg sean_wotherspoon\\2021-04-09_14-24-26_UTC.mp4 json \n",
      "sean_wotherspoon\\2021-04-09_14-24-07_UTC.jpg sean_wotherspoon\\2021-04-09_14-24-07_UTC.mp4 json \n",
      "sean_wotherspoon\\2021-04-09_14-23-57_UTC.jpg json \n",
      "sean_wotherspoon\\2021-04-09_14-20-22_UTC.jpg "
     ]
    },
    {
     "name": "stderr",
     "output_type": "stream",
     "text": [
      "400 Bad Request Unable to fetch high quality image version of <StoryItem 2548106843996299261>.\n"
     ]
    },
    {
     "name": "stdout",
     "output_type": "stream",
     "text": [
      "json \n",
      "sean_wotherspoon\\2021-04-09_04-40-03_UTC.jpg json \n",
      "sean_wotherspoon\\2021-04-09_02-34-43_UTC.jpg json \n",
      "sean_wotherspoon\\2021-04-09_02-34-31_UTC.jpg json \n",
      "sean_wotherspoon\\2021-04-09_02-34-21_UTC.jpg json \n",
      "sean_wotherspoon\\2021-04-09_02-34-04_UTC.jpg json \n",
      "sean_wotherspoon\\2021-04-09_02-33-29_UTC.jpg json \n",
      "sean_wotherspoon\\2021-04-09_02-33-24_UTC.jpg json \n",
      "sean_wotherspoon\\2021-04-09_02-32-03_UTC.jpg json \n"
     ]
    }
   ],
   "source": [
    "available_celebrities = {}\n",
    "\n",
    "for story in L.get_stories():\n",
    "    \n",
    "    if not os.path.exists(story.owner_username):\n",
    "        os.makedirs(story.owner_username)\n",
    "    \n",
    "    item_count = 0\n",
    "    for item in story.get_items():\n",
    "        item_count += 1\n",
    "        L.download_storyitem(item, story.owner_username)\n",
    "    \n",
    "    available_celebrities[story.owner_username] = item_count\n"
   ]
  },
  {
   "cell_type": "code",
   "execution_count": 4,
   "metadata": {},
   "outputs": [
    {
     "name": "stdout",
     "output_type": "stream",
     "text": [
      "Current Timestamp :  2021-04-01 00:43:28.274266\n",
      "Number of celebrities with viewable stories: 15\n",
      "\n",
      "{'adrienelouise': 14, 'meagankong': 6, 'nadyaokamoto': 8, 'kerwinfrost': 10, 'blackpinkofficial': 2, 'jerrylorenzo': 13, 'codyrigsby': 7, 'celinecelines': 28, 'chinaealexander': 38, 'mynameisjessamyn': 53, 'sean_wotherspoon': 8, 'yarashahidi': 4, 'zoesaldana': 5, 'allymisslove': 21, 'badbunnypr': 1}\n",
      "\n",
      "fetch attempts: 218\n"
     ]
    }
   ],
   "source": [
    "dateTimeObj = datetime.now()\n",
    "print('Current Timestamp : ', dateTimeObj)\n",
    "\n",
    "print(\"Number of celebrities with viewable stories: \" + str(len(available_celebrities)))\n",
    "print()\n",
    "print(available_celebrities)\n",
    "\n",
    "attempts = 0\n",
    "for value in available_celebrities.values():\n",
    "    attempts += value\n",
    "\n",
    "print(\"\\nfetch attempts: \" + str(attempts))"
   ]
  },
  {
   "cell_type": "code",
   "execution_count": null,
   "metadata": {},
   "outputs": [],
   "source": []
  }
 ],
 "metadata": {
  "kernelspec": {
   "display_name": "Python 3",
   "language": "python",
   "name": "python3"
  },
  "language_info": {
   "codemirror_mode": {
    "name": "ipython",
    "version": 3
   },
   "file_extension": ".py",
   "mimetype": "text/x-python",
   "name": "python",
   "nbconvert_exporter": "python",
   "pygments_lexer": "ipython3",
   "version": "3.8.3"
  }
 },
 "nbformat": 4,
 "nbformat_minor": 4
}
