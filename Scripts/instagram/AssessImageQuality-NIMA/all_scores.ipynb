{
 "cells": [
  {
   "cell_type": "code",
   "execution_count": 15,
   "metadata": {},
   "outputs": [],
   "source": [
    "import json\n",
    "import pandas as pd\n",
    "import os\n",
    "import matplotlib.pyplot as plt"
   ]
  },
  {
   "cell_type": "code",
   "execution_count": 2,
   "metadata": {},
   "outputs": [
    {
     "name": "stdout",
     "output_type": "stream",
     "text": [
      "19\n"
     ]
    }
   ],
   "source": [
    "celebrities = ['007', 'adrienelouise', 'allymisslove', 'badbunnypr', 'blackpinkofficial',\n",
    "              'celinecelines', 'chinaealexander', 'codyrigsby', 'jerrylorenzo', 'kerwinfrost',\n",
    "               'marcellasne_', 'meagankong', 'mynameisjessamyn', 'nadyaokamoto', 'pharrell',\n",
    "              'sean_wotherspoon', 'walesbonner', 'yarashahidi', 'zoesaldana']\n",
    "print(len(celebrities))"
   ]
  },
  {
   "cell_type": "code",
   "execution_count": 3,
   "metadata": {},
   "outputs": [
    {
     "name": "stdout",
     "output_type": "stream",
     "text": [
      "007 entry completed.\n",
      "adrienelouise entry completed.\n",
      "allymisslove entry completed.\n",
      "badbunnypr entry completed.\n",
      "blackpinkofficial entry completed.\n",
      "celinecelines entry completed.\n",
      "chinaealexander entry completed.\n",
      "codyrigsby entry completed.\n",
      "jerrylorenzo entry completed.\n",
      "kerwinfrost entry completed.\n",
      "marcellasne_ entry completed.\n",
      "meagankong entry completed.\n",
      "mynameisjessamyn entry completed.\n",
      "nadyaokamoto entry completed.\n",
      "pharrell entry completed.\n",
      "sean_wotherspoon entry completed.\n",
      "walesbonner entry completed.\n",
      "yarashahidi entry completed.\n",
      "zoesaldana entry completed.\n"
     ]
    }
   ],
   "source": [
    "for celebrity in celebrities:\n",
    "    with open('instagram_stories_data' + '/' + celebrity + '_t.json') as f:\n",
    "        d_technical = json.load(f)\n",
    "    \n",
    "    df_technical = pd.json_normalize(d_technical)\n",
    "    df_technical = df_technical.rename(columns={'mean_score_prediction': 'technical_score'})\n",
    "    \n",
    "    with open('instagram_stories_data' + '/' + celebrity + '_a.json') as f:\n",
    "        d_aesthetic = json.load(f)\n",
    "        \n",
    "    df_aesthetic = pd.json_normalize(d_aesthetic)\n",
    "    df_aesthetic = df_aesthetic.rename(columns={'mean_score_prediction': 'aesthetic_score'})\n",
    "    \n",
    "    df = pd.merge(df_technical, df_aesthetic, on='image_id')\n",
    "    \n",
    "    out_dict = {'celebrity': celebrity, 'photo_count': len(df)}\n",
    "    scores_dict = df.mean().to_dict()\n",
    "    out_dict.update(scores_dict)\n",
    "    \n",
    "    data = []\n",
    "    if os.path.exists('output.json'):\n",
    "        with open('output.json') as fp:    \n",
    "            old_data = json.load(fp)\n",
    "    else:\n",
    "        old_data = []\n",
    "\n",
    "    for element in old_data:\n",
    "        data.append(element)\n",
    "\n",
    "    data.append(out_dict)\n",
    "\n",
    "    with open(\"output.json\", \"w\") as fp:\n",
    "        json.dump(data, fp)\n",
    "    \n",
    "    print(celebrity + ' entry completed.')"
   ]
  },
  {
   "cell_type": "code",
   "execution_count": 6,
   "metadata": {},
   "outputs": [
    {
     "data": {
      "text/html": [
       "<div>\n",
       "<style scoped>\n",
       "    .dataframe tbody tr th:only-of-type {\n",
       "        vertical-align: middle;\n",
       "    }\n",
       "\n",
       "    .dataframe tbody tr th {\n",
       "        vertical-align: top;\n",
       "    }\n",
       "\n",
       "    .dataframe thead th {\n",
       "        text-align: right;\n",
       "    }\n",
       "</style>\n",
       "<table border=\"1\" class=\"dataframe\">\n",
       "  <thead>\n",
       "    <tr style=\"text-align: right;\">\n",
       "      <th></th>\n",
       "      <th>celebrity</th>\n",
       "      <th>photo_count</th>\n",
       "      <th>technical_score</th>\n",
       "      <th>aesthetic_score</th>\n",
       "    </tr>\n",
       "  </thead>\n",
       "  <tbody>\n",
       "    <tr>\n",
       "      <th>0</th>\n",
       "      <td>007</td>\n",
       "      <td>14</td>\n",
       "      <td>4.602763</td>\n",
       "      <td>5.092245</td>\n",
       "    </tr>\n",
       "    <tr>\n",
       "      <th>1</th>\n",
       "      <td>adrienelouise</td>\n",
       "      <td>212</td>\n",
       "      <td>4.960116</td>\n",
       "      <td>4.897504</td>\n",
       "    </tr>\n",
       "    <tr>\n",
       "      <th>2</th>\n",
       "      <td>allymisslove</td>\n",
       "      <td>218</td>\n",
       "      <td>5.311100</td>\n",
       "      <td>4.937519</td>\n",
       "    </tr>\n",
       "    <tr>\n",
       "      <th>3</th>\n",
       "      <td>badbunnypr</td>\n",
       "      <td>35</td>\n",
       "      <td>5.113006</td>\n",
       "      <td>4.656550</td>\n",
       "    </tr>\n",
       "    <tr>\n",
       "      <th>4</th>\n",
       "      <td>blackpinkofficial</td>\n",
       "      <td>19</td>\n",
       "      <td>5.359560</td>\n",
       "      <td>5.012110</td>\n",
       "    </tr>\n",
       "    <tr>\n",
       "      <th>5</th>\n",
       "      <td>celinecelines</td>\n",
       "      <td>257</td>\n",
       "      <td>4.882722</td>\n",
       "      <td>4.850272</td>\n",
       "    </tr>\n",
       "    <tr>\n",
       "      <th>6</th>\n",
       "      <td>chinaealexander</td>\n",
       "      <td>358</td>\n",
       "      <td>5.715287</td>\n",
       "      <td>4.984094</td>\n",
       "    </tr>\n",
       "    <tr>\n",
       "      <th>7</th>\n",
       "      <td>codyrigsby</td>\n",
       "      <td>56</td>\n",
       "      <td>5.370911</td>\n",
       "      <td>4.979106</td>\n",
       "    </tr>\n",
       "    <tr>\n",
       "      <th>8</th>\n",
       "      <td>jerrylorenzo</td>\n",
       "      <td>86</td>\n",
       "      <td>5.217754</td>\n",
       "      <td>5.102251</td>\n",
       "    </tr>\n",
       "    <tr>\n",
       "      <th>9</th>\n",
       "      <td>kerwinfrost</td>\n",
       "      <td>15</td>\n",
       "      <td>5.675344</td>\n",
       "      <td>5.163311</td>\n",
       "    </tr>\n",
       "    <tr>\n",
       "      <th>10</th>\n",
       "      <td>marcellasne_</td>\n",
       "      <td>9</td>\n",
       "      <td>5.564720</td>\n",
       "      <td>5.039437</td>\n",
       "    </tr>\n",
       "    <tr>\n",
       "      <th>11</th>\n",
       "      <td>meagankong</td>\n",
       "      <td>124</td>\n",
       "      <td>5.270423</td>\n",
       "      <td>4.894959</td>\n",
       "    </tr>\n",
       "    <tr>\n",
       "      <th>12</th>\n",
       "      <td>mynameisjessamyn</td>\n",
       "      <td>173</td>\n",
       "      <td>5.205178</td>\n",
       "      <td>4.965936</td>\n",
       "    </tr>\n",
       "    <tr>\n",
       "      <th>13</th>\n",
       "      <td>nadyaokamoto</td>\n",
       "      <td>128</td>\n",
       "      <td>5.204796</td>\n",
       "      <td>5.097163</td>\n",
       "    </tr>\n",
       "    <tr>\n",
       "      <th>14</th>\n",
       "      <td>pharrell</td>\n",
       "      <td>22</td>\n",
       "      <td>5.199420</td>\n",
       "      <td>4.911991</td>\n",
       "    </tr>\n",
       "    <tr>\n",
       "      <th>15</th>\n",
       "      <td>sean_wotherspoon</td>\n",
       "      <td>242</td>\n",
       "      <td>5.080469</td>\n",
       "      <td>5.019867</td>\n",
       "    </tr>\n",
       "    <tr>\n",
       "      <th>16</th>\n",
       "      <td>walesbonner</td>\n",
       "      <td>22</td>\n",
       "      <td>5.698583</td>\n",
       "      <td>4.565688</td>\n",
       "    </tr>\n",
       "    <tr>\n",
       "      <th>17</th>\n",
       "      <td>yarashahidi</td>\n",
       "      <td>82</td>\n",
       "      <td>5.242849</td>\n",
       "      <td>4.982358</td>\n",
       "    </tr>\n",
       "    <tr>\n",
       "      <th>18</th>\n",
       "      <td>zoesaldana</td>\n",
       "      <td>58</td>\n",
       "      <td>5.159833</td>\n",
       "      <td>4.885557</td>\n",
       "    </tr>\n",
       "  </tbody>\n",
       "</table>\n",
       "</div>"
      ],
      "text/plain": [
       "            celebrity  photo_count  technical_score  aesthetic_score\n",
       "0                 007           14         4.602763         5.092245\n",
       "1       adrienelouise          212         4.960116         4.897504\n",
       "2        allymisslove          218         5.311100         4.937519\n",
       "3          badbunnypr           35         5.113006         4.656550\n",
       "4   blackpinkofficial           19         5.359560         5.012110\n",
       "5       celinecelines          257         4.882722         4.850272\n",
       "6     chinaealexander          358         5.715287         4.984094\n",
       "7          codyrigsby           56         5.370911         4.979106\n",
       "8        jerrylorenzo           86         5.217754         5.102251\n",
       "9         kerwinfrost           15         5.675344         5.163311\n",
       "10       marcellasne_            9         5.564720         5.039437\n",
       "11         meagankong          124         5.270423         4.894959\n",
       "12   mynameisjessamyn          173         5.205178         4.965936\n",
       "13       nadyaokamoto          128         5.204796         5.097163\n",
       "14           pharrell           22         5.199420         4.911991\n",
       "15   sean_wotherspoon          242         5.080469         5.019867\n",
       "16        walesbonner           22         5.698583         4.565688\n",
       "17        yarashahidi           82         5.242849         4.982358\n",
       "18         zoesaldana           58         5.159833         4.885557"
      ]
     },
     "execution_count": 6,
     "metadata": {},
     "output_type": "execute_result"
    }
   ],
   "source": [
    "with open('output.json') as fp:\n",
    "    data = json.load(fp)\n",
    "\n",
    "df = pd.json_normalize(data)\n",
    "df"
   ]
  },
  {
   "cell_type": "code",
   "execution_count": 7,
   "metadata": {},
   "outputs": [
    {
     "data": {
      "text/html": [
       "<div>\n",
       "<style scoped>\n",
       "    .dataframe tbody tr th:only-of-type {\n",
       "        vertical-align: middle;\n",
       "    }\n",
       "\n",
       "    .dataframe tbody tr th {\n",
       "        vertical-align: top;\n",
       "    }\n",
       "\n",
       "    .dataframe thead th {\n",
       "        text-align: right;\n",
       "    }\n",
       "</style>\n",
       "<table border=\"1\" class=\"dataframe\">\n",
       "  <thead>\n",
       "    <tr style=\"text-align: right;\">\n",
       "      <th></th>\n",
       "      <th>celebrity</th>\n",
       "      <th>photo_count</th>\n",
       "      <th>technical_score</th>\n",
       "      <th>aesthetic_score</th>\n",
       "    </tr>\n",
       "  </thead>\n",
       "  <tbody>\n",
       "    <tr>\n",
       "      <th>6</th>\n",
       "      <td>chinaealexander</td>\n",
       "      <td>358</td>\n",
       "      <td>5.715287</td>\n",
       "      <td>4.984094</td>\n",
       "    </tr>\n",
       "    <tr>\n",
       "      <th>16</th>\n",
       "      <td>walesbonner</td>\n",
       "      <td>22</td>\n",
       "      <td>5.698583</td>\n",
       "      <td>4.565688</td>\n",
       "    </tr>\n",
       "    <tr>\n",
       "      <th>9</th>\n",
       "      <td>kerwinfrost</td>\n",
       "      <td>15</td>\n",
       "      <td>5.675344</td>\n",
       "      <td>5.163311</td>\n",
       "    </tr>\n",
       "  </tbody>\n",
       "</table>\n",
       "</div>"
      ],
      "text/plain": [
       "          celebrity  photo_count  technical_score  aesthetic_score\n",
       "6   chinaealexander          358         5.715287         4.984094\n",
       "16      walesbonner           22         5.698583         4.565688\n",
       "9       kerwinfrost           15         5.675344         5.163311"
      ]
     },
     "execution_count": 7,
     "metadata": {},
     "output_type": "execute_result"
    }
   ],
   "source": [
    "df.nlargest(3,'technical_score')"
   ]
  },
  {
   "cell_type": "code",
   "execution_count": 8,
   "metadata": {},
   "outputs": [
    {
     "data": {
      "text/html": [
       "<div>\n",
       "<style scoped>\n",
       "    .dataframe tbody tr th:only-of-type {\n",
       "        vertical-align: middle;\n",
       "    }\n",
       "\n",
       "    .dataframe tbody tr th {\n",
       "        vertical-align: top;\n",
       "    }\n",
       "\n",
       "    .dataframe thead th {\n",
       "        text-align: right;\n",
       "    }\n",
       "</style>\n",
       "<table border=\"1\" class=\"dataframe\">\n",
       "  <thead>\n",
       "    <tr style=\"text-align: right;\">\n",
       "      <th></th>\n",
       "      <th>celebrity</th>\n",
       "      <th>photo_count</th>\n",
       "      <th>technical_score</th>\n",
       "      <th>aesthetic_score</th>\n",
       "    </tr>\n",
       "  </thead>\n",
       "  <tbody>\n",
       "    <tr>\n",
       "      <th>9</th>\n",
       "      <td>kerwinfrost</td>\n",
       "      <td>15</td>\n",
       "      <td>5.675344</td>\n",
       "      <td>5.163311</td>\n",
       "    </tr>\n",
       "    <tr>\n",
       "      <th>8</th>\n",
       "      <td>jerrylorenzo</td>\n",
       "      <td>86</td>\n",
       "      <td>5.217754</td>\n",
       "      <td>5.102251</td>\n",
       "    </tr>\n",
       "    <tr>\n",
       "      <th>13</th>\n",
       "      <td>nadyaokamoto</td>\n",
       "      <td>128</td>\n",
       "      <td>5.204796</td>\n",
       "      <td>5.097163</td>\n",
       "    </tr>\n",
       "  </tbody>\n",
       "</table>\n",
       "</div>"
      ],
      "text/plain": [
       "       celebrity  photo_count  technical_score  aesthetic_score\n",
       "9    kerwinfrost           15         5.675344         5.163311\n",
       "8   jerrylorenzo           86         5.217754         5.102251\n",
       "13  nadyaokamoto          128         5.204796         5.097163"
      ]
     },
     "execution_count": 8,
     "metadata": {},
     "output_type": "execute_result"
    }
   ],
   "source": [
    "df.nlargest(3,'aesthetic_score')"
   ]
  },
  {
   "cell_type": "code",
   "execution_count": 9,
   "metadata": {},
   "outputs": [
    {
     "data": {
      "text/html": [
       "<div>\n",
       "<style scoped>\n",
       "    .dataframe tbody tr th:only-of-type {\n",
       "        vertical-align: middle;\n",
       "    }\n",
       "\n",
       "    .dataframe tbody tr th {\n",
       "        vertical-align: top;\n",
       "    }\n",
       "\n",
       "    .dataframe thead th {\n",
       "        text-align: right;\n",
       "    }\n",
       "</style>\n",
       "<table border=\"1\" class=\"dataframe\">\n",
       "  <thead>\n",
       "    <tr style=\"text-align: right;\">\n",
       "      <th></th>\n",
       "      <th>celebrity</th>\n",
       "      <th>photo_count</th>\n",
       "      <th>technical_score</th>\n",
       "      <th>aesthetic_score</th>\n",
       "    </tr>\n",
       "  </thead>\n",
       "  <tbody>\n",
       "    <tr>\n",
       "      <th>0</th>\n",
       "      <td>007</td>\n",
       "      <td>14</td>\n",
       "      <td>4.602763</td>\n",
       "      <td>5.092245</td>\n",
       "    </tr>\n",
       "    <tr>\n",
       "      <th>5</th>\n",
       "      <td>celinecelines</td>\n",
       "      <td>257</td>\n",
       "      <td>4.882722</td>\n",
       "      <td>4.850272</td>\n",
       "    </tr>\n",
       "    <tr>\n",
       "      <th>1</th>\n",
       "      <td>adrienelouise</td>\n",
       "      <td>212</td>\n",
       "      <td>4.960116</td>\n",
       "      <td>4.897504</td>\n",
       "    </tr>\n",
       "  </tbody>\n",
       "</table>\n",
       "</div>"
      ],
      "text/plain": [
       "       celebrity  photo_count  technical_score  aesthetic_score\n",
       "0            007           14         4.602763         5.092245\n",
       "5  celinecelines          257         4.882722         4.850272\n",
       "1  adrienelouise          212         4.960116         4.897504"
      ]
     },
     "execution_count": 9,
     "metadata": {},
     "output_type": "execute_result"
    }
   ],
   "source": [
    "df.nsmallest(3,'technical_score')"
   ]
  },
  {
   "cell_type": "code",
   "execution_count": 10,
   "metadata": {},
   "outputs": [
    {
     "data": {
      "text/html": [
       "<div>\n",
       "<style scoped>\n",
       "    .dataframe tbody tr th:only-of-type {\n",
       "        vertical-align: middle;\n",
       "    }\n",
       "\n",
       "    .dataframe tbody tr th {\n",
       "        vertical-align: top;\n",
       "    }\n",
       "\n",
       "    .dataframe thead th {\n",
       "        text-align: right;\n",
       "    }\n",
       "</style>\n",
       "<table border=\"1\" class=\"dataframe\">\n",
       "  <thead>\n",
       "    <tr style=\"text-align: right;\">\n",
       "      <th></th>\n",
       "      <th>celebrity</th>\n",
       "      <th>photo_count</th>\n",
       "      <th>technical_score</th>\n",
       "      <th>aesthetic_score</th>\n",
       "    </tr>\n",
       "  </thead>\n",
       "  <tbody>\n",
       "    <tr>\n",
       "      <th>16</th>\n",
       "      <td>walesbonner</td>\n",
       "      <td>22</td>\n",
       "      <td>5.698583</td>\n",
       "      <td>4.565688</td>\n",
       "    </tr>\n",
       "    <tr>\n",
       "      <th>3</th>\n",
       "      <td>badbunnypr</td>\n",
       "      <td>35</td>\n",
       "      <td>5.113006</td>\n",
       "      <td>4.656550</td>\n",
       "    </tr>\n",
       "    <tr>\n",
       "      <th>5</th>\n",
       "      <td>celinecelines</td>\n",
       "      <td>257</td>\n",
       "      <td>4.882722</td>\n",
       "      <td>4.850272</td>\n",
       "    </tr>\n",
       "  </tbody>\n",
       "</table>\n",
       "</div>"
      ],
      "text/plain": [
       "        celebrity  photo_count  technical_score  aesthetic_score\n",
       "16    walesbonner           22         5.698583         4.565688\n",
       "3      badbunnypr           35         5.113006         4.656550\n",
       "5   celinecelines          257         4.882722         4.850272"
      ]
     },
     "execution_count": 10,
     "metadata": {},
     "output_type": "execute_result"
    }
   ],
   "source": [
    "df.nsmallest(3,'aesthetic_score')"
   ]
  },
  {
   "cell_type": "code",
   "execution_count": 13,
   "metadata": {},
   "outputs": [
    {
     "data": {
      "text/plain": [
       "<matplotlib.axes._subplots.AxesSubplot at 0x25818030d00>"
      ]
     },
     "execution_count": 13,
     "metadata": {},
     "output_type": "execute_result"
    },
    {
     "data": {
      "image/png": "[encoded data removed]",
      "text/plain": [
       "<Figure size 432x288 with 1 Axes>"
      ]
     },
     "metadata": {
      "needs_background": "light"
     },
     "output_type": "display_data"
    }
   ],
   "source": [
    "df.plot.scatter(x='technical_score', y='aesthetic_score')"
   ]
  },
  {
   "cell_type": "code",
   "execution_count": 22,
   "metadata": {},
   "outputs": [
    {
     "data": {
      "image/png": "[encoded data removed]",
      "text/plain": [
       "<Figure size 432x288 with 1 Axes>"
      ]
     },
     "metadata": {
      "needs_background": "light"
     },
     "output_type": "display_data"
    }
   ],
   "source": [
    "# open figure + axis\n",
    "fig, ax = plt.subplots()\n",
    "# plot\n",
    "ax.scatter(x=df['technical_score'],y=df['aesthetic_score'],c='Red')\n",
    "# set labels\n",
    "ax.set_xlabel('technical_score')\n",
    "ax.set_ylabel('aesthetic_score')\n",
    "\n",
    "# annotate points in axis\n",
    "for idx, row in df.iterrows():\n",
    "    ax.annotate(row['celebrity'], (row['technical_score'], row['aesthetic_score']),size=9)\n",
    "# force matplotlib to draw the graph\n",
    "plt.show()"
   ]
  },
  {
   "cell_type": "code",
   "execution_count": null,
   "metadata": {},
   "outputs": [],
   "source": []
  }
 ],
 "metadata": {
  "kernelspec": {
   "display_name": "Python 3",
   "language": "python",
   "name": "python3"
  },
  "language_info": {
   "codemirror_mode": {
    "name": "ipython",
    "version": 3
   },
   "file_extension": ".py",
   "mimetype": "text/x-python",
   "name": "python",
   "nbconvert_exporter": "python",
   "pygments_lexer": "ipython3",
   "version": "3.8.3"
  }
 },
 "nbformat": 4,
 "nbformat_minor": 4
}
