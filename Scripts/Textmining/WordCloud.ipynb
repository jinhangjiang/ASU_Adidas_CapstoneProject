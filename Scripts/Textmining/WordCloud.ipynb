{
  "nbformat": 4,
  "nbformat_minor": 0,
  "metadata": {
    "colab": {
      "name": "WordCloud",
      "provenance": [],
      "collapsed_sections": []
    },
    "kernelspec": {
      "name": "python3",
      "display_name": "Python 3"
    },
    "language_info": {
      "name": "python"
    }
  },
  "cells": [
    {
      "cell_type": "code",
      "metadata": {
        "id": "htPx-GZQvBWx"
      },
      "source": [
        "# Python program to generate WordCloud\n",
        "  \n",
        "# importing all necessery modules\n",
        "from wordcloud import WordCloud, STOPWORDS\n",
        "import matplotlib.pyplot as plt\n",
        "import pandas as pd\n",
        "import re\n",
        "  \n",
        "# Reads 'Youtube04-Eminem.csv' file \n",
        "text = str([\"Decision,Decision,Decision,Decision,Decision,Decision,Decision,Decision,Decision,Decision,Decision,Decision,Decision\",\n",
        "      \"Support,Support,Support,Support,Support,Support,Support,Support,Support,Support\",\n",
        "      \"System,System,System,System,System,System,System,System,System,System,System,System\",\n",
        "      \"Adidas,Adidas,Adidas,Adidas,Adidas,Adidas,Adidas,Adidas,Adidas,Adidas,Adidas,Adidas,Adidas,Adidas,Adidas\",\n",
        "      \"Machine-learning algorithms use statistics to find patterns in massive* amounts of data. And data, \",\n",
        "      \"here, encompasses a lot of things—numbers, words, images, clicks, what have you. If it can be digitally stored,\",\n",
        "       \"it can be fed into a machine-learning algorithm.\",\n",
        "      \"Machine learning is the process that powers many of the services we use today—recommendation systems like those on Netflix, \",\n",
        "      \"YouTube, and Spotify; search engines like Google and Baidu; social-media feeds like Facebook and Twitter; \",\n",
        "      \"voice assistants like Siri and Alexa. The list goes on.\",\n",
        "      \"In all of these instances, each platform is collecting as much data about you as possible—what genres you like watching, \",\n",
        "      \"what links you are clicking, which statuses you are reacting to—and using machine learning to make a highly \",\n",
        "      \"educated guess about what you might want next. Or, in the case of a voice assistant, about which words match best with the funny \",\n",
        "      \"sounds coming out of your mouth.\"])\n",
        "text = re.sub(r'==.*?==+', '', text)\n",
        "text = text.replace('\\n', '')\n",
        "  \n",
        "# Define a function to plot word cloud\n",
        "def plot_cloud(wordcloud):\n",
        "    # Set figure size\n",
        "    plt.figure(figsize=(40, 30))\n",
        "    # Display image\n",
        "    plt.imshow(wordcloud) \n",
        "    # No axis details\n",
        "    plt.axis(\"off\");\n",
        "\n",
        "# Import package\n",
        "from wordcloud import WordCloud, STOPWORDS\n",
        "# Generate word cloud\n",
        "wordcloud = WordCloud(width = 1100, height = 850, random_state=1, background_color='salmon', colormap='Pastel1', collocations=False, stopwords = STOPWORDS).generate(text)\n",
        "# Plot\n",
        "plot_cloud(wordcloud)"
      ],
      "execution_count": null,
      "outputs": []
    },
    {
      "cell_type": "code",
      "metadata": {
        "id": "m736W6ETh0Pr"
      },
      "source": [
        "from scipy import spatial"
      ],
      "execution_count": null,
      "outputs": []
    },
    {
      "cell_type": "code",
      "metadata": {
        "colab": {
          "base_uri": "https://localhost:8080/"
        },
        "id": "GAPd4zROh0rD",
        "outputId": "d0f7c5cd-120f-494c-e734-ad43ce6a987c"
      },
      "source": [
        "x1=[3,0,7,2,1]\n",
        "x2=[0,6,2,1,0]\n",
        "result = 1 - spatial.distance.cosine(x1,x2)\n",
        "print(result)"
      ],
      "execution_count": null,
      "outputs": [
        {
          "output_type": "stream",
          "text": [
            "0.31481671258717614\n"
          ],
          "name": "stdout"
        }
      ]
    },
    {
      "cell_type": "code",
      "metadata": {
        "id": "W9sGj5m7OvZv",
        "colab": {
          "base_uri": "https://localhost:8080/"
        },
        "outputId": "ec0a7aa1-f393-4126-cb88-2e6c26179300"
      },
      "source": [
        "pow(10000000,0.25)"
      ],
      "execution_count": null,
      "outputs": [
        {
          "output_type": "execute_result",
          "data": {
            "text/plain": [
              "56.23413251903491"
            ]
          },
          "metadata": {
            "tags": []
          },
          "execution_count": 55
        }
      ]
    }
  ]
}