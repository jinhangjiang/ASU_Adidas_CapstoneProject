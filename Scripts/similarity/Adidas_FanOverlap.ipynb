{
 "cells": [
  {
   "cell_type": "code",
   "execution_count": 2,
   "metadata": {},
   "outputs": [],
   "source": [
    "from itertools import combinations\n",
    "import pandas as pd\n",
    "import numpy as np\n",
    "from math import *\n",
    "from decimal import Decimal \n",
    "from numpy.linalg import norm\n",
    "import os"
   ]
  },
  {
   "cell_type": "code",
   "execution_count": 3,
   "metadata": {},
   "outputs": [
    {
     "name": "stdout",
     "output_type": "stream",
     "text": [
      "C:\\Users\\Jinhang Jiang\n",
      "D:\\OneDrive\\ASU\\2021 Spring\\Applied Project\\ASU_Applied_Project_2021\\Data\n"
     ]
    }
   ],
   "source": [
    "print (os.getcwd())\n",
    "os.chdir('D:/OneDrive/ASU/2021 Spring/Applied Project/ASU_Applied_Project_2021/Data')\n",
    "print (os.getcwd())"
   ]
  },
  {
   "cell_type": "code",
   "execution_count": 8,
   "metadata": {},
   "outputs": [],
   "source": [
    "data = pd.read_csv(\"fanbaseover.csv\")"
   ]
  },
  {
   "cell_type": "code",
   "execution_count": 26,
   "metadata": {},
   "outputs": [],
   "source": [
    "# definie class fan_overlap\n",
    "class fan_overlap:\n",
    "    \n",
    "    # Class instantiation, col1 would be node also our target, col2 would be edge  \n",
    "    def __init__ (self, data, col1, col2):\n",
    "        self.data = data\n",
    "        self.Celebrity = col1\n",
    "        self.Usernames = col2\n",
    "    \n",
    "    #find the number of unique celebrities and users\n",
    "    def unique_obs(self):\n",
    "        return print(\"Number of Unique Celebrity:\",len(self.Celebrity.unique()),\"\\n\"\n",
    "                     \"Number of Users:\",len(self.Usernames),\"\\n\"\n",
    "                     \"Number of Unique Users:\",len(self.Usernames.unique()),\"\\n\"\n",
    "                     \"Unique Ratio for Users: {:.2%}\".format((len(self.Usernames.unique())/len(self.Usernames))))\n",
    "    \n",
    "    #find the frequency table. note: when col = 1, we get frequency table for col1;\n",
    "    def cel_freq(self, col):\n",
    "        if col == 1:\n",
    "            freq = self.Celebrity.value_counts()\n",
    "        else:\n",
    "            freq = self.Usernames.value_counts()\n",
    "        return freq\n",
    "    \n",
    "    #find the unique names of Celebrities\n",
    "    def get_names(self, col):\n",
    "        if col == 1:\n",
    "            names = self.Celebrity.unique()\n",
    "        else:\n",
    "            names = self.Usernames.unique()\n",
    "        return names\n",
    "    \n",
    "    #find the number of shared fans for any two celebrities\n",
    "    def overlaps2(self, cel1, cel2):\n",
    "        l = [cel1,cel2]\n",
    "        Res = pd.DataFrame(self.data.loc[self.data.iloc[:,0].isin(l)].groupby(self.data.iloc[:,1])[data.columns[0]].nunique().eq(len(l)))\n",
    "        num_of_overlaps = len(Res[Res.iloc[:,0]==True])\n",
    "        return int(num_of_overlaps)\n",
    "    \n",
    "    #find the number of shared fans for any three celebrities\n",
    "    def overlaps3(self, cel1, cel2, cel3):\n",
    "        l = [cel1,cel2, cel3]\n",
    "        Res = pd.DataFrame(self.data.loc[self.data.iloc[:,0].isin(l)].groupby(self.data.iloc[:,1])[data.columns[0]].nunique().eq(len(l)))\n",
    "        num_of_overlaps = len(Res[Res.iloc[:,0]==True])\n",
    "        return int(num_of_overlaps)\n",
    "    \n",
    "    #find the number of possible combinations of the nodes(Celebrity), r is the number of nodes in one combination\n",
    "    def nCr(self, r): \n",
    "        n = len(self.Celebrity.unique())\n",
    "        def fact(n): \n",
    "            res = 1\n",
    "            for i in range(2, n+1): \n",
    "                res = res * i \n",
    "            return res \n",
    "        return print(\"The Number of Possible Combinations is:\",int((fact(n) / (fact(r)* fact(n - r)))))\n",
    "    \n",
    "    #generate the cross table of fan base overlap\n",
    "    def crosstable(self):\n",
    "        s = pd.crosstab(self.Celebrity,self.Usernames)\n",
    "        s = s.dot(s.T)\n",
    "        out = s.mask(np.triu(np.ones(s.shape)).astype(bool)).stack()\n",
    "        return out\n",
    "    \n",
    "    #generate adjacency matrix\n",
    "    def adjacency_matrix(self):\n",
    "        #matrix = pd.crosstab(self.Usernames,self.Celebrity)\n",
    "        df_merge = self.data.merge(self.data, on='Usernames')\n",
    "        results = pd.crosstab(df_merge.Celebrity_x, df_merge.Celebrity_y)\n",
    "        np.fill_diagonal(results.values, 0)\n",
    "        network_table=results\n",
    "        return network_table\n",
    "    \n",
    "    #generate transition matrix\n",
    "    def transition_matrix(self):\n",
    "        matrix = pd.crosstab(self.Usernames,self.Celebrity)\n",
    "        cel_matrix = np.asmatrix(matrix)\n",
    "        cel_matrix_transpose = cel_matrix.transpose()\n",
    "        final_matrix = cel_matrix_transpose.dot(cel_matrix)\n",
    "        transition = final_matrix/final_matrix.sum(axis=0)\n",
    "        transitionMatrix = transition.T\n",
    "        TM = pd.DataFrame(transitionMatrix)\n",
    "        TM.columns = matrix.columns\n",
    "        TM.index = matrix.columns\n",
    "        return TM\n",
    "    \n",
    "    #generate MCL convergence, get the steady state. The default iteration_count = 20\n",
    "    def convergence(self):\n",
    "        #create transition matrix\n",
    "        matrix = self.crosstable()\n",
    "        \n",
    "        p_transition = self.transition_matrix()\n",
    "        n_states = p_transition.shape[0]\n",
    "        A = np.append(\n",
    "            arr=p_transition.T - np.eye(n_states),\n",
    "            values=np.ones(n_states).reshape(1, -1),\n",
    "            axis=0\n",
    "        )\n",
    "        \n",
    "        # Moore-Penrose pseudoinverse = (A^TA)^{-1}A^T\n",
    "        pinv = np.linalg.pinv(A)\n",
    "        pinv1 = pinv.T[-1]\n",
    "        #create dictionary for the final results\n",
    "        test_values= pinv1.tolist()\n",
    "        test_keys = self.get_names(1)\n",
    "        convergence_dict = {test_keys[i]: test_values[i] for i in range(len(test_keys))}\n",
    "        return {key : round(convergence_dict[key], 6) for key in convergence_dict} \n",
    "    \n",
    "    #generate minkowksi distance, r = 1 manhattan, r = 2 euclidean. Default = 2\n",
    "    def cos_sim(self, x, y):\n",
    "        neww=pd.crosstab(data.Celebrity,data.Usernames)\n",
    "        a = neww.loc[x]\n",
    "        b = neww.loc[y]\n",
    "        dist = (a @ b.T) / (norm(a)*norm(b))\n",
    "        return dist\n",
    "    \n",
    "    #generate a list of most dissimilar celebrities, default is 3\n",
    "    def best_complete(self,cel,n = 3):\n",
    "        cel = cel\n",
    "        CelebrityDistances = []\n",
    "        for i in model.get_names(1):\n",
    "            if i != cel:\n",
    "                temp = (i,model.cos_sim(cel,i))\n",
    "                CelebrityDistances.append(tuple(temp))\n",
    "        def Sort_list_tuples(tup):  \n",
    "            return(sorted(tup, key = lambda x: x[1]))  \n",
    "        CelebritySortedDistances = []\n",
    "        CelebritySortedDistances = Sort_list_tuples(CelebrityDistances)\n",
    "        CelebrityXNN = \"\"\n",
    "        tuple_list = sorted(CelebrityDistances, key=lambda t: t[1], reverse=False)[:n]\n",
    "        CelebrityXNN = [a_tuple[0] for a_tuple in tuple_list]\n",
    "        return CelebrityXNN\n",
    "    \n",
    "    #generate a list of the most similar celebrities for target,the default is 3\n",
    "    def best_sub(self,cel,n=3):\n",
    "        cel = cel\n",
    "        CelebrityDistances = []\n",
    "        for i in model.get_names(1):\n",
    "            if i != cel:\n",
    "                temp = (i,model.cos_sim(cel,i))\n",
    "                CelebrityDistances.append(tuple(temp))\n",
    "        def Sort_list_tuples(tup):  \n",
    "            return(sorted(tup, key = lambda x: x[1])) \n",
    "        CelebritySortedDistances = []\n",
    "        CelebritySortedDistances = Sort_list_tuples(CelebrityDistances)\n",
    "        CelebrityXNN = \"\"\n",
    "        tuple_list = sorted(CelebrityDistances, key=lambda t: t[1], reverse=True)[:n]\n",
    "        CelebrityXNN = [a_tuple[0] for a_tuple in tuple_list]\n",
    "        return CelebrityXNN"
   ]
  },
  {
   "cell_type": "code",
   "execution_count": 27,
   "metadata": {},
   "outputs": [
    {
     "name": "stdout",
     "output_type": "stream",
     "text": [
      "Number of Unique Celebrity: 8 \n",
      "Number of Users: 6432 \n",
      "Number of Unique Users: 5474 \n",
      "Unique Ratio for Users: 85.11%\n"
     ]
    }
   ],
   "source": [
    "model = fan_overlap(data, data.Celebrity,data.Usernames)\n",
    "model.unique_obs()"
   ]
  },
  {
   "cell_type": "code",
   "execution_count": 28,
   "metadata": {},
   "outputs": [
    {
     "data": {
      "text/plain": [
       "NCT          2095\n",
       "BTS          1168\n",
       "BlackPink     853\n",
       "iZone         687\n",
       "GFriend       637\n",
       "Naeun Son     443\n",
       "Solar         378\n",
       "Seolhyun      171\n",
       "Name: Celebrity, dtype: int64"
      ]
     },
     "execution_count": 28,
     "metadata": {},
     "output_type": "execute_result"
    }
   ],
   "source": [
    "model.cel_freq(1)"
   ]
  },
  {
   "cell_type": "code",
   "execution_count": 29,
   "metadata": {},
   "outputs": [
    {
     "data": {
      "text/plain": [
       "array(['BTS', 'BlackPink', 'GFriend', 'NCT', 'Naeun Son', 'Seolhyun',\n",
       "       'Solar', 'iZone'], dtype=object)"
      ]
     },
     "execution_count": 29,
     "metadata": {},
     "output_type": "execute_result"
    }
   ],
   "source": [
    "model.get_names(1)"
   ]
  },
  {
   "cell_type": "code",
   "execution_count": 30,
   "metadata": {},
   "outputs": [
    {
     "name": "stdout",
     "output_type": "stream",
     "text": [
      "88\n",
      "135\n"
     ]
    }
   ],
   "source": [
    "print(model.overlaps2('iZone','BlackPink'))\n",
    "print(model.overlaps2('iZone','GFriend'))"
   ]
  },
  {
   "cell_type": "code",
   "execution_count": 31,
   "metadata": {},
   "outputs": [
    {
     "name": "stdout",
     "output_type": "stream",
     "text": [
      "20\n",
      "40\n"
     ]
    }
   ],
   "source": [
    "print(model.overlaps3('Seolhyun','Naeun Son',\"Solar\"))\n",
    "print(model.overlaps3('iZone','BTS','GFriend'))"
   ]
  },
  {
   "cell_type": "code",
   "execution_count": 32,
   "metadata": {},
   "outputs": [
    {
     "data": {
      "text/plain": [
       "Celebrity  Celebrity\n",
       "BlackPink  BTS           63.0\n",
       "GFriend    BTS           75.0\n",
       "           BlackPink     83.0\n",
       "NCT        BTS           95.0\n",
       "           BlackPink     91.0\n",
       "           GFriend      115.0\n",
       "Naeun Son  BTS           39.0\n",
       "           BlackPink     58.0\n",
       "           GFriend       77.0\n",
       "           NCT           65.0\n",
       "Seolhyun   BTS           23.0\n",
       "           BlackPink     42.0\n",
       "           GFriend       48.0\n",
       "           NCT           49.0\n",
       "           Naeun Son     40.0\n",
       "Solar      BTS           56.0\n",
       "           BlackPink     55.0\n",
       "           GFriend       79.0\n",
       "           NCT          104.0\n",
       "           Naeun Son     50.0\n",
       "           Seolhyun      38.0\n",
       "iZone      BTS           69.0\n",
       "           BlackPink     88.0\n",
       "           GFriend      135.0\n",
       "           NCT          127.0\n",
       "           Naeun Son     67.0\n",
       "           Seolhyun      49.0\n",
       "           Solar         74.0\n",
       "dtype: float64"
      ]
     },
     "execution_count": 32,
     "metadata": {},
     "output_type": "execute_result"
    }
   ],
   "source": [
    "model.crosstable()"
   ]
  },
  {
   "cell_type": "code",
   "execution_count": 33,
   "metadata": {},
   "outputs": [
    {
     "name": "stdout",
     "output_type": "stream",
     "text": [
      "The Number of Possible Combinations is: 28\n"
     ]
    }
   ],
   "source": [
    "model.nCr(2)"
   ]
  },
  {
   "cell_type": "code",
   "execution_count": 34,
   "metadata": {},
   "outputs": [
    {
     "data": {
      "text/html": [
       "<div>\n",
       "<style scoped>\n",
       "    .dataframe tbody tr th:only-of-type {\n",
       "        vertical-align: middle;\n",
       "    }\n",
       "\n",
       "    .dataframe tbody tr th {\n",
       "        vertical-align: top;\n",
       "    }\n",
       "\n",
       "    .dataframe thead th {\n",
       "        text-align: right;\n",
       "    }\n",
       "</style>\n",
       "<table border=\"1\" class=\"dataframe\">\n",
       "  <thead>\n",
       "    <tr style=\"text-align: right;\">\n",
       "      <th>Celebrity_y</th>\n",
       "      <th>BTS</th>\n",
       "      <th>BlackPink</th>\n",
       "      <th>GFriend</th>\n",
       "      <th>NCT</th>\n",
       "      <th>Naeun Son</th>\n",
       "      <th>Seolhyun</th>\n",
       "      <th>Solar</th>\n",
       "      <th>iZone</th>\n",
       "    </tr>\n",
       "    <tr>\n",
       "      <th>Celebrity_x</th>\n",
       "      <th></th>\n",
       "      <th></th>\n",
       "      <th></th>\n",
       "      <th></th>\n",
       "      <th></th>\n",
       "      <th></th>\n",
       "      <th></th>\n",
       "      <th></th>\n",
       "    </tr>\n",
       "  </thead>\n",
       "  <tbody>\n",
       "    <tr>\n",
       "      <td>BTS</td>\n",
       "      <td>0</td>\n",
       "      <td>63</td>\n",
       "      <td>75</td>\n",
       "      <td>95</td>\n",
       "      <td>39</td>\n",
       "      <td>23</td>\n",
       "      <td>56</td>\n",
       "      <td>69</td>\n",
       "    </tr>\n",
       "    <tr>\n",
       "      <td>BlackPink</td>\n",
       "      <td>63</td>\n",
       "      <td>0</td>\n",
       "      <td>83</td>\n",
       "      <td>91</td>\n",
       "      <td>58</td>\n",
       "      <td>42</td>\n",
       "      <td>55</td>\n",
       "      <td>88</td>\n",
       "    </tr>\n",
       "    <tr>\n",
       "      <td>GFriend</td>\n",
       "      <td>75</td>\n",
       "      <td>83</td>\n",
       "      <td>0</td>\n",
       "      <td>115</td>\n",
       "      <td>77</td>\n",
       "      <td>48</td>\n",
       "      <td>79</td>\n",
       "      <td>135</td>\n",
       "    </tr>\n",
       "    <tr>\n",
       "      <td>NCT</td>\n",
       "      <td>95</td>\n",
       "      <td>91</td>\n",
       "      <td>115</td>\n",
       "      <td>0</td>\n",
       "      <td>65</td>\n",
       "      <td>49</td>\n",
       "      <td>104</td>\n",
       "      <td>127</td>\n",
       "    </tr>\n",
       "    <tr>\n",
       "      <td>Naeun Son</td>\n",
       "      <td>39</td>\n",
       "      <td>58</td>\n",
       "      <td>77</td>\n",
       "      <td>65</td>\n",
       "      <td>0</td>\n",
       "      <td>40</td>\n",
       "      <td>50</td>\n",
       "      <td>67</td>\n",
       "    </tr>\n",
       "    <tr>\n",
       "      <td>Seolhyun</td>\n",
       "      <td>23</td>\n",
       "      <td>42</td>\n",
       "      <td>48</td>\n",
       "      <td>49</td>\n",
       "      <td>40</td>\n",
       "      <td>0</td>\n",
       "      <td>38</td>\n",
       "      <td>49</td>\n",
       "    </tr>\n",
       "    <tr>\n",
       "      <td>Solar</td>\n",
       "      <td>56</td>\n",
       "      <td>55</td>\n",
       "      <td>79</td>\n",
       "      <td>104</td>\n",
       "      <td>50</td>\n",
       "      <td>38</td>\n",
       "      <td>0</td>\n",
       "      <td>74</td>\n",
       "    </tr>\n",
       "    <tr>\n",
       "      <td>iZone</td>\n",
       "      <td>69</td>\n",
       "      <td>88</td>\n",
       "      <td>135</td>\n",
       "      <td>127</td>\n",
       "      <td>67</td>\n",
       "      <td>49</td>\n",
       "      <td>74</td>\n",
       "      <td>0</td>\n",
       "    </tr>\n",
       "  </tbody>\n",
       "</table>\n",
       "</div>"
      ],
      "text/plain": [
       "Celebrity_y  BTS  BlackPink  GFriend  NCT  Naeun Son  Seolhyun  Solar  iZone\n",
       "Celebrity_x                                                                 \n",
       "BTS            0         63       75   95         39        23     56     69\n",
       "BlackPink     63          0       83   91         58        42     55     88\n",
       "GFriend       75         83        0  115         77        48     79    135\n",
       "NCT           95         91      115    0         65        49    104    127\n",
       "Naeun Son     39         58       77   65          0        40     50     67\n",
       "Seolhyun      23         42       48   49         40         0     38     49\n",
       "Solar         56         55       79  104         50        38      0     74\n",
       "iZone         69         88      135  127         67        49     74      0"
      ]
     },
     "execution_count": 34,
     "metadata": {},
     "output_type": "execute_result"
    }
   ],
   "source": [
    "model.adjacency_matrix()"
   ]
  },
  {
   "cell_type": "code",
   "execution_count": 36,
   "metadata": {},
   "outputs": [
    {
     "data": {
      "text/html": [
       "<div>\n",
       "<style scoped>\n",
       "    .dataframe tbody tr th:only-of-type {\n",
       "        vertical-align: middle;\n",
       "    }\n",
       "\n",
       "    .dataframe tbody tr th {\n",
       "        vertical-align: top;\n",
       "    }\n",
       "\n",
       "    .dataframe thead th {\n",
       "        text-align: right;\n",
       "    }\n",
       "</style>\n",
       "<table border=\"1\" class=\"dataframe\">\n",
       "  <thead>\n",
       "    <tr style=\"text-align: right;\">\n",
       "      <th>Celebrity</th>\n",
       "      <th>BTS</th>\n",
       "      <th>BlackPink</th>\n",
       "      <th>GFriend</th>\n",
       "      <th>NCT</th>\n",
       "      <th>Naeun Son</th>\n",
       "      <th>Seolhyun</th>\n",
       "      <th>Solar</th>\n",
       "      <th>iZone</th>\n",
       "    </tr>\n",
       "    <tr>\n",
       "      <th>Celebrity</th>\n",
       "      <th></th>\n",
       "      <th></th>\n",
       "      <th></th>\n",
       "      <th></th>\n",
       "      <th></th>\n",
       "      <th></th>\n",
       "      <th></th>\n",
       "      <th></th>\n",
       "    </tr>\n",
       "  </thead>\n",
       "  <tbody>\n",
       "    <tr>\n",
       "      <td>BTS</td>\n",
       "      <td>0.735516</td>\n",
       "      <td>0.039673</td>\n",
       "      <td>0.047229</td>\n",
       "      <td>0.059824</td>\n",
       "      <td>0.024559</td>\n",
       "      <td>0.014484</td>\n",
       "      <td>0.035264</td>\n",
       "      <td>0.043451</td>\n",
       "    </tr>\n",
       "    <tr>\n",
       "      <td>BlackPink</td>\n",
       "      <td>0.047262</td>\n",
       "      <td>0.639910</td>\n",
       "      <td>0.062266</td>\n",
       "      <td>0.068267</td>\n",
       "      <td>0.043511</td>\n",
       "      <td>0.031508</td>\n",
       "      <td>0.041260</td>\n",
       "      <td>0.066017</td>\n",
       "    </tr>\n",
       "    <tr>\n",
       "      <td>GFriend</td>\n",
       "      <td>0.060048</td>\n",
       "      <td>0.066453</td>\n",
       "      <td>0.510008</td>\n",
       "      <td>0.092074</td>\n",
       "      <td>0.061649</td>\n",
       "      <td>0.038431</td>\n",
       "      <td>0.063251</td>\n",
       "      <td>0.108086</td>\n",
       "    </tr>\n",
       "    <tr>\n",
       "      <td>NCT</td>\n",
       "      <td>0.034659</td>\n",
       "      <td>0.033200</td>\n",
       "      <td>0.041955</td>\n",
       "      <td>0.764320</td>\n",
       "      <td>0.023714</td>\n",
       "      <td>0.017877</td>\n",
       "      <td>0.037942</td>\n",
       "      <td>0.046333</td>\n",
       "    </tr>\n",
       "    <tr>\n",
       "      <td>Naeun Son</td>\n",
       "      <td>0.046484</td>\n",
       "      <td>0.069130</td>\n",
       "      <td>0.091776</td>\n",
       "      <td>0.077473</td>\n",
       "      <td>0.528010</td>\n",
       "      <td>0.047676</td>\n",
       "      <td>0.059595</td>\n",
       "      <td>0.079857</td>\n",
       "    </tr>\n",
       "    <tr>\n",
       "      <td>Seolhyun</td>\n",
       "      <td>0.050000</td>\n",
       "      <td>0.091304</td>\n",
       "      <td>0.104348</td>\n",
       "      <td>0.106522</td>\n",
       "      <td>0.086957</td>\n",
       "      <td>0.371739</td>\n",
       "      <td>0.082609</td>\n",
       "      <td>0.106522</td>\n",
       "    </tr>\n",
       "    <tr>\n",
       "      <td>Solar</td>\n",
       "      <td>0.067146</td>\n",
       "      <td>0.065947</td>\n",
       "      <td>0.094724</td>\n",
       "      <td>0.124700</td>\n",
       "      <td>0.059952</td>\n",
       "      <td>0.045564</td>\n",
       "      <td>0.453237</td>\n",
       "      <td>0.088729</td>\n",
       "    </tr>\n",
       "    <tr>\n",
       "      <td>iZone</td>\n",
       "      <td>0.053241</td>\n",
       "      <td>0.067901</td>\n",
       "      <td>0.104167</td>\n",
       "      <td>0.097994</td>\n",
       "      <td>0.051698</td>\n",
       "      <td>0.037809</td>\n",
       "      <td>0.057099</td>\n",
       "      <td>0.530093</td>\n",
       "    </tr>\n",
       "  </tbody>\n",
       "</table>\n",
       "</div>"
      ],
      "text/plain": [
       "Celebrity       BTS  BlackPink   GFriend       NCT  Naeun Son  Seolhyun  \\\n",
       "Celebrity                                                                 \n",
       "BTS        0.735516   0.039673  0.047229  0.059824   0.024559  0.014484   \n",
       "BlackPink  0.047262   0.639910  0.062266  0.068267   0.043511  0.031508   \n",
       "GFriend    0.060048   0.066453  0.510008  0.092074   0.061649  0.038431   \n",
       "NCT        0.034659   0.033200  0.041955  0.764320   0.023714  0.017877   \n",
       "Naeun Son  0.046484   0.069130  0.091776  0.077473   0.528010  0.047676   \n",
       "Seolhyun   0.050000   0.091304  0.104348  0.106522   0.086957  0.371739   \n",
       "Solar      0.067146   0.065947  0.094724  0.124700   0.059952  0.045564   \n",
       "iZone      0.053241   0.067901  0.104167  0.097994   0.051698  0.037809   \n",
       "\n",
       "Celebrity     Solar     iZone  \n",
       "Celebrity                      \n",
       "BTS        0.035264  0.043451  \n",
       "BlackPink  0.041260  0.066017  \n",
       "GFriend    0.063251  0.108086  \n",
       "NCT        0.037942  0.046333  \n",
       "Naeun Son  0.059595  0.079857  \n",
       "Seolhyun   0.082609  0.106522  \n",
       "Solar      0.453237  0.088729  \n",
       "iZone      0.057099  0.530093  "
      ]
     },
     "execution_count": 36,
     "metadata": {},
     "output_type": "execute_result"
    }
   ],
   "source": [
    "model.transition_matrix()\n",
    "#model.transition_matrix()"
   ]
  },
  {
   "cell_type": "code",
   "execution_count": 37,
   "metadata": {},
   "outputs": [
    {
     "data": {
      "text/plain": [
       "{'BTS': 0.153578,\n",
       " 'BlackPink': 0.128917,\n",
       " 'GFriend': 0.120793,\n",
       " 'NCT': 0.265087,\n",
       " 'Naeun Son': 0.081141,\n",
       " 'Seolhyun': 0.044487,\n",
       " 'Solar': 0.080658,\n",
       " 'iZone': 0.125338}"
      ]
     },
     "execution_count": 37,
     "metadata": {},
     "output_type": "execute_result"
    }
   ],
   "source": [
    "model.convergence()"
   ]
  },
  {
   "cell_type": "code",
   "execution_count": 40,
   "metadata": {},
   "outputs": [
    {
     "data": {
      "text/plain": [
       "['Solar']"
      ]
     },
     "execution_count": 40,
     "metadata": {},
     "output_type": "execute_result"
    }
   ],
   "source": [
    "model.best_sub(\"NCT\",n=1)"
   ]
  },
  {
   "cell_type": "code",
   "execution_count": 41,
   "metadata": {},
   "outputs": [
    {
     "data": {
      "text/plain": [
       "['BTS']"
      ]
     },
     "execution_count": 41,
     "metadata": {},
     "output_type": "execute_result"
    }
   ],
   "source": [
    "model.best_complete(\"NCT\",n=1) #most dissimilar"
   ]
  },
  {
   "cell_type": "code",
   "execution_count": 42,
   "metadata": {},
   "outputs": [
    {
     "data": {
      "text/plain": [
       "['Seolhyun']"
      ]
     },
     "execution_count": 42,
     "metadata": {},
     "output_type": "execute_result"
    }
   ],
   "source": [
    "model.best_sub(\"Naeun Son\",n=1)"
   ]
  },
  {
   "cell_type": "code",
   "execution_count": 43,
   "metadata": {},
   "outputs": [
    {
     "data": {
      "text/plain": [
       "['BTS']"
      ]
     },
     "execution_count": 43,
     "metadata": {},
     "output_type": "execute_result"
    }
   ],
   "source": [
    "model.best_complete(\"Naeun Son\",n=1) "
   ]
  },
  {
   "cell_type": "code",
   "execution_count": 191,
   "metadata": {},
   "outputs": [
    {
     "data": {
      "text/plain": [
       "[('BlackPink', 0.1393770409172632),\n",
       " ('Seolhyun', 0.20257904182092132),\n",
       " ('Solar', 0.18592789348192545),\n",
       " ('GFriend', 0.2044626197073549),\n",
       " ('iZone', 0.2279299525221145),\n",
       " ('BTS', 0.11153977882757872),\n",
       " ('NCT', 0.14159846508095772)]"
      ]
     },
     "execution_count": 191,
     "metadata": {},
     "output_type": "execute_result"
    }
   ],
   "source": [
    "CelebrityDistances = []\n",
    "target_cel = 'Naeun Son'\n",
    "for i in model.get_names(1):\n",
    "    if i != target_cel:\n",
    "        temp = (i,model.cos_sim(target_cel,i))\n",
    "        CelebrityDistances.append(tuple(temp))\n",
    "CelebrityDistances"
   ]
  },
  {
   "cell_type": "code",
   "execution_count": null,
   "metadata": {},
   "outputs": [],
   "source": []
  }
 ],
 "metadata": {
  "kernelspec": {
   "display_name": "Python 3",
   "language": "python",
   "name": "python3"
  },
  "language_info": {
   "codemirror_mode": {
    "name": "ipython",
    "version": 3
   },
   "file_extension": ".py",
   "mimetype": "text/x-python",
   "name": "python",
   "nbconvert_exporter": "python",
   "pygments_lexer": "ipython3",
   "version": "3.7.4"
  }
 },
 "nbformat": 4,
 "nbformat_minor": 2
}
