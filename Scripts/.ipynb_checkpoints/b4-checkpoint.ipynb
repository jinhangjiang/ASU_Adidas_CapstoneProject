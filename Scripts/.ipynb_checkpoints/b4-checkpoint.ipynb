{
 "cells": [
  {
   "cell_type": "code",
   "execution_count": 1,
   "metadata": {},
   "outputs": [],
   "source": [
    "import praw\n",
    "import json\n",
    "import pandas as pd\n",
    "import os\n",
    "import datetime"
   ]
  },
  {
   "cell_type": "code",
   "execution_count": null,
   "metadata": {},
   "outputs": [],
   "source": [
    "print(os.getcwd())\n",
    "os.chdir('C:/ASU/Spring_2021/CIS509')\n",
    "print(os.getcwd())"
   ]
  },
  {
   "cell_type": "code",
   "execution_count": null,
   "metadata": {},
   "outputs": [],
   "source": [
    "reddit = praw.Reddit(client_id='OBU5A7M8VyChGw',\n",
    "                 client_secret=\"aLLrsXpQkpCLQlqmaRlt3u_zD6blyw\",\n",
    "                 username='sketchyfingers',\n",
    "                 password='fallout2548',\n",
    "                 user_agent='data_extract',\n",
    "                 check_for_async=False)"
   ]
  },
  {
   "cell_type": "code",
   "execution_count": null,
   "metadata": {},
   "outputs": [],
   "source": [
    "f = open('outputbeyonce4.csv','w', encoding='utf8')\n",
    "f.write(\"MsgID\"','\"Timestamp\"','\"Author\"','\"ThreadID\"','\"ThreadTitle\"','\"MsgBody\"','\"ReplyTo\"','\"Permalink\\n\")"
   ]
  },
  {
   "cell_type": "code",
   "execution_count": null,
   "metadata": {},
   "outputs": [],
   "source": [
    "count = 1\n",
    "name = 'beyonce'\n",
    "\n",
    "sr = reddit.subreddit(name)\n",
    "for comment in sr.comments(limit=None):\n",
    "     commentID = str(comment.id) #Every Reddit post has an identification number. Here we extract it\n",
    "    author = str(comment.author).replace(\";\", \"\").replace(\"'\",\"\").replace(\",\",\"\").replace(\"\\\"\",\"\").replace(\"\\n\", \" \").replace(\"\\r\",\" \") #Name of message author\n",
    "    timestamp = str(datetime.datetime.fromtimestamp(comment.created)) #Timestamp of when message was posted\n",
    "    replyTo = \"\"\n",
    "    if not comment.is_root:\n",
    "        replyTo = str(comment.parent().id)\n",
    "    else:\n",
    "        replyTo = \"-\"   #Whether the collected message was a direct reply to another existing message. if not comment.is_root: #If it is indeed a reply, this column contains the message ID of the parent message. If it is not a reply, a '-' is written to this \n",
    "    threadID = str(comment.submission.id) # The ID of the thread the message was posted in\n",
    "    threadTitle = str(comment.submission.title).replace(\";\", \"\").replace(\"'\",\"\").replace(\",\",\"\").replace(\"\\\"\",\"\").replace(\"\\n\", \" \").replace(\"\\r\",\" \") #The title of the thread the message was posted in\n",
    "    msgBody = str(comment.body).replace(\";\", \"\").replace(\"'\",\"\").replace(\",\",\"\").replace(\"\\\"\",\"\").replace(\"\\n\", \" \").replace(\"\\r\",\" \") #The message itself\n",
    "    permalink = str(comment.permalink).replace(\";\", \"\").replace(\"'\",\"\").replace(\",\",\"\").replace(\"\\\"\",\"\").replace(\"\\n\", \" \").replace(\"\\r\",\" \") #A URL you can follow directly to the message\n",
    "    print(\"-------------------------------------------------------\")\n",
    "    print(\"Comment ID: \" + str(comment.id))\n",
    "    print(\"Comment Author: \"+ str(comment.author))\n",
    "    print(\"Timestamp: \"+str(datetime.datetime.fromtimestamp(comment.created)))\n",
    "    if not comment.is_root:\n",
    "        print(\"Comment is a reply to: \" + str(comment.parent().id))\n",
    "    else:\n",
    "        print(\"Comment is a reply to: -\")\n",
    "    print(\"Comment Thread ID: \" + str(comment.submission.id))\n",
    "    print(\"Comment Thread Title: \" + str(comment.submission.title))\n",
    "    print(\"Comment Body: \" + str(comment.body))\n",
    "    print(\"Comment Permalink: \" + str(comment.permalink))\n",
    "    \n",
    "    f.write(\"'\"+commentID+\"','\"+timestamp+\"','\"+author+\"','\"+threadID+\"','\"+threadTitle+\"','\"+msgBody+\"','\"+replyTo+\"','\"+permalink+\"'\\n\")\n",
    "    print(\"Total messages collected from /r/\"+subreddit+\": \" + str(count))\n",
    "    count += 1"
   ]
  }
 ],
 "metadata": {
  "kernelspec": {
   "display_name": "Python 3",
   "language": "python",
   "name": "python3"
  },
  "language_info": {
   "codemirror_mode": {
    "name": "ipython",
    "version": 3
   },
   "file_extension": ".py",
   "mimetype": "text/x-python",
   "name": "python",
   "nbconvert_exporter": "python",
   "pygments_lexer": "ipython3",
   "version": "3.8.5"
  }
 },
 "nbformat": 4,
 "nbformat_minor": 4
}
