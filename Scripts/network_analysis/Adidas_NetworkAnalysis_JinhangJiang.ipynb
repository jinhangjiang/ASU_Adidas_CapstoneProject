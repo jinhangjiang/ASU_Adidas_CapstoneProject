{
  "nbformat": 4,
  "nbformat_minor": 0,
  "metadata": {
    "kernelspec": {
      "display_name": "Python 3",
      "language": "python",
      "name": "python3"
    },
    "language_info": {
      "codemirror_mode": {
        "name": "ipython",
        "version": 3
      },
      "file_extension": ".py",
      "mimetype": "text/x-python",
      "name": "python",
      "nbconvert_exporter": "python",
      "pygments_lexer": "ipython3",
      "version": "3.7.4"
    },
    "colab": {
      "name": "Adidas_NetworkAnalysis_JinhangJiang.ipynb",
      "provenance": [],
      "toc_visible": true
    },
    "widgets": {
      "application/vnd.jupyter.widget-state+json": {
        "3dd106b2b02645b583f2076861c6b9d5": {
          "model_module": "@jupyter-widgets/controls",
          "model_name": "HBoxModel",
          "state": {
            "_view_name": "HBoxView",
            "_dom_classes": [],
            "_model_name": "HBoxModel",
            "_view_module": "@jupyter-widgets/controls",
            "_model_module_version": "1.5.0",
            "_view_count": null,
            "_view_module_version": "1.5.0",
            "box_style": "",
            "layout": "IPY_MODEL_54a11be925f04ac29fa8a5f5249f1992",
            "_model_module": "@jupyter-widgets/controls",
            "children": [
              "IPY_MODEL_20c1c397ae2e4040bca974e9505d6a84",
              "IPY_MODEL_6549fef70b3348dc89100bb5896d26eb"
            ]
          }
        },
        "54a11be925f04ac29fa8a5f5249f1992": {
          "model_module": "@jupyter-widgets/base",
          "model_name": "LayoutModel",
          "state": {
            "_view_name": "LayoutView",
            "grid_template_rows": null,
            "right": null,
            "justify_content": null,
            "_view_module": "@jupyter-widgets/base",
            "overflow": null,
            "_model_module_version": "1.2.0",
            "_view_count": null,
            "flex_flow": null,
            "width": null,
            "min_width": null,
            "border": null,
            "align_items": null,
            "bottom": null,
            "_model_module": "@jupyter-widgets/base",
            "top": null,
            "grid_column": null,
            "overflow_y": null,
            "overflow_x": null,
            "grid_auto_flow": null,
            "grid_area": null,
            "grid_template_columns": null,
            "flex": null,
            "_model_name": "LayoutModel",
            "justify_items": null,
            "grid_row": null,
            "max_height": null,
            "align_content": null,
            "visibility": null,
            "align_self": null,
            "height": null,
            "min_height": null,
            "padding": null,
            "grid_auto_rows": null,
            "grid_gap": null,
            "max_width": null,
            "order": null,
            "_view_module_version": "1.2.0",
            "grid_template_areas": null,
            "object_position": null,
            "object_fit": null,
            "grid_auto_columns": null,
            "margin": null,
            "display": null,
            "left": null
          }
        },
        "20c1c397ae2e4040bca974e9505d6a84": {
          "model_module": "@jupyter-widgets/controls",
          "model_name": "FloatProgressModel",
          "state": {
            "_view_name": "ProgressView",
            "style": "IPY_MODEL_28c7a8d3da3e4721b10666d425b10400",
            "_dom_classes": [],
            "description": "Computing transition probabilities: 100%",
            "_model_name": "FloatProgressModel",
            "bar_style": "success",
            "max": 10,
            "_view_module": "@jupyter-widgets/controls",
            "_model_module_version": "1.5.0",
            "value": 10,
            "_view_count": null,
            "_view_module_version": "1.5.0",
            "orientation": "horizontal",
            "min": 0,
            "description_tooltip": null,
            "_model_module": "@jupyter-widgets/controls",
            "layout": "IPY_MODEL_52cf677df25549c9a74ac50a29790bbc"
          }
        },
        "6549fef70b3348dc89100bb5896d26eb": {
          "model_module": "@jupyter-widgets/controls",
          "model_name": "HTMLModel",
          "state": {
            "_view_name": "HTMLView",
            "style": "IPY_MODEL_7dd59f447e6645e9aa35069fc8f8981b",
            "_dom_classes": [],
            "description": "",
            "_model_name": "HTMLModel",
            "placeholder": "​",
            "_view_module": "@jupyter-widgets/controls",
            "_model_module_version": "1.5.0",
            "value": " 10/10 [00:14&lt;00:00,  1.45s/it]",
            "_view_count": null,
            "_view_module_version": "1.5.0",
            "description_tooltip": null,
            "_model_module": "@jupyter-widgets/controls",
            "layout": "IPY_MODEL_5b3e2542d51a40f6bd0d69bfacbeb433"
          }
        },
        "28c7a8d3da3e4721b10666d425b10400": {
          "model_module": "@jupyter-widgets/controls",
          "model_name": "ProgressStyleModel",
          "state": {
            "_view_name": "StyleView",
            "_model_name": "ProgressStyleModel",
            "description_width": "initial",
            "_view_module": "@jupyter-widgets/base",
            "_model_module_version": "1.5.0",
            "_view_count": null,
            "_view_module_version": "1.2.0",
            "bar_color": null,
            "_model_module": "@jupyter-widgets/controls"
          }
        },
        "52cf677df25549c9a74ac50a29790bbc": {
          "model_module": "@jupyter-widgets/base",
          "model_name": "LayoutModel",
          "state": {
            "_view_name": "LayoutView",
            "grid_template_rows": null,
            "right": null,
            "justify_content": null,
            "_view_module": "@jupyter-widgets/base",
            "overflow": null,
            "_model_module_version": "1.2.0",
            "_view_count": null,
            "flex_flow": null,
            "width": null,
            "min_width": null,
            "border": null,
            "align_items": null,
            "bottom": null,
            "_model_module": "@jupyter-widgets/base",
            "top": null,
            "grid_column": null,
            "overflow_y": null,
            "overflow_x": null,
            "grid_auto_flow": null,
            "grid_area": null,
            "grid_template_columns": null,
            "flex": null,
            "_model_name": "LayoutModel",
            "justify_items": null,
            "grid_row": null,
            "max_height": null,
            "align_content": null,
            "visibility": null,
            "align_self": null,
            "height": null,
            "min_height": null,
            "padding": null,
            "grid_auto_rows": null,
            "grid_gap": null,
            "max_width": null,
            "order": null,
            "_view_module_version": "1.2.0",
            "grid_template_areas": null,
            "object_position": null,
            "object_fit": null,
            "grid_auto_columns": null,
            "margin": null,
            "display": null,
            "left": null
          }
        },
        "7dd59f447e6645e9aa35069fc8f8981b": {
          "model_module": "@jupyter-widgets/controls",
          "model_name": "DescriptionStyleModel",
          "state": {
            "_view_name": "StyleView",
            "_model_name": "DescriptionStyleModel",
            "description_width": "",
            "_view_module": "@jupyter-widgets/base",
            "_model_module_version": "1.5.0",
            "_view_count": null,
            "_view_module_version": "1.2.0",
            "_model_module": "@jupyter-widgets/controls"
          }
        },
        "5b3e2542d51a40f6bd0d69bfacbeb433": {
          "model_module": "@jupyter-widgets/base",
          "model_name": "LayoutModel",
          "state": {
            "_view_name": "LayoutView",
            "grid_template_rows": null,
            "right": null,
            "justify_content": null,
            "_view_module": "@jupyter-widgets/base",
            "overflow": null,
            "_model_module_version": "1.2.0",
            "_view_count": null,
            "flex_flow": null,
            "width": null,
            "min_width": null,
            "border": null,
            "align_items": null,
            "bottom": null,
            "_model_module": "@jupyter-widgets/base",
            "top": null,
            "grid_column": null,
            "overflow_y": null,
            "overflow_x": null,
            "grid_auto_flow": null,
            "grid_area": null,
            "grid_template_columns": null,
            "flex": null,
            "_model_name": "LayoutModel",
            "justify_items": null,
            "grid_row": null,
            "max_height": null,
            "align_content": null,
            "visibility": null,
            "align_self": null,
            "height": null,
            "min_height": null,
            "padding": null,
            "grid_auto_rows": null,
            "grid_gap": null,
            "max_width": null,
            "order": null,
            "_view_module_version": "1.2.0",
            "grid_template_areas": null,
            "object_position": null,
            "object_fit": null,
            "grid_auto_columns": null,
            "margin": null,
            "display": null,
            "left": null
          }
        }
      }
    },
    "accelerator": "GPU"
  },
  "cells": [
    {
      "cell_type": "markdown",
      "metadata": {
        "id": "zhsjaGtZGRez"
      },
      "source": [
        "# Load Package"
      ]
    },
    {
      "cell_type": "code",
      "metadata": {
        "id": "tvBHpsrkBYm3",
        "colab": {
          "base_uri": "https://localhost:8080/"
        },
        "outputId": "8cc90cbf-0858-4ada-c3e4-1e1cd5f9ba2f"
      },
      "source": [
        "pip install node2vec"
      ],
      "execution_count": null,
      "outputs": [
        {
          "output_type": "stream",
          "text": [
            "Requirement already satisfied: node2vec in /usr/local/lib/python3.7/dist-packages (0.4.3)\n",
            "Requirement already satisfied: joblib>=0.13.2 in /usr/local/lib/python3.7/dist-packages (from node2vec) (1.0.1)\n",
            "Requirement already satisfied: gensim in /usr/local/lib/python3.7/dist-packages (from node2vec) (3.6.0)\n",
            "Requirement already satisfied: numpy in /usr/local/lib/python3.7/dist-packages (from node2vec) (1.19.5)\n",
            "Requirement already satisfied: networkx in /usr/local/lib/python3.7/dist-packages (from node2vec) (2.5.1)\n",
            "Requirement already satisfied: tqdm in /usr/local/lib/python3.7/dist-packages (from node2vec) (4.41.1)\n",
            "Requirement already satisfied: six>=1.5.0 in /usr/local/lib/python3.7/dist-packages (from gensim->node2vec) (1.15.0)\n",
            "Requirement already satisfied: smart-open>=1.2.1 in /usr/local/lib/python3.7/dist-packages (from gensim->node2vec) (5.0.0)\n",
            "Requirement already satisfied: scipy>=0.18.1 in /usr/local/lib/python3.7/dist-packages (from gensim->node2vec) (1.4.1)\n",
            "Requirement already satisfied: decorator<5,>=4.3 in /usr/local/lib/python3.7/dist-packages (from networkx->node2vec) (4.4.2)\n"
          ],
          "name": "stdout"
        }
      ]
    },
    {
      "cell_type": "code",
      "metadata": {
        "id": "8pGFrAUKGRfA"
      },
      "source": [
        "import pandas as pd\n",
        "import numpy as np\n",
        "import os\n",
        "import networkx as nx\n",
        "from node2vec import Node2Vec\n",
        "from matplotlib import pyplot as plt\n",
        "from sklearn.cluster import KMeans\n",
        "from matplotlib.pyplot import figure\n",
        "%matplotlib inline\n",
        "from sklearn.manifold import TSNE"
      ],
      "execution_count": null,
      "outputs": []
    },
    {
      "cell_type": "markdown",
      "metadata": {
        "id": "8pXPByFuGRfH"
      },
      "source": [
        "# Load Data and Explore"
      ]
    },
    {
      "cell_type": "code",
      "metadata": {
        "id": "wpQDlxbRGRfI"
      },
      "source": [
        "df = pd.read_csv(\"nw_kor.csv\")\n",
        "#df = pd.read_csv(\"Data/networkanalysis_cum.csv\")"
      ],
      "execution_count": null,
      "outputs": []
    },
    {
      "cell_type": "code",
      "metadata": {
        "id": "QktFgJHjGRfI"
      },
      "source": [
        "df.rename(columns = {'author':'Usernames'}, inplace = True)"
      ],
      "execution_count": null,
      "outputs": []
    },
    {
      "cell_type": "code",
      "metadata": {
        "id": "DoG7G4YwGRfJ"
      },
      "source": [
        "view=df.groupby(['Celebrity','Usernames']).size().reset_index(name='Freq')\n",
        "#view"
      ],
      "execution_count": null,
      "outputs": []
    },
    {
      "cell_type": "code",
      "metadata": {
        "colab": {
          "base_uri": "https://localhost:8080/"
        },
        "id": "AW5L0TNTVddz",
        "outputId": "e08f0d81-7d7c-4280-c524-aacdabd26ee8"
      },
      "source": [
        "a=[\"Celebrity\",\"Usernames\"]\n",
        "data = view[a]\n",
        "#data = df[a]\n",
        "data.shape"
      ],
      "execution_count": null,
      "outputs": [
        {
          "output_type": "execute_result",
          "data": {
            "text/plain": [
              "(49274, 2)"
            ]
          },
          "metadata": {
            "tags": []
          },
          "execution_count": 285
        }
      ]
    },
    {
      "cell_type": "code",
      "metadata": {
        "id": "RzKn3_sVmHSu"
      },
      "source": [
        "piecount = data.Celebrity.value_counts()\n",
        "piecount = pd.DataFrame(piecount)"
      ],
      "execution_count": null,
      "outputs": []
    },
    {
      "cell_type": "code",
      "metadata": {
        "colab": {
          "base_uri": "https://localhost:8080/",
          "height": 662
        },
        "id": "B9_VOPAflsLR",
        "outputId": "4cc41799-e7be-42c9-f544-0c6aaa67d200"
      },
      "source": [
        "labels=piecount.index\n",
        "explode = []\n",
        "for k in piecount.index:\n",
        "    explode.append(0.05)\n",
        "plt.pie(piecount.values, labels=labels, explode=explode, shadow=True, autopct='%1.1f%%')\n",
        "plt.subplots_adjust(left=2, bottom=2, right=4, top=4)\n",
        "plt.show()"
      ],
      "execution_count": null,
      "outputs": [
        {
          "output_type": "stream",
          "text": [
            "/usr/local/lib/python3.7/dist-packages/ipykernel_launcher.py:5: MatplotlibDeprecationWarning: Non-1D inputs to pie() are currently squeeze()d, but this behavior is deprecated since 3.1 and will be removed in 3.3; pass a 1D array instead.\n",
            "  \"\"\"\n"
          ],
          "name": "stderr"
        },
        {
          "output_type": "display_data",
          "data": {
            "image/png": "[encoded data removed]",
            "text/plain": [
              "<Figure size 432x288 with 1 Axes>"
            ]
          },
          "metadata": {
            "tags": []
          }
        }
      ]
    },
    {
      "cell_type": "code",
      "metadata": {
        "scrolled": true,
        "colab": {
          "base_uri": "https://localhost:8080/"
        },
        "id": "BM0QVCLTGRfK",
        "outputId": "3aa1db21-f538-4885-ae72-34a64b29e4b5"
      },
      "source": [
        "print(*data.Celebrity.unique(),sep=\"\\n\")"
      ],
      "execution_count": null,
      "outputs": [
        {
          "output_type": "stream",
          "text": [
            "BTS\n",
            "BlackPink\n",
            "GFriend\n",
            "Miyeon\n",
            "NCT\n",
            "Naeun Son\n",
            "Sana\n",
            "Seolhyun\n",
            "Solar\n",
            "iZone\n"
          ],
          "name": "stdout"
        }
      ]
    },
    {
      "cell_type": "code",
      "metadata": {
        "colab": {
          "base_uri": "https://localhost:8080/"
        },
        "id": "_mA0aq8_GRfK",
        "outputId": "82a81cf5-e02c-4a44-8830-dd5eb4f77491"
      },
      "source": [
        "data.shape"
      ],
      "execution_count": null,
      "outputs": [
        {
          "output_type": "execute_result",
          "data": {
            "text/plain": [
              "(49274, 2)"
            ]
          },
          "metadata": {
            "tags": []
          },
          "execution_count": 289
        }
      ]
    },
    {
      "cell_type": "code",
      "metadata": {
        "colab": {
          "base_uri": "https://localhost:8080/"
        },
        "id": "9gxB1GvfGRfL",
        "outputId": "d70da71e-cb4d-497a-ae47-a4dd2c5d5887"
      },
      "source": [
        "print(\"Number of Celebrities: %0.0f\" %len(data.Celebrity.unique()))\n",
        "print(\"Number of Users: %0.0f\" %len(data.Usernames.unique()))"
      ],
      "execution_count": null,
      "outputs": [
        {
          "output_type": "stream",
          "text": [
            "Number of Celebrities: 10\n",
            "Number of Users: 35147\n"
          ],
          "name": "stdout"
        }
      ]
    },
    {
      "cell_type": "code",
      "metadata": {
        "colab": {
          "base_uri": "https://localhost:8080/"
        },
        "id": "u-9tumXNGRfL",
        "outputId": "2e777237-734e-472f-fc8d-1dcfebff5180"
      },
      "source": [
        "print(\"The percentage of unique values: {:.2%}\".format(len(data.Usernames.unique())/len(data.Usernames)))"
      ],
      "execution_count": null,
      "outputs": [
        {
          "output_type": "stream",
          "text": [
            "The percentage of unique values: 71.33%\n"
          ],
          "name": "stdout"
        }
      ]
    },
    {
      "cell_type": "markdown",
      "metadata": {
        "id": "MXj5eViOGRfM"
      },
      "source": [
        "# Generate Adjacency Matrix"
      ]
    },
    {
      "cell_type": "code",
      "metadata": {
        "colab": {
          "base_uri": "https://localhost:8080/"
        },
        "id": "uesV-aZMGRfM",
        "outputId": "d710ecad-c0ca-4e52-c4fe-513f33f4ed7d"
      },
      "source": [
        "df_merge = data.merge(data, on='Usernames')\n",
        "results = pd.crosstab(df_merge.Celebrity_x, df_merge.Celebrity_y)\n",
        "np.fill_diagonal(results.values, 0)\n",
        "network_table=results\n",
        "network_table"
      ],
      "execution_count": null,
      "outputs": [
        {
          "output_type": "execute_result",
          "data": {
            "text/html": [
              "<div>\n",
              "<style scoped>\n",
              "    .dataframe tbody tr th:only-of-type {\n",
              "        vertical-align: middle;\n",
              "    }\n",
              "\n",
              "    .dataframe tbody tr th {\n",
              "        vertical-align: top;\n",
              "    }\n",
              "\n",
              "    .dataframe thead th {\n",
              "        text-align: right;\n",
              "    }\n",
              "</style>\n",
              "<table border=\"1\" class=\"dataframe\">\n",
              "  <thead>\n",
              "    <tr style=\"text-align: right;\">\n",
              "      <th>Celebrity_y</th>\n",
              "      <th>BTS</th>\n",
              "      <th>BlackPink</th>\n",
              "      <th>GFriend</th>\n",
              "      <th>Miyeon</th>\n",
              "      <th>NCT</th>\n",
              "      <th>Naeun Son</th>\n",
              "      <th>Sana</th>\n",
              "      <th>Seolhyun</th>\n",
              "      <th>Solar</th>\n",
              "      <th>iZone</th>\n",
              "    </tr>\n",
              "    <tr>\n",
              "      <th>Celebrity_x</th>\n",
              "      <th></th>\n",
              "      <th></th>\n",
              "      <th></th>\n",
              "      <th></th>\n",
              "      <th></th>\n",
              "      <th></th>\n",
              "      <th></th>\n",
              "      <th></th>\n",
              "      <th></th>\n",
              "      <th></th>\n",
              "    </tr>\n",
              "  </thead>\n",
              "  <tbody>\n",
              "    <tr>\n",
              "      <th>BTS</th>\n",
              "      <td>0</td>\n",
              "      <td>689</td>\n",
              "      <td>682</td>\n",
              "      <td>59</td>\n",
              "      <td>412</td>\n",
              "      <td>448</td>\n",
              "      <td>8</td>\n",
              "      <td>380</td>\n",
              "      <td>602</td>\n",
              "      <td>431</td>\n",
              "    </tr>\n",
              "    <tr>\n",
              "      <th>BlackPink</th>\n",
              "      <td>689</td>\n",
              "      <td>0</td>\n",
              "      <td>924</td>\n",
              "      <td>137</td>\n",
              "      <td>687</td>\n",
              "      <td>640</td>\n",
              "      <td>52</td>\n",
              "      <td>414</td>\n",
              "      <td>674</td>\n",
              "      <td>646</td>\n",
              "    </tr>\n",
              "    <tr>\n",
              "      <th>GFriend</th>\n",
              "      <td>682</td>\n",
              "      <td>924</td>\n",
              "      <td>0</td>\n",
              "      <td>139</td>\n",
              "      <td>521</td>\n",
              "      <td>780</td>\n",
              "      <td>26</td>\n",
              "      <td>877</td>\n",
              "      <td>1196</td>\n",
              "      <td>1403</td>\n",
              "    </tr>\n",
              "    <tr>\n",
              "      <th>Miyeon</th>\n",
              "      <td>59</td>\n",
              "      <td>137</td>\n",
              "      <td>139</td>\n",
              "      <td>0</td>\n",
              "      <td>0</td>\n",
              "      <td>161</td>\n",
              "      <td>11</td>\n",
              "      <td>106</td>\n",
              "      <td>155</td>\n",
              "      <td>222</td>\n",
              "    </tr>\n",
              "    <tr>\n",
              "      <th>NCT</th>\n",
              "      <td>412</td>\n",
              "      <td>687</td>\n",
              "      <td>521</td>\n",
              "      <td>0</td>\n",
              "      <td>0</td>\n",
              "      <td>402</td>\n",
              "      <td>0</td>\n",
              "      <td>371</td>\n",
              "      <td>703</td>\n",
              "      <td>625</td>\n",
              "    </tr>\n",
              "    <tr>\n",
              "      <th>Naeun Son</th>\n",
              "      <td>448</td>\n",
              "      <td>640</td>\n",
              "      <td>780</td>\n",
              "      <td>161</td>\n",
              "      <td>402</td>\n",
              "      <td>0</td>\n",
              "      <td>10</td>\n",
              "      <td>822</td>\n",
              "      <td>938</td>\n",
              "      <td>950</td>\n",
              "    </tr>\n",
              "    <tr>\n",
              "      <th>Sana</th>\n",
              "      <td>8</td>\n",
              "      <td>52</td>\n",
              "      <td>26</td>\n",
              "      <td>11</td>\n",
              "      <td>0</td>\n",
              "      <td>10</td>\n",
              "      <td>0</td>\n",
              "      <td>10</td>\n",
              "      <td>18</td>\n",
              "      <td>12</td>\n",
              "    </tr>\n",
              "    <tr>\n",
              "      <th>Seolhyun</th>\n",
              "      <td>380</td>\n",
              "      <td>414</td>\n",
              "      <td>877</td>\n",
              "      <td>106</td>\n",
              "      <td>371</td>\n",
              "      <td>822</td>\n",
              "      <td>10</td>\n",
              "      <td>0</td>\n",
              "      <td>1437</td>\n",
              "      <td>1140</td>\n",
              "    </tr>\n",
              "    <tr>\n",
              "      <th>Solar</th>\n",
              "      <td>602</td>\n",
              "      <td>674</td>\n",
              "      <td>1196</td>\n",
              "      <td>155</td>\n",
              "      <td>703</td>\n",
              "      <td>938</td>\n",
              "      <td>18</td>\n",
              "      <td>1437</td>\n",
              "      <td>0</td>\n",
              "      <td>3414</td>\n",
              "    </tr>\n",
              "    <tr>\n",
              "      <th>iZone</th>\n",
              "      <td>431</td>\n",
              "      <td>646</td>\n",
              "      <td>1403</td>\n",
              "      <td>222</td>\n",
              "      <td>625</td>\n",
              "      <td>950</td>\n",
              "      <td>12</td>\n",
              "      <td>1140</td>\n",
              "      <td>3414</td>\n",
              "      <td>0</td>\n",
              "    </tr>\n",
              "  </tbody>\n",
              "</table>\n",
              "</div>"
            ],
            "text/plain": [
              "Celebrity_y  BTS  BlackPink  GFriend  Miyeon  ...  Sana  Seolhyun  Solar  iZone\n",
              "Celebrity_x                                   ...                              \n",
              "BTS            0        689      682      59  ...     8       380    602    431\n",
              "BlackPink    689          0      924     137  ...    52       414    674    646\n",
              "GFriend      682        924        0     139  ...    26       877   1196   1403\n",
              "Miyeon        59        137      139       0  ...    11       106    155    222\n",
              "NCT          412        687      521       0  ...     0       371    703    625\n",
              "Naeun Son    448        640      780     161  ...    10       822    938    950\n",
              "Sana           8         52       26      11  ...     0        10     18     12\n",
              "Seolhyun     380        414      877     106  ...    10         0   1437   1140\n",
              "Solar        602        674     1196     155  ...    18      1437      0   3414\n",
              "iZone        431        646     1403     222  ...    12      1140   3414      0\n",
              "\n",
              "[10 rows x 10 columns]"
            ]
          },
          "metadata": {
            "tags": []
          },
          "execution_count": 301
        }
      ]
    },
    {
      "cell_type": "markdown",
      "metadata": {
        "id": "RAwg15x7GRfP"
      },
      "source": [
        "# Fit NetworkX"
      ]
    },
    {
      "cell_type": "code",
      "metadata": {
        "colab": {
          "base_uri": "https://localhost:8080/"
        },
        "id": "a29dZSgVGRfQ",
        "outputId": "b10d4fca-2a35-45a8-f3b6-fbc708a00d3f"
      },
      "source": [
        "#graph=nx.from_numpy_matrix(np_matrix)\n",
        "graph=nx.from_pandas_adjacency(network_table)\n",
        "graph.name = \"Case Study for Korean Influencers\"\n",
        "print(nx.info(graph))"
      ],
      "execution_count": null,
      "outputs": [
        {
          "output_type": "stream",
          "text": [
            "Name: Case Study for Korean Influencers\n",
            "Type: Graph\n",
            "Number of nodes: 10\n",
            "Number of edges: 43\n",
            "Average degree:   8.6000\n"
          ],
          "name": "stdout"
        }
      ]
    },
    {
      "cell_type": "code",
      "metadata": {
        "colab": {
          "base_uri": "https://localhost:8080/",
          "height": 35
        },
        "id": "s9NAnPU095pZ",
        "outputId": "b24b6b61-c1c5-48a3-b61a-f62fd50c4aaa"
      },
      "source": [
        ""
      ],
      "execution_count": null,
      "outputs": [
        {
          "output_type": "execute_result",
          "data": {
            "application/vnd.google.colaboratory.intrinsic+json": {
              "type": "string"
            },
            "text/plain": [
              "''"
            ]
          },
          "metadata": {
            "tags": []
          },
          "execution_count": 357
        }
      ]
    },
    {
      "cell_type": "code",
      "metadata": {
        "colab": {
          "base_uri": "https://localhost:8080/",
          "height": 319
        },
        "id": "2K0CVJEYHmzX",
        "outputId": "06e6311e-6025-41d3-ec8f-4b4f3347d9b6"
      },
      "source": [
        "edges,weights = zip(*nx.get_edge_attributes(graph,'weight').items())\n",
        "pos=nx.spring_layout(graph,scale=4)\n",
        "nx.draw(graph,\n",
        "                 #pos,\n",
        "                 with_labels=True,\n",
        "                 node_size=400,\n",
        "                 node_color=\"mistyrose\",\n",
        "                 edgelist=edges, \n",
        "                 edge_color=weights,\n",
        "                 edge_cmap=plt.cm.GnBu,\n",
        "                 style=\"solid\",\n",
        "                 width=3.5)\n"
      ],
      "execution_count": null,
      "outputs": [
        {
          "output_type": "display_data",
          "data": {
            "image/png": "[encoded data removed]",
            "text/plain": [
              "<Figure size 432x288 with 1 Axes>"
            ]
          },
          "metadata": {
            "tags": []
          }
        }
      ]
    },
    {
      "cell_type": "code",
      "metadata": {
        "colab": {
          "base_uri": "https://localhost:8080/"
        },
        "id": "T3rxSMqcIoMN",
        "outputId": "d65c0b4b-a055-49bd-c8ae-f86910be5669"
      },
      "source": [
        "vector_size = round(df.shape[0]**0.25)\n",
        "vector_size"
      ],
      "execution_count": null,
      "outputs": [
        {
          "output_type": "execute_result",
          "data": {
            "text/plain": [
              "16"
            ]
          },
          "metadata": {
            "tags": []
          },
          "execution_count": 304
        }
      ]
    },
    {
      "cell_type": "code",
      "metadata": {
        "colab": {
          "base_uri": "https://localhost:8080/",
          "height": 118,
          "referenced_widgets": [
            "3dd106b2b02645b583f2076861c6b9d5",
            "54a11be925f04ac29fa8a5f5249f1992",
            "20c1c397ae2e4040bca974e9505d6a84",
            "6549fef70b3348dc89100bb5896d26eb",
            "28c7a8d3da3e4721b10666d425b10400",
            "52cf677df25549c9a74ac50a29790bbc",
            "7dd59f447e6645e9aa35069fc8f8981b",
            "5b3e2542d51a40f6bd0d69bfacbeb433"
          ]
        },
        "id": "mp0syGmvGRfS",
        "outputId": "6de98f35-a620-478c-ec34-92d122b8ff12"
      },
      "source": [
        "%%time\n",
        "setup = Node2Vec(graph,dimensions=vector_size, walk_length=15, num_walks=18)\n",
        "model = setup.fit(window=3, min_count=1, sg=1)"
      ],
      "execution_count": null,
      "outputs": [
        {
          "output_type": "display_data",
          "data": {
            "application/vnd.jupyter.widget-view+json": {
              "model_id": "3dd106b2b02645b583f2076861c6b9d5",
              "version_minor": 0,
              "version_major": 2
            },
            "text/plain": [
              "HBox(children=(FloatProgress(value=0.0, description='Computing transition probabilities', max=10.0, style=Prog…"
            ]
          },
          "metadata": {
            "tags": []
          }
        },
        {
          "output_type": "stream",
          "text": [
            "Generating walks (CPU: 1): 100%|██████████| 18/18 [00:00<00:00, 147.40it/s]"
          ],
          "name": "stderr"
        },
        {
          "output_type": "stream",
          "text": [
            "\n",
            "CPU times: user 168 ms, sys: 4.88 ms, total: 173 ms\n",
            "Wall time: 188 ms\n"
          ],
          "name": "stdout"
        },
        {
          "output_type": "stream",
          "text": [
            "\n"
          ],
          "name": "stderr"
        }
      ]
    },
    {
      "cell_type": "code",
      "metadata": {
        "id": "aWFi4BCdGRfS"
      },
      "source": [
        "#vocab, vectors = model.wv.key_to_index, model.wv.get_normed_vectors()\n",
        "vocab, vectors = model.wv.vocab, model.wv.vectors\n",
        "\n",
        "# get node name and embedding vector index.\n",
        "name_index = np.array([(v[0], v[1].index) for v in vocab.items()]) #.index\n",
        "\n",
        "# init dataframe using embedding vectors and set index as node name\n",
        "node2vec_output = pd.DataFrame(vectors[name_index[:,1].astype(int)])\n",
        "node2vec_output.index = name_index[:,0]"
      ],
      "execution_count": null,
      "outputs": []
    },
    {
      "cell_type": "code",
      "metadata": {
        "colab": {
          "base_uri": "https://localhost:8080/"
        },
        "id": "jPfCpA-kdVTb",
        "outputId": "d1cd5ce2-c221-4958-edd7-1e6df396e88f"
      },
      "source": [
        "model.wv.most_similar(\"BlackPink\",topn=10)"
      ],
      "execution_count": null,
      "outputs": [
        {
          "output_type": "execute_result",
          "data": {
            "text/plain": [
              "[('Solar', 0.9966571927070618),\n",
              " ('iZone', 0.996224582195282),\n",
              " ('GFriend', 0.9955752491950989),\n",
              " ('BTS', 0.9939093589782715),\n",
              " ('Naeun Son', 0.9935728907585144),\n",
              " ('Seolhyun', 0.9929853677749634),\n",
              " ('Miyeon', 0.9906546473503113),\n",
              " ('NCT', 0.9857029318809509),\n",
              " ('Sana', 0.9538063406944275)]"
            ]
          },
          "metadata": {
            "tags": []
          },
          "execution_count": 356
        }
      ]
    },
    {
      "cell_type": "code",
      "metadata": {
        "colab": {
          "base_uri": "https://localhost:8080/"
        },
        "id": "iAjlWZ8iGRfU",
        "outputId": "004d582e-86b9-474e-9d63-69e6470158fc"
      },
      "source": [
        "node2vec_output.shape"
      ],
      "execution_count": null,
      "outputs": [
        {
          "output_type": "execute_result",
          "data": {
            "text/plain": [
              "(10, 16)"
            ]
          },
          "metadata": {
            "tags": []
          },
          "execution_count": 308
        }
      ]
    },
    {
      "cell_type": "code",
      "metadata": {
        "id": "p9UIMVK0GRfU"
      },
      "source": [
        "#node2vec_output.to_csv(\"node2vec_k3.csv\")"
      ],
      "execution_count": null,
      "outputs": []
    },
    {
      "cell_type": "markdown",
      "metadata": {
        "id": "HPLZFfSXAM4i"
      },
      "source": [
        "# K-means: find \"K\""
      ]
    },
    {
      "cell_type": "code",
      "metadata": {
        "colab": {
          "base_uri": "https://localhost:8080/",
          "height": 279
        },
        "id": "3EOArGl_AnJq",
        "outputId": "735c2ab6-e4ae-471e-a7aa-58bc9da43df9"
      },
      "source": [
        "SSE = []\n",
        "for i in range(1,(len(node2vec_output.index)-1)):\n",
        "    kmeans = KMeans(n_clusters=i, init='k-means++', max_iter=1000, n_init=50, random_state=42)\n",
        "    kmeans.fit(node2vec_output)\n",
        "    SSE.append(kmeans.inertia_)\n",
        "plt.plot(range(1,(len(node2vec_output.index)-1)), SSE,\"o-\",color=\"#47DBCD\")\n",
        "plt.title('Elbow Method')\n",
        "plt.xlabel('Number of clusters')\n",
        "plt.ylabel('SSE')\n",
        "plt.subplots_adjust(left=0.25, bottom=0.8, right=1.2, top=1.5)\n",
        "plt.show()"
      ],
      "execution_count": null,
      "outputs": [
        {
          "output_type": "display_data",
          "data": {
            "image/png": "[encoded data removed]",
            "text/plain": [
              "<Figure size 432x288 with 1 Axes>"
            ]
          },
          "metadata": {
            "tags": [],
            "needs_background": "light"
          }
        }
      ]
    },
    {
      "cell_type": "markdown",
      "metadata": {
        "id": "-LepqpJJF7Fz"
      },
      "source": [
        "## K-means: training and subsampling"
      ]
    },
    {
      "cell_type": "code",
      "metadata": {
        "id": "bV3vlei4Spmd"
      },
      "source": [
        "n_clusters=3"
      ],
      "execution_count": null,
      "outputs": []
    },
    {
      "cell_type": "code",
      "metadata": {
        "id": "WWOjn9xLBk2c"
      },
      "source": [
        "kmeans = KMeans(n_clusters=n_clusters, init='k-means++', max_iter=1000, n_init=50, random_state=42)"
      ],
      "execution_count": null,
      "outputs": []
    },
    {
      "cell_type": "code",
      "metadata": {
        "colab": {
          "base_uri": "https://localhost:8080/"
        },
        "id": "4slpBEmKP0bY",
        "outputId": "8d0dd982-ca31-49c1-bc93-533884fd7233"
      },
      "source": [
        "kmeans.fit(node2vec_output)"
      ],
      "execution_count": null,
      "outputs": [
        {
          "output_type": "execute_result",
          "data": {
            "text/plain": [
              "KMeans(algorithm='auto', copy_x=True, init='k-means++', max_iter=1000,\n",
              "       n_clusters=3, n_init=50, n_jobs=None, precompute_distances='auto',\n",
              "       random_state=42, tol=0.0001, verbose=0)"
            ]
          },
          "metadata": {
            "tags": []
          },
          "execution_count": 337
        }
      ]
    },
    {
      "cell_type": "code",
      "metadata": {
        "colab": {
          "base_uri": "https://localhost:8080/",
          "height": 307
        },
        "id": "_gGQb_hNQY5n",
        "outputId": "ed87151f-83e4-4dc8-977e-6830cc80cf7f"
      },
      "source": [
        "t = np.arange(n_clusters)\n",
        "plt.scatter(kmeans.cluster_centers_[:,0], kmeans.cluster_centers_[:,1], s=200, c=t,marker=\"^\")\n",
        "plt.subplots_adjust(left=0.1, bottom=0.1, right=1, top=1)"
      ],
      "execution_count": null,
      "outputs": [
        {
          "output_type": "display_data",
          "data": {
            "image/png": "[encoded data removed]",
            "text/plain": [
              "<Figure size 432x288 with 1 Axes>"
            ]
          },
          "metadata": {
            "tags": [],
            "needs_background": "light"
          }
        }
      ]
    },
    {
      "cell_type": "code",
      "metadata": {
        "id": "bP3hsRbTbKOt"
      },
      "source": [
        "subsample=[]\n",
        "for i in range(kmeans.n_clusters):\n",
        "  temp = []\n",
        "  temp=node2vec_output.iloc[kmeans.labels_==i,:]\n",
        "  subsample.append(temp)"
      ],
      "execution_count": null,
      "outputs": []
    },
    {
      "cell_type": "code",
      "metadata": {
        "colab": {
          "base_uri": "https://localhost:8080/"
        },
        "id": "yBZ9-XM8c4kB",
        "outputId": "02410566-f367-46e3-b8de-8742fc6869d5"
      },
      "source": [
        "for list in range(len(subsample)):\n",
        "  print(\"Group\",list+1)\n",
        "  print(subsample[list])\n",
        "  print(\"--------------------------------------------------------------\")"
      ],
      "execution_count": null,
      "outputs": [
        {
          "output_type": "stream",
          "text": [
            "Group 1\n",
            "              0         1         2   ...        13        14        15\n",
            "Sana   -0.089618 -0.071649 -0.003039  ... -0.043400 -0.102120  0.014032\n",
            "NCT    -0.109779 -0.097330  0.032881  ... -0.048294 -0.241587  0.031689\n",
            "Miyeon -0.144210 -0.067727  0.037089  ... -0.058805 -0.197231 -0.010469\n",
            "\n",
            "[3 rows x 16 columns]\n",
            "--------------------------------------------------------------\n",
            "Group 2\n",
            "                 0         1         2   ...        13        14        15\n",
            "BTS       -0.186073 -0.159345  0.043289  ... -0.118391 -0.346044  0.027395\n",
            "BlackPink -0.186074 -0.117281  0.071182  ... -0.112053 -0.334396 -0.008005\n",
            "Naeun Son -0.139308 -0.119381  0.069812  ... -0.106206 -0.317578 -0.010998\n",
            "Seolhyun  -0.220078 -0.148290  0.036138  ... -0.085400 -0.346950  0.023048\n",
            "\n",
            "[4 rows x 16 columns]\n",
            "--------------------------------------------------------------\n",
            "Group 3\n",
            "               0         1         2   ...        13        14        15\n",
            "GFriend -0.234220 -0.147478  0.064113  ... -0.101717 -0.409747 -0.007356\n",
            "Solar   -0.260542 -0.194174  0.086498  ... -0.134705 -0.450908  0.024723\n",
            "iZone   -0.236252 -0.178684  0.092774  ... -0.120792 -0.407976  0.011584\n",
            "\n",
            "[3 rows x 16 columns]\n",
            "--------------------------------------------------------------\n"
          ],
          "name": "stdout"
        }
      ]
    },
    {
      "cell_type": "markdown",
      "metadata": {
        "id": "nzjDbfsgPLL4"
      },
      "source": [
        "# TSNE plot"
      ]
    },
    {
      "cell_type": "code",
      "metadata": {
        "id": "B__JcYOVPI2d"
      },
      "source": [
        "def tsne_plot(model):\n",
        "    \"Creates and TSNE model and plots it\"\n",
        "    labels = []\n",
        "    tokens = []\n",
        "\n",
        "    for word in model.wv.vocab:\n",
        "        tokens.append(model[word])\n",
        "        labels.append(word)\n",
        "    \n",
        "    tsne_model = TSNE(perplexity=1.5, n_components=2, learning_rate=75, init='pca', n_iter=5000, random_state=42)\n",
        "    new_values = tsne_model.fit_transform(tokens)\n",
        "\n",
        "    x = []\n",
        "    y = []\n",
        "    for value in new_values:\n",
        "        x.append(value[0])\n",
        "        y.append(value[1])\n",
        "        \n",
        "    plt.figure(figsize=(10, 10)) \n",
        "    for i in range(len(x)):\n",
        "        plt.scatter(x[i],y[i])\n",
        "        plt.annotate(labels[i],\n",
        "                     xy=(x[i], y[i]),\n",
        "                     xytext=(5, 2),\n",
        "                     textcoords='offset points',\n",
        "                     ha='right',\n",
        "                     va='bottom')\n",
        "    plt.show()"
      ],
      "execution_count": null,
      "outputs": []
    },
    {
      "cell_type": "code",
      "metadata": {
        "colab": {
          "base_uri": "https://localhost:8080/",
          "height": 646
        },
        "id": "vF3CGLNTKNTI",
        "outputId": "d1cf911e-bdbb-47ea-aabd-d056ee985401"
      },
      "source": [
        "tsne_plot(model)"
      ],
      "execution_count": null,
      "outputs": [
        {
          "output_type": "stream",
          "text": [
            "/usr/local/lib/python3.7/dist-packages/ipykernel_launcher.py:7: DeprecationWarning: Call to deprecated `__getitem__` (Method will be removed in 4.0.0, use self.wv.__getitem__() instead).\n",
            "  import sys\n"
          ],
          "name": "stderr"
        },
        {
          "output_type": "display_data",
          "data": {
            "image/png": "[encoded data removed]",
            "text/plain": [
              "<Figure size 720x720 with 1 Axes>"
            ]
          },
          "metadata": {
            "tags": [],
            "needs_background": "light"
          }
        }
      ]
    }
  ]
}