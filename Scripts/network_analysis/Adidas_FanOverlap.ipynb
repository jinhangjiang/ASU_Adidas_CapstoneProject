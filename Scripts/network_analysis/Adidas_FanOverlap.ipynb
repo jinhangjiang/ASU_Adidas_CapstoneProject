{
  "nbformat": 4,
  "nbformat_minor": 0,
  "metadata": {
    "kernelspec": {
      "display_name": "Python 3",
      "language": "python",
      "name": "python3"
    },
    "language_info": {
      "codemirror_mode": {
        "name": "ipython",
        "version": 3
      },
      "file_extension": ".py",
      "mimetype": "text/x-python",
      "name": "python",
      "nbconvert_exporter": "python",
      "pygments_lexer": "ipython3",
      "version": "3.7.4"
    },
    "colab": {
      "name": "Adidas_FanOverlap.ipynb",
      "provenance": []
    }
  },
  "cells": [
    {
      "cell_type": "code",
      "metadata": {
        "id": "JlxvY546GTja"
      },
      "source": [
        "from itertools import combinations\n",
        "import pandas as pd\n",
        "import numpy as np\n",
        "from math import *\n",
        "from decimal import Decimal \n",
        "from numpy.linalg import norm\n",
        "%matplotlib inline\n",
        "from matplotlib import pyplot as plt\n",
        "#import os"
      ],
      "execution_count": null,
      "outputs": []
    },
    {
      "cell_type": "code",
      "metadata": {
        "id": "JxFCVKhAGTjc",
        "outputId": "e05ca04c-ea94-4197-d661-debcb66a30e9"
      },
      "source": [
        "#print (os.getcwd())\n",
        "#os.chdir('D:/OneDrive/ASU/2021 Spring/Applied Project/ASU_Applied_Project_2021/Data')\n",
        "#print (os.getcwd())"
      ],
      "execution_count": null,
      "outputs": [
        {
          "output_type": "stream",
          "text": [
            "C:\\Users\\Jinhang Jiang\\ASU - Adidas\n",
            "D:\\OneDrive\\ASU\\2021 Spring\\Applied Project\\ASU_Applied_Project_2021\\Data\n"
          ],
          "name": "stdout"
        }
      ]
    },
    {
      "cell_type": "code",
      "metadata": {
        "colab": {
          "base_uri": "https://localhost:8080/",
          "height": 407
        },
        "id": "RjpszL_UGTjd",
        "outputId": "3b9cd679-587b-4728-8f58-2691418a1b00"
      },
      "source": [
        "data = pd.read_csv(\"nw_kor.csv\")\n",
        "data.rename(columns = {'author':'Usernames'}, inplace = True)\n",
        "view=data.groupby(['Celebrity','Usernames']).size().reset_index(name='Freq')\n",
        "view\n",
        "col = ['Celebrity','Usernames']\n",
        "data = pd.DataFrame(view[col])\n",
        "data"
      ],
      "execution_count": null,
      "outputs": [
        {
          "output_type": "execute_result",
          "data": {
            "text/html": [
              "<div>\n",
              "<style scoped>\n",
              "    .dataframe tbody tr th:only-of-type {\n",
              "        vertical-align: middle;\n",
              "    }\n",
              "\n",
              "    .dataframe tbody tr th {\n",
              "        vertical-align: top;\n",
              "    }\n",
              "\n",
              "    .dataframe thead th {\n",
              "        text-align: right;\n",
              "    }\n",
              "</style>\n",
              "<table border=\"1\" class=\"dataframe\">\n",
              "  <thead>\n",
              "    <tr style=\"text-align: right;\">\n",
              "      <th></th>\n",
              "      <th>Celebrity</th>\n",
              "      <th>Usernames</th>\n",
              "    </tr>\n",
              "  </thead>\n",
              "  <tbody>\n",
              "    <tr>\n",
              "      <th>0</th>\n",
              "      <td>BTS</td>\n",
              "      <td>--hm--</td>\n",
              "    </tr>\n",
              "    <tr>\n",
              "      <th>1</th>\n",
              "      <td>BTS</td>\n",
              "      <td>--smesh--</td>\n",
              "    </tr>\n",
              "    <tr>\n",
              "      <th>2</th>\n",
              "      <td>BTS</td>\n",
              "      <td>-AgustD</td>\n",
              "    </tr>\n",
              "    <tr>\n",
              "      <th>3</th>\n",
              "      <td>BTS</td>\n",
              "      <td>-F0v3r-</td>\n",
              "    </tr>\n",
              "    <tr>\n",
              "      <th>4</th>\n",
              "      <td>BTS</td>\n",
              "      <td>-KARAda-</td>\n",
              "    </tr>\n",
              "    <tr>\n",
              "      <th>...</th>\n",
              "      <td>...</td>\n",
              "      <td>...</td>\n",
              "    </tr>\n",
              "    <tr>\n",
              "      <th>49269</th>\n",
              "      <td>iZone</td>\n",
              "      <td>zx35</td>\n",
              "    </tr>\n",
              "    <tr>\n",
              "      <th>49270</th>\n",
              "      <td>iZone</td>\n",
              "      <td>zxcvbnmay</td>\n",
              "    </tr>\n",
              "    <tr>\n",
              "      <th>49271</th>\n",
              "      <td>iZone</td>\n",
              "      <td>zxxnxxa</td>\n",
              "    </tr>\n",
              "    <tr>\n",
              "      <th>49272</th>\n",
              "      <td>iZone</td>\n",
              "      <td>zyndr0m</td>\n",
              "    </tr>\n",
              "    <tr>\n",
              "      <th>49273</th>\n",
              "      <td>iZone</td>\n",
              "      <td>zzziltoid</td>\n",
              "    </tr>\n",
              "  </tbody>\n",
              "</table>\n",
              "<p>49274 rows × 2 columns</p>\n",
              "</div>"
            ],
            "text/plain": [
              "      Celebrity  Usernames\n",
              "0           BTS     --hm--\n",
              "1           BTS  --smesh--\n",
              "2           BTS    -AgustD\n",
              "3           BTS    -F0v3r-\n",
              "4           BTS   -KARAda-\n",
              "...         ...        ...\n",
              "49269     iZone       zx35\n",
              "49270     iZone  zxcvbnmay\n",
              "49271     iZone    zxxnxxa\n",
              "49272     iZone    zyndr0m\n",
              "49273     iZone  zzziltoid\n",
              "\n",
              "[49274 rows x 2 columns]"
            ]
          },
          "metadata": {
            "tags": []
          },
          "execution_count": 42
        }
      ]
    },
    {
      "cell_type": "code",
      "metadata": {
        "id": "17Y01JHIw2o0"
      },
      "source": [
        "piecount = data.Celebrity.value_counts()\n",
        "piecount = pd.DataFrame(piecount)"
      ],
      "execution_count": null,
      "outputs": []
    },
    {
      "cell_type": "code",
      "metadata": {
        "colab": {
          "base_uri": "https://localhost:8080/",
          "height": 662
        },
        "id": "rrzx4GjFw3Ml",
        "outputId": "fa23b944-de49-47c9-f290-47ce53ae04fb"
      },
      "source": [
        "labels=piecount.index\n",
        "explode = []\n",
        "for k in piecount.index:\n",
        "    explode.append(0.05)\n",
        "plt.pie(piecount.values, labels=labels, explode=explode, shadow=True, autopct='%1.1f%%')\n",
        "plt.subplots_adjust(left=2, bottom=2, right=4, top=4)\n",
        "plt.show()"
      ],
      "execution_count": null,
      "outputs": [
        {
          "output_type": "stream",
          "text": [
            "/usr/local/lib/python3.7/dist-packages/ipykernel_launcher.py:5: MatplotlibDeprecationWarning: Non-1D inputs to pie() are currently squeeze()d, but this behavior is deprecated since 3.1 and will be removed in 3.3; pass a 1D array instead.\n",
            "  \"\"\"\n"
          ],
          "name": "stderr"
        },
        {
          "output_type": "display_data",
          "data": {
            "image/png": "[encoded data removed]",
            "text/plain": [
              "<Figure size 432x288 with 1 Axes>"
            ]
          },
          "metadata": {
            "tags": []
          }
        }
      ]
    },
    {
      "cell_type": "code",
      "metadata": {
        "id": "3UrEIZEUGTjf"
      },
      "source": [
        "# definie class fan_overlap\n",
        "class fan_overlap:\n",
        "    \n",
        "    # Class instantiation, col1 would be node also our target, col2 would be edge  \n",
        "    def __init__ (self, data, col1, col2):\n",
        "        self.data = data\n",
        "        self.Celebrity = data[col1]\n",
        "        self.Usernames = data[col2]\n",
        "    \n",
        "    #find the number of unique celebrities and users\n",
        "    def unique_obs(self):\n",
        "        return print(\"Number of Unique Celebrity:\",len(self.Celebrity.unique()),\"\\n\"\n",
        "                     \"Number of Users:\",len(self.Usernames),\"\\n\"\n",
        "                     \"Number of Unique Users:\",len(self.Usernames.unique()),\"\\n\"\n",
        "                     \"Unique Ratio for Users: {:.2%}\".format((len(self.Usernames.unique())/len(self.Usernames))))\n",
        "    \n",
        "    #find the frequency table. note: when col = 1, we get frequency table for col1;\n",
        "    def cel_freq(self, col):\n",
        "        if col == 1:\n",
        "            freq = self.Celebrity.value_counts()\n",
        "        else:\n",
        "            freq = self.Usernames.value_counts()\n",
        "        return freq\n",
        "    \n",
        "    #find the unique names of Celebrities\n",
        "    def get_names(self, col):\n",
        "        if col == 1:\n",
        "            names = self.Celebrity.unique()\n",
        "        else:\n",
        "            names = self.Usernames.unique()\n",
        "        return names\n",
        "    \n",
        "    #find the number of shared fans for any two celebrities\n",
        "    def overlaps2(self, cel1, cel2):\n",
        "        l = [cel1,cel2]\n",
        "        Res = pd.DataFrame(self.data.loc[self.data.iloc[:,0].isin(l)].groupby(self.data.iloc[:,1])[data.columns[0]].nunique().eq(len(l)))\n",
        "        num_of_overlaps = len(Res[Res.iloc[:,0]==True])\n",
        "        return int(num_of_overlaps)\n",
        "    \n",
        "    #find the number of shared fans for any three celebrities\n",
        "    def overlaps3(self, cel1, cel2, cel3):\n",
        "        l = [cel1,cel2, cel3]\n",
        "        Res = pd.DataFrame(self.data.loc[self.data.iloc[:,0].isin(l)].groupby(self.data.iloc[:,1])[data.columns[0]].nunique().eq(len(l)))\n",
        "        num_of_overlaps = len(Res[Res.iloc[:,0]==True])\n",
        "        return int(num_of_overlaps)\n",
        "    \n",
        "    #find the number of possible combinations of the nodes(Celebrity), r is the number of nodes in one combination\n",
        "    def nCr(self, r): \n",
        "        n = len(self.Celebrity.unique())\n",
        "        def fact(n): \n",
        "            res = 1\n",
        "            for i in range(2, n+1): \n",
        "                res = res * i \n",
        "            return res \n",
        "        return print(\"The Number of Possible Combinations is:\",int((fact(n) / (fact(r)* fact(n - r)))))\n",
        "    \n",
        "    #generate the cross table of fan base overlap\n",
        "    def crosstable(self):\n",
        "        s = pd.crosstab(self.Celebrity,self.Usernames)\n",
        "        s = s.dot(s.T)\n",
        "        out = s.mask(np.triu(np.ones(s.shape)).astype(bool)).stack()\n",
        "        return out\n",
        "    \n",
        "    #generate adjacency matrix\n",
        "    def adjacency_matrix(self):\n",
        "        #matrix = pd.crosstab(self.Usernames,self.Celebrity)\n",
        "        df_merge = self.data.merge(self.data, on='Usernames')\n",
        "        results = pd.crosstab(df_merge.Celebrity_x, df_merge.Celebrity_y)\n",
        "        np.fill_diagonal(results.values, 0)\n",
        "        network_table=results\n",
        "        return network_table\n",
        "    \n",
        "    #generate transition matrix\n",
        "    def transition_matrix(self):\n",
        "        matrix = pd.crosstab(self.Usernames,self.Celebrity)\n",
        "        cel_matrix = np.asmatrix(matrix)\n",
        "        cel_matrix_transpose = cel_matrix.transpose()\n",
        "        final_matrix = cel_matrix_transpose.dot(cel_matrix)\n",
        "        transition = final_matrix/final_matrix.sum(axis=0)\n",
        "        transitionMatrix = transition.T\n",
        "        TM = pd.DataFrame(transitionMatrix)\n",
        "        TM.columns = matrix.columns\n",
        "        TM.index = matrix.columns\n",
        "        return TM\n",
        "    \n",
        "    #generate MCL convergence, get the steady state. The default iteration_count = 20\n",
        "    def convergence(self):\n",
        "        #create transition matrix\n",
        "        matrix = self.crosstable()\n",
        "        \n",
        "        p_transition = self.transition_matrix()\n",
        "        n_states = p_transition.shape[0]\n",
        "        A = np.append(\n",
        "            arr=p_transition.T - np.eye(n_states),\n",
        "            values=np.ones(n_states).reshape(1, -1),\n",
        "            axis=0\n",
        "        )\n",
        "        \n",
        "        # Moore-Penrose pseudoinverse = (A^TA)^{-1}A^T\n",
        "        pinv = np.linalg.pinv(A)\n",
        "        pinv1 = pinv.T[-1]\n",
        "        #create dictionary for the final results\n",
        "        test_values= pinv1.tolist()\n",
        "        test_keys = self.get_names(1)\n",
        "        convergence_dict = {test_keys[i]: test_values[i] for i in range(len(test_keys))}\n",
        "        return {key : round(convergence_dict[key], 6) for key in convergence_dict} \n",
        "    \n",
        "    #generate minkowksi distance, r = 1 manhattan, r = 2 euclidean. Default = 2\n",
        "    def cos_sim(self, x, y):\n",
        "        neww=pd.crosstab(self.Celebrity,self.Usernames)\n",
        "        a = neww.loc[x]\n",
        "        b = neww.loc[y]\n",
        "        dist = (a @ b.T) / (norm(a)*norm(b))\n",
        "        return dist\n",
        "    \n",
        "    #generate a list of most dissimilar celebrities, default is 3\n",
        "    def best_complete(self,cel,n = 3):\n",
        "        cel = cel\n",
        "        CelebrityDistances = []\n",
        "        for i in model.get_names(1):\n",
        "            if i != cel:\n",
        "                temp = (i,model.cos_sim(cel,i))\n",
        "                CelebrityDistances.append(tuple(temp))\n",
        "        def Sort_list_tuples(tup):  \n",
        "            return(sorted(tup, key = lambda x: x[1]))  \n",
        "        CelebritySortedDistances = []\n",
        "        CelebritySortedDistances = Sort_list_tuples(CelebrityDistances)\n",
        "        CelebrityXNN = \"\"\n",
        "        tuple_list = sorted(CelebrityDistances, key=lambda t: t[1], reverse=False)[:n]\n",
        "        CelebrityXNN = [a_tuple[0] for a_tuple in tuple_list]\n",
        "        return CelebrityXNN\n",
        "    \n",
        "    #generate a list of the most similar celebrities for target,the default is 3\n",
        "    def best_sub(self,cel,n=3):\n",
        "        cel = cel\n",
        "        CelebrityDistances = []\n",
        "        for i in model.get_names(1):\n",
        "            if i != cel:\n",
        "                temp = (i,model.cos_sim(cel,i))\n",
        "                CelebrityDistances.append(tuple(temp))\n",
        "        def Sort_list_tuples(tup):  \n",
        "            return(sorted(tup, key = lambda x: x[1])) \n",
        "        CelebritySortedDistances = []\n",
        "        CelebritySortedDistances = Sort_list_tuples(CelebrityDistances)\n",
        "        CelebrityXNN = \"\"\n",
        "        tuple_list = sorted(CelebrityDistances, key=lambda t: t[1], reverse=True)[:n]\n",
        "        CelebrityXNN = [a_tuple[0] for a_tuple in tuple_list]\n",
        "        return CelebrityXNN"
      ],
      "execution_count": null,
      "outputs": []
    },
    {
      "cell_type": "code",
      "metadata": {
        "id": "jhjs--dEHhNZ"
      },
      "source": [
        "model = fan_overlap(data,\"Celebrity\",\"Usernames\")"
      ],
      "execution_count": null,
      "outputs": []
    },
    {
      "cell_type": "code",
      "metadata": {
        "colab": {
          "base_uri": "https://localhost:8080/"
        },
        "id": "3Tvj99PTGTjg",
        "outputId": "83b1cc61-910f-4624-e7db-c20dc561c6fa"
      },
      "source": [
        "model.cel_freq(1)"
      ],
      "execution_count": null,
      "outputs": [
        {
          "output_type": "execute_result",
          "data": {
            "text/plain": [
              "Solar        11827\n",
              "iZone         7969\n",
              "BlackPink     7795\n",
              "BTS           4931\n",
              "GFriend       4610\n",
              "NCT           4058\n",
              "Naeun Son     3751\n",
              "Seolhyun      3038\n",
              "Miyeon         713\n",
              "Sana           582\n",
              "Name: Celebrity, dtype: int64"
            ]
          },
          "metadata": {
            "tags": []
          },
          "execution_count": 46
        }
      ]
    },
    {
      "cell_type": "code",
      "metadata": {
        "colab": {
          "base_uri": "https://localhost:8080/"
        },
        "id": "PFyw0-GxGTji",
        "outputId": "723f5975-1f0f-463e-ce7a-f7364636362d"
      },
      "source": [
        "model.get_names(1)"
      ],
      "execution_count": null,
      "outputs": [
        {
          "output_type": "execute_result",
          "data": {
            "text/plain": [
              "array(['BTS', 'BlackPink', 'GFriend', 'Miyeon', 'NCT', 'Naeun Son',\n",
              "       'Sana', 'Seolhyun', 'Solar', 'iZone'], dtype=object)"
            ]
          },
          "metadata": {
            "tags": []
          },
          "execution_count": 47
        }
      ]
    },
    {
      "cell_type": "code",
      "metadata": {
        "colab": {
          "base_uri": "https://localhost:8080/"
        },
        "id": "BFOZ_rs9GTjj",
        "outputId": "cf8d1d06-d9a7-4e4d-a929-869fda7a93de"
      },
      "source": [
        "print(model.overlaps2('Seolhyun','Naeun Son'))\n",
        "print(model.overlaps2('Miyeon','Naeun Son'))"
      ],
      "execution_count": null,
      "outputs": [
        {
          "output_type": "stream",
          "text": [
            "822\n",
            "161\n"
          ],
          "name": "stdout"
        }
      ]
    },
    {
      "cell_type": "code",
      "metadata": {
        "colab": {
          "base_uri": "https://localhost:8080/"
        },
        "id": "3hGE3qQVGTjj",
        "outputId": "a427e48d-366a-4a79-e029-0926c688260d"
      },
      "source": [
        "print(model.overlaps3('Naeun Son','BlackPink',\"Beyonce\"))\n",
        "print(model.overlaps3('Naeun Son','Beyonce',\"Ninjas Hpyer\"))"
      ],
      "execution_count": null,
      "outputs": [
        {
          "output_type": "stream",
          "text": [
            "4\n",
            "0\n"
          ],
          "name": "stdout"
        }
      ]
    },
    {
      "cell_type": "code",
      "metadata": {
        "colab": {
          "base_uri": "https://localhost:8080/"
        },
        "id": "9SuzcMmgGTjk",
        "outputId": "6672f615-705f-4716-f044-c47156538ed8"
      },
      "source": [
        "model.crosstable()"
      ],
      "execution_count": null,
      "outputs": [
        {
          "output_type": "execute_result",
          "data": {
            "text/plain": [
              "Celebrity  Celebrity\n",
              "BlackPink  BTS           689.0\n",
              "GFriend    BTS           682.0\n",
              "           BlackPink     924.0\n",
              "Miyeon     BTS            59.0\n",
              "           BlackPink     137.0\n",
              "           GFriend       139.0\n",
              "NCT        BTS           412.0\n",
              "           BlackPink     687.0\n",
              "           GFriend       521.0\n",
              "           Miyeon          0.0\n",
              "Naeun Son  BTS           448.0\n",
              "           BlackPink     640.0\n",
              "           GFriend       780.0\n",
              "           Miyeon        161.0\n",
              "           NCT           402.0\n",
              "Sana       BTS             8.0\n",
              "           BlackPink      52.0\n",
              "           GFriend        26.0\n",
              "           Miyeon         11.0\n",
              "           NCT             0.0\n",
              "           Naeun Son      10.0\n",
              "Seolhyun   BTS           380.0\n",
              "           BlackPink     414.0\n",
              "           GFriend       877.0\n",
              "           Miyeon        106.0\n",
              "           NCT           371.0\n",
              "           Naeun Son     822.0\n",
              "           Sana           10.0\n",
              "Solar      BTS           602.0\n",
              "           BlackPink     674.0\n",
              "           GFriend      1196.0\n",
              "           Miyeon        155.0\n",
              "           NCT           703.0\n",
              "           Naeun Son     938.0\n",
              "           Sana           18.0\n",
              "           Seolhyun     1437.0\n",
              "iZone      BTS           431.0\n",
              "           BlackPink     646.0\n",
              "           GFriend      1403.0\n",
              "           Miyeon        222.0\n",
              "           NCT           625.0\n",
              "           Naeun Son     950.0\n",
              "           Sana           12.0\n",
              "           Seolhyun     1140.0\n",
              "           Solar        3414.0\n",
              "dtype: float64"
            ]
          },
          "metadata": {
            "tags": []
          },
          "execution_count": 50
        }
      ]
    },
    {
      "cell_type": "code",
      "metadata": {
        "colab": {
          "base_uri": "https://localhost:8080/"
        },
        "id": "WLcVLy6BGTjk",
        "outputId": "45bb2515-1ebb-4632-fcf9-dee571b8d6bc"
      },
      "source": [
        "model.nCr(2)"
      ],
      "execution_count": null,
      "outputs": [
        {
          "output_type": "stream",
          "text": [
            "The Number of Possible Combinations is: 45\n"
          ],
          "name": "stdout"
        }
      ]
    },
    {
      "cell_type": "code",
      "metadata": {
        "colab": {
          "base_uri": "https://localhost:8080/",
          "height": 585
        },
        "id": "TlrVhlDpGTjk",
        "outputId": "a6f46a2d-b894-4381-cc51-3320c90f3b5f"
      },
      "source": [
        "model.adjacency_matrix()"
      ],
      "execution_count": null,
      "outputs": [
        {
          "output_type": "execute_result",
          "data": {
            "text/html": [
              "<div>\n",
              "<style scoped>\n",
              "    .dataframe tbody tr th:only-of-type {\n",
              "        vertical-align: middle;\n",
              "    }\n",
              "\n",
              "    .dataframe tbody tr th {\n",
              "        vertical-align: top;\n",
              "    }\n",
              "\n",
              "    .dataframe thead th {\n",
              "        text-align: right;\n",
              "    }\n",
              "</style>\n",
              "<table border=\"1\" class=\"dataframe\">\n",
              "  <thead>\n",
              "    <tr style=\"text-align: right;\">\n",
              "      <th>Celebrity_y</th>\n",
              "      <th>Adriene Mishlder</th>\n",
              "      <th>Ally Love</th>\n",
              "      <th>Bad Bunny</th>\n",
              "      <th>Beyonce</th>\n",
              "      <th>BlackPink</th>\n",
              "      <th>Chinae Alexander</th>\n",
              "      <th>Jerry Lorenzo</th>\n",
              "      <th>Karlie Kloss</th>\n",
              "      <th>Kerwin Frost</th>\n",
              "      <th>Naeun Son</th>\n",
              "      <th>Ninjas Hyper</th>\n",
              "      <th>Pharrell Williams</th>\n",
              "      <th>Yara Shahidi</th>\n",
              "      <th>Zoe Saldana</th>\n",
              "    </tr>\n",
              "    <tr>\n",
              "      <th>Celebrity_x</th>\n",
              "      <th></th>\n",
              "      <th></th>\n",
              "      <th></th>\n",
              "      <th></th>\n",
              "      <th></th>\n",
              "      <th></th>\n",
              "      <th></th>\n",
              "      <th></th>\n",
              "      <th></th>\n",
              "      <th></th>\n",
              "      <th></th>\n",
              "      <th></th>\n",
              "      <th></th>\n",
              "      <th></th>\n",
              "    </tr>\n",
              "  </thead>\n",
              "  <tbody>\n",
              "    <tr>\n",
              "      <th>Adriene Mishlder</th>\n",
              "      <td>0</td>\n",
              "      <td>3</td>\n",
              "      <td>0</td>\n",
              "      <td>0</td>\n",
              "      <td>2</td>\n",
              "      <td>3</td>\n",
              "      <td>3</td>\n",
              "      <td>3</td>\n",
              "      <td>0</td>\n",
              "      <td>2</td>\n",
              "      <td>0</td>\n",
              "      <td>2</td>\n",
              "      <td>4</td>\n",
              "      <td>2</td>\n",
              "    </tr>\n",
              "    <tr>\n",
              "      <th>Ally Love</th>\n",
              "      <td>3</td>\n",
              "      <td>0</td>\n",
              "      <td>41</td>\n",
              "      <td>26</td>\n",
              "      <td>23</td>\n",
              "      <td>21</td>\n",
              "      <td>6</td>\n",
              "      <td>11</td>\n",
              "      <td>4</td>\n",
              "      <td>9</td>\n",
              "      <td>10</td>\n",
              "      <td>7</td>\n",
              "      <td>20</td>\n",
              "      <td>16</td>\n",
              "    </tr>\n",
              "    <tr>\n",
              "      <th>Bad Bunny</th>\n",
              "      <td>0</td>\n",
              "      <td>41</td>\n",
              "      <td>0</td>\n",
              "      <td>155</td>\n",
              "      <td>250</td>\n",
              "      <td>63</td>\n",
              "      <td>53</td>\n",
              "      <td>63</td>\n",
              "      <td>70</td>\n",
              "      <td>39</td>\n",
              "      <td>48</td>\n",
              "      <td>134</td>\n",
              "      <td>97</td>\n",
              "      <td>171</td>\n",
              "    </tr>\n",
              "    <tr>\n",
              "      <th>Beyonce</th>\n",
              "      <td>0</td>\n",
              "      <td>26</td>\n",
              "      <td>155</td>\n",
              "      <td>0</td>\n",
              "      <td>74</td>\n",
              "      <td>20</td>\n",
              "      <td>2</td>\n",
              "      <td>53</td>\n",
              "      <td>6</td>\n",
              "      <td>11</td>\n",
              "      <td>10</td>\n",
              "      <td>41</td>\n",
              "      <td>30</td>\n",
              "      <td>71</td>\n",
              "    </tr>\n",
              "    <tr>\n",
              "      <th>BlackPink</th>\n",
              "      <td>2</td>\n",
              "      <td>23</td>\n",
              "      <td>250</td>\n",
              "      <td>74</td>\n",
              "      <td>0</td>\n",
              "      <td>35</td>\n",
              "      <td>8</td>\n",
              "      <td>22</td>\n",
              "      <td>7</td>\n",
              "      <td>640</td>\n",
              "      <td>18</td>\n",
              "      <td>22</td>\n",
              "      <td>33</td>\n",
              "      <td>44</td>\n",
              "    </tr>\n",
              "    <tr>\n",
              "      <th>Chinae Alexander</th>\n",
              "      <td>3</td>\n",
              "      <td>21</td>\n",
              "      <td>63</td>\n",
              "      <td>20</td>\n",
              "      <td>35</td>\n",
              "      <td>0</td>\n",
              "      <td>48</td>\n",
              "      <td>24</td>\n",
              "      <td>6</td>\n",
              "      <td>16</td>\n",
              "      <td>16</td>\n",
              "      <td>9</td>\n",
              "      <td>29</td>\n",
              "      <td>74</td>\n",
              "    </tr>\n",
              "    <tr>\n",
              "      <th>Jerry Lorenzo</th>\n",
              "      <td>3</td>\n",
              "      <td>6</td>\n",
              "      <td>53</td>\n",
              "      <td>2</td>\n",
              "      <td>8</td>\n",
              "      <td>48</td>\n",
              "      <td>0</td>\n",
              "      <td>7</td>\n",
              "      <td>30</td>\n",
              "      <td>9</td>\n",
              "      <td>10</td>\n",
              "      <td>24</td>\n",
              "      <td>9</td>\n",
              "      <td>33</td>\n",
              "    </tr>\n",
              "    <tr>\n",
              "      <th>Karlie Kloss</th>\n",
              "      <td>3</td>\n",
              "      <td>11</td>\n",
              "      <td>63</td>\n",
              "      <td>53</td>\n",
              "      <td>22</td>\n",
              "      <td>24</td>\n",
              "      <td>7</td>\n",
              "      <td>0</td>\n",
              "      <td>2</td>\n",
              "      <td>6</td>\n",
              "      <td>5</td>\n",
              "      <td>17</td>\n",
              "      <td>29</td>\n",
              "      <td>90</td>\n",
              "    </tr>\n",
              "    <tr>\n",
              "      <th>Kerwin Frost</th>\n",
              "      <td>0</td>\n",
              "      <td>4</td>\n",
              "      <td>70</td>\n",
              "      <td>6</td>\n",
              "      <td>7</td>\n",
              "      <td>6</td>\n",
              "      <td>30</td>\n",
              "      <td>2</td>\n",
              "      <td>0</td>\n",
              "      <td>3</td>\n",
              "      <td>4</td>\n",
              "      <td>46</td>\n",
              "      <td>4</td>\n",
              "      <td>6</td>\n",
              "    </tr>\n",
              "    <tr>\n",
              "      <th>Naeun Son</th>\n",
              "      <td>2</td>\n",
              "      <td>9</td>\n",
              "      <td>39</td>\n",
              "      <td>11</td>\n",
              "      <td>640</td>\n",
              "      <td>16</td>\n",
              "      <td>9</td>\n",
              "      <td>6</td>\n",
              "      <td>3</td>\n",
              "      <td>0</td>\n",
              "      <td>8</td>\n",
              "      <td>5</td>\n",
              "      <td>11</td>\n",
              "      <td>9</td>\n",
              "    </tr>\n",
              "    <tr>\n",
              "      <th>Ninjas Hyper</th>\n",
              "      <td>0</td>\n",
              "      <td>10</td>\n",
              "      <td>48</td>\n",
              "      <td>10</td>\n",
              "      <td>18</td>\n",
              "      <td>16</td>\n",
              "      <td>10</td>\n",
              "      <td>5</td>\n",
              "      <td>4</td>\n",
              "      <td>8</td>\n",
              "      <td>0</td>\n",
              "      <td>5</td>\n",
              "      <td>4</td>\n",
              "      <td>23</td>\n",
              "    </tr>\n",
              "    <tr>\n",
              "      <th>Pharrell Williams</th>\n",
              "      <td>2</td>\n",
              "      <td>7</td>\n",
              "      <td>134</td>\n",
              "      <td>41</td>\n",
              "      <td>22</td>\n",
              "      <td>9</td>\n",
              "      <td>24</td>\n",
              "      <td>17</td>\n",
              "      <td>46</td>\n",
              "      <td>5</td>\n",
              "      <td>5</td>\n",
              "      <td>0</td>\n",
              "      <td>24</td>\n",
              "      <td>24</td>\n",
              "    </tr>\n",
              "    <tr>\n",
              "      <th>Yara Shahidi</th>\n",
              "      <td>4</td>\n",
              "      <td>20</td>\n",
              "      <td>97</td>\n",
              "      <td>30</td>\n",
              "      <td>33</td>\n",
              "      <td>29</td>\n",
              "      <td>9</td>\n",
              "      <td>29</td>\n",
              "      <td>4</td>\n",
              "      <td>11</td>\n",
              "      <td>4</td>\n",
              "      <td>24</td>\n",
              "      <td>0</td>\n",
              "      <td>82</td>\n",
              "    </tr>\n",
              "    <tr>\n",
              "      <th>Zoe Saldana</th>\n",
              "      <td>2</td>\n",
              "      <td>16</td>\n",
              "      <td>171</td>\n",
              "      <td>71</td>\n",
              "      <td>44</td>\n",
              "      <td>74</td>\n",
              "      <td>33</td>\n",
              "      <td>90</td>\n",
              "      <td>6</td>\n",
              "      <td>9</td>\n",
              "      <td>23</td>\n",
              "      <td>24</td>\n",
              "      <td>82</td>\n",
              "      <td>0</td>\n",
              "    </tr>\n",
              "  </tbody>\n",
              "</table>\n",
              "</div>"
            ],
            "text/plain": [
              "Celebrity_y        Adriene Mishlder  Ally Love  ...  Yara Shahidi  Zoe Saldana\n",
              "Celebrity_x                                     ...                           \n",
              "Adriene Mishlder                  0          3  ...             4            2\n",
              "Ally Love                         3          0  ...            20           16\n",
              "Bad Bunny                         0         41  ...            97          171\n",
              "Beyonce                           0         26  ...            30           71\n",
              "BlackPink                         2         23  ...            33           44\n",
              "Chinae Alexander                  3         21  ...            29           74\n",
              "Jerry Lorenzo                     3          6  ...             9           33\n",
              "Karlie Kloss                      3         11  ...            29           90\n",
              "Kerwin Frost                      0          4  ...             4            6\n",
              "Naeun Son                         2          9  ...            11            9\n",
              "Ninjas Hyper                      0         10  ...             4           23\n",
              "Pharrell Williams                 2          7  ...            24           24\n",
              "Yara Shahidi                      4         20  ...             0           82\n",
              "Zoe Saldana                       2         16  ...            82            0\n",
              "\n",
              "[14 rows x 14 columns]"
            ]
          },
          "metadata": {
            "tags": []
          },
          "execution_count": 12
        }
      ]
    },
    {
      "cell_type": "code",
      "metadata": {
        "colab": {
          "base_uri": "https://localhost:8080/",
          "height": 585
        },
        "id": "qiPSS5V2GTjl",
        "outputId": "3c20514f-1574-427a-e478-8b23d36a3770"
      },
      "source": [
        "model.transition_matrix()\n",
        "#model.transition_matrix()"
      ],
      "execution_count": null,
      "outputs": [
        {
          "output_type": "execute_result",
          "data": {
            "text/html": [
              "<div>\n",
              "<style scoped>\n",
              "    .dataframe tbody tr th:only-of-type {\n",
              "        vertical-align: middle;\n",
              "    }\n",
              "\n",
              "    .dataframe tbody tr th {\n",
              "        vertical-align: top;\n",
              "    }\n",
              "\n",
              "    .dataframe thead th {\n",
              "        text-align: right;\n",
              "    }\n",
              "</style>\n",
              "<table border=\"1\" class=\"dataframe\">\n",
              "  <thead>\n",
              "    <tr style=\"text-align: right;\">\n",
              "      <th>Celebrity</th>\n",
              "      <th>Adriene Mishlder</th>\n",
              "      <th>Ally Love</th>\n",
              "      <th>Bad Bunny</th>\n",
              "      <th>Beyonce</th>\n",
              "      <th>BlackPink</th>\n",
              "      <th>Chinae Alexander</th>\n",
              "      <th>Jerry Lorenzo</th>\n",
              "      <th>Karlie Kloss</th>\n",
              "      <th>Kerwin Frost</th>\n",
              "      <th>Naeun Son</th>\n",
              "      <th>Ninjas Hyper</th>\n",
              "      <th>Pharrell Williams</th>\n",
              "      <th>Yara Shahidi</th>\n",
              "      <th>Zoe Saldana</th>\n",
              "    </tr>\n",
              "    <tr>\n",
              "      <th>Celebrity</th>\n",
              "      <th></th>\n",
              "      <th></th>\n",
              "      <th></th>\n",
              "      <th></th>\n",
              "      <th></th>\n",
              "      <th></th>\n",
              "      <th></th>\n",
              "      <th></th>\n",
              "      <th></th>\n",
              "      <th></th>\n",
              "      <th></th>\n",
              "      <th></th>\n",
              "      <th></th>\n",
              "      <th></th>\n",
              "    </tr>\n",
              "  </thead>\n",
              "  <tbody>\n",
              "    <tr>\n",
              "      <th>Adriene Mishlder</th>\n",
              "      <td>0.724138</td>\n",
              "      <td>0.034483</td>\n",
              "      <td>0.000000</td>\n",
              "      <td>0.000000</td>\n",
              "      <td>0.022989</td>\n",
              "      <td>0.034483</td>\n",
              "      <td>0.034483</td>\n",
              "      <td>0.034483</td>\n",
              "      <td>0.000000</td>\n",
              "      <td>0.022989</td>\n",
              "      <td>0.000000</td>\n",
              "      <td>0.022989</td>\n",
              "      <td>0.045977</td>\n",
              "      <td>0.022989</td>\n",
              "    </tr>\n",
              "    <tr>\n",
              "      <th>Ally Love</th>\n",
              "      <td>0.000692</td>\n",
              "      <td>0.954566</td>\n",
              "      <td>0.009456</td>\n",
              "      <td>0.005996</td>\n",
              "      <td>0.005304</td>\n",
              "      <td>0.004843</td>\n",
              "      <td>0.001384</td>\n",
              "      <td>0.002537</td>\n",
              "      <td>0.000923</td>\n",
              "      <td>0.002076</td>\n",
              "      <td>0.002306</td>\n",
              "      <td>0.001614</td>\n",
              "      <td>0.004613</td>\n",
              "      <td>0.003690</td>\n",
              "    </tr>\n",
              "    <tr>\n",
              "      <th>Bad Bunny</th>\n",
              "      <td>0.000000</td>\n",
              "      <td>0.002333</td>\n",
              "      <td>0.932620</td>\n",
              "      <td>0.008821</td>\n",
              "      <td>0.014227</td>\n",
              "      <td>0.003585</td>\n",
              "      <td>0.003016</td>\n",
              "      <td>0.003585</td>\n",
              "      <td>0.003984</td>\n",
              "      <td>0.002219</td>\n",
              "      <td>0.002732</td>\n",
              "      <td>0.007626</td>\n",
              "      <td>0.005520</td>\n",
              "      <td>0.009731</td>\n",
              "    </tr>\n",
              "    <tr>\n",
              "      <th>Beyonce</th>\n",
              "      <td>0.000000</td>\n",
              "      <td>0.004626</td>\n",
              "      <td>0.027580</td>\n",
              "      <td>0.911210</td>\n",
              "      <td>0.013167</td>\n",
              "      <td>0.003559</td>\n",
              "      <td>0.000356</td>\n",
              "      <td>0.009431</td>\n",
              "      <td>0.001068</td>\n",
              "      <td>0.001957</td>\n",
              "      <td>0.001779</td>\n",
              "      <td>0.007295</td>\n",
              "      <td>0.005338</td>\n",
              "      <td>0.012633</td>\n",
              "    </tr>\n",
              "    <tr>\n",
              "      <th>BlackPink</th>\n",
              "      <td>0.000223</td>\n",
              "      <td>0.002563</td>\n",
              "      <td>0.027861</td>\n",
              "      <td>0.008247</td>\n",
              "      <td>0.868717</td>\n",
              "      <td>0.003901</td>\n",
              "      <td>0.000892</td>\n",
              "      <td>0.002452</td>\n",
              "      <td>0.000780</td>\n",
              "      <td>0.071325</td>\n",
              "      <td>0.002006</td>\n",
              "      <td>0.002452</td>\n",
              "      <td>0.003678</td>\n",
              "      <td>0.004904</td>\n",
              "    </tr>\n",
              "    <tr>\n",
              "      <th>Chinae Alexander</th>\n",
              "      <td>0.000453</td>\n",
              "      <td>0.003169</td>\n",
              "      <td>0.009508</td>\n",
              "      <td>0.003018</td>\n",
              "      <td>0.005282</td>\n",
              "      <td>0.945065</td>\n",
              "      <td>0.007244</td>\n",
              "      <td>0.003622</td>\n",
              "      <td>0.000906</td>\n",
              "      <td>0.002415</td>\n",
              "      <td>0.002415</td>\n",
              "      <td>0.001358</td>\n",
              "      <td>0.004377</td>\n",
              "      <td>0.011168</td>\n",
              "    </tr>\n",
              "    <tr>\n",
              "      <th>Jerry Lorenzo</th>\n",
              "      <td>0.000966</td>\n",
              "      <td>0.001931</td>\n",
              "      <td>0.017058</td>\n",
              "      <td>0.000644</td>\n",
              "      <td>0.002575</td>\n",
              "      <td>0.015449</td>\n",
              "      <td>0.922111</td>\n",
              "      <td>0.002253</td>\n",
              "      <td>0.009656</td>\n",
              "      <td>0.002897</td>\n",
              "      <td>0.003219</td>\n",
              "      <td>0.007724</td>\n",
              "      <td>0.002897</td>\n",
              "      <td>0.010621</td>\n",
              "    </tr>\n",
              "    <tr>\n",
              "      <th>Karlie Kloss</th>\n",
              "      <td>0.001090</td>\n",
              "      <td>0.003997</td>\n",
              "      <td>0.022892</td>\n",
              "      <td>0.019259</td>\n",
              "      <td>0.007994</td>\n",
              "      <td>0.008721</td>\n",
              "      <td>0.002544</td>\n",
              "      <td>0.879360</td>\n",
              "      <td>0.000727</td>\n",
              "      <td>0.002180</td>\n",
              "      <td>0.001817</td>\n",
              "      <td>0.006177</td>\n",
              "      <td>0.010538</td>\n",
              "      <td>0.032703</td>\n",
              "    </tr>\n",
              "    <tr>\n",
              "      <th>Kerwin Frost</th>\n",
              "      <td>0.000000</td>\n",
              "      <td>0.002011</td>\n",
              "      <td>0.035194</td>\n",
              "      <td>0.003017</td>\n",
              "      <td>0.003519</td>\n",
              "      <td>0.003017</td>\n",
              "      <td>0.015083</td>\n",
              "      <td>0.001006</td>\n",
              "      <td>0.905480</td>\n",
              "      <td>0.001508</td>\n",
              "      <td>0.002011</td>\n",
              "      <td>0.023127</td>\n",
              "      <td>0.002011</td>\n",
              "      <td>0.003017</td>\n",
              "    </tr>\n",
              "    <tr>\n",
              "      <th>Naeun Son</th>\n",
              "      <td>0.000443</td>\n",
              "      <td>0.001992</td>\n",
              "      <td>0.008630</td>\n",
              "      <td>0.002434</td>\n",
              "      <td>0.141624</td>\n",
              "      <td>0.003541</td>\n",
              "      <td>0.001992</td>\n",
              "      <td>0.001328</td>\n",
              "      <td>0.000664</td>\n",
              "      <td>0.830051</td>\n",
              "      <td>0.001770</td>\n",
              "      <td>0.001106</td>\n",
              "      <td>0.002434</td>\n",
              "      <td>0.001992</td>\n",
              "    </tr>\n",
              "    <tr>\n",
              "      <th>Ninjas Hyper</th>\n",
              "      <td>0.000000</td>\n",
              "      <td>0.002693</td>\n",
              "      <td>0.012924</td>\n",
              "      <td>0.002693</td>\n",
              "      <td>0.004847</td>\n",
              "      <td>0.004308</td>\n",
              "      <td>0.002693</td>\n",
              "      <td>0.001346</td>\n",
              "      <td>0.001077</td>\n",
              "      <td>0.002154</td>\n",
              "      <td>0.956651</td>\n",
              "      <td>0.001346</td>\n",
              "      <td>0.001077</td>\n",
              "      <td>0.006193</td>\n",
              "    </tr>\n",
              "    <tr>\n",
              "      <th>Pharrell Williams</th>\n",
              "      <td>0.001224</td>\n",
              "      <td>0.004284</td>\n",
              "      <td>0.082007</td>\n",
              "      <td>0.025092</td>\n",
              "      <td>0.013464</td>\n",
              "      <td>0.005508</td>\n",
              "      <td>0.014688</td>\n",
              "      <td>0.010404</td>\n",
              "      <td>0.028152</td>\n",
              "      <td>0.003060</td>\n",
              "      <td>0.003060</td>\n",
              "      <td>0.779682</td>\n",
              "      <td>0.014688</td>\n",
              "      <td>0.014688</td>\n",
              "    </tr>\n",
              "    <tr>\n",
              "      <th>Yara Shahidi</th>\n",
              "      <td>0.002350</td>\n",
              "      <td>0.011751</td>\n",
              "      <td>0.056992</td>\n",
              "      <td>0.017626</td>\n",
              "      <td>0.019389</td>\n",
              "      <td>0.017039</td>\n",
              "      <td>0.005288</td>\n",
              "      <td>0.017039</td>\n",
              "      <td>0.002350</td>\n",
              "      <td>0.006463</td>\n",
              "      <td>0.002350</td>\n",
              "      <td>0.014101</td>\n",
              "      <td>0.779083</td>\n",
              "      <td>0.048179</td>\n",
              "    </tr>\n",
              "    <tr>\n",
              "      <th>Zoe Saldana</th>\n",
              "      <td>0.000304</td>\n",
              "      <td>0.002433</td>\n",
              "      <td>0.026008</td>\n",
              "      <td>0.010798</td>\n",
              "      <td>0.006692</td>\n",
              "      <td>0.011255</td>\n",
              "      <td>0.005019</td>\n",
              "      <td>0.013688</td>\n",
              "      <td>0.000913</td>\n",
              "      <td>0.001369</td>\n",
              "      <td>0.003498</td>\n",
              "      <td>0.003650</td>\n",
              "      <td>0.012471</td>\n",
              "      <td>0.901901</td>\n",
              "    </tr>\n",
              "  </tbody>\n",
              "</table>\n",
              "</div>"
            ],
            "text/plain": [
              "Celebrity          Adriene Mishlder  Ally Love  ...  Yara Shahidi  Zoe Saldana\n",
              "Celebrity                                       ...                           \n",
              "Adriene Mishlder           0.724138   0.034483  ...      0.045977     0.022989\n",
              "Ally Love                  0.000692   0.954566  ...      0.004613     0.003690\n",
              "Bad Bunny                  0.000000   0.002333  ...      0.005520     0.009731\n",
              "Beyonce                    0.000000   0.004626  ...      0.005338     0.012633\n",
              "BlackPink                  0.000223   0.002563  ...      0.003678     0.004904\n",
              "Chinae Alexander           0.000453   0.003169  ...      0.004377     0.011168\n",
              "Jerry Lorenzo              0.000966   0.001931  ...      0.002897     0.010621\n",
              "Karlie Kloss               0.001090   0.003997  ...      0.010538     0.032703\n",
              "Kerwin Frost               0.000000   0.002011  ...      0.002011     0.003017\n",
              "Naeun Son                  0.000443   0.001992  ...      0.002434     0.001992\n",
              "Ninjas Hyper               0.000000   0.002693  ...      0.001077     0.006193\n",
              "Pharrell Williams          0.001224   0.004284  ...      0.014688     0.014688\n",
              "Yara Shahidi               0.002350   0.011751  ...      0.779083     0.048179\n",
              "Zoe Saldana                0.000304   0.002433  ...      0.012471     0.901901\n",
              "\n",
              "[14 rows x 14 columns]"
            ]
          },
          "metadata": {
            "tags": []
          },
          "execution_count": 13
        }
      ]
    },
    {
      "cell_type": "code",
      "metadata": {
        "colab": {
          "base_uri": "https://localhost:8080/"
        },
        "id": "_plGx31EGTjl",
        "outputId": "91b72898-e0a8-42a3-d978-b139a9fe15e5"
      },
      "source": [
        "model.convergence()"
      ],
      "execution_count": null,
      "outputs": [
        {
          "output_type": "execute_result",
          "data": {
            "text/plain": [
              "{'Adriene Mishlder': 0.001257,\n",
              " 'Ally Love': 0.062654,\n",
              " 'Bad Bunny': 0.253909,\n",
              " 'Beyonce': 0.081207,\n",
              " 'BlackPink': 0.129656,\n",
              " 'Chinae Alexander': 0.095743,\n",
              " 'Jerry Lorenzo': 0.044895,\n",
              " 'Karlie Kloss': 0.039765,\n",
              " 'Kerwin Frost': 0.02874,\n",
              " 'Naeun Son': 0.065298,\n",
              " 'Ninjas Hyper': 0.053666,\n",
              " 'Pharrell Williams': 0.023611,\n",
              " 'Yara Shahidi': 0.024593,\n",
              " 'Zoe Saldana': 0.095006}"
            ]
          },
          "metadata": {
            "tags": []
          },
          "execution_count": 14
        }
      ]
    },
    {
      "cell_type": "code",
      "metadata": {
        "colab": {
          "base_uri": "https://localhost:8080/"
        },
        "id": "N0z16qPoGTjl",
        "outputId": "59084a80-a79f-46ff-c1fc-fd22c52f53f3"
      },
      "source": [
        "%%time\n",
        "model.best_sub(\"Naeun Son\",n=5)"
      ],
      "execution_count": null,
      "outputs": [
        {
          "output_type": "stream",
          "text": [
            "CPU times: user 1min 20s, sys: 6.34 s, total: 1min 26s\n",
            "Wall time: 1min 17s\n"
          ],
          "name": "stdout"
        },
        {
          "output_type": "execute_result",
          "data": {
            "text/plain": [
              "['Seolhyun', 'GFriend', 'iZone', 'Solar', 'BlackPink']"
            ]
          },
          "metadata": {
            "tags": []
          },
          "execution_count": 52
        }
      ]
    },
    {
      "cell_type": "code",
      "metadata": {
        "colab": {
          "base_uri": "https://localhost:8080/"
        },
        "id": "q-iOilljGTjm",
        "outputId": "d9a5bd6c-1de1-4c8d-c3f9-09a3d8b87e41"
      },
      "source": [
        "%%time\n",
        "model.best_complete(\"Naeun Son\",n=3) #most dissimilar"
      ],
      "execution_count": null,
      "outputs": [
        {
          "output_type": "stream",
          "text": [
            "CPU times: user 1min 20s, sys: 6.69 s, total: 1min 27s\n",
            "Wall time: 1min 18s\n"
          ],
          "name": "stdout"
        },
        {
          "output_type": "execute_result",
          "data": {
            "text/plain": [
              "['Sana', 'Miyeon', 'NCT']"
            ]
          },
          "metadata": {
            "tags": []
          },
          "execution_count": 58
        }
      ]
    },
    {
      "cell_type": "code",
      "metadata": {
        "colab": {
          "base_uri": "https://localhost:8080/"
        },
        "id": "cb83ei9yGTjm",
        "outputId": "2189b95e-d1ee-4103-be15-a2cbcdd14f2b"
      },
      "source": [
        "%%time\n",
        "model.best_sub(\"BlackPink\",n=5)"
      ],
      "execution_count": null,
      "outputs": [
        {
          "output_type": "stream",
          "text": [
            "CPU times: user 1min 19s, sys: 6.15 s, total: 1min 25s\n",
            "Wall time: 1min 16s\n"
          ],
          "name": "stdout"
        },
        {
          "output_type": "execute_result",
          "data": {
            "text/plain": [
              "['GFriend', 'NCT', 'Naeun Son', 'BTS', 'Seolhyun']"
            ]
          },
          "metadata": {
            "tags": []
          },
          "execution_count": 59
        }
      ]
    },
    {
      "cell_type": "code",
      "metadata": {
        "colab": {
          "base_uri": "https://localhost:8080/"
        },
        "id": "Dw1lzV9YGTjm",
        "outputId": "7a067b90-d85b-4935-d670-c39ab65eea8d"
      },
      "source": [
        "%%time\n",
        "model.best_complete(\"BlackPink\",n=5) "
      ],
      "execution_count": null,
      "outputs": [
        {
          "output_type": "stream",
          "text": [
            "CPU times: user 1min 20s, sys: 6.53 s, total: 1min 26s\n",
            "Wall time: 1min 17s\n"
          ],
          "name": "stdout"
        },
        {
          "output_type": "execute_result",
          "data": {
            "text/plain": [
              "['Sana', 'Miyeon', 'Solar', 'iZone', 'Seolhyun']"
            ]
          },
          "metadata": {
            "tags": []
          },
          "execution_count": 60
        }
      ]
    },
    {
      "cell_type": "code",
      "metadata": {
        "colab": {
          "base_uri": "https://localhost:8080/"
        },
        "id": "kKe5ysR_GTjm",
        "outputId": "44c60bc1-03eb-497b-fefe-7644c8bcba50"
      },
      "source": [
        "CelebrityDistances = []\n",
        "target_cel = 'Naeun Son'\n",
        "for i in model.get_names(1):\n",
        "    if i != target_cel:\n",
        "        temp = (i,model.cos_sim(target_cel,i))\n",
        "        CelebrityDistances.append(tuple(temp))\n",
        "CelebrityDistances"
      ],
      "execution_count": null,
      "outputs": [
        {
          "output_type": "execute_result",
          "data": {
            "text/plain": [
              "[('Adriene Mishlder', 0.004114207474558367),\n",
              " ('Ally Love', 0.0022841323470378975),\n",
              " ('Bad Bunny', 0.0049742555973288916),\n",
              " ('Beyonce', 0.002509815315634955),\n",
              " ('BlackPink', 0.11835820828188935),\n",
              " ('Chinae Alexander', 0.003301337453279962),\n",
              " ('Jerry Lorenzo', 0.0027454065419324227),\n",
              " ('Karlie Kloss', 0.0019914528815764432),\n",
              " ('Kerwin Frost', 0.0011542260352674712),\n",
              " ('Ninjas Hyper', 0.0021913858405805927),\n",
              " ('Pharrell Williams', 0.0022872401093387883),\n",
              " ('Yara Shahidi', 0.004932276229645616),\n",
              " ('Zoe Saldana', 0.001908277943825836)]"
            ]
          },
          "metadata": {
            "tags": []
          },
          "execution_count": 39
        }
      ]
    }
  ]
}