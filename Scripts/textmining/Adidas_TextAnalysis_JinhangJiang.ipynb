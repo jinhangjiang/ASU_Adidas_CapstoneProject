{
  "nbformat": 4,
  "nbformat_minor": 0,
  "metadata": {
    "kernelspec": {
      "display_name": "Python 3",
      "language": "python",
      "name": "python3"
    },
    "language_info": {
      "codemirror_mode": {
        "name": "ipython",
        "version": 3
      },
      "file_extension": ".py",
      "mimetype": "text/x-python",
      "name": "python",
      "nbconvert_exporter": "python",
      "pygments_lexer": "ipython3",
      "version": "3.7.4"
    },
    "colab": {
      "name": "Adidas_TextAnalysis_JinhangJiang.ipynb",
      "provenance": [],
      "collapsed_sections": [
        "Zd8OjtOUxDnL",
        "AoyO-m-5xhqI",
        "ETq3l7CLxhqL",
        "IczQwapvxhqM",
        "3cq_d917xhqR",
        "kbezdFfLxhqS",
        "UX2R0mpex7vJ",
        "UIx21Vyl1mSf",
        "VPeUxgRWCAwE"
      ]
    },
    "widgets": {
      "application/vnd.jupyter.widget-state+json": {
        "507072c318de4d2493639e779af5738c": {
          "model_module": "@jupyter-widgets/controls",
          "model_name": "HBoxModel",
          "state": {
            "_view_name": "HBoxView",
            "_dom_classes": [],
            "_model_name": "HBoxModel",
            "_view_module": "@jupyter-widgets/controls",
            "_model_module_version": "1.5.0",
            "_view_count": null,
            "_view_module_version": "1.5.0",
            "box_style": "",
            "layout": "IPY_MODEL_a3499f025d934628a8cc175fda1f3f69",
            "_model_module": "@jupyter-widgets/controls",
            "children": [
              "IPY_MODEL_51dde58090fd481fa70f9e1bbce86b65",
              "IPY_MODEL_142241e63adb4267ba1de962a9cfc08d"
            ]
          }
        },
        "a3499f025d934628a8cc175fda1f3f69": {
          "model_module": "@jupyter-widgets/base",
          "model_name": "LayoutModel",
          "state": {
            "_view_name": "LayoutView",
            "grid_template_rows": null,
            "right": null,
            "justify_content": null,
            "_view_module": "@jupyter-widgets/base",
            "overflow": null,
            "_model_module_version": "1.2.0",
            "_view_count": null,
            "flex_flow": null,
            "width": null,
            "min_width": null,
            "border": null,
            "align_items": null,
            "bottom": null,
            "_model_module": "@jupyter-widgets/base",
            "top": null,
            "grid_column": null,
            "overflow_y": null,
            "overflow_x": null,
            "grid_auto_flow": null,
            "grid_area": null,
            "grid_template_columns": null,
            "flex": null,
            "_model_name": "LayoutModel",
            "justify_items": null,
            "grid_row": null,
            "max_height": null,
            "align_content": null,
            "visibility": null,
            "align_self": null,
            "height": null,
            "min_height": null,
            "padding": null,
            "grid_auto_rows": null,
            "grid_gap": null,
            "max_width": null,
            "order": null,
            "_view_module_version": "1.2.0",
            "grid_template_areas": null,
            "object_position": null,
            "object_fit": null,
            "grid_auto_columns": null,
            "margin": null,
            "display": null,
            "left": null
          }
        },
        "51dde58090fd481fa70f9e1bbce86b65": {
          "model_module": "@jupyter-widgets/controls",
          "model_name": "FloatProgressModel",
          "state": {
            "_view_name": "ProgressView",
            "style": "IPY_MODEL_b09eb711dd81408e85d61933ee0abe89",
            "_dom_classes": [],
            "description": "100%",
            "_model_name": "FloatProgressModel",
            "bar_style": "success",
            "max": 1243516997,
            "_view_module": "@jupyter-widgets/controls",
            "_model_module_version": "1.5.0",
            "value": 1243516997,
            "_view_count": null,
            "_view_module_version": "1.5.0",
            "orientation": "horizontal",
            "min": 0,
            "description_tooltip": null,
            "_model_module": "@jupyter-widgets/controls",
            "layout": "IPY_MODEL_ad80e1d471fc46e99997ebcc2c1407e4"
          }
        },
        "142241e63adb4267ba1de962a9cfc08d": {
          "model_module": "@jupyter-widgets/controls",
          "model_name": "HTMLModel",
          "state": {
            "_view_name": "HTMLView",
            "style": "IPY_MODEL_b392784df82147e282b05c5bc3defa0e",
            "_dom_classes": [],
            "description": "",
            "_model_name": "HTMLModel",
            "placeholder": "​",
            "_view_module": "@jupyter-widgets/controls",
            "_model_module_version": "1.5.0",
            "value": " 1.24G/1.24G [00:37&lt;00:00, 33.2MB/s]",
            "_view_count": null,
            "_view_module_version": "1.5.0",
            "description_tooltip": null,
            "_model_module": "@jupyter-widgets/controls",
            "layout": "IPY_MODEL_5daaee3f2d834463a8a10853713036e8"
          }
        },
        "b09eb711dd81408e85d61933ee0abe89": {
          "model_module": "@jupyter-widgets/controls",
          "model_name": "ProgressStyleModel",
          "state": {
            "_view_name": "StyleView",
            "_model_name": "ProgressStyleModel",
            "description_width": "initial",
            "_view_module": "@jupyter-widgets/base",
            "_model_module_version": "1.5.0",
            "_view_count": null,
            "_view_module_version": "1.2.0",
            "bar_color": null,
            "_model_module": "@jupyter-widgets/controls"
          }
        },
        "ad80e1d471fc46e99997ebcc2c1407e4": {
          "model_module": "@jupyter-widgets/base",
          "model_name": "LayoutModel",
          "state": {
            "_view_name": "LayoutView",
            "grid_template_rows": null,
            "right": null,
            "justify_content": null,
            "_view_module": "@jupyter-widgets/base",
            "overflow": null,
            "_model_module_version": "1.2.0",
            "_view_count": null,
            "flex_flow": null,
            "width": null,
            "min_width": null,
            "border": null,
            "align_items": null,
            "bottom": null,
            "_model_module": "@jupyter-widgets/base",
            "top": null,
            "grid_column": null,
            "overflow_y": null,
            "overflow_x": null,
            "grid_auto_flow": null,
            "grid_area": null,
            "grid_template_columns": null,
            "flex": null,
            "_model_name": "LayoutModel",
            "justify_items": null,
            "grid_row": null,
            "max_height": null,
            "align_content": null,
            "visibility": null,
            "align_self": null,
            "height": null,
            "min_height": null,
            "padding": null,
            "grid_auto_rows": null,
            "grid_gap": null,
            "max_width": null,
            "order": null,
            "_view_module_version": "1.2.0",
            "grid_template_areas": null,
            "object_position": null,
            "object_fit": null,
            "grid_auto_columns": null,
            "margin": null,
            "display": null,
            "left": null
          }
        },
        "b392784df82147e282b05c5bc3defa0e": {
          "model_module": "@jupyter-widgets/controls",
          "model_name": "DescriptionStyleModel",
          "state": {
            "_view_name": "StyleView",
            "_model_name": "DescriptionStyleModel",
            "description_width": "",
            "_view_module": "@jupyter-widgets/base",
            "_model_module_version": "1.5.0",
            "_view_count": null,
            "_view_module_version": "1.2.0",
            "_model_module": "@jupyter-widgets/controls"
          }
        },
        "5daaee3f2d834463a8a10853713036e8": {
          "model_module": "@jupyter-widgets/base",
          "model_name": "LayoutModel",
          "state": {
            "_view_name": "LayoutView",
            "grid_template_rows": null,
            "right": null,
            "justify_content": null,
            "_view_module": "@jupyter-widgets/base",
            "overflow": null,
            "_model_module_version": "1.2.0",
            "_view_count": null,
            "flex_flow": null,
            "width": null,
            "min_width": null,
            "border": null,
            "align_items": null,
            "bottom": null,
            "_model_module": "@jupyter-widgets/base",
            "top": null,
            "grid_column": null,
            "overflow_y": null,
            "overflow_x": null,
            "grid_auto_flow": null,
            "grid_area": null,
            "grid_template_columns": null,
            "flex": null,
            "_model_name": "LayoutModel",
            "justify_items": null,
            "grid_row": null,
            "max_height": null,
            "align_content": null,
            "visibility": null,
            "align_self": null,
            "height": null,
            "min_height": null,
            "padding": null,
            "grid_auto_rows": null,
            "grid_gap": null,
            "max_width": null,
            "order": null,
            "_view_module_version": "1.2.0",
            "grid_template_areas": null,
            "object_position": null,
            "object_fit": null,
            "grid_auto_columns": null,
            "margin": null,
            "display": null,
            "left": null
          }
        }
      }
    }
  },
  "cells": [
    {
      "cell_type": "markdown",
      "metadata": {
        "id": "Zd8OjtOUxDnL"
      },
      "source": [
        "# Setup"
      ]
    },
    {
      "cell_type": "code",
      "metadata": {
        "id": "foxLPE8Exhp7"
      },
      "source": [
        "import pandas as pd\n",
        "import numpy as np\n",
        "from google.colab import files"
      ],
      "execution_count": 11,
      "outputs": []
    },
    {
      "cell_type": "code",
      "metadata": {
        "id": "hX6u3baWxhqG"
      },
      "source": [
        "#uploaded = files.upload()"
      ],
      "execution_count": 12,
      "outputs": []
    },
    {
      "cell_type": "code",
      "metadata": {
        "id": "XDpvV9BIxhqH"
      },
      "source": [
        "import warnings\n",
        "warnings.filterwarnings(\"ignore\")\n",
        "import io"
      ],
      "execution_count": 13,
      "outputs": []
    },
    {
      "cell_type": "markdown",
      "metadata": {
        "id": "AoyO-m-5xhqI"
      },
      "source": [
        "# Load Data"
      ]
    },
    {
      "cell_type": "code",
      "metadata": {
        "id": "FGXPpHi5xhqI"
      },
      "source": [
        "df=pd.read_csv('experiment1.csv')\n",
        "df['patterns'] = df.txt\n",
        "#df['patterns'] = df.MsgBody"
      ],
      "execution_count": 14,
      "outputs": []
    },
    {
      "cell_type": "code",
      "metadata": {
        "colab": {
          "base_uri": "https://localhost:8080/"
        },
        "id": "Ow3Q9a5zxhqJ",
        "outputId": "70cd7be7-7051-4152-b624-b2311342f42a"
      },
      "source": [
        "df.Celebrity.unique()"
      ],
      "execution_count": 15,
      "outputs": [
        {
          "output_type": "execute_result",
          "data": {
            "text/plain": [
              "array(['BlackPink', 'Naeun Son', 'Kerwin Frost', 'Beyonce', 'Zoe Saldana',\n",
              "       'Karlie Kloss', 'Yara Shahidi', 'Pharrell Williams',\n",
              "       'Adriene Mishler', 'Ninjas Hyper', 'Bad Bunny', 'Jerry Lorenzo',\n",
              "       'Chinae Alexander', 'Ally Love', 'Seolhyun', 'Solar', 'GFriend',\n",
              "       'iZone', 'BTS', 'NCT'], dtype=object)"
            ]
          },
          "metadata": {
            "tags": []
          },
          "execution_count": 15
        }
      ]
    },
    {
      "cell_type": "code",
      "metadata": {
        "colab": {
          "base_uri": "https://localhost:8080/"
        },
        "id": "xNqpXw2pxhqJ",
        "outputId": "8c83e82b-5061-476b-e4c4-77fb566cfbca"
      },
      "source": [
        "df.Celebrity.value_counts()"
      ],
      "execution_count": 16,
      "outputs": [
        {
          "output_type": "execute_result",
          "data": {
            "text/plain": [
              "BlackPink            11507\n",
              "Naeun Son             7751\n",
              "NCT                   6348\n",
              "Bad Bunny             5338\n",
              "iZone                 4911\n",
              "Ninjas Hyper          4742\n",
              "Karlie Kloss          4587\n",
              "GFriend               4492\n",
              "Beyonce               3491\n",
              "Yara Shahidi          3269\n",
              "BTS                   3135\n",
              "Zoe Saldana           2842\n",
              "Kerwin Frost          2817\n",
              "Seolhyun              2777\n",
              "Solar                 2484\n",
              "Pharrell Williams     2395\n",
              "Jerry Lorenzo         2325\n",
              "Chinae Alexander      1912\n",
              "Ally Love             1776\n",
              "Adriene Mishler        320\n",
              "Name: Celebrity, dtype: int64"
            ]
          },
          "metadata": {
            "tags": []
          },
          "execution_count": 16
        }
      ]
    },
    {
      "cell_type": "code",
      "metadata": {
        "colab": {
          "base_uri": "https://localhost:8080/"
        },
        "id": "SGkfYKy1xhqJ",
        "outputId": "40d643a8-9845-4edf-a4bd-a0175e1c3e81"
      },
      "source": [
        "df.isnull().sum()"
      ],
      "execution_count": 17,
      "outputs": [
        {
          "output_type": "execute_result",
          "data": {
            "text/plain": [
              "Unnamed: 0    0\n",
              "Celebrity     0\n",
              "author        0\n",
              "txt           0\n",
              "patterns      0\n",
              "dtype: int64"
            ]
          },
          "metadata": {
            "tags": []
          },
          "execution_count": 17
        }
      ]
    },
    {
      "cell_type": "markdown",
      "metadata": {
        "id": "BigXQm3uxhqK"
      },
      "source": [
        "# Clean data"
      ]
    },
    {
      "cell_type": "code",
      "metadata": {
        "colab": {
          "base_uri": "https://localhost:8080/"
        },
        "id": "aRWidr4PxhqK",
        "outputId": "9e54b284-805a-4d5e-a882-df95d2e9c8fa"
      },
      "source": [
        "import nltk\n",
        "from nltk.corpus import stopwords\n",
        "nltk.download('stopwords')\n",
        "nltk.download('wordnet')\n",
        "import string\n",
        "from textblob import Word\n",
        "import re"
      ],
      "execution_count": 18,
      "outputs": [
        {
          "output_type": "stream",
          "text": [
            "[nltk_data] Downloading package stopwords to /root/nltk_data...\n",
            "[nltk_data]   Unzipping corpora/stopwords.zip.\n",
            "[nltk_data] Downloading package wordnet to /root/nltk_data...\n",
            "[nltk_data]   Unzipping corpora/wordnet.zip.\n"
          ],
          "name": "stdout"
        }
      ]
    },
    {
      "cell_type": "code",
      "metadata": {
        "id": "eOJew-zDxhqL"
      },
      "source": [
        "#df=df.groupby([\"Celebrity\",\"txt\"]).size().reset_index(name=\"freq\")\n",
        "#df['patterns'] = df.txt"
      ],
      "execution_count": 19,
      "outputs": []
    },
    {
      "cell_type": "code",
      "metadata": {
        "id": "DxooT3JFxhqL"
      },
      "source": [
        "stop = stopwords.words('english')\n",
        "df['patterns'] = df['patterns'].apply(lambda x:' '.join(x.lower() for x in x.split()))\n",
        "df['patterns'] = df['patterns'].apply(lambda x:' '.join(x for x in x.split() if x not in string.punctuation)) #remove punctuations\n",
        "df['patterns'] = df['patterns'].str.replace('https*\\S+','')  #remove url\n",
        "df['patterns'] = df['patterns'].str.replace('\\'\\w+','')      #remove ticks\n",
        "df['patterns'] = df['patterns'].str.replace('[^\\w\\s]','')    \n",
        "df['patterns'] = df['patterns'].str.replace('@\\S+','')       #remove email\n",
        "df['patterns'] = df['patterns'].str.encode('ascii', 'ignore').str.decode(\"utf-8\")  #remove unicode\n",
        "df['patterns'] = df['patterns'].str.replace('\\w*\\d+\\w*','')  #remove digits\n",
        "df['patterns'] = df['patterns'].str.replace('#\\S+','')  #remove hashtag\n",
        "df['patterns'] = df['patterns'].str.replace('_','')  #remove underscore\n",
        "df['patterns'] = df['patterns'].apply(lambda x: ' '.join(x for x in x.split() if  not x.isdigit()))\n",
        "df['patterns'] = df['patterns'].apply(lambda x:' '.join(x for x in x.split() if not x in stop)) #remove stop words\n",
        "df['patterns'] = df['patterns'].apply(lambda x: \" \".join([Word(word).lemmatize() for word in x.split()]))"
      ],
      "execution_count": 20,
      "outputs": []
    },
    {
      "cell_type": "code",
      "metadata": {
        "colab": {
          "base_uri": "https://localhost:8080/"
        },
        "id": "qqQ3oxEtZnTx",
        "outputId": "ad91786e-31eb-4387-ce3b-a81df110863e"
      },
      "source": [
        "col=[\"Celebrity\",\"patterns\"]\n",
        "df_merge = df[col].groupby('Celebrity')['patterns'].apply(lambda x:x.str.cat(sep=\" \"))\n",
        "df_merge"
      ],
      "execution_count": 21,
      "outputs": [
        {
          "output_type": "execute_result",
          "data": {
            "text/plain": [
              "Celebrity\n",
              "Adriene Mishler      hii im vicky let workout buddy stay motivated ...\n",
              "Ally Love            would dismiss appropriation claim people take ...\n",
              "BTS                  waititi love yes tf yall concerned fan upset f...\n",
              "Bad Bunny            think alexa bliss nikki cross bigger feud rand...\n",
              "Beyonce              beyonce new soda pop obnoxious way write note ...\n",
              "BlackPink            deleted camera suck noticed since album dday v...\n",
              "Chinae Alexander     thats compliment thats compliment thats compli...\n",
              "GFriend              really hope swallow source music whole introdu...\n",
              "Jerry Lorenzo        podcast uploaded come music fashion hard see k...\n",
              "Karlie Kloss         event year love shit  linger like bad perfume ...\n",
              "Kerwin Frost         people say design really mean innovation one t...\n",
              "NCT                  loooooooove dream dont get wrong happy mark gr...\n",
              "Naeun Son            bully compare irene scandal allegation true lo...\n",
              "Ninjas Hyper           thoguht hyper came thouht glider already cam...\n",
              "Pharrell Williams    working hard say selfish want want loud clear ...\n",
              "Seolhyun             following link may contain nsfw material link ...\n",
              "Solar                best girl god kpop idol eat junk left right ye...\n",
              "Yara Shahidi         would pretty cool set prequel hook would prett...\n",
              "Zoe Saldana          mean say exactly bad obnoxious way write note ...\n",
              "iZone                aint happening bruh part unaired scene episode...\n",
              "Name: patterns, dtype: object"
            ]
          },
          "metadata": {
            "tags": []
          },
          "execution_count": 21
        }
      ]
    },
    {
      "cell_type": "code",
      "metadata": {
        "colab": {
          "base_uri": "https://localhost:8080/"
        },
        "id": "pBNtwLREKcD9",
        "outputId": "6a3f3a0c-3d0f-4d22-ec33-524202582d72"
      },
      "source": [
        "for index, value in df_merge.items():\n",
        "    print(f\"Index : {index} \\ {len(value.split())}\")"
      ],
      "execution_count": 22,
      "outputs": [
        {
          "output_type": "stream",
          "text": [
            "Index : Adriene Mishler \\ 2732\n",
            "Index : Ally Love \\ 22744\n",
            "Index : BTS \\ 49489\n",
            "Index : Bad Bunny \\ 63680\n",
            "Index : Beyonce \\ 34031\n",
            "Index : BlackPink \\ 125679\n",
            "Index : Chinae Alexander \\ 54177\n",
            "Index : GFriend \\ 58411\n",
            "Index : Jerry Lorenzo \\ 26858\n",
            "Index : Karlie Kloss \\ 43200\n",
            "Index : Kerwin Frost \\ 17288\n",
            "Index : NCT \\ 91198\n",
            "Index : Naeun Son \\ 115449\n",
            "Index : Ninjas Hyper \\ 67483\n",
            "Index : Pharrell Williams \\ 25046\n",
            "Index : Seolhyun \\ 34054\n",
            "Index : Solar \\ 37351\n",
            "Index : Yara Shahidi \\ 37215\n",
            "Index : Zoe Saldana \\ 26607\n",
            "Index : iZone \\ 72995\n"
          ],
          "name": "stdout"
        }
      ]
    },
    {
      "cell_type": "code",
      "metadata": {
        "id": "8hE2d7xnZnzS"
      },
      "source": [
        "documents_df=pd.DataFrame(df_merge.values,columns=['documents'])\n",
        "documents_df.index = df_merge.index"
      ],
      "execution_count": 23,
      "outputs": []
    },
    {
      "cell_type": "markdown",
      "metadata": {
        "id": "ETq3l7CLxhqL"
      },
      "source": [
        "#### Define Cosine Similarity"
      ]
    },
    {
      "cell_type": "code",
      "metadata": {
        "id": "oFrDq4lmxhqL"
      },
      "source": [
        "def most_similar(doc_id,similarity_matrix,matrix):\n",
        "    print (f'Document: {documents_df.iloc[doc_id]}')\n",
        "    print ('\\n')\n",
        "    print ('Similar Documents:')\n",
        "    if matrix=='Cosine Similarity':\n",
        "        similar_ix=np.argsort(similarity_matrix[doc_id])[::-1]\n",
        "    elif matrix=='Euclidean Distance':\n",
        "        similar_ix=np.argsort(similarity_matrix[doc_id])\n",
        "    for ix in similar_ix:\n",
        "        if ix==doc_id:\n",
        "            continue\n",
        "        print (f'Celebrity: {documents_df.index[ix]}',\":\",similarity_matrix[doc_id][ix])\n",
        "        #print (f'{matrix} : {similarity_matrix[doc_id][ix]}')"
      ],
      "execution_count": 24,
      "outputs": []
    },
    {
      "cell_type": "markdown",
      "metadata": {
        "id": "IczQwapvxhqM"
      },
      "source": [
        "# Tfidf with cosine similarity"
      ]
    },
    {
      "cell_type": "markdown",
      "metadata": {
        "id": "oeDveFKTxhqM"
      },
      "source": [
        "https://towardsdatascience.com/calculating-document-similarities-using-bert-and-other-models-b2c1a29c9630"
      ]
    },
    {
      "cell_type": "code",
      "metadata": {
        "id": "2mfjyvMnxhqM"
      },
      "source": [
        "from sklearn.feature_extraction.text import TfidfVectorizer \n",
        "from sklearn.metrics.pairwise import cosine_similarity\n",
        "from sklearn.metrics.pairwise import euclidean_distances"
      ],
      "execution_count": 15,
      "outputs": []
    },
    {
      "cell_type": "code",
      "metadata": {
        "colab": {
          "base_uri": "https://localhost:8080/"
        },
        "id": "f8Pvvs73Z5Bx",
        "outputId": "d6a4e001-a85f-4bda-bd8a-fe7bb217bec7"
      },
      "source": [
        "feature = 0\n",
        "for i in documents_df.documents:\n",
        "  feature += len(set(i.split()))\n",
        "\n",
        "feature"
      ],
      "execution_count": 16,
      "outputs": [
        {
          "output_type": "execute_result",
          "data": {
            "text/plain": [
              "76648"
            ]
          },
          "metadata": {
            "tags": []
          },
          "execution_count": 16
        }
      ]
    },
    {
      "cell_type": "code",
      "metadata": {
        "id": "iXE5Y80hxhqO"
      },
      "source": [
        "# removing special characters and stop words from the text\n",
        "#stop_words_l=stopwords.words('english')\n",
        "import math\n",
        "max_feature = math.ceil(feature*0.7)\n",
        "tfidfvectoriser=TfidfVectorizer(max_features=max_feature)\n",
        "tfidfvectoriser.fit(documents_df.documents)\n",
        "tfidf_vectors=tfidfvectoriser.transform(documents_df.documents)"
      ],
      "execution_count": 17,
      "outputs": []
    },
    {
      "cell_type": "code",
      "metadata": {
        "colab": {
          "base_uri": "https://localhost:8080/"
        },
        "id": "BpqCIwJlOK-Z",
        "outputId": "59e85a08-acb8-45ce-9f37-089ab9500cec"
      },
      "source": [
        "tfidf_vectors.shape"
      ],
      "execution_count": 18,
      "outputs": [
        {
          "output_type": "execute_result",
          "data": {
            "text/plain": [
              "(20, 27843)"
            ]
          },
          "metadata": {
            "tags": []
          },
          "execution_count": 18
        }
      ]
    },
    {
      "cell_type": "code",
      "metadata": {
        "id": "fS0LKKNyOwil"
      },
      "source": [
        "tfidf_vectors=tfidf_vectors.toarray()"
      ],
      "execution_count": 19,
      "outputs": []
    },
    {
      "cell_type": "code",
      "metadata": {
        "id": "4rev8twqOIzM"
      },
      "source": [
        "pairwise_similarities1=np.dot(tfidf_vectors,tfidf_vectors.T)\n",
        "pairwise_differences1=euclidean_distances(tfidf_vectors)"
      ],
      "execution_count": 20,
      "outputs": []
    },
    {
      "cell_type": "code",
      "metadata": {
        "colab": {
          "base_uri": "https://localhost:8080/"
        },
        "id": "CrtDq8mNxhqP",
        "outputId": "50dc0a22-e12b-4567-d89f-99d174a4eae3"
      },
      "source": [
        "pairwise_similarities1.shape"
      ],
      "execution_count": 21,
      "outputs": [
        {
          "output_type": "execute_result",
          "data": {
            "text/plain": [
              "(20, 20)"
            ]
          },
          "metadata": {
            "tags": []
          },
          "execution_count": 21
        }
      ]
    },
    {
      "cell_type": "code",
      "metadata": {
        "colab": {
          "base_uri": "https://localhost:8080/"
        },
        "id": "WBfenSD0xhqP",
        "outputId": "639a66a2-d015-4dfe-a118-2d8ea17b2b3b"
      },
      "source": [
        "for i in range(len(df_merge)):\n",
        "    print(i,\":\",df_merge.index[i])"
      ],
      "execution_count": 22,
      "outputs": [
        {
          "output_type": "stream",
          "text": [
            "0 : Adriene Mishler\n",
            "1 : Ally Love\n",
            "2 : BTS\n",
            "3 : Bad Bunny\n",
            "4 : Beyonce\n",
            "5 : BlackPink\n",
            "6 : Chinae Alexander\n",
            "7 : GFriend\n",
            "8 : Jerry Lorenzo\n",
            "9 : Karlie Kloss\n",
            "10 : Kerwin Frost\n",
            "11 : NCT\n",
            "12 : Naeun Son\n",
            "13 : Ninjas Hyper\n",
            "14 : Pharrell Williams\n",
            "15 : Seolhyun\n",
            "16 : Solar\n",
            "17 : Yara Shahidi\n",
            "18 : Zoe Saldana\n",
            "19 : iZone\n"
          ],
          "name": "stdout"
        }
      ]
    },
    {
      "cell_type": "code",
      "metadata": {
        "colab": {
          "base_uri": "https://localhost:8080/"
        },
        "id": "0i6TD4xWxhqQ",
        "outputId": "c61876ea-23f7-4f2e-e1d8-0ef9fd580e28"
      },
      "source": [
        "most_similar(5,pairwise_similarities1,'Cosine Similarity')"
      ],
      "execution_count": 23,
      "outputs": [
        {
          "output_type": "stream",
          "text": [
            "Document: documents    deleted camera suck noticed since album dday v...\n",
            "Name: BlackPink, dtype: object\n",
            "\n",
            "\n",
            "Similar Documents:\n",
            "Celebrity: iZone : 0.6585091696081645\n",
            "Celebrity: NCT : 0.6282038565075361\n",
            "Celebrity: Solar : 0.5804038513815171\n",
            "Celebrity: BTS : 0.5607910573543744\n",
            "Celebrity: Seolhyun : 0.5354788082677442\n",
            "Celebrity: GFriend : 0.5204510118404441\n",
            "Celebrity: Beyonce : 0.5180485603999841\n",
            "Celebrity: Naeun Son : 0.49397928944384156\n",
            "Celebrity: Zoe Saldana : 0.4831891179665297\n",
            "Celebrity: Jerry Lorenzo : 0.4718544073725158\n",
            "Celebrity: Bad Bunny : 0.46981486076731527\n",
            "Celebrity: Karlie Kloss : 0.4342190476220123\n",
            "Celebrity: Yara Shahidi : 0.42702441943746233\n",
            "Celebrity: Ninjas Hyper : 0.41961874403064786\n",
            "Celebrity: Ally Love : 0.4191374744747143\n",
            "Celebrity: Kerwin Frost : 0.36505256836967015\n",
            "Celebrity: Pharrell Williams : 0.3379197423960877\n",
            "Celebrity: Chinae Alexander : 0.274273120734555\n",
            "Celebrity: Adriene Mishler : 0.11216821576928017\n"
          ],
          "name": "stdout"
        }
      ]
    },
    {
      "cell_type": "code",
      "metadata": {
        "colab": {
          "base_uri": "https://localhost:8080/"
        },
        "id": "h3H1GgmYxhqQ",
        "outputId": "c3196c3a-a26e-4ca0-c7ba-6c3157f79994"
      },
      "source": [
        "most_similar(5,pairwise_differences1,'Euclidean Distance')"
      ],
      "execution_count": 24,
      "outputs": [
        {
          "output_type": "stream",
          "text": [
            "Document: documents    deleted camera suck noticed since album dday v...\n",
            "Name: BlackPink, dtype: object\n",
            "\n",
            "\n",
            "Similar Documents:\n",
            "Celebrity: iZone : 0.8264270450461386\n",
            "Celebrity: NCT : 0.8623179732470735\n",
            "Celebrity: Solar : 0.9160743950340386\n",
            "Celebrity: BTS : 0.9372395026306125\n",
            "Celebrity: Seolhyun : 0.9638684471775774\n",
            "Celebrity: GFriend : 0.9793354769021322\n",
            "Celebrity: Beyonce : 0.981785556626315\n",
            "Celebrity: Naeun Son : 1.0060026943862184\n",
            "Celebrity: Zoe Saldana : 1.0166719058117741\n",
            "Celebrity: Jerry Lorenzo : 1.0277602761612126\n",
            "Celebrity: Bad Bunny : 1.0297428215168025\n",
            "Celebrity: Karlie Kloss : 1.0637489857837568\n",
            "Celebrity: Yara Shahidi : 1.0704910840941562\n",
            "Celebrity: Ninjas Hyper : 1.077386890554505\n",
            "Celebrity: Ally Love : 1.0778334987606262\n",
            "Celebrity: Kerwin Frost : 1.1268961191079954\n",
            "Celebrity: Pharrell Williams : 1.1507217366539302\n",
            "Celebrity: Chinae Alexander : 1.204762947027712\n",
            "Celebrity: Adriene Mishler : 1.3325402689830588\n"
          ],
          "name": "stdout"
        }
      ]
    },
    {
      "cell_type": "markdown",
      "metadata": {
        "id": "3cq_d917xhqR"
      },
      "source": [
        "# Word2vec + TFIDF with cosine similarity"
      ]
    },
    {
      "cell_type": "code",
      "metadata": {
        "colab": {
          "base_uri": "https://localhost:8080/"
        },
        "id": "Jnd4M-eDkfNE",
        "outputId": "54afaedd-d3b7-4912-ca57-126daf5744d6"
      },
      "source": [
        "pip install --upgrade gensim"
      ],
      "execution_count": 25,
      "outputs": [
        {
          "output_type": "stream",
          "text": [
            "Requirement already up-to-date: gensim in /usr/local/lib/python3.7/dist-packages (4.0.1)\n",
            "Requirement already satisfied, skipping upgrade: scipy>=0.18.1 in /usr/local/lib/python3.7/dist-packages (from gensim) (1.4.1)\n",
            "Requirement already satisfied, skipping upgrade: smart-open>=1.8.1 in /usr/local/lib/python3.7/dist-packages (from gensim) (4.2.0)\n",
            "Requirement already satisfied, skipping upgrade: numpy>=1.11.3 in /usr/local/lib/python3.7/dist-packages (from gensim) (1.19.5)\n"
          ],
          "name": "stdout"
        }
      ]
    },
    {
      "cell_type": "code",
      "metadata": {
        "id": "Ptt9PbGGxhqR"
      },
      "source": [
        "from keras.preprocessing.text import Tokenizer\n",
        "from keras.preprocessing.sequence import pad_sequences\n",
        "import gensim\n",
        "from gensim.models import Word2Vec"
      ],
      "execution_count": 26,
      "outputs": []
    },
    {
      "cell_type": "code",
      "metadata": {
        "id": "DrPxZsJ3xhqR"
      },
      "source": [
        "# tokenize and pad every document to make them of the same size\n",
        "tokenizer=Tokenizer()\n",
        "tokenizer.fit_on_texts(documents_df.documents)\n",
        "tokenized_documents=tokenizer.texts_to_sequences(documents_df.documents)\n",
        "tokenized_paded_documents=pad_sequences(tokenized_documents,maxlen=max_feature,padding='post')\n",
        "vocab_size=len(tokenizer.word_index)+1"
      ],
      "execution_count": 27,
      "outputs": []
    },
    {
      "cell_type": "code",
      "metadata": {
        "id": "pKJpY-uOxhqS"
      },
      "source": [
        "#### train word2vec\n",
        "data=[]\n",
        "for i in documents_df.documents:\n",
        "    li = i.split()\n",
        "    data.append(li)"
      ],
      "execution_count": 28,
      "outputs": []
    },
    {
      "cell_type": "markdown",
      "metadata": {
        "id": "_0NGEAvD3bqj"
      },
      "source": [
        "This Google Developers blog post says:\n",
        "\n",
        "Well, the following \"formula\" provides a general rule of thumb about the number of embedding dimensions:\n",
        "\n",
        "embedding_dimensions =  number_of_categories**0.25\n",
        "\n",
        "That is, the embedding vector dimension should be the 4th root of the number of categories.\n",
        "\n",
        "Interestingly, the Word2vec Wikipedia article says (emphasis mine):\n",
        "\n",
        "Nevertheless, for skip-gram models trained in medium size corpora, with 50 dimensions, a window size of 15 and 10 negative samples seems to be a good parameter setting.\n",
        "\n",
        "Assuming a standard-ish sized vocabulary of 1.5 million words, this rule of thumb comes surprisingly close:\n",
        "\n",
        "50 == 1.5e6 ** 0.2751"
      ]
    },
    {
      "cell_type": "markdown",
      "metadata": {
        "id": "QSDzasPi3deQ"
      },
      "source": [
        "Parameters:\n",
        "https://radimrehurek.com/gensim/models/word2vec.html"
      ]
    },
    {
      "cell_type": "code",
      "metadata": {
        "colab": {
          "base_uri": "https://localhost:8080/"
        },
        "id": "42IPjaVbxhqS",
        "outputId": "dde7b938-163d-4ac3-bc28-7a50afbc1de5"
      },
      "source": [
        "### calculate the vector_size\n",
        "def flatten(data):\n",
        "    return \" \".join([str(item) for var in data for item in var])\n",
        "\n",
        "num_words = 0\n",
        "for item in data:\n",
        "    num_words += len(item)\n",
        "num_words"
      ],
      "execution_count": 29,
      "outputs": [
        {
          "output_type": "execute_result",
          "data": {
            "text/plain": [
              "1005687"
            ]
          },
          "metadata": {
            "tags": []
          },
          "execution_count": 29
        }
      ]
    },
    {
      "cell_type": "code",
      "metadata": {
        "colab": {
          "base_uri": "https://localhost:8080/"
        },
        "id": "bHw7BWKPxhqS",
        "outputId": "c61e61d5-12ce-480d-f169-224a3ef6435c"
      },
      "source": [
        "import math\n",
        "dim_size = num_words**0.25\n",
        "vector_size = math.ceil(float(dim_size))\n",
        "vector_size"
      ],
      "execution_count": 30,
      "outputs": [
        {
          "output_type": "execute_result",
          "data": {
            "text/plain": [
              "32"
            ]
          },
          "metadata": {
            "tags": []
          },
          "execution_count": 30
        }
      ]
    },
    {
      "cell_type": "code",
      "metadata": {
        "id": "0qveK_q47YRw"
      },
      "source": [
        "from gensim.models.callbacks import CallbackAny2Vec\n",
        "\n",
        "class MonitorCallback(CallbackAny2Vec):\n",
        "    def __init__(self, test_words):\n",
        "        self.epoch = 1\n",
        "        self._test_words = test_words\n",
        "        self.loss_to_be_subed = 0\n",
        "\n",
        "    def on_epoch_begin(self, model):\n",
        "        print(f'Epoch: {self.epoch}', end='\\t')\n",
        "\n",
        "    def on_epoch_end(self, model):\n",
        "        loss = model.get_latest_training_loss()\n",
        "        loss_now = loss - self.loss_to_be_subed\n",
        "        self.loss_to_be_subed = loss\n",
        "        print(\"Model loss:\", loss_now)  # print loss\n",
        "        #for word in self._test_words:  # show wv logic changes\n",
        "        print(model.wv.most_similar(self._test_words,topn=1))\n",
        "        self.epoch += 1"
      ],
      "execution_count": 31,
      "outputs": []
    },
    {
      "cell_type": "code",
      "metadata": {
        "colab": {
          "base_uri": "https://localhost:8080/"
        },
        "id": "ZYXG0-2G3zEE",
        "outputId": "708ec69e-0ffd-47ed-faeb-cf712db9ec23"
      },
      "source": [
        "# Create skip-gram model\n",
        "model = gensim.models.Word2Vec(data,\n",
        "                                min_count = 1, \n",
        "                                vector_size = vector_size, \n",
        "                                window = 15, \n",
        "                                negative= 10,\n",
        "                                sg=1,\n",
        "                                compute_loss=True)\n",
        "callback = MonitorCallback([\"kpop\"])\n",
        "#model1.build_vocab(data)\n",
        "model.train(data, total_examples=model.corpus_count,epochs=100,callbacks=[callback],compute_loss=True)"
      ],
      "execution_count": 32,
      "outputs": [
        {
          "output_type": "stream",
          "text": [
            "Epoch: 1\tModel loss: 2003797.5\n",
            "[('fansign', 0.8861509561538696)]\n",
            "Epoch: 2\tModel loss: 1790404.75\n",
            "[('makestar', 0.9815424680709839)]\n",
            "Epoch: 3\tModel loss: 1777123.25\n",
            "[('makestar', 1.0634592771530151)]\n",
            "Epoch: 4\tModel loss: 1711148.0\n",
            "[('hwaiting', 2.275169610977173)]\n",
            "Epoch: 5\tModel loss: 1746051.5\n",
            "[('hwaiting', 2.9441404342651367)]\n",
            "Epoch: 6\tModel loss: 1515450.0\n",
            "[('brace', 5.81616735458374)]\n",
            "Epoch: 7\tModel loss: 1622889.0\n",
            "[('brace', 6.06895637512207)]\n",
            "Epoch: 8\tModel loss: 1471115.0\n",
            "[('brace', 6.184937477111816)]\n",
            "Epoch: 9\tModel loss: 1479876.0\n",
            "[('maternity', 6.27163553237915)]\n",
            "Epoch: 10\tModel loss: 1552326.0\n",
            "[('maternity', 6.903491973876953)]\n",
            "Epoch: 11\tModel loss: 1100807.0\n",
            "[('maternity', 6.796426773071289)]\n",
            "Epoch: 12\tModel loss: 1385750.0\n",
            "[('maternity', 6.737665176391602)]\n",
            "Epoch: 13\tModel loss: 1505770.0\n",
            "[('maternity', 7.0605292320251465)]\n",
            "Epoch: 14\tModel loss: 1141378.0\n",
            "[('maternity', 6.544722557067871)]\n",
            "Epoch: 15\tModel loss: 1309418.0\n",
            "[('maternity', 7.229895114898682)]\n",
            "Epoch: 16\tModel loss: 1291948.0\n",
            "[('maternity', 7.264450550079346)]\n",
            "Epoch: 17\tModel loss: 1240838.0\n",
            "[('maternity', 7.08282995223999)]\n",
            "Epoch: 18\tModel loss: 1490336.0\n",
            "[('maternity', 7.608757019042969)]\n",
            "Epoch: 19\tModel loss: 1255548.0\n",
            "[('maternity', 7.150864601135254)]\n",
            "Epoch: 20\tModel loss: 1327828.0\n",
            "[('maternity', 7.349818706512451)]\n",
            "Epoch: 21\tModel loss: 1331272.0\n",
            "[('maternity', 7.140065670013428)]\n",
            "Epoch: 22\tModel loss: 1257206.0\n",
            "[('maternity', 7.2043986320495605)]\n",
            "Epoch: 23\tModel loss: 1138770.0\n",
            "[('maternity', 6.797603130340576)]\n",
            "Epoch: 24\tModel loss: 1012450.0\n",
            "[('maternity', 6.736101150512695)]\n",
            "Epoch: 25\tModel loss: 900860.0\n",
            "[('maternity', 7.086299896240234)]\n",
            "Epoch: 26\tModel loss: 979156.0\n",
            "[('maternity', 7.003052234649658)]\n",
            "Epoch: 27\tModel loss: 906172.0\n",
            "[('maternity', 6.9544806480407715)]\n",
            "Epoch: 28\tModel loss: 975040.0\n",
            "[('maternity', 7.188186168670654)]\n",
            "Epoch: 29\tModel loss: 989936.0\n",
            "[('maternity', 7.2555975914001465)]\n",
            "Epoch: 30\tModel loss: 927720.0\n",
            "[('maternity', 6.995635032653809)]\n",
            "Epoch: 31\tModel loss: 1039552.0\n",
            "[('cached', 7.133656024932861)]\n",
            "Epoch: 32\tModel loss: 909088.0\n",
            "[('maternity', 6.685952186584473)]\n",
            "Epoch: 33\tModel loss: 935028.0\n",
            "[('maternity', 6.828454494476318)]\n",
            "Epoch: 34\tModel loss: 960028.0\n",
            "[('maternity', 7.053974628448486)]\n",
            "Epoch: 35\tModel loss: 874088.0\n",
            "[('maternity', 7.017121315002441)]\n",
            "Epoch: 36\tModel loss: 1203040.0\n",
            "[('maternity', 6.94598388671875)]\n",
            "Epoch: 37\tModel loss: 921712.0\n",
            "[('maternity', 6.788141250610352)]\n",
            "Epoch: 38\tModel loss: 1024612.0\n",
            "[('maternity', 6.973001003265381)]\n",
            "Epoch: 39\tModel loss: 1107888.0\n",
            "[('maternity', 6.448083877563477)]\n",
            "Epoch: 40\tModel loss: 1009612.0\n",
            "[('maternity', 6.842873573303223)]\n",
            "Epoch: 41\tModel loss: 1096364.0\n",
            "[('maternity', 7.078952312469482)]\n",
            "Epoch: 42\tModel loss: 1018628.0\n",
            "[('maternity', 7.26042366027832)]\n",
            "Epoch: 43\tModel loss: 1007408.0\n",
            "[('cached', 7.003440856933594)]\n",
            "Epoch: 44\tModel loss: 969636.0\n",
            "[('maternity', 6.8999505043029785)]\n",
            "Epoch: 45\tModel loss: 946156.0\n",
            "[('maternity', 7.132277011871338)]\n",
            "Epoch: 46\tModel loss: 1184008.0\n",
            "[('maternity', 6.917715072631836)]\n",
            "Epoch: 47\tModel loss: 1022888.0\n",
            "[('maternity', 6.840326309204102)]\n",
            "Epoch: 48\tModel loss: 1040356.0\n",
            "[('maternity', 6.917400360107422)]\n",
            "Epoch: 49\tModel loss: 939172.0\n",
            "[('maternity', 6.673533916473389)]\n",
            "Epoch: 50\tModel loss: 1033032.0\n",
            "[('maternity', 6.960262775421143)]\n",
            "Epoch: 51\tModel loss: 1045896.0\n",
            "[('maternity', 6.957876682281494)]\n",
            "Epoch: 52\tModel loss: 949836.0\n",
            "[('maternity', 6.941586494445801)]\n",
            "Epoch: 53\tModel loss: 1142124.0\n",
            "[('maternity', 6.909248352050781)]\n",
            "Epoch: 54\tModel loss: 1073164.0\n",
            "[('maternity', 6.981697082519531)]\n",
            "Epoch: 55\tModel loss: 1040076.0\n",
            "[('maternity', 6.904965877532959)]\n",
            "Epoch: 56\tModel loss: 959816.0\n",
            "[('maternity', 6.536293983459473)]\n",
            "Epoch: 57\tModel loss: 612888.0\n",
            "[('maternity', 6.548242092132568)]\n",
            "Epoch: 58\tModel loss: 275376.0\n",
            "[('maternity', 6.911814212799072)]\n",
            "Epoch: 59\tModel loss: 217632.0\n",
            "[('maternity', 6.670902252197266)]\n",
            "Epoch: 60\tModel loss: 268848.0\n",
            "[('maternity', 6.786292552947998)]\n",
            "Epoch: 61\tModel loss: 214336.0\n",
            "[('maternity', 6.832289218902588)]\n",
            "Epoch: 62\tModel loss: 161744.0\n",
            "[('maternity', 6.818517684936523)]\n",
            "Epoch: 63\tModel loss: 256696.0\n",
            "[('maternity', 6.8403472900390625)]\n",
            "Epoch: 64\tModel loss: 193568.0\n",
            "[('maternity', 6.9774603843688965)]\n",
            "Epoch: 65\tModel loss: 237720.0\n",
            "[('maternity', 6.914100646972656)]\n",
            "Epoch: 66\tModel loss: 242944.0\n",
            "[('cached', 6.513205051422119)]\n",
            "Epoch: 67\tModel loss: 208688.0\n",
            "[('maternity', 6.864292144775391)]\n",
            "Epoch: 68\tModel loss: 263408.0\n",
            "[('maternity', 6.837747097015381)]\n",
            "Epoch: 69\tModel loss: 205704.0\n",
            "[('maternity', 6.896803855895996)]\n",
            "Epoch: 70\tModel loss: 192528.0\n",
            "[('maternity', 6.59526252746582)]\n",
            "Epoch: 71\tModel loss: 182872.0\n",
            "[('maternity', 6.80640172958374)]\n",
            "Epoch: 72\tModel loss: 218800.0\n",
            "[('maternity', 6.66438627243042)]\n",
            "Epoch: 73\tModel loss: 172000.0\n",
            "[('cached', 6.513598442077637)]\n",
            "Epoch: 74\tModel loss: 166768.0\n",
            "[('maternity', 6.80837345123291)]\n",
            "Epoch: 75\tModel loss: 220728.0\n",
            "[('maternity', 6.74088716506958)]\n",
            "Epoch: 76\tModel loss: 271872.0\n",
            "[('maternity', 6.676684379577637)]\n",
            "Epoch: 77\tModel loss: 237936.0\n",
            "[('maternity', 6.744535446166992)]\n",
            "Epoch: 78\tModel loss: 215192.0\n",
            "[('maternity', 6.695768356323242)]\n",
            "Epoch: 79\tModel loss: 193032.0\n",
            "[('maternity', 6.686676979064941)]\n",
            "Epoch: 80\tModel loss: 216848.0\n",
            "[('maternity', 6.819230079650879)]\n",
            "Epoch: 81\tModel loss: 197472.0\n",
            "[('maternity', 6.8735527992248535)]\n",
            "Epoch: 82\tModel loss: 224208.0\n",
            "[('maternity', 6.856505870819092)]\n",
            "Epoch: 83\tModel loss: 201888.0\n",
            "[('maternity', 6.651238918304443)]\n",
            "Epoch: 84\tModel loss: 208088.0\n",
            "[('maternity', 6.855935096740723)]\n",
            "Epoch: 85\tModel loss: 197440.0\n",
            "[('maternity', 6.865933418273926)]\n",
            "Epoch: 86\tModel loss: 151392.0\n",
            "[('maternity', 6.884433746337891)]\n",
            "Epoch: 87\tModel loss: 201520.0\n",
            "[('maternity', 6.850464820861816)]\n",
            "Epoch: 88\tModel loss: 173320.0\n",
            "[('maternity', 6.910297870635986)]\n",
            "Epoch: 89\tModel loss: 232240.0\n",
            "[('maternity', 6.832409381866455)]\n",
            "Epoch: 90\tModel loss: 202952.0\n",
            "[('maternity', 6.806646347045898)]\n",
            "Epoch: 91\tModel loss: 150808.0\n",
            "[('maternity', 6.854614734649658)]\n",
            "Epoch: 92\tModel loss: 159224.0\n",
            "[('maternity', 6.820533275604248)]\n",
            "Epoch: 93\tModel loss: 147392.0\n",
            "[('maternity', 6.860930919647217)]\n",
            "Epoch: 94\tModel loss: 175712.0\n",
            "[('maternity', 6.899176597595215)]\n",
            "Epoch: 95\tModel loss: 159504.0\n",
            "[('maternity', 6.777098655700684)]\n",
            "Epoch: 96\tModel loss: 190688.0\n",
            "[('maternity', 6.88390588760376)]\n",
            "Epoch: 97\tModel loss: 193264.0\n",
            "[('maternity', 6.836129188537598)]\n",
            "Epoch: 98\tModel loss: 183296.0\n",
            "[('maternity', 6.863348007202148)]\n",
            "Epoch: 99\tModel loss: 200352.0\n",
            "[('maternity', 6.826490879058838)]\n",
            "Epoch: 100\tModel loss: 190440.0\n",
            "[('maternity', 6.844995975494385)]\n"
          ],
          "name": "stdout"
        },
        {
          "output_type": "execute_result",
          "data": {
            "text/plain": [
              "(19265293, 100568700)"
            ]
          },
          "metadata": {
            "tags": []
          },
          "execution_count": 32
        }
      ]
    },
    {
      "cell_type": "code",
      "metadata": {
        "id": "bYBmHnDs41MF"
      },
      "source": [
        "model_w2v = model.wv"
      ],
      "execution_count": 47,
      "outputs": []
    },
    {
      "cell_type": "code",
      "metadata": {
        "colab": {
          "base_uri": "https://localhost:8080/"
        },
        "id": "QUWWrEd8DTSg",
        "outputId": "0567cd97-3e95-431d-c24e-d49e971370ad"
      },
      "source": [
        "model.wv.most_similar(\"kpop\",topn=10)"
      ],
      "execution_count": 49,
      "outputs": [
        {
          "output_type": "execute_result",
          "data": {
            "text/plain": [
              "[('concept', 0.7486019730567932),\n",
              " ('rkpop', 0.7411696314811707),\n",
              " ('wjsn', 0.7324150204658508),\n",
              " ('bp', 0.7299093008041382),\n",
              " ('haha', 0.7265796065330505),\n",
              " ('comeback', 0.7214124798774719),\n",
              " ('sincd', 0.7199597358703613),\n",
              " ('beep', 0.717067301273346),\n",
              " ('boop', 0.7167270183563232),\n",
              " ('weekly', 0.7149010896682739)]"
            ]
          },
          "metadata": {
            "tags": []
          },
          "execution_count": 49
        }
      ]
    },
    {
      "cell_type": "code",
      "metadata": {
        "colab": {
          "base_uri": "https://localhost:8080/"
        },
        "id": "1LtzrSP0IOFC",
        "outputId": "bcaa5bf4-967e-446c-80a5-ee034117388c"
      },
      "source": [
        "model.wv.most_similar(\"ninjashyper\",topn=10)"
      ],
      "execution_count": 50,
      "outputs": [
        {
          "output_type": "execute_result",
          "data": {
            "text/plain": [
              "[('ninjahyper', 0.9979957938194275),\n",
              " ('myth', 0.8917697072029114),\n",
              " ('forgetting', 0.7577356100082397),\n",
              " ('noscopes', 0.7355232238769531),\n",
              " ('creed', 0.7206867933273315),\n",
              " ('brotherhood', 0.7184299230575562),\n",
              " ('belief', 0.717257559299469),\n",
              " ('bastiat', 0.7083229422569275),\n",
              " ('hassan', 0.703590989112854),\n",
              " ('teets', 0.700646698474884)]"
            ]
          },
          "metadata": {
            "tags": []
          },
          "execution_count": 50
        }
      ]
    },
    {
      "cell_type": "code",
      "metadata": {
        "colab": {
          "base_uri": "https://localhost:8080/"
        },
        "id": "mxl6DXK9vxRR",
        "outputId": "c50bdcdb-9d1d-411c-fbe6-9c7a463b4f50"
      },
      "source": [
        "model.wv.most_similar(\"album\",topn=10)"
      ],
      "execution_count": 51,
      "outputs": [
        {
          "output_type": "execute_result",
          "data": {
            "text/plain": [
              "[('listened', 0.8081037402153015),\n",
              " ('invited', 0.7851409316062927),\n",
              " ('previously', 0.7755330204963684),\n",
              " ('pioneered', 0.7717604041099548),\n",
              " ('dynamite', 0.7670840620994568),\n",
              " ('jcole', 0.7665432691574097),\n",
              " ('surprising', 0.753007709980011),\n",
              " ('talked', 0.7487642168998718),\n",
              " ('listen', 0.7487235069274902),\n",
              " ('surprise', 0.7458373308181763)]"
            ]
          },
          "metadata": {
            "tags": []
          },
          "execution_count": 51
        }
      ]
    },
    {
      "cell_type": "code",
      "metadata": {
        "colab": {
          "base_uri": "https://localhost:8080/"
        },
        "id": "mLpihztJ3zGf",
        "outputId": "22cc8baa-1856-4427-f0be-08d2d4581753"
      },
      "source": [
        "# creating embedding matrix, every row is a vector representation from the vocabulary indexed by the tokenizer index. \n",
        "embedding_matrix=np.zeros((vocab_size,vector_size))\n",
        "for word,i in tokenizer.word_index.items():\n",
        "    if word in model_w2v:\n",
        "        embedding_matrix[i]=model_w2v[word]\n",
        "# creating document-word embeddings\n",
        "document_word_embeddings=np.zeros((len(tokenized_paded_documents),max_feature,vector_size))\n",
        "for i in range(len(tokenized_paded_documents)):\n",
        "    for j in range(len(tokenized_paded_documents[0])):\n",
        "        document_word_embeddings[i][j]=embedding_matrix[tokenized_paded_documents[i][j]]\n",
        "document_word_embeddings.shape"
      ],
      "execution_count": 52,
      "outputs": [
        {
          "output_type": "execute_result",
          "data": {
            "text/plain": [
              "(20, 53654, 32)"
            ]
          },
          "metadata": {
            "tags": []
          },
          "execution_count": 52
        }
      ]
    },
    {
      "cell_type": "code",
      "metadata": {
        "colab": {
          "base_uri": "https://localhost:8080/"
        },
        "id": "-t5v5VFP8il1",
        "outputId": "18fa80ec-9260-485f-e37a-681577f29601"
      },
      "source": [
        "embedding_matrix[tokenizer.word_index['kpop']]"
      ],
      "execution_count": 53,
      "outputs": [
        {
          "output_type": "execute_result",
          "data": {
            "text/plain": [
              "array([ 0.77277935, -0.06460083, -0.74197954, -0.19121847,  0.10651939,\n",
              "       -0.72443002, -0.17206942, -0.14683576, -0.37938577,  0.34291658,\n",
              "        0.0066812 , -0.84228891,  0.18180984, -0.32807183, -0.2433853 ,\n",
              "        0.44291854,  0.74692839, -0.7239151 ,  0.88094664, -0.54813045,\n",
              "        1.14617062, -0.41306737,  0.82859606,  0.03511152, -0.190953  ,\n",
              "        0.12269177, -0.31739089, -0.03584532, -0.12187279, -0.68515253,\n",
              "       -0.76915014, -0.08779287])"
            ]
          },
          "metadata": {
            "tags": []
          },
          "execution_count": 53
        }
      ]
    },
    {
      "cell_type": "code",
      "metadata": {
        "id": "lY87aWrE5zAR"
      },
      "source": [
        "# tf-idf vectors do not keep the original sequence of words, converting them into actual word sequences from the documents\n",
        "document_embeddings=np.zeros((len(tokenized_paded_documents),vector_size))\n",
        "words=tfidfvectoriser.get_feature_names()"
      ],
      "execution_count": 54,
      "outputs": []
    },
    {
      "cell_type": "code",
      "metadata": {
        "id": "40PDnYGG5zFS"
      },
      "source": [
        "for i in range(len(document_word_embeddings)):\n",
        "  for j in range(len(words)):\n",
        "      document_embeddings[i]+=embedding_matrix[tokenizer.word_index[words[j]]]*tfidf_vectors[i][j]\n",
        "document_embeddings=document_embeddings/np.sum(tfidf_vectors,axis=1).reshape(-1,1)"
      ],
      "execution_count": 55,
      "outputs": []
    },
    {
      "cell_type": "code",
      "metadata": {
        "id": "TCCChRnPEBVQ"
      },
      "source": [
        "pairwise_similarities2=cosine_similarity(document_embeddings)\n",
        "pairwise_differences2=euclidean_distances(document_embeddings)"
      ],
      "execution_count": 56,
      "outputs": []
    },
    {
      "cell_type": "code",
      "metadata": {
        "colab": {
          "base_uri": "https://localhost:8080/"
        },
        "id": "B4OdSeYed942",
        "outputId": "7f6a77c7-edf9-4fe0-e8e8-f541436aba98"
      },
      "source": [
        "for i in range(len(df_merge)):\n",
        "    print(i,\":\",df_merge.index[i])"
      ],
      "execution_count": 57,
      "outputs": [
        {
          "output_type": "stream",
          "text": [
            "0 : Adriene Mishler\n",
            "1 : Ally Love\n",
            "2 : BTS\n",
            "3 : Bad Bunny\n",
            "4 : Beyonce\n",
            "5 : BlackPink\n",
            "6 : Chinae Alexander\n",
            "7 : GFriend\n",
            "8 : Jerry Lorenzo\n",
            "9 : Karlie Kloss\n",
            "10 : Kerwin Frost\n",
            "11 : NCT\n",
            "12 : Naeun Son\n",
            "13 : Ninjas Hyper\n",
            "14 : Pharrell Williams\n",
            "15 : Seolhyun\n",
            "16 : Solar\n",
            "17 : Yara Shahidi\n",
            "18 : Zoe Saldana\n",
            "19 : iZone\n"
          ],
          "name": "stdout"
        }
      ]
    },
    {
      "cell_type": "code",
      "metadata": {
        "colab": {
          "base_uri": "https://localhost:8080/"
        },
        "id": "oDA28oDaGCWa",
        "outputId": "0dca1781-4247-494a-fa61-1354503c3882"
      },
      "source": [
        "most_similar(5,pairwise_similarities2,'Cosine Similarity') #most_similar(5,pairwise_differences2,'Euclidean Distance')"
      ],
      "execution_count": 58,
      "outputs": [
        {
          "output_type": "stream",
          "text": [
            "Document: documents    deleted camera suck noticed since album dday v...\n",
            "Name: BlackPink, dtype: object\n",
            "\n",
            "\n",
            "Similar Documents:\n",
            "Celebrity: NCT : 0.988126639726233\n",
            "Celebrity: iZone : 0.9840933356716458\n",
            "Celebrity: Solar : 0.9804480263533095\n",
            "Celebrity: BTS : 0.9773551860971278\n",
            "Celebrity: Naeun Son : 0.9740182190302626\n",
            "Celebrity: GFriend : 0.9739962507584092\n",
            "Celebrity: Beyonce : 0.9609475107502808\n",
            "Celebrity: Seolhyun : 0.9602238213055705\n",
            "Celebrity: Ally Love : 0.9565573191060359\n",
            "Celebrity: Zoe Saldana : 0.9531724326140566\n",
            "Celebrity: Jerry Lorenzo : 0.9501476145414024\n",
            "Celebrity: Bad Bunny : 0.9454061659610573\n",
            "Celebrity: Yara Shahidi : 0.9451414773614599\n",
            "Celebrity: Karlie Kloss : 0.935789520086869\n",
            "Celebrity: Kerwin Frost : 0.9302353442112984\n",
            "Celebrity: Pharrell Williams : 0.9241715625651554\n",
            "Celebrity: Ninjas Hyper : 0.9223248697237673\n",
            "Celebrity: Chinae Alexander : 0.8732276591029622\n",
            "Celebrity: Adriene Mishler : 0.8500278609500979\n"
          ],
          "name": "stdout"
        }
      ]
    },
    {
      "cell_type": "code",
      "metadata": {
        "colab": {
          "base_uri": "https://localhost:8080/"
        },
        "id": "dVdd8eolGHqj",
        "outputId": "2ec7982f-e26a-4205-c2dd-ecc4d4e775a5"
      },
      "source": [
        "most_similar(13,pairwise_similarities2,'Cosine Similarity')"
      ],
      "execution_count": 59,
      "outputs": [
        {
          "output_type": "stream",
          "text": [
            "Document: documents      thoguht hyper came thouht glider already cam...\n",
            "Name: Ninjas Hyper, dtype: object\n",
            "\n",
            "\n",
            "Similar Documents:\n",
            "Celebrity: Ally Love : 0.9518855926375056\n",
            "Celebrity: Jerry Lorenzo : 0.9451542079055322\n",
            "Celebrity: Yara Shahidi : 0.9451341225941053\n",
            "Celebrity: Chinae Alexander : 0.9380682938402194\n",
            "Celebrity: Bad Bunny : 0.9355682399501649\n",
            "Celebrity: NCT : 0.9235316945341204\n",
            "Celebrity: BlackPink : 0.9223248697237673\n",
            "Celebrity: Kerwin Frost : 0.9211978317047808\n",
            "Celebrity: Beyonce : 0.9208059597295435\n",
            "Celebrity: Solar : 0.9185731785248524\n",
            "Celebrity: Zoe Saldana : 0.9147846327617434\n",
            "Celebrity: iZone : 0.9147825289236904\n",
            "Celebrity: BTS : 0.910046608996171\n",
            "Celebrity: GFriend : 0.9088317774438871\n",
            "Celebrity: Naeun Son : 0.8939816599778141\n",
            "Celebrity: Karlie Kloss : 0.8841421667899639\n",
            "Celebrity: Pharrell Williams : 0.8817826552583412\n",
            "Celebrity: Seolhyun : 0.8788907132075058\n",
            "Celebrity: Adriene Mishler : 0.7729268880658977\n"
          ],
          "name": "stdout"
        }
      ]
    },
    {
      "cell_type": "code",
      "metadata": {
        "colab": {
          "base_uri": "https://localhost:8080/"
        },
        "id": "IlNf72IX-xPf",
        "outputId": "1e39307b-8860-42d3-c105-6f56d83cdd8b"
      },
      "source": [
        "most_similar(4,pairwise_similarities2,'Cosine Similarity') #most_similar(5,pairwise_differences2,'Euclidean Distance')"
      ],
      "execution_count": 60,
      "outputs": [
        {
          "output_type": "stream",
          "text": [
            "Document: documents    beyonce new soda pop obnoxious way write note ...\n",
            "Name: Beyonce, dtype: object\n",
            "\n",
            "\n",
            "Similar Documents:\n",
            "Celebrity: Zoe Saldana : 0.9990190226591077\n",
            "Celebrity: BlackPink : 0.9609475107502808\n",
            "Celebrity: NCT : 0.954587870101293\n",
            "Celebrity: Bad Bunny : 0.9540561533506211\n",
            "Celebrity: Pharrell Williams : 0.9538972403082145\n",
            "Celebrity: BTS : 0.9525568632245527\n",
            "Celebrity: Solar : 0.9521816239838274\n",
            "Celebrity: Naeun Son : 0.9509633106219129\n",
            "Celebrity: Yara Shahidi : 0.9465443266807936\n",
            "Celebrity: Karlie Kloss : 0.9440205106484143\n",
            "Celebrity: iZone : 0.9437049063248565\n",
            "Celebrity: Jerry Lorenzo : 0.9433354645067069\n",
            "Celebrity: Kerwin Frost : 0.9394107391977032\n",
            "Celebrity: GFriend : 0.9389407237886923\n",
            "Celebrity: Ally Love : 0.929961434787811\n",
            "Celebrity: Seolhyun : 0.9210656741646683\n",
            "Celebrity: Ninjas Hyper : 0.9208059597295435\n",
            "Celebrity: Chinae Alexander : 0.8814955795446007\n",
            "Celebrity: Adriene Mishler : 0.7957443632486244\n"
          ],
          "name": "stdout"
        }
      ]
    },
    {
      "cell_type": "code",
      "metadata": {
        "colab": {
          "base_uri": "https://localhost:8080/"
        },
        "id": "nubycjmo-xUq",
        "outputId": "9d6ece81-1ea6-4648-f93a-9a94f7275144"
      },
      "source": [
        "most_similar(12,pairwise_similarities2,'Cosine Similarity') #most_similar(5,pairwise_differences2,'Euclidean Distance')"
      ],
      "execution_count": 61,
      "outputs": [
        {
          "output_type": "stream",
          "text": [
            "Document: documents    bully compare irene scandal allegation true lo...\n",
            "Name: Naeun Son, dtype: object\n",
            "\n",
            "\n",
            "Similar Documents:\n",
            "Celebrity: iZone : 0.9892696485246559\n",
            "Celebrity: Solar : 0.9870124225141712\n",
            "Celebrity: NCT : 0.9842096528674684\n",
            "Celebrity: Seolhyun : 0.98327417256649\n",
            "Celebrity: BTS : 0.9827147710362689\n",
            "Celebrity: GFriend : 0.9780483888510311\n",
            "Celebrity: BlackPink : 0.9740182190302626\n",
            "Celebrity: Beyonce : 0.9509633106219129\n",
            "Celebrity: Ally Love : 0.9451126088249752\n",
            "Celebrity: Zoe Saldana : 0.9449952009598405\n",
            "Celebrity: Bad Bunny : 0.9394753057895053\n",
            "Celebrity: Yara Shahidi : 0.9296842711458398\n",
            "Celebrity: Jerry Lorenzo : 0.929391528023178\n",
            "Celebrity: Karlie Kloss : 0.9121899426963066\n",
            "Celebrity: Kerwin Frost : 0.901364086514188\n",
            "Celebrity: Pharrell Williams : 0.894199228815855\n",
            "Celebrity: Ninjas Hyper : 0.8939816599778141\n",
            "Celebrity: Chinae Alexander : 0.8789729270476289\n",
            "Celebrity: Adriene Mishler : 0.828078912234279\n"
          ],
          "name": "stdout"
        }
      ]
    },
    {
      "cell_type": "markdown",
      "metadata": {
        "id": "kbezdFfLxhqS"
      },
      "source": [
        "# Tfidf + GloVe with cosine similarity"
      ]
    },
    {
      "cell_type": "markdown",
      "metadata": {
        "id": "9FGv0_2ohae2"
      },
      "source": [
        "Get the pre-trained GloVe model from Stanford, at: https://figshare.com/articles/dataset/Twitter_pre-trained_word_vectors/11640300"
      ]
    },
    {
      "cell_type": "code",
      "metadata": {
        "id": "o6CxpXunxhqS"
      },
      "source": [
        "# reading Glove word embeddings into a dictionary with \"word\" as key and values as word vectors\n",
        "\n",
        "embeddings_index = dict()\n",
        "\n",
        "with open(\"glove.twitter.27B.200d.txt\") as file:\n",
        "    for line in file:\n",
        "        values = line.split()\n",
        "        word = values[0]\n",
        "        coefs = np.asarray(values[1:], dtype='float32')\n",
        "        embeddings_index[word] = coefs"
      ],
      "execution_count": 151,
      "outputs": []
    },
    {
      "cell_type": "code",
      "metadata": {
        "colab": {
          "base_uri": "https://localhost:8080/"
        },
        "id": "N1mpnMERvYpG",
        "outputId": "925a1ee1-c215-440e-d2cc-4fac7ab8689f"
      },
      "source": [
        "len(embeddings_index)"
      ],
      "execution_count": 152,
      "outputs": [
        {
          "output_type": "execute_result",
          "data": {
            "text/plain": [
              "980499"
            ]
          },
          "metadata": {
            "tags": []
          },
          "execution_count": 152
        }
      ]
    },
    {
      "cell_type": "code",
      "metadata": {
        "id": "n8Lrpj2Uh0eJ"
      },
      "source": [
        "# creating embedding matrix, every row is a vector representation from the vocabulary indexed by the tokenizer index. \n",
        "\n",
        "embedding_matrix=np.zeros((vocab_size,len(embeddings_index[\"key\"])))\n",
        "\n",
        "for word,i in tokenizer.word_index.items():\n",
        "    embedding_vector = embeddings_index.get(word)\n",
        "    if embedding_vector is not None:\n",
        "        embedding_matrix[i] = embedding_vector"
      ],
      "execution_count": 153,
      "outputs": []
    },
    {
      "cell_type": "code",
      "metadata": {
        "id": "7dSNDEfNwEJQ"
      },
      "source": [
        "# tf-idf vectors do not keep the original sequence of words, converting them into actual word sequences from the documents\n",
        "\n",
        "document_embeddings=np.zeros((len(tokenized_paded_documents),len(embeddings_index[\"key\"])))\n",
        "words=tfidfvectoriser.get_feature_names()\n",
        "\n",
        "for i in range(documents_df.shape[0]):\n",
        "    for j in range(len(words)):\n",
        "        document_embeddings[i]+=embedding_matrix[tokenizer.word_index[words[j]]]*tfidf_vectors[i][j]\n",
        "        \n",
        "document_embeddings=document_embeddings/np.sum(tfidf_vectors,axis=1).reshape(-1,1)"
      ],
      "execution_count": 154,
      "outputs": []
    },
    {
      "cell_type": "code",
      "metadata": {
        "colab": {
          "base_uri": "https://localhost:8080/"
        },
        "id": "ykqlhduawXUo",
        "outputId": "91f3a245-79f6-4446-e0d5-9a45d8c3db18"
      },
      "source": [
        "document_embeddings.shape"
      ],
      "execution_count": 155,
      "outputs": [
        {
          "output_type": "execute_result",
          "data": {
            "text/plain": [
              "(20, 200)"
            ]
          },
          "metadata": {
            "tags": []
          },
          "execution_count": 155
        }
      ]
    },
    {
      "cell_type": "code",
      "metadata": {
        "id": "NORyPWhdwcqZ"
      },
      "source": [
        "pairwise_similarities3=cosine_similarity(document_embeddings)\n",
        "pairwise_differences3=euclidean_distances(document_embeddings)"
      ],
      "execution_count": 156,
      "outputs": []
    },
    {
      "cell_type": "code",
      "metadata": {
        "colab": {
          "base_uri": "https://localhost:8080/"
        },
        "id": "ePqnZEMPwgjD",
        "outputId": "cffab303-8241-4587-b7d9-5daa39c36509"
      },
      "source": [
        "most_similar(5,pairwise_similarities3,'Cosine Similarity')"
      ],
      "execution_count": 157,
      "outputs": [
        {
          "output_type": "stream",
          "text": [
            "Document: documents    cute someone fix neck hey thinker great post t...\n",
            "Name: BlackPink, dtype: object\n",
            "\n",
            "\n",
            "Similar Documents:\n",
            "Celebrity: iZone : 0.9986147186201472\n",
            "Celebrity: BTS : 0.9983209532295985\n",
            "Celebrity: GFriend : 0.9982327167351418\n",
            "Celebrity: Solar : 0.9981660576630863\n",
            "Celebrity: NCT : 0.9980128366889742\n",
            "Celebrity: Seolhyun : 0.9963437236349071\n",
            "Celebrity: Naeun Son : 0.9945692421547004\n",
            "Celebrity: Yara Shahidi : 0.9934696933776209\n",
            "Celebrity: Ally Love : 0.993342570324519\n",
            "Celebrity: Karlie Kloss : 0.9927576865787932\n",
            "Celebrity: Zoe Saldana : 0.9918334900261311\n",
            "Celebrity: Beyonce : 0.991796426695931\n",
            "Celebrity: Bad Bunny : 0.990911168873496\n",
            "Celebrity: Kerwin Frost : 0.9896617102851425\n",
            "Celebrity: Jerry Lorenzo : 0.9886843404633153\n",
            "Celebrity: Pharrell Williams : 0.9882151526271628\n",
            "Celebrity: Ninjas Hyper : 0.9862473770232395\n",
            "Celebrity: Chinae Alexander : 0.975340574283\n",
            "Celebrity: Adriene Mishler : 0.9709562089288194\n"
          ],
          "name": "stdout"
        }
      ]
    },
    {
      "cell_type": "code",
      "metadata": {
        "colab": {
          "base_uri": "https://localhost:8080/"
        },
        "id": "D9zi9cCLwifv",
        "outputId": "d0591d5f-0d5f-4f3b-d01a-8c67ba5cb723"
      },
      "source": [
        "most_similar(5,pairwise_differences3,'Euclidean Distance')"
      ],
      "execution_count": 158,
      "outputs": [
        {
          "output_type": "stream",
          "text": [
            "Document: documents    cute someone fix neck hey thinker great post t...\n",
            "Name: BlackPink, dtype: object\n",
            "\n",
            "\n",
            "Similar Documents:\n",
            "Celebrity: BTS : 0.22204474943420463\n",
            "Celebrity: iZone : 0.24297856543285398\n",
            "Celebrity: Solar : 0.2481551325366072\n",
            "Celebrity: GFriend : 0.32833901579826597\n",
            "Celebrity: Seolhyun : 0.33258690928254375\n",
            "Celebrity: NCT : 0.3444528043067681\n",
            "Celebrity: Naeun Son : 0.42734693277066327\n",
            "Celebrity: Karlie Kloss : 0.46089980951574056\n",
            "Celebrity: Yara Shahidi : 0.4706895403466627\n",
            "Celebrity: Zoe Saldana : 0.48987314908305296\n",
            "Celebrity: Beyonce : 0.49094123876218976\n",
            "Celebrity: Bad Bunny : 0.519789636872434\n",
            "Celebrity: Ally Love : 0.5574818882642636\n",
            "Celebrity: Jerry Lorenzo : 0.581787054633393\n",
            "Celebrity: Pharrell Williams : 0.5880021849336043\n",
            "Celebrity: Kerwin Frost : 0.6219333577007011\n",
            "Celebrity: Ninjas Hyper : 0.6342943485838276\n",
            "Celebrity: Chinae Alexander : 0.8664561165334612\n",
            "Celebrity: Adriene Mishler : 1.1600514720747888\n"
          ],
          "name": "stdout"
        }
      ]
    },
    {
      "cell_type": "markdown",
      "metadata": {
        "id": "UX2R0mpex7vJ"
      },
      "source": [
        "# Doc2vec with cosine similarity\n",
        "\n",
        "\n"
      ]
    },
    {
      "cell_type": "code",
      "metadata": {
        "colab": {
          "base_uri": "https://localhost:8080/"
        },
        "id": "pKamHbAmxoeI",
        "outputId": "ca4df312-947d-4864-b181-c4005f1c9f72"
      },
      "source": [
        "from gensim.models.doc2vec import Doc2Vec, TaggedDocument\n",
        "from nltk.tokenize import word_tokenize\n",
        "nltk.download('punkt')"
      ],
      "execution_count": 120,
      "outputs": [
        {
          "output_type": "stream",
          "text": [
            "[nltk_data] Downloading package punkt to /root/nltk_data...\n",
            "[nltk_data]   Package punkt is already up-to-date!\n"
          ],
          "name": "stdout"
        },
        {
          "output_type": "execute_result",
          "data": {
            "text/plain": [
              "True"
            ]
          },
          "metadata": {
            "tags": []
          },
          "execution_count": 120
        }
      ]
    },
    {
      "cell_type": "code",
      "metadata": {
        "id": "dKVAm5TQyEUJ"
      },
      "source": [
        "tagged_data = [TaggedDocument(words=word_tokenize(doc), tags=[index]) for index, doc in enumerate(documents_df.documents)]"
      ],
      "execution_count": 154,
      "outputs": []
    },
    {
      "cell_type": "code",
      "metadata": {
        "id": "R-V7aNBMyMRw"
      },
      "source": [
        "model_d2v = Doc2Vec(vector_size=200,alpha=0.025, \n",
        "                    min_count=1,\n",
        "                    window=15, \n",
        "                    negative=10, \n",
        "                    dm_mean=1,\n",
        "                    dbow_words=1\n",
        "                    )\n",
        "  \n",
        "model_d2v.build_vocab(tagged_data)\n",
        "\n",
        "for epoch in range(200):\n",
        "    model_d2v.train(tagged_data,\n",
        "                total_examples=model_d2v.corpus_count,\n",
        "                epochs=model_d2v.epochs)"
      ],
      "execution_count": 163,
      "outputs": []
    },
    {
      "cell_type": "code",
      "metadata": {
        "id": "BW8QxMkoyieu"
      },
      "source": [
        "document_embeddings=np.zeros((documents_df.shape[0],200))\n",
        "\n",
        "for i in range(len(document_embeddings)):\n",
        "    document_embeddings[i]=model_d2v.docvecs[i]"
      ],
      "execution_count": 164,
      "outputs": []
    },
    {
      "cell_type": "code",
      "metadata": {
        "id": "0-TJUW7WzFM8"
      },
      "source": [
        "pairwise_similarities4=cosine_similarity(document_embeddings)\n",
        "pairwise_differences4=euclidean_distances(document_embeddings)"
      ],
      "execution_count": 165,
      "outputs": []
    },
    {
      "cell_type": "code",
      "metadata": {
        "colab": {
          "base_uri": "https://localhost:8080/"
        },
        "id": "PqPwdUISzF2O",
        "outputId": "87f7550f-04cc-41bf-ec0d-e90a1c7be743"
      },
      "source": [
        "most_similar(5,pairwise_similarities4,'Cosine Similarity')"
      ],
      "execution_count": 166,
      "outputs": [
        {
          "output_type": "stream",
          "text": [
            "Document: documents    cute someone fix neck hey thinker great post t...\n",
            "Name: BlackPink, dtype: object\n",
            "\n",
            "\n",
            "Similar Documents:\n",
            "Celebrity: Naeun Son : 0.9532936044514828\n",
            "Celebrity: BTS : 0.9527094450557538\n",
            "Celebrity: GFriend : 0.9496424667579314\n",
            "Celebrity: Solar : 0.9490676454970279\n",
            "Celebrity: Beyonce : 0.9489000390054098\n",
            "Celebrity: iZone : 0.9471757897682429\n",
            "Celebrity: NCT : 0.946129480248482\n",
            "Celebrity: Bad Bunny : 0.9454458585754192\n",
            "Celebrity: Zoe Saldana : 0.9453162151296085\n",
            "Celebrity: Chinae Alexander : 0.9440401597176502\n",
            "Celebrity: Ally Love : 0.9411788655820581\n",
            "Celebrity: Jerry Lorenzo : 0.940393321210593\n",
            "Celebrity: Ninjas Hyper : 0.9368134333631974\n",
            "Celebrity: Seolhyun : 0.9359839708528181\n",
            "Celebrity: Karlie Kloss : 0.9280650087730549\n",
            "Celebrity: Pharrell Williams : 0.9274005255266431\n",
            "Celebrity: Kerwin Frost : 0.9170355502833284\n",
            "Celebrity: Yara Shahidi : 0.9022188446436693\n",
            "Celebrity: Adriene Mishler : 0.8660213846534885\n"
          ],
          "name": "stdout"
        }
      ]
    },
    {
      "cell_type": "code",
      "metadata": {
        "colab": {
          "base_uri": "https://localhost:8080/"
        },
        "id": "rCiMRVVuzI0y",
        "outputId": "2d8e3bea-ca79-4f2b-c8aa-9db29f050119"
      },
      "source": [
        "most_similar(5,pairwise_differences4,'Euclidean Distance')"
      ],
      "execution_count": 167,
      "outputs": [
        {
          "output_type": "stream",
          "text": [
            "Document: documents    cute someone fix neck hey thinker great post t...\n",
            "Name: BlackPink, dtype: object\n",
            "\n",
            "\n",
            "Similar Documents:\n",
            "Celebrity: Naeun Son : 29.73081153144812\n",
            "Celebrity: BTS : 30.16684669021789\n",
            "Celebrity: GFriend : 30.898473157575935\n",
            "Celebrity: Solar : 31.12984106151588\n",
            "Celebrity: iZone : 31.772186034807284\n",
            "Celebrity: NCT : 32.113347746757725\n",
            "Celebrity: Bad Bunny : 33.63302798847993\n",
            "Celebrity: Beyonce : 34.38650994456916\n",
            "Celebrity: Seolhyun : 35.76458960487477\n",
            "Celebrity: Zoe Saldana : 35.85441841989864\n",
            "Celebrity: Ally Love : 36.31135418444681\n",
            "Celebrity: Chinae Alexander : 36.471290116292224\n",
            "Celebrity: Jerry Lorenzo : 37.07216804082898\n",
            "Celebrity: Ninjas Hyper : 39.41940215094015\n",
            "Celebrity: Pharrell Williams : 40.32330367023687\n",
            "Celebrity: Karlie Kloss : 40.37005096249041\n",
            "Celebrity: Kerwin Frost : 42.8547997704036\n",
            "Celebrity: Yara Shahidi : 48.46079103946066\n",
            "Celebrity: Adriene Mishler : 50.904733370976814\n"
          ],
          "name": "stdout"
        }
      ]
    },
    {
      "cell_type": "markdown",
      "metadata": {
        "id": "UIx21Vyl1mSf"
      },
      "source": [
        "# BERT model for sentence embedding"
      ]
    },
    {
      "cell_type": "code",
      "metadata": {
        "id": "Zi3OhxtvzdhP"
      },
      "source": [
        "from sentence_transformers import SentenceTransformer"
      ],
      "execution_count": 45,
      "outputs": []
    },
    {
      "cell_type": "markdown",
      "metadata": {
        "id": "QC-2f1dE8nd7"
      },
      "source": [
        "Pre-trained model: https://www.sbert.net/docs/pretrained_models.html"
      ]
    },
    {
      "cell_type": "markdown",
      "metadata": {
        "id": "-nlecf7P98So"
      },
      "source": [
        "##### Paraphrase Identification\n",
        "The following models are recommended for various applications, as they were trained on Millions of paraphrase examples. They create extremely good results for various similarity and retrieval tasks. They are currently under development, better versions and more details will be released in future. But they many tasks they work better than the NLI / STSb models.\n",
        "\n",
        "**paraphrase-distilroberta-base-v1 - Trained on large scale paraphrase data.**\n",
        "\n",
        "**paraphrase-xlm-r-multilingual-v1 - Multilingual version of** \n",
        "\n",
        "**paraphrase-distilroberta-base-v1, trained on parallel data for 50+ languages.** \n",
        "\n",
        "(Teacher: paraphrase-distilroberta-base-v1, Student: xlm-r-base)\n",
        "\n",
        "##### Semantic Textual Similarity\n",
        "The following models were optimized for Semantic Textual Similarity (STS). They were trained on SNLI+MultiNLI and then fine-tuned on the STS benchmark train set.\n",
        "\n",
        "The best available models for STS are:\n",
        "\n",
        "**stsb-roberta-large - STSb performance: 86.39**\n",
        "\n",
        "**stsb-roberta-base - STSb performance: 85.44**\n",
        "\n",
        "**stsb-bert-large - STSb performance: 85.29**\n",
        "\n",
        "**stsb-distilbert-base - STSb performance: 85.16**\n",
        "\n",
        "» Full List of STS Models\n",
        "\n",
        "##### Duplicate Questions Detection\n",
        "The following models were trained for duplicate questions mining and duplicate questions retrieval. You can use them to detect duplicate questions in a large corpus (see paraphrase mining) or to search for similar questions (see semantic search).\n",
        "\n",
        "Available models:\n",
        "\n",
        "**quora-distilbert-base - Model first tuned on NLI+STSb data, then fine-tune* for Quora Duplicate Questions detection retrieval.**\n",
        "\n",
        "**quora-distilbert-multilingual - Multilingual version of quora-distilbert-base. Fine-tuned with parallel data for 50+ languages.**\n",
        "\n",
        "##### Question-Answer Retrieval - MSMARCO\n",
        "The following models were trained on MSMARCO Passage Ranking, a dataset with 500k real queries from Bing search. Given a search query, find the relevant passages.\n",
        "\n",
        "**msmarco-distilbert-base-v3: MRR@10: 33.13 on MS MARCO dev set**\n",
        "\n",
        "**msmarco-roberta-base-ance-fristp: MRR@10: 33.03 on MS MARCO dev set**"
      ]
    },
    {
      "cell_type": "code",
      "metadata": {
        "colab": {
          "base_uri": "https://localhost:8080/",
          "height": 0,
          "referenced_widgets": [
            "507072c318de4d2493639e779af5738c",
            "a3499f025d934628a8cc175fda1f3f69",
            "51dde58090fd481fa70f9e1bbce86b65",
            "142241e63adb4267ba1de962a9cfc08d",
            "b09eb711dd81408e85d61933ee0abe89",
            "ad80e1d471fc46e99997ebcc2c1407e4",
            "b392784df82147e282b05c5bc3defa0e",
            "5daaee3f2d834463a8a10853713036e8"
          ]
        },
        "id": "FXEzJEUm1lmZ",
        "outputId": "9d9ffee8-dfce-4449-aabf-61b2c873d118"
      },
      "source": [
        "sbert_model = SentenceTransformer('stsb-bert-large')"
      ],
      "execution_count": 192,
      "outputs": [
        {
          "output_type": "display_data",
          "data": {
            "application/vnd.jupyter.widget-view+json": {
              "model_id": "507072c318de4d2493639e779af5738c",
              "version_minor": 0,
              "version_major": 2
            },
            "text/plain": [
              "HBox(children=(FloatProgress(value=0.0, max=1243516997.0), HTML(value='')))"
            ]
          },
          "metadata": {
            "tags": []
          }
        },
        {
          "output_type": "stream",
          "text": [
            "\n"
          ],
          "name": "stdout"
        }
      ]
    },
    {
      "cell_type": "code",
      "metadata": {
        "id": "4cxoGIwR6o_G"
      },
      "source": [
        "document_embeddings = sbert_model.encode(documents_df['documents'])"
      ],
      "execution_count": 193,
      "outputs": []
    },
    {
      "cell_type": "code",
      "metadata": {
        "colab": {
          "base_uri": "https://localhost:8080/"
        },
        "id": "aFD_hb2C7oZu",
        "outputId": "4c6f23c6-67a6-40fa-8b47-de7eb250468a"
      },
      "source": [
        "len(document_embeddings)"
      ],
      "execution_count": 194,
      "outputs": [
        {
          "output_type": "execute_result",
          "data": {
            "text/plain": [
              "20"
            ]
          },
          "metadata": {
            "tags": []
          },
          "execution_count": 194
        }
      ]
    },
    {
      "cell_type": "code",
      "metadata": {
        "id": "MZ3yWyhA6xbJ"
      },
      "source": [
        "pairwise_similarities5=cosine_similarity(document_embeddings)\n",
        "pairwise_differences5=euclidean_distances(document_embeddings)"
      ],
      "execution_count": 195,
      "outputs": []
    },
    {
      "cell_type": "code",
      "metadata": {
        "colab": {
          "base_uri": "https://localhost:8080/"
        },
        "id": "lvn7XfhiZ-Sa",
        "outputId": "15ba39c3-3722-47f4-a413-60b79cccbddc"
      },
      "source": [
        "for i in range(len(df_merge.index)):\n",
        "  print(i,\":\",df_merge.index[i])"
      ],
      "execution_count": 196,
      "outputs": [
        {
          "output_type": "stream",
          "text": [
            "0 : Adriene Mishler\n",
            "1 : Ally Love\n",
            "2 : BTS\n",
            "3 : Bad Bunny\n",
            "4 : Beyonce\n",
            "5 : BlackPink\n",
            "6 : Chinae Alexander\n",
            "7 : GFriend\n",
            "8 : Jerry Lorenzo\n",
            "9 : Karlie Kloss\n",
            "10 : Kerwin Frost\n",
            "11 : NCT\n",
            "12 : Naeun Son\n",
            "13 : Ninjas Hyper\n",
            "14 : Pharrell Williams\n",
            "15 : Seolhyun\n",
            "16 : Solar\n",
            "17 : Yara Shahidi\n",
            "18 : Zoe Saldana\n",
            "19 : iZone\n"
          ],
          "name": "stdout"
        }
      ]
    },
    {
      "cell_type": "code",
      "metadata": {
        "colab": {
          "base_uri": "https://localhost:8080/"
        },
        "id": "tHISzBQ361-b",
        "outputId": "65be2ec6-cca6-4cf1-b21e-45a99e8d46bd"
      },
      "source": [
        "most_similar(5,pairwise_similarities5,'Cosine Similarity')"
      ],
      "execution_count": 197,
      "outputs": [
        {
          "output_type": "stream",
          "text": [
            "Document: documents    cute someone fix neck hey thinker great post t...\n",
            "Name: BlackPink, dtype: object\n",
            "\n",
            "\n",
            "Similar Documents:\n",
            "Celebrity: Pharrell Williams : 0.7075412\n",
            "Celebrity: Karlie Kloss : 0.68185306\n",
            "Celebrity: Zoe Saldana : 0.65860915\n",
            "Celebrity: Beyonce : 0.65860915\n",
            "Celebrity: Yara Shahidi : 0.625318\n",
            "Celebrity: Ally Love : 0.62436926\n",
            "Celebrity: GFriend : 0.56523216\n",
            "Celebrity: Adriene Mishler : 0.5646051\n",
            "Celebrity: NCT : 0.5564555\n",
            "Celebrity: BTS : 0.51107275\n",
            "Celebrity: Bad Bunny : 0.50973934\n",
            "Celebrity: Solar : 0.49988914\n",
            "Celebrity: Jerry Lorenzo : 0.48019633\n",
            "Celebrity: Ninjas Hyper : 0.47468945\n",
            "Celebrity: Kerwin Frost : 0.44876078\n",
            "Celebrity: iZone : 0.4053278\n",
            "Celebrity: Naeun Son : 0.36872032\n",
            "Celebrity: Seolhyun : 0.36180216\n",
            "Celebrity: Chinae Alexander : 0.3482866\n"
          ],
          "name": "stdout"
        }
      ]
    },
    {
      "cell_type": "code",
      "metadata": {
        "colab": {
          "base_uri": "https://localhost:8080/"
        },
        "id": "MErDGkSz62F5",
        "outputId": "6f0ec9d1-8f3e-43a9-b219-f3188ef92735"
      },
      "source": [
        "most_similar(5,pairwise_differences5,'Euclidean Distance')"
      ],
      "execution_count": 191,
      "outputs": [
        {
          "output_type": "stream",
          "text": [
            "Document: documents    cute someone fix neck hey thinker great post t...\n",
            "Name: BlackPink, dtype: object\n",
            "\n",
            "\n",
            "Similar Documents:\n",
            "Celebrity: Pharrell Williams : 10.804895\n",
            "Celebrity: Zoe Saldana : 11.465481\n",
            "Celebrity: Beyonce : 11.465481\n",
            "Celebrity: Yara Shahidi : 12.098975\n",
            "Celebrity: Adriene Mishler : 13.202191\n",
            "Celebrity: Karlie Kloss : 13.329329\n",
            "Celebrity: Jerry Lorenzo : 13.446043\n",
            "Celebrity: Ally Love : 13.447281\n",
            "Celebrity: Bad Bunny : 14.777736\n",
            "Celebrity: NCT : 14.902348\n",
            "Celebrity: Chinae Alexander : 15.251679\n",
            "Celebrity: Solar : 15.393733\n",
            "Celebrity: Ninjas Hyper : 15.755608\n",
            "Celebrity: BTS : 15.821575\n",
            "Celebrity: Seolhyun : 16.018211\n",
            "Celebrity: GFriend : 16.039948\n",
            "Celebrity: iZone : 16.212719\n",
            "Celebrity: Kerwin Frost : 16.625265\n",
            "Celebrity: Naeun Son : 18.085722\n"
          ],
          "name": "stdout"
        }
      ]
    },
    {
      "cell_type": "markdown",
      "metadata": {
        "id": "VPeUxgRWCAwE"
      },
      "source": [
        "# Sent2vec"
      ]
    },
    {
      "cell_type": "code",
      "metadata": {
        "colab": {
          "base_uri": "https://localhost:8080/"
        },
        "id": "Ka_dblkbjDJV",
        "outputId": "70459670-4f42-4681-d865-47bb2239103a"
      },
      "source": [
        "pip install sent2vec"
      ],
      "execution_count": 25,
      "outputs": [
        {
          "output_type": "stream",
          "text": [
            "Collecting sent2vec\n",
            "  Downloading https://files.pythonhosted.org/packages/4e/c6/1f57065edbc772d9529e4a5f75cb812f29bcc2bf59b8e4c34c8ecfd83fe3/sent2vec-0.2.0-py3-none-any.whl\n",
            "Requirement already satisfied: torch in /usr/local/lib/python3.7/dist-packages (from sent2vec) (1.8.1+cu101)\n",
            "Requirement already satisfied: gensim in /usr/local/lib/python3.7/dist-packages (from sent2vec) (3.6.0)\n",
            "Requirement already satisfied: numpy in /usr/local/lib/python3.7/dist-packages (from sent2vec) (1.19.5)\n",
            "Collecting transformers\n",
            "\u001b[?25l  Downloading https://files.pythonhosted.org/packages/ed/d5/f4157a376b8a79489a76ce6cfe147f4f3be1e029b7144fa7b8432e8acb26/transformers-4.4.2-py3-none-any.whl (2.0MB)\n",
            "\u001b[K     |████████████████████████████████| 2.0MB 4.9MB/s \n",
            "\u001b[?25hRequirement already satisfied: spacy in /usr/local/lib/python3.7/dist-packages (from sent2vec) (2.2.4)\n",
            "Requirement already satisfied: typing-extensions in /usr/local/lib/python3.7/dist-packages (from torch->sent2vec) (3.7.4.3)\n",
            "Requirement already satisfied: six>=1.5.0 in /usr/local/lib/python3.7/dist-packages (from gensim->sent2vec) (1.15.0)\n",
            "Requirement already satisfied: smart-open>=1.2.1 in /usr/local/lib/python3.7/dist-packages (from gensim->sent2vec) (4.2.0)\n",
            "Requirement already satisfied: scipy>=0.18.1 in /usr/local/lib/python3.7/dist-packages (from gensim->sent2vec) (1.4.1)\n",
            "Requirement already satisfied: filelock in /usr/local/lib/python3.7/dist-packages (from transformers->sent2vec) (3.0.12)\n",
            "Collecting tokenizers<0.11,>=0.10.1\n",
            "\u001b[?25l  Downloading https://files.pythonhosted.org/packages/71/23/2ddc317b2121117bf34dd00f5b0de194158f2a44ee2bf5e47c7166878a97/tokenizers-0.10.1-cp37-cp37m-manylinux2010_x86_64.whl (3.2MB)\n",
            "\u001b[K     |████████████████████████████████| 3.2MB 22.6MB/s \n",
            "\u001b[?25hRequirement already satisfied: tqdm>=4.27 in /usr/local/lib/python3.7/dist-packages (from transformers->sent2vec) (4.41.1)\n",
            "Requirement already satisfied: importlib-metadata; python_version < \"3.8\" in /usr/local/lib/python3.7/dist-packages (from transformers->sent2vec) (3.8.1)\n",
            "Requirement already satisfied: packaging in /usr/local/lib/python3.7/dist-packages (from transformers->sent2vec) (20.9)\n",
            "Requirement already satisfied: requests in /usr/local/lib/python3.7/dist-packages (from transformers->sent2vec) (2.23.0)\n",
            "Requirement already satisfied: regex!=2019.12.17 in /usr/local/lib/python3.7/dist-packages (from transformers->sent2vec) (2019.12.20)\n",
            "Collecting sacremoses\n",
            "\u001b[?25l  Downloading https://files.pythonhosted.org/packages/08/cd/342e584ee544d044fb573ae697404ce22ede086c9e87ce5960772084cad0/sacremoses-0.0.44.tar.gz (862kB)\n",
            "\u001b[K     |████████████████████████████████| 870kB 36.9MB/s \n",
            "\u001b[?25hRequirement already satisfied: catalogue<1.1.0,>=0.0.7 in /usr/local/lib/python3.7/dist-packages (from spacy->sent2vec) (1.0.0)\n",
            "Requirement already satisfied: murmurhash<1.1.0,>=0.28.0 in /usr/local/lib/python3.7/dist-packages (from spacy->sent2vec) (1.0.5)\n",
            "Requirement already satisfied: thinc==7.4.0 in /usr/local/lib/python3.7/dist-packages (from spacy->sent2vec) (7.4.0)\n",
            "Requirement already satisfied: plac<1.2.0,>=0.9.6 in /usr/local/lib/python3.7/dist-packages (from spacy->sent2vec) (1.1.3)\n",
            "Requirement already satisfied: preshed<3.1.0,>=3.0.2 in /usr/local/lib/python3.7/dist-packages (from spacy->sent2vec) (3.0.5)\n",
            "Requirement already satisfied: wasabi<1.1.0,>=0.4.0 in /usr/local/lib/python3.7/dist-packages (from spacy->sent2vec) (0.8.2)\n",
            "Requirement already satisfied: setuptools in /usr/local/lib/python3.7/dist-packages (from spacy->sent2vec) (54.2.0)\n",
            "Requirement already satisfied: blis<0.5.0,>=0.4.0 in /usr/local/lib/python3.7/dist-packages (from spacy->sent2vec) (0.4.1)\n",
            "Requirement already satisfied: srsly<1.1.0,>=1.0.2 in /usr/local/lib/python3.7/dist-packages (from spacy->sent2vec) (1.0.5)\n",
            "Requirement already satisfied: cymem<2.1.0,>=2.0.2 in /usr/local/lib/python3.7/dist-packages (from spacy->sent2vec) (2.0.5)\n",
            "Requirement already satisfied: zipp>=0.5 in /usr/local/lib/python3.7/dist-packages (from importlib-metadata; python_version < \"3.8\"->transformers->sent2vec) (3.4.1)\n",
            "Requirement already satisfied: pyparsing>=2.0.2 in /usr/local/lib/python3.7/dist-packages (from packaging->transformers->sent2vec) (2.4.7)\n",
            "Requirement already satisfied: idna<3,>=2.5 in /usr/local/lib/python3.7/dist-packages (from requests->transformers->sent2vec) (2.10)\n",
            "Requirement already satisfied: certifi>=2017.4.17 in /usr/local/lib/python3.7/dist-packages (from requests->transformers->sent2vec) (2020.12.5)\n",
            "Requirement already satisfied: chardet<4,>=3.0.2 in /usr/local/lib/python3.7/dist-packages (from requests->transformers->sent2vec) (3.0.4)\n",
            "Requirement already satisfied: urllib3!=1.25.0,!=1.25.1,<1.26,>=1.21.1 in /usr/local/lib/python3.7/dist-packages (from requests->transformers->sent2vec) (1.24.3)\n",
            "Requirement already satisfied: click in /usr/local/lib/python3.7/dist-packages (from sacremoses->transformers->sent2vec) (7.1.2)\n",
            "Requirement already satisfied: joblib in /usr/local/lib/python3.7/dist-packages (from sacremoses->transformers->sent2vec) (1.0.1)\n",
            "Building wheels for collected packages: sacremoses\n",
            "  Building wheel for sacremoses (setup.py) ... \u001b[?25l\u001b[?25hdone\n",
            "  Created wheel for sacremoses: filename=sacremoses-0.0.44-cp37-none-any.whl size=886084 sha256=7d250715e897b4eea85148369bdac29562cce62fd3ca8538adde7525da93e004\n",
            "  Stored in directory: /root/.cache/pip/wheels/3e/fb/c0/13ab4d63d537658f448366744654323077c4d90069b6512f3c\n",
            "Successfully built sacremoses\n",
            "Installing collected packages: tokenizers, sacremoses, transformers, sent2vec\n",
            "Successfully installed sacremoses-0.0.44 sent2vec-0.2.0 tokenizers-0.10.1 transformers-4.4.2\n"
          ],
          "name": "stdout"
        }
      ]
    },
    {
      "cell_type": "code",
      "metadata": {
        "id": "wBbH_vBCOfMQ"
      },
      "source": [
        "from scipy import spatial\n",
        "from sent2vec.vectorizer import Vectorizer"
      ],
      "execution_count": 26,
      "outputs": []
    },
    {
      "cell_type": "code",
      "metadata": {
        "colab": {
          "base_uri": "https://localhost:8080/"
        },
        "id": "tlIiaN0mt_GP",
        "outputId": "77ff770f-bfc3-4905-9e48-e6f33ac11017"
      },
      "source": [
        "string = []\n",
        "for i in documents_df.documents.to_list():\n",
        "  string.append(str(i))\n",
        "\n",
        "print(len(string))"
      ],
      "execution_count": 42,
      "outputs": [
        {
          "output_type": "stream",
          "text": [
            "20\n"
          ],
          "name": "stdout"
        }
      ]
    },
    {
      "cell_type": "code",
      "metadata": {
        "id": "FXbPgCZ0jRrl"
      },
      "source": [
        "sentences = str(documents_df.documents.to_list())\n",
        "\n",
        "vectorizer = Vectorizer()\n",
        "vectorizer.bert(sentences)\n",
        "vectors_bert = vectorizer.vectors"
      ],
      "execution_count": null,
      "outputs": []
    },
    {
      "cell_type": "code",
      "metadata": {
        "id": "nO3FAXqhjXSp"
      },
      "source": [
        "dist_1 = spatial.distance.cosine(vectors_bert[0], vectors_bert[1])\n",
        "dist_2 = spatial.distance.cosine(vectors_bert[0], vectors_bert[2])\n",
        "print('dist_1: {0}, dist_2: {1}'.format(dist_1, dist_2))\n",
        "# dist_1: 0.043, dist_2: 0.192"
      ],
      "execution_count": null,
      "outputs": []
    }
  ]
}