{
 "cells": [
  {
   "cell_type": "code",
   "execution_count": 67,
   "metadata": {},
   "outputs": [
    {
     "name": "stderr",
     "output_type": "stream",
     "text": [
      "C:\\Users\\bhamp\\anaconda3\\lib\\site-packages\\ipykernel\\ipkernel.py:287: DeprecationWarning: `should_run_async` will not call `transform_cell` automatically in the future. Please pass the result to `transformed_cell` argument and any exception that happen during thetransform in `preprocessing_exc_tuple` in IPython 7.17 and above.\n",
      "  and should_run_async(code)\n"
     ]
    },
    {
     "data": {
      "text/html": [
       "<div>\n",
       "<style scoped>\n",
       "    .dataframe tbody tr th:only-of-type {\n",
       "        vertical-align: middle;\n",
       "    }\n",
       "\n",
       "    .dataframe tbody tr th {\n",
       "        vertical-align: top;\n",
       "    }\n",
       "\n",
       "    .dataframe thead th {\n",
       "        text-align: right;\n",
       "    }\n",
       "</style>\n",
       "<table border=\"1\" class=\"dataframe\">\n",
       "  <thead>\n",
       "    <tr style=\"text-align: right;\">\n",
       "      <th></th>\n",
       "      <th>MsgID</th>\n",
       "      <th>Timestamp</th>\n",
       "      <th>Author</th>\n",
       "      <th>ThreadID</th>\n",
       "      <th>ThreadTitle</th>\n",
       "      <th>MsgBody</th>\n",
       "      <th>ReplyTo</th>\n",
       "      <th>Permalink</th>\n",
       "    </tr>\n",
       "  </thead>\n",
       "  <tbody>\n",
       "    <tr>\n",
       "      <th>0</th>\n",
       "      <td>'grd7uya'</td>\n",
       "      <td>'2021-03-18 15:57:53'</td>\n",
       "      <td>'radhumandummy'</td>\n",
       "      <td>'m7sm9j'</td>\n",
       "      <td>'everything was perfect✨ (210318)'</td>\n",
       "      <td>'https://www.instagram.com/p/CMkDC3ohi5I/  htt...</td>\n",
       "      <td>'-'</td>\n",
       "      <td>'/r/naeun/comments/m7sm9j/everything_was_perfe...</td>\n",
       "    </tr>\n",
       "    <tr>\n",
       "      <th>1</th>\n",
       "      <td>'gqfjqx9'</td>\n",
       "      <td>'2021-03-10 11:15:14'</td>\n",
       "      <td>'radhumandummy'</td>\n",
       "      <td>'m1ue5q'</td>\n",
       "      <td>'My favorite time of the day☀️ (210310)'</td>\n",
       "      <td>'https://www.instagram.com/p/CMO_LWTh3i_/'</td>\n",
       "      <td>'-'</td>\n",
       "      <td>'/r/naeun/comments/m1ue5q/my_favorite_time_of_...</td>\n",
       "    </tr>\n",
       "    <tr>\n",
       "      <th>2</th>\n",
       "      <td>'gpixfqk'</td>\n",
       "      <td>'2021-03-03 13:07:20'</td>\n",
       "      <td>'radhumandummy'</td>\n",
       "      <td>'lwsd3r'</td>\n",
       "      <td>'Untitled photos (210303)'</td>\n",
       "      <td>'https://www.instagram.com/p/CL9KI8uhkkG/  htt...</td>\n",
       "      <td>'-'</td>\n",
       "      <td>'/r/naeun/comments/lwsd3r/untitled_photos_2103...</td>\n",
       "    </tr>\n",
       "    <tr>\n",
       "      <th>3</th>\n",
       "      <td>'gnnnhs2'</td>\n",
       "      <td>'2021-02-16 16:50:36'</td>\n",
       "      <td>'radhumandummy'</td>\n",
       "      <td>'ll6n04'</td>\n",
       "      <td>'🎂 (210217)'</td>\n",
       "      <td>'https://www.instagram.com/p/CLW8KYQBYqW/  htt...</td>\n",
       "      <td>'-'</td>\n",
       "      <td>'/r/naeun/comments/ll6n04/210217/gnnnhs2/'</td>\n",
       "    </tr>\n",
       "    <tr>\n",
       "      <th>4</th>\n",
       "      <td>'gnd3r0a'</td>\n",
       "      <td>'2021-02-14 07:11:14'</td>\n",
       "      <td>'radhumandummy'</td>\n",
       "      <td>'ljivn0'</td>\n",
       "      <td>'#FendiMoonlight #Fendi @Fendi (210214)'</td>\n",
       "      <td>'https://www.instagram.com/p/CLQwBcFBbyR/'</td>\n",
       "      <td>'-'</td>\n",
       "      <td>'/r/naeun/comments/ljivn0/fendimoonlight_fendi...</td>\n",
       "    </tr>\n",
       "  </tbody>\n",
       "</table>\n",
       "</div>"
      ],
      "text/plain": [
       "       MsgID              Timestamp           Author  ThreadID  \\\n",
       "0  'grd7uya'  '2021-03-18 15:57:53'  'radhumandummy'  'm7sm9j'   \n",
       "1  'gqfjqx9'  '2021-03-10 11:15:14'  'radhumandummy'  'm1ue5q'   \n",
       "2  'gpixfqk'  '2021-03-03 13:07:20'  'radhumandummy'  'lwsd3r'   \n",
       "3  'gnnnhs2'  '2021-02-16 16:50:36'  'radhumandummy'  'll6n04'   \n",
       "4  'gnd3r0a'  '2021-02-14 07:11:14'  'radhumandummy'  'ljivn0'   \n",
       "\n",
       "                                ThreadTitle  \\\n",
       "0        'everything was perfect✨ (210318)'   \n",
       "1  'My favorite time of the day☀️ (210310)'   \n",
       "2                'Untitled photos (210303)'   \n",
       "3                              '🎂 (210217)'   \n",
       "4  '#FendiMoonlight #Fendi @Fendi (210214)'   \n",
       "\n",
       "                                             MsgBody ReplyTo  \\\n",
       "0  'https://www.instagram.com/p/CMkDC3ohi5I/  htt...     '-'   \n",
       "1         'https://www.instagram.com/p/CMO_LWTh3i_/'     '-'   \n",
       "2  'https://www.instagram.com/p/CL9KI8uhkkG/  htt...     '-'   \n",
       "3  'https://www.instagram.com/p/CLW8KYQBYqW/  htt...     '-'   \n",
       "4         'https://www.instagram.com/p/CLQwBcFBbyR/'     '-'   \n",
       "\n",
       "                                           Permalink  \n",
       "0  '/r/naeun/comments/m7sm9j/everything_was_perfe...  \n",
       "1  '/r/naeun/comments/m1ue5q/my_favorite_time_of_...  \n",
       "2  '/r/naeun/comments/lwsd3r/untitled_photos_2103...  \n",
       "3         '/r/naeun/comments/ll6n04/210217/gnnnhs2/'  \n",
       "4  '/r/naeun/comments/ljivn0/fendimoonlight_fendi...  "
      ]
     },
     "execution_count": 67,
     "metadata": {},
     "output_type": "execute_result"
    }
   ],
   "source": [
    "# Importing modules\n",
    "import pandas as pd\n",
    "import os\n",
    "os.chdir('..')\n",
    "# Read data into papers\n",
    "df = pd.read_csv('C:/Users/bhamp/Documents/GitHub/ASU_Applied_Project_2021/Text analytics/outputnaeun.csv')\n",
    "# Print head\n",
    "df.head()"
   ]
  },
  {
   "cell_type": "code",
   "execution_count": 68,
   "metadata": {},
   "outputs": [
    {
     "name": "stderr",
     "output_type": "stream",
     "text": [
      "C:\\Users\\bhamp\\anaconda3\\lib\\site-packages\\ipykernel\\ipkernel.py:287: DeprecationWarning: `should_run_async` will not call `transform_cell` automatically in the future. Please pass the result to `transformed_cell` argument and any exception that happen during thetransform in `preprocessing_exc_tuple` in IPython 7.17 and above.\n",
      "  and should_run_async(code)\n"
     ]
    },
    {
     "data": {
      "text/html": [
       "<div>\n",
       "<style scoped>\n",
       "    .dataframe tbody tr th:only-of-type {\n",
       "        vertical-align: middle;\n",
       "    }\n",
       "\n",
       "    .dataframe tbody tr th {\n",
       "        vertical-align: top;\n",
       "    }\n",
       "\n",
       "    .dataframe thead th {\n",
       "        text-align: right;\n",
       "    }\n",
       "</style>\n",
       "<table border=\"1\" class=\"dataframe\">\n",
       "  <thead>\n",
       "    <tr style=\"text-align: right;\">\n",
       "      <th></th>\n",
       "      <th>MsgBody</th>\n",
       "    </tr>\n",
       "  </thead>\n",
       "  <tbody>\n",
       "    <tr>\n",
       "      <th>94</th>\n",
       "      <td>'https://www.instagram.com/p/B-7cJ0lBarw/  htt...</td>\n",
       "    </tr>\n",
       "    <tr>\n",
       "      <th>243</th>\n",
       "      <td>'https://www.instagram.com/p/BfToGwfAufX/  htt...</td>\n",
       "    </tr>\n",
       "    <tr>\n",
       "      <th>172</th>\n",
       "      <td>'https://www.instagram.com/p/BqCku39BQdF/  htt...</td>\n",
       "    </tr>\n",
       "    <tr>\n",
       "      <th>348</th>\n",
       "      <td>'Missed the date.'</td>\n",
       "    </tr>\n",
       "    <tr>\n",
       "      <th>312</th>\n",
       "      <td>'kawaii'</td>\n",
       "    </tr>\n",
       "  </tbody>\n",
       "</table>\n",
       "</div>"
      ],
      "text/plain": [
       "                                               MsgBody\n",
       "94   'https://www.instagram.com/p/B-7cJ0lBarw/  htt...\n",
       "243  'https://www.instagram.com/p/BfToGwfAufX/  htt...\n",
       "172  'https://www.instagram.com/p/BqCku39BQdF/  htt...\n",
       "348                                 'Missed the date.'\n",
       "312                                           'kawaii'"
      ]
     },
     "execution_count": 68,
     "metadata": {},
     "output_type": "execute_result"
    }
   ],
   "source": [
    "# Remove the columns\n",
    "df= df.drop(columns=['MsgID', 'Timestamp', 'Author','ThreadID' , 'ThreadTitle' ,'ReplyTo'  ,'Permalink'], axis=1).sample(100)        \n",
    "# Print out the first rows of papers\n",
    "df.head()\n"
   ]
  },
  {
   "cell_type": "code",
   "execution_count": 69,
   "metadata": {},
   "outputs": [
    {
     "name": "stderr",
     "output_type": "stream",
     "text": [
      "C:\\Users\\bhamp\\anaconda3\\lib\\site-packages\\ipykernel\\ipkernel.py:287: DeprecationWarning: `should_run_async` will not call `transform_cell` automatically in the future. Please pass the result to `transformed_cell` argument and any exception that happen during thetransform in `preprocessing_exc_tuple` in IPython 7.17 and above.\n",
      "  and should_run_async(code)\n",
      "[nltk_data] Downloading package stopwords to\n",
      "[nltk_data]     C:\\Users\\bhamp\\AppData\\Roaming\\nltk_data...\n",
      "[nltk_data]   Package stopwords is already up-to-date!\n",
      "[nltk_data] Downloading package wordnet to\n",
      "[nltk_data]     C:\\Users\\bhamp\\AppData\\Roaming\\nltk_data...\n",
      "[nltk_data]   Package wordnet is already up-to-date!\n"
     ]
    }
   ],
   "source": [
    "df['patterns'] = df.MsgBody\n",
    "import nltk\n",
    "from nltk.corpus import stopwords\n",
    "nltk.download('stopwords')\n",
    "nltk.download('wordnet')\n",
    "import string\n",
    "from textblob import Word\n",
    "import re"
   ]
  },
  {
   "cell_type": "code",
   "execution_count": 70,
   "metadata": {},
   "outputs": [
    {
     "name": "stderr",
     "output_type": "stream",
     "text": [
      "C:\\Users\\bhamp\\anaconda3\\lib\\site-packages\\ipykernel\\ipkernel.py:287: DeprecationWarning: `should_run_async` will not call `transform_cell` automatically in the future. Please pass the result to `transformed_cell` argument and any exception that happen during thetransform in `preprocessing_exc_tuple` in IPython 7.17 and above.\n",
      "  and should_run_async(code)\n",
      "<>:4: DeprecationWarning: invalid escape sequence \\S\n",
      "<>:5: DeprecationWarning: invalid escape sequence \\w\n",
      "<>:6: DeprecationWarning: invalid escape sequence \\w\n",
      "<>:7: DeprecationWarning: invalid escape sequence \\S\n",
      "<>:9: DeprecationWarning: invalid escape sequence \\w\n",
      "<>:10: DeprecationWarning: invalid escape sequence \\S\n",
      "<>:4: DeprecationWarning: invalid escape sequence \\S\n",
      "<>:5: DeprecationWarning: invalid escape sequence \\w\n",
      "<>:6: DeprecationWarning: invalid escape sequence \\w\n",
      "<>:7: DeprecationWarning: invalid escape sequence \\S\n",
      "<>:9: DeprecationWarning: invalid escape sequence \\w\n",
      "<>:10: DeprecationWarning: invalid escape sequence \\S\n",
      "<ipython-input-70-1cc77e2164b2>:4: DeprecationWarning: invalid escape sequence \\S\n",
      "  df['patterns'] = df['patterns'].str.replace('https*\\S+','')  #remove url\n",
      "<ipython-input-70-1cc77e2164b2>:5: DeprecationWarning: invalid escape sequence \\w\n",
      "  df['patterns'] = df['patterns'].str.replace('\\'\\w+','')      #remove ticks\n",
      "<ipython-input-70-1cc77e2164b2>:6: DeprecationWarning: invalid escape sequence \\w\n",
      "  df['patterns'] = df['patterns'].str.replace('[^\\w\\s]','')\n",
      "<ipython-input-70-1cc77e2164b2>:7: DeprecationWarning: invalid escape sequence \\S\n",
      "  df['patterns'] = df['patterns'].str.replace('@\\S+','')       #remove email\n",
      "<ipython-input-70-1cc77e2164b2>:9: DeprecationWarning: invalid escape sequence \\w\n",
      "  df['patterns'] = df['patterns'].str.replace('\\w*\\d+\\w*','')  #remove digits\n",
      "<ipython-input-70-1cc77e2164b2>:10: DeprecationWarning: invalid escape sequence \\S\n",
      "  df['patterns'] = df['patterns'].str.replace('#\\S+','')  #remove hashtag\n",
      "<ipython-input-70-1cc77e2164b2>:4: FutureWarning: The default value of regex will change from True to False in a future version.\n",
      "  df['patterns'] = df['patterns'].str.replace('https*\\S+','')  #remove url\n",
      "<ipython-input-70-1cc77e2164b2>:5: FutureWarning: The default value of regex will change from True to False in a future version.\n",
      "  df['patterns'] = df['patterns'].str.replace('\\'\\w+','')      #remove ticks\n",
      "<ipython-input-70-1cc77e2164b2>:6: FutureWarning: The default value of regex will change from True to False in a future version.\n",
      "  df['patterns'] = df['patterns'].str.replace('[^\\w\\s]','')\n",
      "<ipython-input-70-1cc77e2164b2>:7: FutureWarning: The default value of regex will change from True to False in a future version.\n",
      "  df['patterns'] = df['patterns'].str.replace('@\\S+','')       #remove email\n",
      "<ipython-input-70-1cc77e2164b2>:9: FutureWarning: The default value of regex will change from True to False in a future version.\n",
      "  df['patterns'] = df['patterns'].str.replace('\\w*\\d+\\w*','')  #remove digits\n",
      "<ipython-input-70-1cc77e2164b2>:10: FutureWarning: The default value of regex will change from True to False in a future version.\n",
      "  df['patterns'] = df['patterns'].str.replace('#\\S+','')  #remove hashtag\n"
     ]
    }
   ],
   "source": [
    "stop = stopwords.words('english')\n",
    "df['patterns'] = df['patterns'].apply(lambda x:' '.join(x.lower() for x in x.split()))\n",
    "df['patterns'] = df['patterns'].apply(lambda x:' '.join(x for x in x.split() if x not in string.punctuation)) #remove punctuations\n",
    "df['patterns'] = df['patterns'].str.replace('https*\\S+','')  #remove url\n",
    "df['patterns'] = df['patterns'].str.replace('\\'\\w+','')      #remove ticks\n",
    "df['patterns'] = df['patterns'].str.replace('[^\\w\\s]','')    \n",
    "df['patterns'] = df['patterns'].str.replace('@\\S+','')       #remove email\n",
    "df['patterns'] = df['patterns'].str.encode('ascii', 'ignore').str.decode(\"utf-8\")  #remove unicode\n",
    "df['patterns'] = df['patterns'].str.replace('\\w*\\d+\\w*','')  #remove digits\n",
    "df['patterns'] = df['patterns'].str.replace('#\\S+','')  #remove hashtag\n",
    "df['patterns'] = df['patterns'].str.replace('_','')  #remove underscore\n",
    "df['patterns'] = df['patterns'].apply(lambda x: ' '.join(x for x in x.split() if  not x.isdigit()))\n",
    "df['patterns'] = df['patterns'].apply(lambda x:' '.join(x for x in x.split() if not x in stop)) #remove stop words\n",
    "df['patterns'] = df['patterns'].apply(lambda x: \" \".join([Word(word).lemmatize() for word in x.split()]))"
   ]
  },
  {
   "cell_type": "code",
   "execution_count": 63,
   "metadata": {},
   "outputs": [
    {
     "name": "stdout",
     "output_type": "stream",
     "text": [
      "C:\\Users\\bhamp\\anaconda3\\python.exe\n"
     ]
    },
    {
     "name": "stderr",
     "output_type": "stream",
     "text": [
      "C:\\Users\\bhamp\\anaconda3\\lib\\site-packages\\ipykernel\\ipkernel.py:287: DeprecationWarning: `should_run_async` will not call `transform_cell` automatically in the future. Please pass the result to `transformed_cell` argument and any exception that happen during thetransform in `preprocessing_exc_tuple` in IPython 7.17 and above.\n",
      "  and should_run_async(code)\n"
     ]
    }
   ],
   "source": [
    "import sys\n",
    "print(sys.executable)"
   ]
  },
  {
   "cell_type": "code",
   "execution_count": 64,
   "metadata": {},
   "outputs": [
    {
     "name": "stderr",
     "output_type": "stream",
     "text": [
      "C:\\Users\\bhamp\\anaconda3\\lib\\site-packages\\ipykernel\\ipkernel.py:287: DeprecationWarning: `should_run_async` will not call `transform_cell` automatically in the future. Please pass the result to `transformed_cell` argument and any exception that happen during thetransform in `preprocessing_exc_tuple` in IPython 7.17 and above.\n",
      "  and should_run_async(code)\n"
     ]
    },
    {
     "name": "stdout",
     "output_type": "stream",
     "text": [
      "Requirement already satisfied: wordcloud in c:\\users\\bhamp\\anaconda3\\lib\\site-packages (1.8.1)\n",
      "Requirement already satisfied: pillow in c:\\users\\bhamp\\anaconda3\\lib\\site-packages (from wordcloud) (8.2.0)\n",
      "Requirement already satisfied: numpy>=1.6.1 in c:\\users\\bhamp\\anaconda3\\lib\\site-packages (from wordcloud) (1.20.2)\n",
      "Requirement already satisfied: matplotlib in c:\\users\\bhamp\\anaconda3\\lib\\site-packages (from wordcloud) (3.3.4)\n",
      "Requirement already satisfied: pyparsing!=2.0.4,!=2.1.2,!=2.1.6,>=2.0.3 in c:\\users\\bhamp\\anaconda3\\lib\\site-packages (from matplotlib->wordcloud) (2.4.7)\n",
      "Requirement already satisfied: cycler>=0.10 in c:\\users\\bhamp\\anaconda3\\lib\\site-packages (from matplotlib->wordcloud) (0.10.0)\n",
      "Requirement already satisfied: kiwisolver>=1.0.1 in c:\\users\\bhamp\\anaconda3\\lib\\site-packages (from matplotlib->wordcloud) (1.3.1)\n",
      "Requirement already satisfied: python-dateutil>=2.1 in c:\\users\\bhamp\\anaconda3\\lib\\site-packages (from matplotlib->wordcloud) (2.8.1)\n",
      "Requirement already satisfied: six in c:\\users\\bhamp\\anaconda3\\lib\\site-packages (from cycler>=0.10->matplotlib->wordcloud) (1.15.0)\n"
     ]
    }
   ],
   "source": [
    "!C:/Users/bhamp/anaconda3/python -m pip install wordcloud"
   ]
  },
  {
   "cell_type": "code",
   "execution_count": 71,
   "metadata": {},
   "outputs": [
    {
     "name": "stderr",
     "output_type": "stream",
     "text": [
      "C:\\Users\\bhamp\\anaconda3\\lib\\site-packages\\ipykernel\\ipkernel.py:287: DeprecationWarning: `should_run_async` will not call `transform_cell` automatically in the future. Please pass the result to `transformed_cell` argument and any exception that happen during thetransform in `preprocessing_exc_tuple` in IPython 7.17 and above.\n",
      "  and should_run_async(code)\n"
     ]
    },
    {
     "data": {
      "image/png": "[encoded data removed]",
      "text/plain": [
       "<PIL.Image.Image image mode=RGB size=400x200 at 0x1FB8B248E20>"
      ]
     },
     "execution_count": 71,
     "metadata": {},
     "output_type": "execute_result"
    }
   ],
   "source": [
    "# Import the wordcloud library\n",
    "from wordcloud import WordCloud\n",
    "# Join the different processed titles together.\n",
    "long_string = ','.join(list(df['patterns'].values))\n",
    "# Create a WordCloud object\n",
    "wordcloud = WordCloud(background_color=\"white\", max_words=5000, contour_width=3, contour_color='steelblue')\n",
    "# Generate a word cloud\n",
    "wordcloud.generate(long_string)\n",
    "# Visualize the word cloud\n",
    "wordcloud.to_image()"
   ]
  },
  {
   "cell_type": "code",
   "execution_count": 16,
   "metadata": {},
   "outputs": [
    {
     "name": "stdout",
     "output_type": "stream",
     "text": [
      "Requirement already satisfied: gensim in c:\\users\\bhamp\\anaconda3\\lib\\site-packages (4.0.1)\n",
      "Requirement already satisfied: smart-open>=1.8.1 in c:\\users\\bhamp\\anaconda3\\lib\\site-packages (from gensim) (3.0.0)\n",
      "Requirement already satisfied: Cython==0.29.21 in c:\\users\\bhamp\\anaconda3\\lib\\site-packages (from gensim) (0.29.21)\n",
      "Requirement already satisfied: numpy>=1.11.3 in c:\\users\\bhamp\\anaconda3\\lib\\site-packages (from gensim) (1.20.2)\n",
      "Requirement already satisfied: scipy>=0.18.1 in c:\\users\\bhamp\\anaconda3\\lib\\site-packages (from gensim) (1.6.2)\n",
      "Requirement already satisfied: requests in c:\\users\\bhamp\\anaconda3\\lib\\site-packages (from smart-open>=1.8.1->gensim) (2.25.1)\n",
      "Requirement already satisfied: chardet<5,>=3.0.2 in c:\\users\\bhamp\\anaconda3\\lib\\site-packages (from requests->smart-open>=1.8.1->gensim) (4.0.0)\n",
      "Requirement already satisfied: certifi>=2017.4.17 in c:\\users\\bhamp\\anaconda3\\lib\\site-packages (from requests->smart-open>=1.8.1->gensim) (2020.12.5)\n",
      "Requirement already satisfied: idna<3,>=2.5 in c:\\users\\bhamp\\anaconda3\\lib\\site-packages (from requests->smart-open>=1.8.1->gensim) (2.10)\n",
      "Requirement already satisfied: urllib3<1.27,>=1.21.1 in c:\\users\\bhamp\\anaconda3\\lib\\site-packages (from requests->smart-open>=1.8.1->gensim) (1.26.4)\n",
      "Note: you may need to restart the kernel to use updated packages.\n"
     ]
    }
   ],
   "source": [
    "pip install -U gensim"
   ]
  },
  {
   "cell_type": "code",
   "execution_count": 72,
   "metadata": {},
   "outputs": [
    {
     "name": "stderr",
     "output_type": "stream",
     "text": [
      "C:\\Users\\bhamp\\anaconda3\\lib\\site-packages\\ipykernel\\ipkernel.py:287: DeprecationWarning: `should_run_async` will not call `transform_cell` automatically in the future. Please pass the result to `transformed_cell` argument and any exception that happen during thetransform in `preprocessing_exc_tuple` in IPython 7.17 and above.\n",
      "  and should_run_async(code)\n",
      "[nltk_data] Downloading package stopwords to\n",
      "[nltk_data]     C:\\Users\\bhamp\\AppData\\Roaming\\nltk_data...\n",
      "[nltk_data]   Package stopwords is already up-to-date!\n"
     ]
    },
    {
     "name": "stdout",
     "output_type": "stream",
     "text": [
      "[]\n"
     ]
    }
   ],
   "source": [
    "import gensim\n",
    "from gensim.utils import simple_preprocess\n",
    "import nltk\n",
    "nltk.download('stopwords')\n",
    "from nltk.corpus import stopwords\n",
    "stop_words = stopwords.words('english')\n",
    "stop_words.extend(['from', 'subject', 're', 'edu', 'use'])\n",
    "def sent_to_words(sentences):\n",
    "    for sentence in sentences:\n",
    "        # deacc=True removes punctuations\n",
    "        yield(gensim.utils.simple_preprocess(str(sentence), deacc=True))\n",
    "def remove_stopwords(texts):\n",
    "    return [[word for word in simple_preprocess(str(doc)) \n",
    "             if word not in stop_words] for doc in texts]\n",
    "data = df['patterns'].values.tolist()\n",
    "data_words = list(sent_to_words(data))\n",
    "# remove stop words\n",
    "data_words = remove_stopwords(data_words)\n",
    "print(data_words[:1][0][:30])"
   ]
  },
  {
   "cell_type": "code",
   "execution_count": 73,
   "metadata": {},
   "outputs": [
    {
     "name": "stdout",
     "output_type": "stream",
     "text": [
      "[]\n"
     ]
    },
    {
     "name": "stderr",
     "output_type": "stream",
     "text": [
      "C:\\Users\\bhamp\\anaconda3\\lib\\site-packages\\ipykernel\\ipkernel.py:287: DeprecationWarning: `should_run_async` will not call `transform_cell` automatically in the future. Please pass the result to `transformed_cell` argument and any exception that happen during thetransform in `preprocessing_exc_tuple` in IPython 7.17 and above.\n",
      "  and should_run_async(code)\n"
     ]
    }
   ],
   "source": [
    "import gensim.corpora as corpora\n",
    "# Create Dictionary\n",
    "id2word = corpora.Dictionary(data_words)\n",
    "# Create Corpus\n",
    "texts = data_words\n",
    "# Term Document Frequency\n",
    "corpus = [id2word.doc2bow(text) for text in texts]\n",
    "# View\n",
    "print(corpus[:1][0][:30])"
   ]
  },
  {
   "cell_type": "code",
   "execution_count": 74,
   "metadata": {},
   "outputs": [
    {
     "name": "stderr",
     "output_type": "stream",
     "text": [
      "C:\\Users\\bhamp\\anaconda3\\lib\\site-packages\\ipykernel\\ipkernel.py:287: DeprecationWarning: `should_run_async` will not call `transform_cell` automatically in the future. Please pass the result to `transformed_cell` argument and any exception that happen during thetransform in `preprocessing_exc_tuple` in IPython 7.17 and above.\n",
      "  and should_run_async(code)\n"
     ]
    },
    {
     "name": "stdout",
     "output_type": "stream",
     "text": [
      "[(0,\n",
      "  '0.058*\"yesterday\" + 0.058*\"japan\" + 0.058*\"mask\" + 0.058*\"gimpo\" + '\n",
      "  '0.058*\"ver\" + 0.058*\"marcellasne\" + 0.005*\"likely\" + 0.005*\"later\" + '\n",
      "  '0.005*\"source\" + 0.005*\"date\"'),\n",
      " (1,\n",
      "  '0.031*\"school\" + 0.031*\"pamplet\" + 0.031*\"could\" + 0.031*\"already\" + '\n",
      "  '0.031*\"cast\" + 0.031*\"post\" + 0.031*\"wasnt\" + 0.031*\"took\" + '\n",
      "  '0.031*\"someone\" + 0.031*\"catch\"'),\n",
      " (2,\n",
      "  '0.008*\"later\" + 0.008*\"source\" + 0.008*\"marcellasne\" + 0.008*\"date\" + '\n",
      "  '0.008*\"likely\" + 0.008*\"version\" + 0.008*\"nonono\" + 0.008*\"earlier\" + '\n",
      "  '0.008*\"fanmade\" + 0.008*\"bit\"'),\n",
      " (3,\n",
      "  '0.076*\"video\" + 0.039*\"naeun\" + 0.039*\"ceremony\" + 0.039*\"award\" + '\n",
      "  '0.039*\"receiving\" + 0.039*\"version\" + 0.039*\"later\" + 0.020*\"would\" + '\n",
      "  '0.020*\"broadcast\" + 0.020*\"youtube\"'),\n",
      " (4,\n",
      "  '0.037*\"one\" + 0.034*\"matisse\" + 0.026*\"brand\" + 0.026*\"join\" + '\n",
      "  '0.026*\"ambassador\" + 0.026*\"photoshoot\" + 0.026*\"limited\" + 0.026*\"eunji\" + '\n",
      "  '0.026*\"earlier\" + 0.026*\"date\"'),\n",
      " (5,\n",
      "  '0.008*\"later\" + 0.008*\"source\" + 0.008*\"nonono\" + 0.008*\"marcellasne\" + '\n",
      "  '0.008*\"date\" + 0.008*\"likely\" + 0.008*\"version\" + 0.008*\"france\" + '\n",
      "  '0.008*\"earlier\" + 0.008*\"mobile\"'),\n",
      " (6,\n",
      "  '0.048*\"im\" + 0.048*\"naeun\" + 0.048*\"excited\" + 0.048*\"see\" + 0.048*\"ceci\" + '\n",
      "  '0.048*\"korea\" + 0.048*\"facebook\" + 0.048*\"lol\" + 0.048*\"fanmade\" + '\n",
      "  '0.048*\"likely\"'),\n",
      " (7,\n",
      "  '0.042*\"matisse\" + 0.039*\"woman\" + 0.032*\"still\" + 0.030*\"life\" + '\n",
      "  '0.030*\"aubergine\" + 0.029*\"reupload\" + 0.028*\"night\" + 0.027*\"picabia\" + '\n",
      "  '0.026*\"pink\" + 0.026*\"like\"'),\n",
      " (8,\n",
      "  '0.038*\"fansinging\" + 0.038*\"therell\" + 0.038*\"sure\" + 0.038*\"sort\" + '\n",
      "  '0.038*\"im\" + 0.038*\"naeun\" + 0.038*\"never\" + 0.038*\"butter\" + 0.038*\"honey\" '\n",
      "  '+ 0.038*\"bomb\"'),\n",
      " (9,\n",
      "  '0.212*\"sec\" + 0.212*\"part\" + 0.046*\"nonono\" + 0.004*\"later\" + '\n",
      "  '0.004*\"likely\" + 0.004*\"source\" + 0.004*\"marcellasne\" + 0.004*\"date\" + '\n",
      "  '0.004*\"version\" + 0.004*\"earlier\"')]\n"
     ]
    }
   ],
   "source": [
    "from pprint import pprint\n",
    "# number of topics\n",
    "num_topics = 10\n",
    "# Build LDA model\n",
    "\n",
    "lda_model = gensim.models.LdaMulticore(corpus=corpus,\n",
    "                                       id2word=id2word,\n",
    "                                       num_topics=num_topics)\n",
    "# Print the Keyword in the 10 topics\n",
    "pprint(lda_model.print_topics())\n",
    "doc_lda = lda_model[corpus]"
   ]
  },
  {
   "cell_type": "code",
   "execution_count": 20,
   "metadata": {},
   "outputs": [
    {
     "name": "stdout",
     "output_type": "stream",
     "text": [
      "Collecting package metadata (current_repodata.json): ...working... done\n",
      "Solving environment: ...working... \n",
      "Warning: 2 possible package resolutions (only showing differing packages):\n",
      "  - defaults/noarch::sphinx-3.5.4-pyhd3eb1b0_0, defaults/win-64::docutils-0.16-py38_1\n",
      "  - defaults/noarch::sphinx-3.2.1-py_0, defaults/win-64::docutils-0.17-py38haa95532_1done\n",
      "\n",
      "## Package Plan ##\n",
      "\n",
      "  environment location: C:\\Users\\bhamp\\anaconda3\n",
      "\n",
      "  added / updated specs:\n",
      "    - anaconda\n",
      "\n",
      "\n",
      "The following packages will be downloaded:\n",
      "\n",
      "    package                    |            build\n",
      "    ---------------------------|-----------------\n",
      "    sphinx-3.5.4               |     pyhd3eb1b0_0         1.1 MB\n",
      "    ------------------------------------------------------------\n",
      "                                           Total:         1.1 MB\n",
      "\n",
      "The following packages will be UPDATED:\n",
      "\n",
      "  sphinx                                         3.2.1-py_0 --> 3.5.4-pyhd3eb1b0_0\n",
      "\n",
      "The following packages will be DOWNGRADED:\n",
      "\n",
      "  docutils                              0.17-py38haa95532_1 --> 0.16-py38_1\n",
      "\n",
      "\n",
      "\n",
      "Downloading and Extracting Packages\n",
      "\n",
      "sphinx-3.5.4         | 1.1 MB    |            |   0% \n",
      "sphinx-3.5.4         | 1.1 MB    | 1          |   1% \n",
      "sphinx-3.5.4         | 1.1 MB    | #3         |  14% \n",
      "sphinx-3.5.4         | 1.1 MB    | #####2     |  53% \n",
      "sphinx-3.5.4         | 1.1 MB    | ########3  |  84% \n",
      "sphinx-3.5.4         | 1.1 MB    | ########## | 100% \n",
      "Preparing transaction: ...working... done\n",
      "Verifying transaction: ...working... done\n",
      "Executing transaction: ...working... done\n",
      "\n",
      "Note: you may need to restart the kernel to use updated packages.\n"
     ]
    }
   ],
   "source": [
    "conda update anaconda"
   ]
  },
  {
   "cell_type": "code",
   "execution_count": 21,
   "metadata": {},
   "outputs": [
    {
     "name": "stdout",
     "output_type": "stream",
     "text": [
      "Requirement already satisfied: pyLDAvis in c:\\users\\bhamp\\anaconda3\\lib\\site-packages (3.3.1)\n",
      "Requirement already satisfied: joblib in c:\\users\\bhamp\\anaconda3\\lib\\site-packages (from pyLDAvis) (1.0.1)\n",
      "Requirement already satisfied: future in c:\\users\\bhamp\\anaconda3\\lib\\site-packages (from pyLDAvis) (0.18.2)\n",
      "Requirement already satisfied: sklearn in c:\\users\\bhamp\\anaconda3\\lib\\site-packages (from pyLDAvis) (0.0)\n",
      "Requirement already satisfied: setuptools in c:\\users\\bhamp\\anaconda3\\lib\\site-packages (from pyLDAvis) (52.0.0.post20210125)\n",
      "Requirement already satisfied: funcy in c:\\users\\bhamp\\anaconda3\\lib\\site-packages (from pyLDAvis) (1.15)\n",
      "Requirement already satisfied: gensim in c:\\users\\bhamp\\anaconda3\\lib\\site-packages (from pyLDAvis) (4.0.1)\n",
      "Requirement already satisfied: numpy>=1.20.0 in c:\\users\\bhamp\\anaconda3\\lib\\site-packages (from pyLDAvis) (1.20.2)\n",
      "Requirement already satisfied: scikit-learn in c:\\users\\bhamp\\anaconda3\\lib\\site-packages (from pyLDAvis) (0.24.1)\n",
      "Requirement already satisfied: jinja2 in c:\\users\\bhamp\\anaconda3\\lib\\site-packages (from pyLDAvis) (2.11.3)\n",
      "Requirement already satisfied: numexpr in c:\\users\\bhamp\\anaconda3\\lib\\site-packages (from pyLDAvis) (2.7.3)\n",
      "Requirement already satisfied: scipy in c:\\users\\bhamp\\anaconda3\\lib\\site-packages (from pyLDAvis) (1.6.2)\n",
      "Requirement already satisfied: pandas>=1.2.0 in c:\\users\\bhamp\\anaconda3\\lib\\site-packages (from pyLDAvis) (1.2.4)\n",
      "Requirement already satisfied: pytz>=2017.3 in c:\\users\\bhamp\\anaconda3\\lib\\site-packages (from pandas>=1.2.0->pyLDAvis) (2021.1)\n",
      "Requirement already satisfied: python-dateutil>=2.7.3 in c:\\users\\bhamp\\anaconda3\\lib\\site-packages (from pandas>=1.2.0->pyLDAvis) (2.8.1)\n",
      "Requirement already satisfied: six>=1.5 in c:\\users\\bhamp\\anaconda3\\lib\\site-packages (from python-dateutil>=2.7.3->pandas>=1.2.0->pyLDAvis) (1.15.0)\n",
      "Requirement already satisfied: Cython==0.29.21 in c:\\users\\bhamp\\anaconda3\\lib\\site-packages (from gensim->pyLDAvis) (0.29.21)\n",
      "Requirement already satisfied: smart-open>=1.8.1 in c:\\users\\bhamp\\anaconda3\\lib\\site-packages (from gensim->pyLDAvis) (3.0.0)\n",
      "Requirement already satisfied: requests in c:\\users\\bhamp\\anaconda3\\lib\\site-packages (from smart-open>=1.8.1->gensim->pyLDAvis) (2.25.1)\n",
      "Requirement already satisfied: MarkupSafe>=0.23 in c:\\users\\bhamp\\anaconda3\\lib\\site-packages (from jinja2->pyLDAvis) (1.1.1)\n",
      "Requirement already satisfied: urllib3<1.27,>=1.21.1 in c:\\users\\bhamp\\anaconda3\\lib\\site-packages (from requests->smart-open>=1.8.1->gensim->pyLDAvis) (1.26.4)\n",
      "Requirement already satisfied: certifi>=2017.4.17 in c:\\users\\bhamp\\anaconda3\\lib\\site-packages (from requests->smart-open>=1.8.1->gensim->pyLDAvis) (2020.12.5)\n",
      "Requirement already satisfied: chardet<5,>=3.0.2 in c:\\users\\bhamp\\anaconda3\\lib\\site-packages (from requests->smart-open>=1.8.1->gensim->pyLDAvis) (4.0.0)\n",
      "Requirement already satisfied: idna<3,>=2.5 in c:\\users\\bhamp\\anaconda3\\lib\\site-packages (from requests->smart-open>=1.8.1->gensim->pyLDAvis) (2.10)\n",
      "Requirement already satisfied: threadpoolctl>=2.0.0 in c:\\users\\bhamp\\anaconda3\\lib\\site-packages (from scikit-learn->pyLDAvis) (2.1.0)\n"
     ]
    }
   ],
   "source": [
    "!python -m pip install -U pyLDAvis\n",
    "\n"
   ]
  },
  {
   "cell_type": "code",
   "execution_count": 22,
   "metadata": {},
   "outputs": [
    {
     "name": "stdout",
     "output_type": "stream",
     "text": [
      "Requirement already satisfied: pyldavis in c:\\users\\bhamp\\anaconda3\\lib\\site-packages (3.3.1)\n",
      "Requirement already satisfied: numexpr in c:\\users\\bhamp\\anaconda3\\lib\\site-packages (from pyldavis) (2.7.3)\n",
      "Requirement already satisfied: sklearn in c:\\users\\bhamp\\anaconda3\\lib\\site-packages (from pyldavis) (0.0)\n",
      "Requirement already satisfied: joblib in c:\\users\\bhamp\\anaconda3\\lib\\site-packages (from pyldavis) (1.0.1)\n",
      "Requirement already satisfied: funcy in c:\\users\\bhamp\\anaconda3\\lib\\site-packages (from pyldavis) (1.15)\n",
      "Requirement already satisfied: pandas>=1.2.0 in c:\\users\\bhamp\\anaconda3\\lib\\site-packages (from pyldavis) (1.2.4)\n",
      "Requirement already satisfied: future in c:\\users\\bhamp\\anaconda3\\lib\\site-packages (from pyldavis) (0.18.2)\n",
      "Requirement already satisfied: jinja2 in c:\\users\\bhamp\\anaconda3\\lib\\site-packages (from pyldavis) (2.11.3)\n",
      "Requirement already satisfied: scikit-learn in c:\\users\\bhamp\\anaconda3\\lib\\site-packages (from pyldavis) (0.24.1)\n",
      "Requirement already satisfied: setuptools in c:\\users\\bhamp\\anaconda3\\lib\\site-packages (from pyldavis) (52.0.0.post20210125)\n",
      "Requirement already satisfied: numpy>=1.20.0 in c:\\users\\bhamp\\anaconda3\\lib\\site-packages (from pyldavis) (1.20.2)\n",
      "Requirement already satisfied: gensim in c:\\users\\bhamp\\anaconda3\\lib\\site-packages (from pyldavis) (4.0.1)\n",
      "Requirement already satisfied: scipy in c:\\users\\bhamp\\anaconda3\\lib\\site-packages (from pyldavis) (1.6.2)\n",
      "Requirement already satisfied: pytz>=2017.3 in c:\\users\\bhamp\\anaconda3\\lib\\site-packages (from pandas>=1.2.0->pyldavis) (2021.1)\n",
      "Requirement already satisfied: python-dateutil>=2.7.3 in c:\\users\\bhamp\\anaconda3\\lib\\site-packages (from pandas>=1.2.0->pyldavis) (2.8.1)\n",
      "Requirement already satisfied: six>=1.5 in c:\\users\\bhamp\\anaconda3\\lib\\site-packages (from python-dateutil>=2.7.3->pandas>=1.2.0->pyldavis) (1.15.0)\n",
      "Requirement already satisfied: Cython==0.29.21 in c:\\users\\bhamp\\anaconda3\\lib\\site-packages (from gensim->pyldavis) (0.29.21)\n",
      "Requirement already satisfied: smart-open>=1.8.1 in c:\\users\\bhamp\\anaconda3\\lib\\site-packages (from gensim->pyldavis) (3.0.0)\n",
      "Requirement already satisfied: requests in c:\\users\\bhamp\\anaconda3\\lib\\site-packages (from smart-open>=1.8.1->gensim->pyldavis) (2.25.1)\n",
      "Requirement already satisfied: MarkupSafe>=0.23 in c:\\users\\bhamp\\anaconda3\\lib\\site-packages (from jinja2->pyldavis) (1.1.1)\n",
      "Requirement already satisfied: chardet<5,>=3.0.2 in c:\\users\\bhamp\\anaconda3\\lib\\site-packages (from requests->smart-open>=1.8.1->gensim->pyldavis) (4.0.0)\n",
      "Requirement already satisfied: idna<3,>=2.5 in c:\\users\\bhamp\\anaconda3\\lib\\site-packages (from requests->smart-open>=1.8.1->gensim->pyldavis) (2.10)\n",
      "Requirement already satisfied: certifi>=2017.4.17 in c:\\users\\bhamp\\anaconda3\\lib\\site-packages (from requests->smart-open>=1.8.1->gensim->pyldavis) (2020.12.5)\n",
      "Requirement already satisfied: urllib3<1.27,>=1.21.1 in c:\\users\\bhamp\\anaconda3\\lib\\site-packages (from requests->smart-open>=1.8.1->gensim->pyldavis) (1.26.4)\n",
      "Requirement already satisfied: threadpoolctl>=2.0.0 in c:\\users\\bhamp\\anaconda3\\lib\\site-packages (from scikit-learn->pyldavis) (2.1.0)\n",
      "Note: you may need to restart the kernel to use updated packages.\n"
     ]
    }
   ],
   "source": [
    "pip install pyldavis"
   ]
  },
  {
   "cell_type": "code",
   "execution_count": 39,
   "metadata": {},
   "outputs": [
    {
     "name": "stderr",
     "output_type": "stream",
     "text": [
      "C:\\Users\\bhamp\\anaconda3\\lib\\site-packages\\ipykernel\\ipkernel.py:287: DeprecationWarning: `should_run_async` will not call `transform_cell` automatically in the future. Please pass the result to `transformed_cell` argument and any exception that happen during thetransform in `preprocessing_exc_tuple` in IPython 7.17 and above.\n",
      "  and should_run_async(code)\n"
     ]
    }
   ],
   "source": [
    "from collections import Counter\n",
    "\n",
    "# Counter token frequency from a sentence\n",
    "data = df['patterns']\n",
    "\n",
    "term_frequencies = Counter(data)"
   ]
  },
  {
   "cell_type": "code",
   "execution_count": 75,
   "metadata": {},
   "outputs": [
    {
     "name": "stderr",
     "output_type": "stream",
     "text": [
      "C:\\Users\\bhamp\\anaconda3\\lib\\site-packages\\ipykernel\\ipkernel.py:287: DeprecationWarning: `should_run_async` will not call `transform_cell` automatically in the future. Please pass the result to `transformed_cell` argument and any exception that happen during thetransform in `preprocessing_exc_tuple` in IPython 7.17 and above.\n",
      "  and should_run_async(code)\n"
     ]
    }
   ],
   "source": [
    "from __future__ import print_function\n",
    "import pyLDAvis\n",
    "import pyLDAvis.sklearn\n",
    "pyLDAvis.enable_notebook()\n",
    "from sklearn.datasets import fetch_20newsgroups\n",
    "from sklearn.feature_extraction.text import CountVectorizer, TfidfVectorizer\n",
    "from sklearn.decomposition import LatentDirichletAllocation"
   ]
  },
  {
   "cell_type": "code",
   "execution_count": 76,
   "metadata": {},
   "outputs": [
    {
     "name": "stdout",
     "output_type": "stream",
     "text": [
      "100\n"
     ]
    },
    {
     "name": "stderr",
     "output_type": "stream",
     "text": [
      "C:\\Users\\bhamp\\anaconda3\\lib\\site-packages\\ipykernel\\ipkernel.py:287: DeprecationWarning: `should_run_async` will not call `transform_cell` automatically in the future. Please pass the result to `transformed_cell` argument and any exception that happen during thetransform in `preprocessing_exc_tuple` in IPython 7.17 and above.\n",
      "  and should_run_async(code)\n"
     ]
    }
   ],
   "source": [
    "newsgroups = df['patterns']\n",
    "docs_raw = newsgroups\n",
    "print(len(docs_raw))"
   ]
  },
  {
   "cell_type": "code",
   "execution_count": 77,
   "metadata": {},
   "outputs": [
    {
     "name": "stdout",
     "output_type": "stream",
     "text": [
      "(100, 113)\n"
     ]
    },
    {
     "name": "stderr",
     "output_type": "stream",
     "text": [
      "C:\\Users\\bhamp\\anaconda3\\lib\\site-packages\\ipykernel\\ipkernel.py:287: DeprecationWarning: `should_run_async` will not call `transform_cell` automatically in the future. Please pass the result to `transformed_cell` argument and any exception that happen during thetransform in `preprocessing_exc_tuple` in IPython 7.17 and above.\n",
      "  and should_run_async(code)\n"
     ]
    }
   ],
   "source": [
    "tf_vectorizer = CountVectorizer(strip_accents = 'unicode',\n",
    "                                stop_words = 'english',\n",
    "                                lowercase = True,\n",
    "                                token_pattern = r'\\b[a-zA-Z]{3,}\\b')\n",
    "dtm_tf = tf_vectorizer.fit_transform(docs_raw)\n",
    "print(dtm_tf.shape)"
   ]
  },
  {
   "cell_type": "code",
   "execution_count": 78,
   "metadata": {},
   "outputs": [
    {
     "name": "stdout",
     "output_type": "stream",
     "text": [
      "(100, 113)\n"
     ]
    },
    {
     "name": "stderr",
     "output_type": "stream",
     "text": [
      "C:\\Users\\bhamp\\anaconda3\\lib\\site-packages\\ipykernel\\ipkernel.py:287: DeprecationWarning: `should_run_async` will not call `transform_cell` automatically in the future. Please pass the result to `transformed_cell` argument and any exception that happen during thetransform in `preprocessing_exc_tuple` in IPython 7.17 and above.\n",
      "  and should_run_async(code)\n",
      "C:\\Users\\bhamp\\anaconda3\\lib\\site-packages\\sklearn\\feature_extraction\\text.py:1805: UserWarning: Only (<class 'numpy.float64'>, <class 'numpy.float32'>, <class 'numpy.float16'>) 'dtype' should be used. <class 'numpy.int64'> 'dtype' will be converted to np.float64.\n",
      "  warnings.warn(\"Only {} 'dtype' should be used. {} 'dtype' will \"\n"
     ]
    }
   ],
   "source": [
    "tfidf_vectorizer = TfidfVectorizer(**tf_vectorizer.get_params())\n",
    "dtm_tfidf = tfidf_vectorizer.fit_transform(docs_raw)\n",
    "print(dtm_tfidf.shape)"
   ]
  },
  {
   "cell_type": "code",
   "execution_count": 79,
   "metadata": {},
   "outputs": [
    {
     "name": "stderr",
     "output_type": "stream",
     "text": [
      "C:\\Users\\bhamp\\anaconda3\\lib\\site-packages\\ipykernel\\ipkernel.py:287: DeprecationWarning: `should_run_async` will not call `transform_cell` automatically in the future. Please pass the result to `transformed_cell` argument and any exception that happen during thetransform in `preprocessing_exc_tuple` in IPython 7.17 and above.\n",
      "  and should_run_async(code)\n"
     ]
    },
    {
     "data": {
      "text/plain": [
       "LatentDirichletAllocation(random_state=0)"
      ]
     },
     "execution_count": 79,
     "metadata": {},
     "output_type": "execute_result"
    }
   ],
   "source": [
    "# for TF DTM\n",
    "lda_tf = LatentDirichletAllocation(n_components=10, random_state=0)\n",
    "lda_tf.fit(dtm_tf)\n",
    "# for TFIDF DTM\n",
    "lda_tfidf = LatentDirichletAllocation(n_components=10, random_state=0)\n",
    "lda_tfidf.fit(dtm_tfidf)"
   ]
  },
  {
   "cell_type": "code",
   "execution_count": 80,
   "metadata": {},
   "outputs": [
    {
     "name": "stderr",
     "output_type": "stream",
     "text": [
      "C:\\Users\\bhamp\\anaconda3\\lib\\site-packages\\ipykernel\\ipkernel.py:287: DeprecationWarning: `should_run_async` will not call `transform_cell` automatically in the future. Please pass the result to `transformed_cell` argument and any exception that happen during thetransform in `preprocessing_exc_tuple` in IPython 7.17 and above.\n",
      "  and should_run_async(code)\n"
     ]
    },
    {
     "data": {
      "text/html": [
       "\n",
       "<link rel=\"stylesheet\" type=\"text/css\" href=\"https://cdn.jsdelivr.net/gh/bmabey/pyLDAvis@3.3.1/pyLDAvis/js/ldavis.v1.0.0.css\">\n",
       "\n",
       "\n",
       "<div id=\"ldavis_el229621799439172643468915076\"></div>\n",
       "<script type=\"text/javascript\">\n",
       "\n",
       "var ldavis_el229621799439172643468915076_data = {\"mdsDat\": {\"x\": [-0.1863794849855784, 0.2022957860091998, -0.016335187646510888, -0.016215978203632152, -0.0030494697087225676, 0.03560304812714658, -0.0040804580714457325, -0.004556168829321644, -0.002268593258328971, -0.005013493432806427], \"y\": [0.09074241324369167, 0.06431296834995785, -0.18288057109088632, 0.012937491569286455, -0.04961848000628873, 0.030967318146156265, 0.005924951381573751, 0.00760304594442723, 0.010924999656279487, 0.009085862805802057], \"topics\": [1, 2, 3, 4, 5, 6, 7, 8, 9, 10], \"cluster\": [1, 1, 1, 1, 1, 1, 1, 1, 1, 1], \"Freq\": [31.00233961522148, 21.773189938283856, 12.141801189910613, 7.651995239683429, 7.104369494135489, 5.628177848846464, 5.134989673011735, 3.4258060000333783, 3.366286897268321, 2.7710441036052376]}, \"tinfo\": {\"Term\": [\"sec\", \"naeun\", \"later\", \"video\", \"version\", \"bit\", \"facebook\", \"korea\", \"ceci\", \"marcellasne\", \"ver\", \"mask\", \"mobile\", \"earlier\", \"join\", \"brand\", \"ambassador\", \"eunji\", \"photoshoot\", \"limited\", \"woman\", \"way\", \"france\", \"excited\", \"known\", \"nonigtv\", \"source\", \"tbh\", \"eye\", \"rochers\", \"matisse\", \"aubergine\", \"life\", \"night\", \"picabia\", \"reupload\", \"act\", \"atrata\", \"boccioni\", \"city\", \"covert\", \"end\", \"erica\", \"eros\", \"figure\", \"goldfish\", \"han\", \"handful\", \"kokoschka\", \"kooning\", \"matta\", \"rise\", \"sculpture\", \"sorry\", \"starry\", \"tietze\", \"tietzeconrat\", \"triste\", \"upgood\", \"vertigo\", \"woman\", \"gogh\", \"van\", \"video\", \"award\", \"ceremony\", \"receiving\", \"interview\", \"adliptv\", \"broadcast\", \"carpet\", \"channel\", \"kst\", \"live\", \"naeuns\", \"red\", \"youtube\", \"cast\", \"crew\", \"drama\", \"feature\", \"shot\", \"hat\", \"cute\", \"love\", \"naeun\", \"post\", \"bit\", \"mask\", \"ver\", \"mobile\", \"marcellasne\", \"ceci\", \"nonono\", \"earlier\", \"date\", \"likely\", \"fanmade\", \"lol\", \"sec\", \"pamplet\", \"pamplets\", \"school\", \"thought\", \"took\", \"wasnt\", \"hour\", \"quote\", \"nonono\", \"earlier\", \"post\", \"gogh\", \"van\", \"bit\", \"mask\", \"ver\", \"mobile\", \"marcellasne\", \"ceci\", \"facebook\", \"korea\", \"source\", \"nonigtv\", \"france\", \"way\", \"excited\", \"known\", \"ambassador\", \"brand\", \"date\", \"likely\", \"fanmade\", \"lol\", \"version\", \"cute\", \"hat\", \"love\", \"later\", \"catch\", \"eye\", \"ferrero\", \"rochers\", \"tbh\", \"gimpo\", \"japan\", \"yesterday\", \"like\", \"pink\", \"woman\", \"bit\", \"mask\", \"ver\", \"mobile\", \"marcellasne\", \"ceci\", \"facebook\", \"korea\", \"source\", \"nonigtv\", \"france\", \"way\", \"excited\", \"known\", \"ambassador\", \"brand\", \"eunji\", \"join\", \"limited\", \"nonono\", \"earlier\", \"date\", \"likely\", \"fanmade\", \"lol\", \"version\", \"cute\", \"hat\", \"love\", \"post\", \"later\", \"bomb\", \"butter\", \"chip\", \"fansinging\", \"honey\", \"sort\", \"sure\", \"therell\", \"date\", \"likely\", \"earlier\", \"bit\", \"mask\", \"ver\", \"mobile\", \"marcellasne\", \"ceci\", \"facebook\", \"korea\", \"source\", \"nonigtv\", \"france\", \"way\", \"excited\", \"known\", \"ambassador\", \"brand\", \"eunji\", \"join\", \"limited\", \"nonono\", \"fanmade\", \"lol\", \"version\", \"cute\", \"hat\", \"love\", \"post\", \"later\", \"naeun\", \"woman\", \"france\", \"way\", \"excited\", \"known\", \"nonigtv\", \"source\", \"version\", \"naeun\", \"bit\", \"mobile\", \"mask\", \"ver\", \"marcellasne\", \"ceci\", \"facebook\", \"korea\", \"ambassador\", \"brand\", \"eunji\", \"join\", \"limited\", \"photoshoot\", \"date\", \"likely\", \"bomb\", \"butter\", \"chip\", \"fansinging\", \"honey\", \"sort\", \"nonono\", \"earlier\", \"fanmade\", \"lol\", \"cute\", \"hat\", \"love\", \"post\", \"later\", \"woman\", \"like\", \"pink\", \"gimpo\", \"japan\", \"yesterday\", \"ambassador\", \"brand\", \"eunji\", \"join\", \"limited\", \"photoshoot\", \"bit\", \"mask\", \"ver\", \"mobile\", \"marcellasne\", \"ceci\", \"facebook\", \"korea\", \"source\", \"nonigtv\", \"france\", \"way\", \"excited\", \"known\", \"date\", \"likely\", \"bomb\", \"butter\", \"chip\", \"fansinging\", \"honey\", \"sort\", \"sure\", \"therell\", \"nonono\", \"earlier\", \"fanmade\", \"lol\", \"version\", \"cute\", \"hat\", \"love\", \"post\", \"later\", \"naeun\", \"woman\", \"ceci\", \"facebook\", \"korea\", \"marcellasne\", \"bit\", \"mask\", \"ver\", \"mobile\", \"source\", \"nonigtv\", \"france\", \"way\", \"excited\", \"known\", \"ambassador\", \"brand\", \"eunji\", \"join\", \"limited\", \"photoshoot\", \"date\", \"likely\", \"bomb\", \"butter\", \"chip\", \"fansinging\", \"honey\", \"sort\", \"sure\", \"therell\", \"nonono\", \"earlier\", \"fanmade\", \"lol\", \"version\", \"cute\", \"hat\", \"love\", \"post\", \"later\", \"naeun\", \"woman\", \"like\", \"pink\", \"mask\", \"ver\", \"mobile\", \"version\", \"bit\", \"marcellasne\", \"ceci\", \"facebook\", \"korea\", \"source\", \"nonigtv\", \"france\", \"way\", \"excited\", \"known\", \"ambassador\", \"brand\", \"eunji\", \"join\", \"limited\", \"photoshoot\", \"likely\", \"date\", \"bomb\", \"butter\", \"chip\", \"fansinging\", \"honey\", \"sort\", \"sure\", \"nonono\", \"earlier\", \"fanmade\", \"lol\", \"cute\", \"hat\", \"love\", \"post\", \"later\", \"naeun\", \"woman\", \"like\", \"pink\", \"gimpo\", \"japan\", \"yesterday\", \"later\", \"bit\", \"mask\", \"ver\", \"mobile\", \"marcellasne\", \"ceci\", \"facebook\", \"korea\", \"source\", \"nonigtv\", \"france\", \"way\", \"excited\", \"known\", \"ambassador\", \"brand\", \"eunji\", \"join\", \"limited\", \"photoshoot\", \"date\", \"likely\", \"bomb\", \"butter\", \"chip\", \"fansinging\", \"honey\", \"sort\", \"sure\", \"nonono\", \"earlier\", \"fanmade\", \"lol\", \"version\", \"cute\", \"hat\", \"love\", \"post\", \"naeun\", \"woman\", \"like\", \"pink\", \"gimpo\", \"japan\", \"yesterday\"], \"Freq\": [3.0, 2.0, 1.0, 3.0, 1.0, 0.0, 0.0, 0.0, 0.0, 0.0, 0.0, 0.0, 0.0, 1.0, 0.0, 0.0, 0.0, 0.0, 0.0, 0.0, 1.0, 0.0, 0.0, 0.0, 0.0, 0.0, 0.0, 0.0, 0.0, 0.0, 2.4779031271490535, 1.6785795375473727, 1.6785795375473727, 1.6785795375473727, 1.6785795375473727, 1.6785795375473727, 0.8792559478526015, 0.8792559478526015, 0.8792559478526015, 0.8792559478526015, 0.8792559478526015, 0.8792559478526015, 0.8792559478526015, 0.8792559478526015, 0.8792559478526015, 0.8792559478526015, 0.8792559478526015, 0.8792559478526015, 0.8792559478526015, 0.8792559478526015, 0.8792559478526015, 0.8792559478526015, 0.8792559478526015, 0.8792559478526015, 0.8792559478526015, 0.8792559478526015, 0.8792559478526015, 0.8792559478526015, 0.8792559478526015, 0.8792559478526015, 0.8792581857631935, 0.8792571239165906, 0.8792571239165906, 2.9545647341706314, 1.5133136439531418, 1.5133136439531418, 1.5133136439531418, 0.7926880987104903, 0.7926880987104905, 0.7926880987104905, 0.7926880987104905, 0.7926880987104905, 0.7926880987104905, 0.7926880987104905, 0.7926880987104905, 0.7926880987104905, 0.7926880987104905, 0.7926880962277526, 0.7926880962277526, 0.7926880962277526, 0.7926880962277526, 0.7926880962277526, 0.7926880923929643, 0.7926880923929642, 0.7926880923929642, 1.5133219544378567, 0.7926851813328784, 0.07206255470496244, 0.07206255471927564, 0.07206255471927564, 0.07206255471927775, 0.07206255503334932, 0.07206255463898993, 0.07206255553076565, 0.07206255540159881, 0.07206255528204819, 0.07206255528204819, 0.07206255527756862, 0.07206255527756862, 2.958784162607949, 0.6381691316335031, 0.6381691316335031, 0.6381691316335031, 0.6381691316335031, 0.6381691316335031, 0.6381691316335031, 0.6381691316332766, 0.6381691316332766, 0.6381691178892165, 0.6381850790644576, 0.6381714786256824, 0.638168278149924, 0.638168278149924, 0.05801537599906955, 0.05801537601579362, 0.05801537601579362, 0.0580153760157961, 0.058015376382769095, 0.05801537592198482, 0.05801537592198482, 0.05801537592198482, 0.05801537659032992, 0.05801537609942375, 0.05801537609941767, 0.05801537609941767, 0.058015376099419425, 0.05801537609941943, 0.05801537584961835, 0.05801537584961835, 0.0580153766733582, 0.0580153766733582, 0.058015376668124154, 0.058015376668124154, 0.05801537634702719, 0.058015376202498165, 0.058015376202498165, 0.058015376202498165, 0.05801537609209172, 0.5284338169556938, 0.5284338169556938, 0.5284338169556938, 0.5284338169556938, 0.5284338169556938, 0.5284338159261025, 0.5284338159261025, 0.5284338159261025, 0.5284338159260513, 0.5284338159260513, 0.5284324710791236, 0.04803943828045335, 0.04803943829874772, 0.04803943829874772, 0.04803943829875043, 0.04803943870017983, 0.048039438196130865, 0.048039438196130865, 0.048039438196130865, 0.0480394389272293, 0.048039438390230164, 0.048039438390223524, 0.048039438390223524, 0.04803943839022544, 0.04803943839022545, 0.048039438116969646, 0.048039438116969646, 0.048039438116969646, 0.048039438116969646, 0.048039438116969646, 0.048039439335950805, 0.048039439170799864, 0.04803943901805341, 0.04803943901805341, 0.048039439012327975, 0.048039439012327975, 0.04803943866108198, 0.04803943850298264, 0.04803943850298264, 0.04803943850298264, 0.04803943840220167, 0.04803943838220971, 0.49061625535803133, 0.49061625535803133, 0.49061625535803133, 0.49061625535803133, 0.49061625535803133, 0.49061625535803133, 0.49061625535803133, 0.49061625535803133, 0.490616248126714, 0.490616248126714, 0.49060398878322337, 0.04460147813984493, 0.04460147815683007, 0.04460147815683007, 0.04460147815683259, 0.044601478529533965, 0.044601478061556926, 0.044601478061556926, 0.044601478061556926, 0.0446014787403348, 0.04460147824176564, 0.044601478241759474, 0.044601478241759474, 0.04460147824176125, 0.04460147824176126, 0.04460147798806083, 0.04460147798806083, 0.04460147798806083, 0.04460147798806083, 0.04460147798806083, 0.04460147911980642, 0.04460147881934345, 0.04460147881934345, 0.044601478493234134, 0.044601478346449064, 0.044601478346449064, 0.044601478346449064, 0.044601478252987395, 0.04460147823431916, 0.044601478219460575, 0.044601478171988174, 0.4269656844810135, 0.4269656844810135, 0.42696568448086236, 0.42696568448086186, 0.42696568447964, 0.4269656803562378, 0.4269614740939691, 0.8151118336940525, 0.03881506270323651, 0.03881506271991685, 0.038815062719510844, 0.038815062719510844, 0.038815063076617674, 0.03881506262822473, 0.03881506262822473, 0.03881506262822473, 0.038815062557804335, 0.038815062557804335, 0.038815062557804335, 0.038815062557804335, 0.038815062557804335, 0.038815062557804335, 0.038815063359392346, 0.038815063359392346, 0.038815062638212064, 0.038815062638212064, 0.038815062638212064, 0.038815062638212064, 0.038815062638212064, 0.038815062638212064, 0.03881506364218821, 0.03881506349527287, 0.03881506335429912, 0.03881506335429912, 0.03881506290119459, 0.03881506290119459, 0.03881506290119459, 0.03881506281154164, 0.038815062793757134, 0.0388150627340346, 0.038815062698990654, 0.038815062698990654, 0.038815062698990266, 0.038815062698990266, 0.038815062698990266, 0.4571031248824025, 0.4571031248824025, 0.4571031248824025, 0.4571031248824025, 0.4571031248824025, 0.4571031248824025, 0.04155482988346012, 0.041554829903993576, 0.041554829903993576, 0.04155482990399663, 0.041554830354557995, 0.0415548297888172, 0.0415548297888172, 0.0415548297888172, 0.04155483060939665, 0.0415548300066728, 0.04155483000666535, 0.04155483000666535, 0.041554830006667494, 0.0415548300066675, 0.04155483071133697, 0.04155483071133697, 0.041554829801418294, 0.041554829801418294, 0.041554829801418294, 0.041554829801418294, 0.041554829801418294, 0.041554829801418294, 0.041554829801418294, 0.041554829801418294, 0.04155483106814271, 0.04155483088277847, 0.04155483070491087, 0.04155483070491087, 0.04155483031067487, 0.04155483013322536, 0.04155483013322536, 0.04155483013322536, 0.04155483002010954, 0.04155482999767069, 0.041554829979708045, 0.04155482992231831, 0.3448196868546097, 0.3448196868546097, 0.3448196868546097, 0.3448196838501579, 0.031347244593408805, 0.031347244610990845, 0.031347244610990845, 0.031347244610993454, 0.03134724521500114, 0.031347244698911224, 0.03134724469890484, 0.03134724469890484, 0.03134724469890668, 0.031347244698906686, 0.03134724443629073, 0.03134724443629073, 0.03134724443629073, 0.03134724443629073, 0.03134724443629073, 0.03134724443629073, 0.03134724530228883, 0.03134724530228883, 0.031347244523159463, 0.031347244523159463, 0.031347244523159463, 0.031347244523159463, 0.031347244523159463, 0.031347244523159463, 0.031347244523159463, 0.031347244523159463, 0.03134724560780827, 0.031347245449087784, 0.03134724529678643, 0.03134724529678643, 0.03134724495921683, 0.03134724480727347, 0.03134724480727347, 0.03134724480727347, 0.03134724471041661, 0.03134724469120304, 0.031347244675822304, 0.031347244626681633, 0.03134724458882179, 0.03134724458882179, 0.33882863435786864, 0.33882863435786864, 0.33882863435753247, 0.3388319761426654, 0.030802603506179457, 0.030802603902554102, 0.030802603426548336, 0.030802603426548336, 0.030802603426548336, 0.030802604116971517, 0.0308026036108983, 0.03080260360984248, 0.03080260360984248, 0.030802603609844284, 0.030802603609844287, 0.03080260335179133, 0.03080260335179133, 0.03080260335179133, 0.03080260335179133, 0.03080260335179133, 0.03080260335179133, 0.030802604202742574, 0.03080260420274257, 0.03080260343715071, 0.03080260343715071, 0.03080260343715071, 0.03080260343715071, 0.03080260343715071, 0.03080260343715071, 0.03080260343715071, 0.030802604502953558, 0.030802604346990867, 0.030802604197335774, 0.030802604197335774, 0.03080260371632818, 0.03080260371632818, 0.03080260371632818, 0.030802603621154223, 0.030802603602274502, 0.030802603587161012, 0.030802603538874162, 0.030802603501672146, 0.030802603501672146, 0.030802603501671737, 0.030802603501671737, 0.030802603501671737, 0.5697111610118555, 0.29842013161716363, 0.027129103232951327, 0.027129103232951327, 0.027129103232953748, 0.02712910359102319, 0.02712910314141853, 0.02712910314141853, 0.02712910314141853, 0.027129103793548198, 0.0271291033145524, 0.027129103314546477, 0.027129103314546477, 0.02712910331454818, 0.027129103314548188, 0.02712910307080784, 0.02712910307080784, 0.02712910307080784, 0.02712910307080784, 0.02712910307080784, 0.02712910307080784, 0.027129103874562063, 0.027129103874562063, 0.027129103151432857, 0.027129103151432857, 0.027129103151432857, 0.027129103151432857, 0.027129103151432857, 0.027129103151432857, 0.027129103151432857, 0.02712910415812222, 0.027129104010809802, 0.02712910386945517, 0.02712910386945517, 0.02712910355614846, 0.02712910341512608, 0.02712910341512608, 0.02712910341512608, 0.027129103325230833, 0.02712910329312301, 0.027129103247514337, 0.027129103212375688, 0.027129103212375688, 0.027129103212375303, 0.027129103212375303, 0.027129103212375303], \"Total\": [3.0, 2.0, 1.0, 3.0, 1.0, 0.0, 0.0, 0.0, 0.0, 0.0, 0.0, 0.0, 0.0, 1.0, 0.0, 0.0, 0.0, 0.0, 0.0, 0.0, 1.0, 0.0, 0.0, 0.0, 0.0, 0.0, 0.0, 0.0, 0.0, 0.0, 2.870270816295531, 2.070947226712132, 2.070947226712132, 2.070947226712132, 2.070947226712132, 2.070947226712132, 1.2716236370818972, 1.2716236370818972, 1.2716236370818972, 1.2716236370818972, 1.2716236370818972, 1.2716236370818972, 1.2716236370818972, 1.2716236370818972, 1.2716236370818972, 1.2716236370818972, 1.2716236370818972, 1.2716236370818972, 1.2716236370818972, 1.2716236370818972, 1.2716236370818972, 1.2716236370818972, 1.2716236370818972, 1.2716236370818972, 1.2716236370818972, 1.2716236370818972, 1.2716236370818972, 1.2716236370818972, 1.2716236370818972, 1.2716236370818972, 1.7520189098465062, 1.8517777166400753, 1.8517777166400753, 3.354802227864079, 1.9135511376852807, 1.9135511376852807, 1.9135511376852807, 1.1929255925356672, 1.1929255925356677, 1.1929255925356677, 1.1929255925356677, 1.1929255925356677, 1.1929255925356677, 1.1929255925356677, 1.1929255925356677, 1.1929255925356677, 1.1929255925356677, 1.1929255914193102, 1.1929255914193102, 1.1929255914193102, 1.1929255914193102, 1.1929255914193102, 1.19292558969487, 1.19292558969487, 1.19292558969487, 2.6898562215154564, 1.773078780311141, 0.7435910785545635, 0.7803260811550823, 0.7803260811550823, 0.7803260811551718, 0.7857724928305345, 0.7857724917282098, 1.0524538006934239, 1.4984722703321967, 0.918314826174619, 0.918314826174619, 1.2716236290102592, 1.2716236290102592, 3.3730688357742995, 1.0524538049700989, 1.0524538049700989, 1.0524538049700989, 1.0524538049700989, 1.0524538049700989, 1.0524538049700989, 1.052453804970091, 1.052453804970091, 1.0524538006934239, 1.4984722703321967, 1.773078780311141, 1.8517777166400753, 1.8517777166400753, 0.7435910785545635, 0.7803260811550823, 0.7803260811550823, 0.7803260811551718, 0.7857724928305345, 0.7857724917282098, 0.7857724917282098, 0.7857724917282098, 0.8604506731229212, 0.8604506728337475, 0.8604506728340169, 0.8604506728340169, 0.860450672834135, 0.8604506728341353, 0.8878483438473544, 0.8878483438473544, 0.918314826174619, 0.918314826174619, 1.2716236290102592, 1.2716236290102592, 1.168475836950207, 1.19292558969487, 1.19292558969487, 1.19292558969487, 1.0148821087853517, 0.9526944279215992, 0.9526944279215992, 0.9526944279215992, 0.9526944279215992, 0.9526944279215992, 0.9526944277609772, 0.9526944277609772, 0.9526944277609772, 0.9526944277610077, 0.9526944277610077, 1.7520189098465062, 0.7435910785545635, 0.7803260811550823, 0.7803260811550823, 0.7803260811551718, 0.7857724928305345, 0.7857724917282098, 0.7857724917282098, 0.7857724917282098, 0.8604506731229212, 0.8604506728337475, 0.8604506728340169, 0.8604506728340169, 0.860450672834135, 0.8604506728341353, 0.8878483438473544, 0.8878483438473544, 0.8878483438473544, 0.8878483438473544, 0.8878483438473544, 1.0524538006934239, 1.4984722703321967, 0.918314826174619, 0.918314826174619, 1.2716236290102592, 1.2716236290102592, 1.168475836950207, 1.19292558969487, 1.19292558969487, 1.19292558969487, 1.773078780311141, 1.0148821087853517, 0.9183148267742836, 0.9183148267742836, 0.9183148267742836, 0.9183148267742836, 0.9183148267742836, 0.9183148267742836, 0.9183148267742836, 0.9183148267742836, 0.918314826174619, 0.918314826174619, 1.4984722703321967, 0.7435910785545635, 0.7803260811550823, 0.7803260811550823, 0.7803260811551718, 0.7857724928305345, 0.7857724917282098, 0.7857724917282098, 0.7857724917282098, 0.8604506731229212, 0.8604506728337475, 0.8604506728340169, 0.8604506728340169, 0.860450672834135, 0.8604506728341353, 0.8878483438473544, 0.8878483438473544, 0.8878483438473544, 0.8878483438473544, 0.8878483438473544, 1.0524538006934239, 1.2716236290102592, 1.2716236290102592, 1.168475836950207, 1.19292558969487, 1.19292558969487, 1.19292558969487, 1.773078780311141, 1.0148821087853517, 2.6898562215154564, 1.7520189098465062, 0.8604506728340169, 0.8604506728340169, 0.860450672834135, 0.8604506728341353, 0.8604506728337475, 0.8604506731229212, 1.168475836950207, 2.6898562215154564, 0.7435910785545635, 0.7803260811551718, 0.7803260811550823, 0.7803260811550823, 0.7857724928305345, 0.7857724917282098, 0.7857724917282098, 0.7857724917282098, 0.8878483438473544, 0.8878483438473544, 0.8878483438473544, 0.8878483438473544, 0.8878483438473544, 0.8878483438473544, 0.918314826174619, 0.918314826174619, 0.9183148267742836, 0.9183148267742836, 0.9183148267742836, 0.9183148267742836, 0.9183148267742836, 0.9183148267742836, 1.0524538006934239, 1.4984722703321967, 1.2716236290102592, 1.2716236290102592, 1.19292558969487, 1.19292558969487, 1.19292558969487, 1.773078780311141, 1.0148821087853517, 1.7520189098465062, 0.9526944277610077, 0.9526944277610077, 0.9526944277609772, 0.9526944277609772, 0.9526944277609772, 0.8878483438473544, 0.8878483438473544, 0.8878483438473544, 0.8878483438473544, 0.8878483438473544, 0.8878483438473544, 0.7435910785545635, 0.7803260811550823, 0.7803260811550823, 0.7803260811551718, 0.7857724928305345, 0.7857724917282098, 0.7857724917282098, 0.7857724917282098, 0.8604506731229212, 0.8604506728337475, 0.8604506728340169, 0.8604506728340169, 0.860450672834135, 0.8604506728341353, 0.918314826174619, 0.918314826174619, 0.9183148267742836, 0.9183148267742836, 0.9183148267742836, 0.9183148267742836, 0.9183148267742836, 0.9183148267742836, 0.9183148267742836, 0.9183148267742836, 1.0524538006934239, 1.4984722703321967, 1.2716236290102592, 1.2716236290102592, 1.168475836950207, 1.19292558969487, 1.19292558969487, 1.19292558969487, 1.773078780311141, 1.0148821087853517, 2.6898562215154564, 1.7520189098465062, 0.7857724917282098, 0.7857724917282098, 0.7857724917282098, 0.7857724928305345, 0.7435910785545635, 0.7803260811550823, 0.7803260811550823, 0.7803260811551718, 0.8604506731229212, 0.8604506728337475, 0.8604506728340169, 0.8604506728340169, 0.860450672834135, 0.8604506728341353, 0.8878483438473544, 0.8878483438473544, 0.8878483438473544, 0.8878483438473544, 0.8878483438473544, 0.8878483438473544, 0.918314826174619, 0.918314826174619, 0.9183148267742836, 0.9183148267742836, 0.9183148267742836, 0.9183148267742836, 0.9183148267742836, 0.9183148267742836, 0.9183148267742836, 0.9183148267742836, 1.0524538006934239, 1.4984722703321967, 1.2716236290102592, 1.2716236290102592, 1.168475836950207, 1.19292558969487, 1.19292558969487, 1.19292558969487, 1.773078780311141, 1.0148821087853517, 2.6898562215154564, 1.7520189098465062, 0.9526944277610077, 0.9526944277610077, 0.7803260811550823, 0.7803260811550823, 0.7803260811551718, 1.168475836950207, 0.7435910785545635, 0.7857724928305345, 0.7857724917282098, 0.7857724917282098, 0.7857724917282098, 0.8604506731229212, 0.8604506728337475, 0.8604506728340169, 0.8604506728340169, 0.860450672834135, 0.8604506728341353, 0.8878483438473544, 0.8878483438473544, 0.8878483438473544, 0.8878483438473544, 0.8878483438473544, 0.8878483438473544, 0.918314826174619, 0.918314826174619, 0.9183148267742836, 0.9183148267742836, 0.9183148267742836, 0.9183148267742836, 0.9183148267742836, 0.9183148267742836, 0.9183148267742836, 1.0524538006934239, 1.4984722703321967, 1.2716236290102592, 1.2716236290102592, 1.19292558969487, 1.19292558969487, 1.19292558969487, 1.773078780311141, 1.0148821087853517, 2.6898562215154564, 1.7520189098465062, 0.9526944277610077, 0.9526944277610077, 0.9526944277609772, 0.9526944277609772, 0.9526944277609772, 1.0148821087853517, 0.7435910785545635, 0.7803260811550823, 0.7803260811550823, 0.7803260811551718, 0.7857724928305345, 0.7857724917282098, 0.7857724917282098, 0.7857724917282098, 0.8604506731229212, 0.8604506728337475, 0.8604506728340169, 0.8604506728340169, 0.860450672834135, 0.8604506728341353, 0.8878483438473544, 0.8878483438473544, 0.8878483438473544, 0.8878483438473544, 0.8878483438473544, 0.8878483438473544, 0.918314826174619, 0.918314826174619, 0.9183148267742836, 0.9183148267742836, 0.9183148267742836, 0.9183148267742836, 0.9183148267742836, 0.9183148267742836, 0.9183148267742836, 1.0524538006934239, 1.4984722703321967, 1.2716236290102592, 1.2716236290102592, 1.168475836950207, 1.19292558969487, 1.19292558969487, 1.19292558969487, 1.773078780311141, 2.6898562215154564, 1.7520189098465062, 0.9526944277610077, 0.9526944277610077, 0.9526944277609772, 0.9526944277609772, 0.9526944277609772], \"Category\": [\"Default\", \"Default\", \"Default\", \"Default\", \"Default\", \"Default\", \"Default\", \"Default\", \"Default\", \"Default\", \"Default\", \"Default\", \"Default\", \"Default\", \"Default\", \"Default\", \"Default\", \"Default\", \"Default\", \"Default\", \"Default\", \"Default\", \"Default\", \"Default\", \"Default\", \"Default\", \"Default\", \"Default\", \"Default\", \"Default\", \"Topic1\", \"Topic1\", \"Topic1\", \"Topic1\", \"Topic1\", \"Topic1\", \"Topic1\", \"Topic1\", \"Topic1\", \"Topic1\", \"Topic1\", \"Topic1\", \"Topic1\", \"Topic1\", \"Topic1\", \"Topic1\", \"Topic1\", \"Topic1\", \"Topic1\", \"Topic1\", \"Topic1\", \"Topic1\", \"Topic1\", \"Topic1\", \"Topic1\", \"Topic1\", \"Topic1\", \"Topic1\", \"Topic1\", \"Topic1\", \"Topic1\", \"Topic1\", \"Topic1\", \"Topic2\", \"Topic2\", \"Topic2\", \"Topic2\", \"Topic2\", \"Topic2\", \"Topic2\", \"Topic2\", \"Topic2\", \"Topic2\", \"Topic2\", \"Topic2\", \"Topic2\", \"Topic2\", \"Topic2\", \"Topic2\", \"Topic2\", \"Topic2\", \"Topic2\", \"Topic2\", \"Topic2\", \"Topic2\", \"Topic2\", \"Topic2\", \"Topic2\", \"Topic2\", \"Topic2\", \"Topic2\", \"Topic2\", \"Topic2\", \"Topic2\", \"Topic2\", \"Topic2\", \"Topic2\", \"Topic2\", \"Topic2\", \"Topic3\", \"Topic3\", \"Topic3\", \"Topic3\", \"Topic3\", \"Topic3\", \"Topic3\", \"Topic3\", \"Topic3\", \"Topic3\", \"Topic3\", \"Topic3\", \"Topic3\", \"Topic3\", \"Topic3\", \"Topic3\", \"Topic3\", \"Topic3\", \"Topic3\", \"Topic3\", \"Topic3\", \"Topic3\", \"Topic3\", \"Topic3\", \"Topic3\", \"Topic3\", \"Topic3\", \"Topic3\", \"Topic3\", \"Topic3\", \"Topic3\", \"Topic3\", \"Topic3\", \"Topic3\", \"Topic3\", \"Topic3\", \"Topic3\", \"Topic3\", \"Topic3\", \"Topic4\", \"Topic4\", \"Topic4\", \"Topic4\", \"Topic4\", \"Topic4\", \"Topic4\", \"Topic4\", \"Topic4\", \"Topic4\", \"Topic4\", \"Topic4\", \"Topic4\", \"Topic4\", \"Topic4\", \"Topic4\", \"Topic4\", \"Topic4\", \"Topic4\", \"Topic4\", \"Topic4\", \"Topic4\", \"Topic4\", \"Topic4\", \"Topic4\", \"Topic4\", \"Topic4\", \"Topic4\", \"Topic4\", \"Topic4\", \"Topic4\", \"Topic4\", \"Topic4\", \"Topic4\", \"Topic4\", \"Topic4\", \"Topic4\", \"Topic4\", \"Topic4\", \"Topic4\", \"Topic4\", \"Topic4\", \"Topic5\", \"Topic5\", \"Topic5\", \"Topic5\", \"Topic5\", \"Topic5\", \"Topic5\", \"Topic5\", \"Topic5\", \"Topic5\", \"Topic5\", \"Topic5\", \"Topic5\", \"Topic5\", \"Topic5\", \"Topic5\", \"Topic5\", \"Topic5\", \"Topic5\", \"Topic5\", \"Topic5\", \"Topic5\", \"Topic5\", \"Topic5\", \"Topic5\", \"Topic5\", \"Topic5\", \"Topic5\", \"Topic5\", \"Topic5\", \"Topic5\", \"Topic5\", \"Topic5\", \"Topic5\", \"Topic5\", \"Topic5\", \"Topic5\", \"Topic5\", \"Topic5\", \"Topic5\", \"Topic5\", \"Topic6\", \"Topic6\", \"Topic6\", \"Topic6\", \"Topic6\", \"Topic6\", \"Topic6\", \"Topic6\", \"Topic6\", \"Topic6\", \"Topic6\", \"Topic6\", \"Topic6\", \"Topic6\", \"Topic6\", \"Topic6\", \"Topic6\", \"Topic6\", \"Topic6\", \"Topic6\", \"Topic6\", \"Topic6\", \"Topic6\", \"Topic6\", \"Topic6\", \"Topic6\", \"Topic6\", \"Topic6\", \"Topic6\", \"Topic6\", \"Topic6\", \"Topic6\", \"Topic6\", \"Topic6\", \"Topic6\", \"Topic6\", \"Topic6\", \"Topic6\", \"Topic6\", \"Topic6\", \"Topic6\", \"Topic6\", \"Topic6\", \"Topic6\", \"Topic6\", \"Topic7\", \"Topic7\", \"Topic7\", \"Topic7\", \"Topic7\", \"Topic7\", \"Topic7\", \"Topic7\", \"Topic7\", \"Topic7\", \"Topic7\", \"Topic7\", \"Topic7\", \"Topic7\", \"Topic7\", \"Topic7\", \"Topic7\", \"Topic7\", \"Topic7\", \"Topic7\", \"Topic7\", \"Topic7\", \"Topic7\", \"Topic7\", \"Topic7\", \"Topic7\", \"Topic7\", \"Topic7\", \"Topic7\", \"Topic7\", \"Topic7\", \"Topic7\", \"Topic7\", \"Topic7\", \"Topic7\", \"Topic7\", \"Topic7\", \"Topic7\", \"Topic7\", \"Topic7\", \"Topic7\", \"Topic7\", \"Topic8\", \"Topic8\", \"Topic8\", \"Topic8\", \"Topic8\", \"Topic8\", \"Topic8\", \"Topic8\", \"Topic8\", \"Topic8\", \"Topic8\", \"Topic8\", \"Topic8\", \"Topic8\", \"Topic8\", \"Topic8\", \"Topic8\", \"Topic8\", \"Topic8\", \"Topic8\", \"Topic8\", \"Topic8\", \"Topic8\", \"Topic8\", \"Topic8\", \"Topic8\", \"Topic8\", \"Topic8\", \"Topic8\", \"Topic8\", \"Topic8\", \"Topic8\", \"Topic8\", \"Topic8\", \"Topic8\", \"Topic8\", \"Topic8\", \"Topic8\", \"Topic8\", \"Topic8\", \"Topic8\", \"Topic8\", \"Topic8\", \"Topic8\", \"Topic9\", \"Topic9\", \"Topic9\", \"Topic9\", \"Topic9\", \"Topic9\", \"Topic9\", \"Topic9\", \"Topic9\", \"Topic9\", \"Topic9\", \"Topic9\", \"Topic9\", \"Topic9\", \"Topic9\", \"Topic9\", \"Topic9\", \"Topic9\", \"Topic9\", \"Topic9\", \"Topic9\", \"Topic9\", \"Topic9\", \"Topic9\", \"Topic9\", \"Topic9\", \"Topic9\", \"Topic9\", \"Topic9\", \"Topic9\", \"Topic9\", \"Topic9\", \"Topic9\", \"Topic9\", \"Topic9\", \"Topic9\", \"Topic9\", \"Topic9\", \"Topic9\", \"Topic9\", \"Topic9\", \"Topic9\", \"Topic9\", \"Topic9\", \"Topic9\", \"Topic9\", \"Topic10\", \"Topic10\", \"Topic10\", \"Topic10\", \"Topic10\", \"Topic10\", \"Topic10\", \"Topic10\", \"Topic10\", \"Topic10\", \"Topic10\", \"Topic10\", \"Topic10\", \"Topic10\", \"Topic10\", \"Topic10\", \"Topic10\", \"Topic10\", \"Topic10\", \"Topic10\", \"Topic10\", \"Topic10\", \"Topic10\", \"Topic10\", \"Topic10\", \"Topic10\", \"Topic10\", \"Topic10\", \"Topic10\", \"Topic10\", \"Topic10\", \"Topic10\", \"Topic10\", \"Topic10\", \"Topic10\", \"Topic10\", \"Topic10\", \"Topic10\", \"Topic10\", \"Topic10\", \"Topic10\", \"Topic10\", \"Topic10\", \"Topic10\", \"Topic10\", \"Topic10\"], \"logprob\": [30.0, 29.0, 28.0, 27.0, 26.0, 25.0, 24.0, 23.0, 22.0, 21.0, 20.0, 19.0, 18.0, 17.0, 16.0, 15.0, 14.0, 13.0, 12.0, 11.0, 10.0, 9.0, 8.0, 7.0, 6.0, 5.0, 4.0, 3.0, 2.0, 1.0, -2.8631, -3.2526, -3.2526, -3.2526, -3.2526, -3.2526, -3.8992, -3.8992, -3.8992, -3.8992, -3.8992, -3.8992, -3.8992, -3.8992, -3.8992, -3.8992, -3.8992, -3.8992, -3.8992, -3.8992, -3.8992, -3.8992, -3.8992, -3.8992, -3.8992, -3.8992, -3.8992, -3.8992, -3.8992, -3.8992, -3.8992, -3.8992, -3.8992, -2.3338, -3.0028, -3.0028, -3.0028, -3.6495, -3.6495, -3.6495, -3.6495, -3.6495, -3.6495, -3.6495, -3.6495, -3.6495, -3.6495, -3.6495, -3.6495, -3.6495, -3.6495, -3.6495, -3.6495, -3.6495, -3.6495, -3.0028, -3.6495, -6.0474, -6.0474, -6.0474, -6.0474, -6.0474, -6.0474, -6.0474, -6.0474, -6.0474, -6.0474, -6.0474, -6.0474, -1.7483, -3.2823, -3.2823, -3.2823, -3.2823, -3.2823, -3.2823, -3.2823, -3.2823, -3.2823, -3.2823, -3.2823, -3.2823, -3.2823, -5.6802, -5.6802, -5.6802, -5.6802, -5.6802, -5.6802, -5.6802, -5.6802, -5.6802, -5.6802, -5.6802, -5.6802, -5.6802, -5.6802, -5.6802, -5.6802, -5.6802, -5.6802, -5.6802, -5.6802, -5.6802, -5.6802, -5.6802, -5.6802, -5.6802, -3.0093, -3.0093, -3.0093, -3.0093, -3.0093, -3.0093, -3.0093, -3.0093, -3.0093, -3.0093, -3.0093, -5.4072, -5.4072, -5.4072, -5.4072, -5.4072, -5.4072, -5.4072, -5.4072, -5.4072, -5.4072, -5.4072, -5.4072, -5.4072, -5.4072, -5.4072, -5.4072, -5.4072, -5.4072, -5.4072, -5.4072, -5.4072, -5.4072, -5.4072, -5.4072, -5.4072, -5.4072, -5.4072, -5.4072, -5.4072, -5.4072, -5.4072, -3.0093, -3.0093, -3.0093, -3.0093, -3.0093, -3.0093, -3.0093, -3.0093, -3.0093, -3.0093, -3.0093, -5.4072, -5.4072, -5.4072, -5.4072, -5.4072, -5.4072, -5.4072, -5.4072, -5.4072, -5.4072, -5.4072, -5.4072, -5.4072, -5.4072, -5.4072, -5.4072, -5.4072, -5.4072, -5.4072, -5.4072, -5.4072, -5.4072, -5.4072, -5.4072, -5.4072, -5.4072, -5.4072, -5.4072, -5.4072, -5.4072, -2.9153, -2.9153, -2.9153, -2.9153, -2.9153, -2.9153, -2.9153, -2.2687, -5.3132, -5.3132, -5.3132, -5.3132, -5.3132, -5.3132, -5.3132, -5.3132, -5.3132, -5.3132, -5.3132, -5.3132, -5.3132, -5.3132, -5.3132, -5.3132, -5.3132, -5.3132, -5.3132, -5.3132, -5.3132, -5.3132, -5.3132, -5.3132, -5.3132, -5.3132, -5.3132, -5.3132, -5.3132, -5.3132, -5.3132, -5.3132, -5.3132, -5.3132, -5.3132, -5.3132, -5.3132, -2.7554, -2.7554, -2.7554, -2.7554, -2.7554, -2.7554, -5.1533, -5.1533, -5.1533, -5.1533, -5.1533, -5.1533, -5.1533, -5.1533, -5.1533, -5.1533, -5.1533, -5.1533, -5.1533, -5.1533, -5.1533, -5.1533, -5.1533, -5.1533, -5.1533, -5.1533, -5.1533, -5.1533, -5.1533, -5.1533, -5.1533, -5.1533, -5.1533, -5.1533, -5.1533, -5.1533, -5.1533, -5.1533, -5.1533, -5.1533, -5.1533, -5.1533, -2.6325, -2.6325, -2.6325, -2.6325, -5.0304, -5.0304, -5.0304, -5.0304, -5.0304, -5.0304, -5.0304, -5.0304, -5.0304, -5.0304, -5.0304, -5.0304, -5.0304, -5.0304, -5.0304, -5.0304, -5.0304, -5.0304, -5.0304, -5.0304, -5.0304, -5.0304, -5.0304, -5.0304, -5.0304, -5.0304, -5.0304, -5.0304, -5.0304, -5.0304, -5.0304, -5.0304, -5.0304, -5.0304, -5.0304, -5.0304, -5.0304, -5.0304, -5.0304, -5.0304, -2.6325, -2.6325, -2.6325, -2.6325, -5.0304, -5.0304, -5.0304, -5.0304, -5.0304, -5.0304, -5.0304, -5.0304, -5.0304, -5.0304, -5.0304, -5.0304, -5.0304, -5.0304, -5.0304, -5.0304, -5.0304, -5.0304, -5.0304, -5.0304, -5.0304, -5.0304, -5.0304, -5.0304, -5.0304, -5.0304, -5.0304, -5.0304, -5.0304, -5.0304, -5.0304, -5.0304, -5.0304, -5.0304, -5.0304, -5.0304, -5.0304, -5.0304, -5.0304, -5.0304, -5.0304, -5.0304, -1.9183, -2.5649, -4.9628, -4.9628, -4.9628, -4.9628, -4.9628, -4.9628, -4.9628, -4.9628, -4.9628, -4.9628, -4.9628, -4.9628, -4.9628, -4.9628, -4.9628, -4.9628, -4.9628, -4.9628, -4.9628, -4.9628, -4.9628, -4.9628, -4.9628, -4.9628, -4.9628, -4.9628, -4.9628, -4.9628, -4.9628, -4.9628, -4.9628, -4.9628, -4.9628, -4.9628, -4.9628, -4.9628, -4.9628, -4.9628, -4.9628, -4.9628, -4.9628, -4.9628, -4.9628, -4.9628], \"loglift\": [30.0, 29.0, 28.0, 27.0, 26.0, 25.0, 24.0, 23.0, 22.0, 21.0, 20.0, 19.0, 18.0, 17.0, 16.0, 15.0, 14.0, 13.0, 12.0, 11.0, 10.0, 9.0, 8.0, 7.0, 6.0, 5.0, 4.0, 3.0, 2.0, 1.0, 1.0241, 0.961, 0.961, 0.961, 0.961, 0.961, 0.8021, 0.8021, 0.8021, 0.8021, 0.8021, 0.8021, 0.8021, 0.8021, 0.8021, 0.8021, 0.8021, 0.8021, 0.8021, 0.8021, 0.8021, 0.8021, 0.8021, 0.8021, 0.8021, 0.8021, 0.8021, 0.8021, 0.8021, 0.8021, 0.4817, 0.4263, 0.4263, 1.3974, 1.2898, 1.2898, 1.2898, 1.1158, 1.1158, 1.1158, 1.1158, 1.1158, 1.1158, 1.1158, 1.1158, 1.1158, 1.1158, 1.1158, 1.1158, 1.1158, 1.1158, 1.1158, 1.1158, 1.1158, 1.1158, 0.9493, 0.7194, -0.8095, -0.8577, -0.8577, -0.8577, -0.8646, -0.8646, -1.1569, -1.5102, -1.0205, -1.0205, -1.346, -1.346, 1.9775, 1.6082, 1.6082, 1.6082, 1.6082, 1.6082, 1.6082, 1.6082, 1.6082, 1.6082, 1.2549, 1.0867, 1.0432, 1.0432, -0.4423, -0.4905, -0.4905, -0.4905, -0.4974, -0.4974, -0.4974, -0.4974, -0.5882, -0.5882, -0.5882, -0.5882, -0.5882, -0.5882, -0.6196, -0.6196, -0.6533, -0.6533, -0.9788, -0.9788, -0.8942, -0.9149, -0.9149, -0.9149, -0.7533, 1.9808, 1.9808, 1.9808, 1.9808, 1.9808, 1.9808, 1.9808, 1.9808, 1.9808, 1.9808, 1.3716, -0.1693, -0.2175, -0.2175, -0.2175, -0.2244, -0.2244, -0.2244, -0.2244, -0.3152, -0.3152, -0.3152, -0.3152, -0.3152, -0.3152, -0.3466, -0.3466, -0.3466, -0.3466, -0.3466, -0.5167, -0.87, -0.3803, -0.3803, -0.7058, -0.7058, -0.6212, -0.6419, -0.6419, -0.6419, -1.0382, -0.4803, 2.0176, 2.0176, 2.0176, 2.0176, 2.0176, 2.0176, 2.0176, 2.0176, 2.0176, 2.0176, 1.5279, -0.1693, -0.2175, -0.2175, -0.2175, -0.2244, -0.2244, -0.2244, -0.2244, -0.3152, -0.3152, -0.3152, -0.3152, -0.3152, -0.3152, -0.3466, -0.3466, -0.3466, -0.3466, -0.3466, -0.5167, -0.7058, -0.7058, -0.6212, -0.6419, -0.6419, -0.6419, -1.0382, -0.4803, -1.455, -1.0263, 2.1766, 2.1766, 2.1766, 2.1766, 2.1766, 2.1766, 1.8706, 1.6835, -0.0753, -0.1235, -0.1235, -0.1235, -0.1305, -0.1305, -0.1305, -0.1305, -0.2526, -0.2526, -0.2526, -0.2526, -0.2526, -0.2526, -0.2863, -0.2863, -0.2863, -0.2863, -0.2863, -0.2863, -0.2863, -0.2863, -0.4227, -0.776, -0.6119, -0.6119, -0.548, -0.548, -0.548, -0.9443, -0.3863, -0.9323, -0.3231, -0.3231, -0.3231, -0.3231, -0.3231, 2.3052, 2.3052, 2.3052, 2.3052, 2.3052, 2.3052, 0.0846, 0.0364, 0.0364, 0.0364, 0.0294, 0.0294, 0.0294, 0.0294, -0.0614, -0.0614, -0.0614, -0.0614, -0.0614, -0.0614, -0.1264, -0.1264, -0.1264, -0.1264, -0.1264, -0.1264, -0.1264, -0.1264, -0.1264, -0.1264, -0.2628, -0.6161, -0.4519, -0.4519, -0.3673, -0.3881, -0.3881, -0.3881, -0.7844, -0.2264, -1.2011, -0.7724, 2.5502, 2.5502, 2.5502, 2.5502, 0.2075, 0.1592, 0.1592, 0.1592, 0.0615, 0.0615, 0.0615, 0.0615, 0.0615, 0.0615, 0.0302, 0.0302, 0.0302, 0.0302, 0.0302, 0.0302, -0.0036, -0.0036, -0.0036, -0.0036, -0.0036, -0.0036, -0.0036, -0.0036, -0.0036, -0.0036, -0.1399, -0.4932, -0.3291, -0.3291, -0.2445, -0.2652, -0.2652, -0.2652, -0.6615, -0.1036, -1.0783, -0.6496, -0.0403, -0.0403, 2.5571, 2.5571, 2.5571, 2.1534, 0.2075, 0.1523, 0.1523, 0.1523, 0.1523, 0.0615, 0.0615, 0.0615, 0.0615, 0.0615, 0.0615, 0.0302, 0.0302, 0.0302, 0.0302, 0.0302, 0.0302, -0.0036, -0.0036, -0.0036, -0.0036, -0.0036, -0.0036, -0.0036, -0.0036, -0.0036, -0.1399, -0.4932, -0.3291, -0.3291, -0.2652, -0.2652, -0.2652, -0.6615, -0.1036, -1.0783, -0.6496, -0.0403, -0.0403, -0.0403, -0.0403, -0.0403, 3.0085, 2.673, 0.2268, 0.2268, 0.2268, 0.2199, 0.2199, 0.2199, 0.2199, 0.1291, 0.1291, 0.1291, 0.1291, 0.1291, 0.1291, 0.0978, 0.0978, 0.0978, 0.0978, 0.0978, 0.0978, 0.064, 0.064, 0.064, 0.064, 0.064, 0.064, 0.064, 0.064, 0.064, -0.0723, -0.4256, -0.2615, -0.2615, -0.1769, -0.1976, -0.1976, -0.1976, -0.5939, -1.0107, -0.582, 0.0273, 0.0273, 0.0273, 0.0273, 0.0273]}, \"token.table\": {\"Topic\": [1, 2, 1, 1, 2, 1, 2, 2, 2, 4, 2, 2, 1, 1, 2, 2, 2, 3, 1, 1, 1, 4, 1, 2, 4, 1, 4, 1, 3, 1, 1, 1, 2, 3, 2, 4, 1, 1, 2, 10, 1, 4, 2, 1, 2, 1, 1, 2, 6, 2, 1, 3, 3, 3, 1, 4, 2, 3, 3, 2, 2, 1, 1, 4, 3, 1, 3, 2, 1, 1, 4, 3, 1, 1, 3, 1, 1, 1, 3, 1, 2, 3, 1, 4, 4, 2], \"Freq\": [0.7863962031209053, 0.8382752505748599, 0.7863962031209053, 0.9657416539653843, 1.0451771894736464, 0.7863962031209053, 0.8382752505748599, 0.8382752505748599, 0.8382752513593302, 1.0496545069352434, 1.0451771894736464, 0.8382752505748599, 0.7863962031209053, 0.7863962031209053, 0.8382752513593302, 0.8382752525711037, 0.8382752513593302, 0.6673463498782729, 0.7863962031209053, 0.7863962031209053, 0.7863962031209053, 1.0496545069352434, 0.7863962081125596, 0.8382752513593302, 1.0496545069352434, 0.7863962031209053, 1.0496545071122125, 0.5400216186932155, 0.5400216186932155, 0.7863962031209053, 0.7863962031209053, 0.7863962031209053, 0.8382752525711037, 0.9501604681151953, 0.8382752505748602, 1.0496545071122125, 0.7863962031209053, 0.7863962031209053, 0.8382752505748599, 0.9853361206621692, 0.9657416539653843, 1.049654507112179, 0.8382752505748599, 0.7863962081125596, 0.8382752525711037, 0.6967983608533734, 0.7863962031209053, 0.7435341651358623, 0.3717670825679312, 0.8382752505748599, 0.9657416539653843, 0.9501604719761914, 0.9501604681151881, 0.9501604681151881, 0.9657416539653843, 1.049654507112179, 0.5639907324504325, 0.5639907324504325, 0.9501604681151953, 1.0451771894736464, 0.8382752505748599, 0.9657416539653843, 0.7863962031209053, 1.0496545069352434, 0.9501604681151881, 0.7863962031209053, 0.8893977994704456, 0.8382752513593302, 0.7863962031209053, 0.7863962031209053, 1.0496545069352434, 0.9501604681151881, 0.7863962031209053, 0.7863962031209053, 0.9501604681151881, 0.7863962031209053, 0.7863962031209053, 0.5400216186932155, 0.5400216186932155, 0.7863962031209053, 0.8942404935476709, 0.9501604681151881, 0.5707700952198111, 0.5707700952198111, 1.0496545071122125, 0.8382752505748599], \"Term\": [\"act\", \"adliptv\", \"atrata\", \"aubergine\", \"award\", \"boccioni\", \"broadcast\", \"carpet\", \"cast\", \"catch\", \"ceremony\", \"channel\", \"city\", \"covert\", \"crew\", \"cute\", \"drama\", \"earlier\", \"end\", \"erica\", \"eros\", \"eye\", \"fanmade\", \"feature\", \"ferrero\", \"figure\", \"gimpo\", \"gogh\", \"gogh\", \"goldfish\", \"han\", \"handful\", \"hat\", \"hour\", \"interview\", \"japan\", \"kokoschka\", \"kooning\", \"kst\", \"later\", \"life\", \"like\", \"live\", \"lol\", \"love\", \"matisse\", \"matta\", \"naeun\", \"naeun\", \"naeuns\", \"night\", \"nonono\", \"pamplet\", \"pamplets\", \"picabia\", \"pink\", \"post\", \"post\", \"quote\", \"receiving\", \"red\", \"reupload\", \"rise\", \"rochers\", \"school\", \"sculpture\", \"sec\", \"shot\", \"sorry\", \"starry\", \"tbh\", \"thought\", \"tietze\", \"tietzeconrat\", \"took\", \"triste\", \"upgood\", \"van\", \"van\", \"vertigo\", \"video\", \"wasnt\", \"woman\", \"woman\", \"yesterday\", \"youtube\"]}, \"R\": 30, \"lambda.step\": 0.01, \"plot.opts\": {\"xlab\": \"PC1\", \"ylab\": \"PC2\"}, \"topic.order\": [6, 5, 7, 1, 9, 10, 3, 2, 8, 4]};\n",
       "\n",
       "function LDAvis_load_lib(url, callback){\n",
       "  var s = document.createElement('script');\n",
       "  s.src = url;\n",
       "  s.async = true;\n",
       "  s.onreadystatechange = s.onload = callback;\n",
       "  s.onerror = function(){console.warn(\"failed to load library \" + url);};\n",
       "  document.getElementsByTagName(\"head\")[0].appendChild(s);\n",
       "}\n",
       "\n",
       "if(typeof(LDAvis) !== \"undefined\"){\n",
       "   // already loaded: just create the visualization\n",
       "   !function(LDAvis){\n",
       "       new LDAvis(\"#\" + \"ldavis_el229621799439172643468915076\", ldavis_el229621799439172643468915076_data);\n",
       "   }(LDAvis);\n",
       "}else if(typeof define === \"function\" && define.amd){\n",
       "   // require.js is available: use it to load d3/LDAvis\n",
       "   require.config({paths: {d3: \"https://d3js.org/d3.v5\"}});\n",
       "   require([\"d3\"], function(d3){\n",
       "      window.d3 = d3;\n",
       "      LDAvis_load_lib(\"https://cdn.jsdelivr.net/gh/bmabey/pyLDAvis@3.3.1/pyLDAvis/js/ldavis.v3.0.0.js\", function(){\n",
       "        new LDAvis(\"#\" + \"ldavis_el229621799439172643468915076\", ldavis_el229621799439172643468915076_data);\n",
       "      });\n",
       "    });\n",
       "}else{\n",
       "    // require.js not available: dynamically load d3 & LDAvis\n",
       "    LDAvis_load_lib(\"https://d3js.org/d3.v5.js\", function(){\n",
       "         LDAvis_load_lib(\"https://cdn.jsdelivr.net/gh/bmabey/pyLDAvis@3.3.1/pyLDAvis/js/ldavis.v3.0.0.js\", function(){\n",
       "                 new LDAvis(\"#\" + \"ldavis_el229621799439172643468915076\", ldavis_el229621799439172643468915076_data);\n",
       "            })\n",
       "         });\n",
       "}\n",
       "</script>"
      ],
      "text/plain": [
       "PreparedData(topic_coordinates=              x         y  topics  cluster       Freq\n",
       "topic                                                \n",
       "5     -0.186379  0.090742       1        1  31.002340\n",
       "4      0.202296  0.064313       2        1  21.773190\n",
       "6     -0.016335 -0.182881       3        1  12.141801\n",
       "0     -0.016216  0.012937       4        1   7.651995\n",
       "8     -0.003049 -0.049618       5        1   7.104369\n",
       "9      0.035603  0.030967       6        1   5.628178\n",
       "2     -0.004080  0.005925       7        1   5.134990\n",
       "1     -0.004556  0.007603       8        1   3.425806\n",
       "7     -0.002269  0.010925       9        1   3.366287\n",
       "3     -0.005013  0.009086      10        1   2.771044, topic_info=          Term      Freq     Total Category  logprob  loglift\n",
       "87         sec  3.000000  3.000000  Default  30.0000  30.0000\n",
       "68       naeun  2.000000  2.000000  Default  29.0000  29.0000\n",
       "55       later  1.000000  1.000000  Default  28.0000  28.0000\n",
       "106      video  3.000000  3.000000  Default  27.0000  27.0000\n",
       "104    version  1.000000  1.000000  Default  26.0000  26.0000\n",
       "..         ...       ...       ...      ...      ...      ...\n",
       "57        like  0.027129  0.952694  Topic10  -4.9628   0.0273\n",
       "77        pink  0.027129  0.952694  Topic10  -4.9628   0.0273\n",
       "39       gimpo  0.027129  0.952694  Topic10  -4.9628   0.0273\n",
       "48       japan  0.027129  0.952694  Topic10  -4.9628   0.0273\n",
       "111  yesterday  0.027129  0.952694  Topic10  -4.9628   0.0273\n",
       "\n",
       "[444 rows x 6 columns], token_table=      Topic      Freq       Term\n",
       "term                            \n",
       "0         1  0.786396        act\n",
       "1         2  0.838275    adliptv\n",
       "3         1  0.786396     atrata\n",
       "4         1  0.965742  aubergine\n",
       "5         2  1.045177      award\n",
       "...     ...       ...        ...\n",
       "108       3  0.950160      wasnt\n",
       "110       1  0.570770      woman\n",
       "110       4  0.570770      woman\n",
       "111       4  1.049655  yesterday\n",
       "112       2  0.838275    youtube\n",
       "\n",
       "[86 rows x 3 columns], R=30, lambda_step=0.01, plot_opts={'xlab': 'PC1', 'ylab': 'PC2'}, topic_order=[6, 5, 7, 1, 9, 10, 3, 2, 8, 4])"
      ]
     },
     "execution_count": 80,
     "metadata": {},
     "output_type": "execute_result"
    }
   ],
   "source": [
    "pyLDAvis.sklearn.prepare(lda_tf, dtm_tf, tf_vectorizer)"
   ]
  },
  {
   "cell_type": "code",
   "execution_count": 81,
   "metadata": {},
   "outputs": [
    {
     "name": "stderr",
     "output_type": "stream",
     "text": [
      "C:\\Users\\bhamp\\anaconda3\\lib\\site-packages\\ipykernel\\ipkernel.py:287: DeprecationWarning: `should_run_async` will not call `transform_cell` automatically in the future. Please pass the result to `transformed_cell` argument and any exception that happen during thetransform in `preprocessing_exc_tuple` in IPython 7.17 and above.\n",
      "  and should_run_async(code)\n"
     ]
    },
    {
     "data": {
      "text/html": [
       "\n",
       "<link rel=\"stylesheet\" type=\"text/css\" href=\"https://cdn.jsdelivr.net/gh/bmabey/pyLDAvis@3.3.1/pyLDAvis/js/ldavis.v1.0.0.css\">\n",
       "\n",
       "\n",
       "<div id=\"ldavis_el229621799512445608290406759\"></div>\n",
       "<script type=\"text/javascript\">\n",
       "\n",
       "var ldavis_el229621799512445608290406759_data = {\"mdsDat\": {\"x\": [0.048579811871202104, -0.03115106047892213, 0.08468007982069883, -0.08243453655373842, -0.017443934907199345, -0.0057633638760746396, 0.0002716713999337651, -0.0019212976651329875, 0.0018376465682398398, 0.0033449838209929196], \"y\": [-0.09003663967983792, -0.0077662369469093375, 0.07342849674266766, 0.02438865742702479, 0.004619963079228358, -0.001484042690980094, -0.0007452679242582959, -0.0006606104420169499, -0.0009144760469730422, -0.0008298435179452175], \"topics\": [1, 2, 3, 4, 5, 6, 7, 8, 9, 10], \"cluster\": [1, 1, 1, 1, 1, 1, 1, 1, 1, 1], \"Freq\": [16.340628886119177, 15.667645099318445, 15.027525343830254, 10.917748760003327, 10.218205702012087, 8.829410673355941, 6.871449852909975, 6.066821275290391, 5.615787103974446, 4.444777303185955]}, \"tinfo\": {\"Term\": [\"later\", \"marcellasne\", \"naeun\", \"sec\", \"nonono\", \"fanmade\", \"lol\", \"source\", \"love\", \"cute\", \"hat\", \"bit\", \"version\", \"known\", \"excited\", \"date\", \"likely\", \"nonigtv\", \"video\", \"france\", \"way\", \"earlier\", \"brand\", \"limited\", \"photoshoot\", \"eunji\", \"join\", \"ambassador\", \"mobile\", \"ver\", \"like\", \"pink\", \"ceci\", \"facebook\", \"korea\", \"gimpo\", \"japan\", \"yesterday\", \"catch\", \"eye\", \"ferrero\", \"rochers\", \"tbh\", \"woman\", \"hour\", \"quote\", \"gogh\", \"van\", \"post\", \"earlier\", \"adliptv\", \"broadcast\", \"carpet\", \"channel\", \"interview\", \"kst\", \"live\", \"naeuns\", \"red\", \"youtube\", \"version\", \"later\", \"mobile\", \"mask\", \"ver\", \"matisse\", \"version\", \"aubergine\", \"life\", \"night\", \"picabia\", \"reupload\", \"act\", \"atrata\", \"boccioni\", \"city\", \"covert\", \"end\", \"erica\", \"eros\", \"figure\", \"goldfish\", \"han\", \"handful\", \"kokoschka\", \"kooning\", \"matta\", \"rise\", \"sculpture\", \"sorry\", \"starry\", \"tietze\", \"date\", \"likely\", \"earlier\", \"fansinging\", \"sort\", \"sure\", \"therell\", \"bomb\", \"butter\", \"chip\", \"honey\", \"cast\", \"crew\", \"drama\", \"feature\", \"shot\", \"post\", \"adliptv\", \"broadcast\", \"carpet\", \"channel\", \"interview\", \"kst\", \"live\", \"naeuns\", \"red\", \"youtube\", \"act\", \"atrata\", \"boccioni\", \"woman\", \"gogh\", \"van\", \"version\", \"later\", \"source\", \"naeun\", \"known\", \"excited\", \"nonigtv\", \"france\", \"way\", \"version\", \"adliptv\", \"broadcast\", \"carpet\", \"channel\", \"interview\", \"kst\", \"live\", \"naeuns\", \"red\", \"youtube\", \"act\", \"atrata\", \"boccioni\", \"city\", \"covert\", \"end\", \"erica\", \"eros\", \"figure\", \"goldfish\", \"han\", \"handful\", \"woman\", \"gogh\", \"van\", \"earlier\", \"later\", \"post\", \"date\", \"likely\", \"bit\", \"video\", \"later\", \"award\", \"ceremony\", \"receiving\", \"adliptv\", \"broadcast\", \"carpet\", \"channel\", \"interview\", \"kst\", \"live\", \"naeuns\", \"red\", \"youtube\", \"naeun\", \"act\", \"atrata\", \"boccioni\", \"city\", \"covert\", \"end\", \"erica\", \"eros\", \"figure\", \"goldfish\", \"han\", \"handful\", \"kokoschka\", \"woman\", \"gogh\", \"van\", \"earlier\", \"version\", \"post\", \"date\", \"likely\", \"nonono\", \"sec\", \"pamplet\", \"pamplets\", \"school\", \"thought\", \"took\", \"wasnt\", \"adliptv\", \"broadcast\", \"carpet\", \"channel\", \"interview\", \"kst\", \"live\", \"naeuns\", \"red\", \"youtube\", \"act\", \"atrata\", \"boccioni\", \"city\", \"covert\", \"end\", \"erica\", \"eros\", \"figure\", \"goldfish\", \"han\", \"handful\", \"woman\", \"gogh\", \"van\", \"earlier\", \"version\", \"later\", \"post\", \"date\", \"likely\", \"ambassador\", \"brand\", \"eunji\", \"join\", \"limited\", \"photoshoot\", \"adliptv\", \"broadcast\", \"carpet\", \"channel\", \"interview\", \"kst\", \"live\", \"naeuns\", \"red\", \"youtube\", \"act\", \"atrata\", \"boccioni\", \"city\", \"covert\", \"end\", \"erica\", \"eros\", \"figure\", \"goldfish\", \"han\", \"handful\", \"kokoschka\", \"kooning\", \"woman\", \"gogh\", \"van\", \"earlier\", \"version\", \"later\", \"post\", \"date\", \"likely\", \"fanmade\", \"lol\", \"later\", \"adliptv\", \"broadcast\", \"carpet\", \"channel\", \"interview\", \"kst\", \"live\", \"naeuns\", \"red\", \"youtube\", \"act\", \"atrata\", \"boccioni\", \"city\", \"covert\", \"end\", \"erica\", \"eros\", \"figure\", \"goldfish\", \"han\", \"handful\", \"kokoschka\", \"kooning\", \"matta\", \"rise\", \"sculpture\", \"woman\", \"gogh\", \"van\", \"earlier\", \"version\", \"post\", \"date\", \"likely\", \"cute\", \"hat\", \"love\", \"adliptv\", \"broadcast\", \"carpet\", \"channel\", \"interview\", \"kst\", \"live\", \"naeuns\", \"red\", \"youtube\", \"act\", \"atrata\", \"boccioni\", \"city\", \"covert\", \"end\", \"erica\", \"eros\", \"figure\", \"goldfish\", \"han\", \"handful\", \"kokoschka\", \"kooning\", \"matta\", \"rise\", \"sculpture\", \"woman\", \"gogh\", \"van\", \"earlier\", \"version\", \"later\", \"post\", \"date\", \"likely\", \"marcellasne\", \"adliptv\", \"broadcast\", \"carpet\", \"channel\", \"interview\", \"kst\", \"live\", \"naeuns\", \"red\", \"youtube\", \"act\", \"atrata\", \"boccioni\", \"city\", \"covert\", \"end\", \"erica\", \"eros\", \"figure\", \"goldfish\", \"han\", \"handful\", \"kokoschka\", \"kooning\", \"matta\", \"rise\", \"sculpture\", \"sorry\", \"starry\", \"woman\", \"gogh\", \"van\", \"earlier\", \"version\", \"later\", \"post\", \"date\", \"likely\"], \"Freq\": [0.0, 0.0, 0.0, 0.0, 0.0, 0.0, 0.0, 0.0, 0.0, 0.0, 0.0, 0.0, 0.0, 0.0, 0.0, 0.0, 0.0, 0.0, 0.0, 0.0, 0.0, 0.0, 0.0, 0.0, 0.0, 0.0, 0.0, 0.0, 0.0, 0.0, 0.27316136228802923, 0.27316136228802923, 0.26692374129767016, 0.26692374129767016, 0.26692374129767016, 0.26692374129767, 0.2669237412976701, 0.2669237412976701, 0.2156407200594135, 0.2156407200594135, 0.2156407200594135, 0.2156407200594135, 0.2156407200594135, 0.25391253910216255, 0.20949084077026664, 0.20949084077026664, 0.1954836771347382, 0.19548367713473822, 0.19547976015553395, 0.19547233148389542, 0.039407049176597486, 0.039407049176597486, 0.039407049176597486, 0.039407049176597486, 0.039407049176597486, 0.039407049176597486, 0.039407049176597486, 0.039407049176597486, 0.039407049176597486, 0.039407049176597486, 0.039407049433074166, 0.03940704932345307, 0.3425561942149153, 0.33039941132929673, 0.33039941132929673, 0.20428097714962296, 0.3177077912307528, 0.149832739600616, 0.149832739600616, 0.149832739600616, 0.149832739600616, 0.149832739600616, 0.09538449686342847, 0.09538449686342847, 0.09538449686342845, 0.09538449686342845, 0.09538449686342845, 0.09538449686342845, 0.09538449686342845, 0.09538449686342845, 0.09538449686342845, 0.09538449686342845, 0.09538449686342845, 0.09538449686342845, 0.09538449686342845, 0.09538449686342845, 0.09538449686342845, 0.09538449686342845, 0.09538449686342845, 0.09538449686342845, 0.09538449686342845, 0.09538449686342845, 0.4069051164263712, 0.4069051164263711, 0.40691192258569536, 0.22194824467120958, 0.22194824467120958, 0.22194824467120958, 0.22194824467120958, 0.22194824467120952, 0.22194824467120952, 0.22194824467120952, 0.22194824467120952, 0.19003618367671693, 0.19003618367671693, 0.19003618367671693, 0.19003618367671693, 0.19003618367671693, 0.17742840340363458, 0.036991375874768244, 0.036991375874768244, 0.036991375874768244, 0.036991375874768244, 0.036991375874768244, 0.036991375874768244, 0.036991375874768244, 0.036991375874768244, 0.036991375874768244, 0.036991375874768244, 0.03699137582888604, 0.03699137582888604, 0.03699137582888604, 0.03699137647826888, 0.036991376408802366, 0.036991376408802366, 0.03699137612063402, 0.03699137601554813, 0.3417571069713937, 0.43601738349586194, 0.2667244116770672, 0.26672441167706684, 0.2599850801223167, 0.25075861679660705, 0.25075861679660705, 0.2411283390138926, 0.031068829301634633, 0.031068829301634633, 0.031068829301634633, 0.031068829301634633, 0.031068829301634633, 0.031068829301634633, 0.031068829301634633, 0.031068829301634633, 0.031068829301634633, 0.031068829301634633, 0.03106882925350009, 0.03106882925350009, 0.03106882925350009, 0.03106882925350009, 0.03106882925350009, 0.03106882925350009, 0.03106882925350009, 0.03106882925350009, 0.03106882925350009, 0.03106882925350009, 0.03106882925350009, 0.03106882925350009, 0.031068829886444615, 0.031068829817149892, 0.031068829817149892, 0.031068829707224657, 0.031068829435436283, 0.03106882942621363, 0.031068829254555255, 0.031068829254555255, 0.2711371165588816, 0.2349290579362953, 0.25146392171726323, 0.13366528810336564, 0.13366528810336567, 0.13366528810336567, 0.08303339875062508, 0.08303339875062508, 0.08303339875062508, 0.08303339875062508, 0.08303339875062508, 0.08303339875062508, 0.08303339875062508, 0.08303339875062508, 0.08303339875062508, 0.08303339875062508, 0.1193933806296164, 0.03240152388870175, 0.03240152388870175, 0.03240152388870175, 0.03240152388870175, 0.03240152388870175, 0.03240152388870175, 0.03240152388870175, 0.03240152388870175, 0.03240152388870175, 0.03240152388870175, 0.03240152388870175, 0.03240152388870175, 0.03240152388870175, 0.032401524626631935, 0.03240152454584342, 0.03240152454584342, 0.032401524417684215, 0.03240152422022968, 0.03240152409006237, 0.032401523889931214, 0.032401523889931214, 0.3149588985572717, 0.3149588985572717, 0.1455248373458891, 0.1455248373458891, 0.1455248373458891, 0.1455248373458891, 0.1455248373458891, 0.1455248373458891, 0.028632628451684728, 0.028632628451684728, 0.028632628451684728, 0.028632628451684728, 0.028632628451684728, 0.028632628451684728, 0.028632628451684728, 0.028632628451684728, 0.028632628451684728, 0.028632628451684728, 0.028632628404533112, 0.028632628404533112, 0.028632628404533112, 0.028632628404533112, 0.028632628404533112, 0.028632628404533112, 0.028632628404533112, 0.028632628404533112, 0.028632628404533112, 0.028632628404533112, 0.028632628404533112, 0.028632628404533112, 0.028632629071895784, 0.028632628998833003, 0.028632628998833003, 0.028632628882929365, 0.028632628704357205, 0.02863262859636175, 0.02863262858663768, 0.02863262840564485, 0.02863262840564485, 0.12972799067640753, 0.12972799067640753, 0.12972799067640753, 0.12972799067640753, 0.12972799067640753, 0.12972799067640753, 0.02552453195913524, 0.02552453195913524, 0.02552453195913524, 0.02552453195913524, 0.02552453195913524, 0.02552453195913524, 0.02552453195913524, 0.02552453195913524, 0.02552453195913524, 0.02552453195913524, 0.025524531910760463, 0.025524531910760463, 0.025524531910760463, 0.025524531910760463, 0.025524531910760463, 0.025524531910760463, 0.025524531910760463, 0.025524531910760463, 0.025524531910760463, 0.025524531910760463, 0.025524531910760463, 0.025524531910760463, 0.025524531910760463, 0.025524531910760463, 0.02552453259544354, 0.025524532520484568, 0.025524532520484568, 0.025524532401571716, 0.025524532218364992, 0.02552453210756668, 0.025524532097590348, 0.025524531911900072, 0.025524531911900072, 0.18235455660341943, 0.18235455660341943, 0.24853423962418789, 0.02259361085742012, 0.02259361085742012, 0.02259361085742012, 0.02259361085742012, 0.02259361085742012, 0.02259361085742012, 0.02259361085742012, 0.02259361085742012, 0.02259361085742012, 0.02259361085742012, 0.022593610814485927, 0.022593610814485927, 0.022593610814485927, 0.022593610814485927, 0.022593610814485927, 0.022593610814485927, 0.022593610814485927, 0.022593610814485927, 0.022593610814485927, 0.022593610814485927, 0.022593610814485927, 0.022593610814485927, 0.022593610814485927, 0.022593610814485927, 0.022593610814485927, 0.022593610814485927, 0.022593610814485927, 0.022593611422164712, 0.022593611355636155, 0.022593611355636155, 0.02259361125009706, 0.022593611087495056, 0.022593610980303585, 0.02259361081549734, 0.022593610815497343, 0.14907579810211247, 0.14907579810211244, 0.14907579810211244, 0.022008672954160896, 0.022008672954160896, 0.022008672954160896, 0.022008672954160896, 0.022008672954160896, 0.022008672954160896, 0.022008672954160896, 0.022008672954160896, 0.022008672954160896, 0.022008672954160896, 0.022008672910063018, 0.022008672910063018, 0.022008672910063018, 0.022008672910063018, 0.022008672910063018, 0.022008672910063018, 0.022008672910063018, 0.022008672910063018, 0.022008672910063018, 0.022008672910063018, 0.022008672910063018, 0.022008672910063018, 0.022008672910063018, 0.022008672910063018, 0.022008672910063018, 0.022008672910063018, 0.022008672910063018, 0.022008673534215397, 0.022008673465883335, 0.022008673465883335, 0.022008673357482755, 0.022008673190472765, 0.022008673089469796, 0.02200867308037548, 0.02200867291110148, 0.02200867291110148, 0.20301753191880675, 0.018456140188211987, 0.018456140188211987, 0.018456140188211987, 0.018456140188211987, 0.018456140188211987, 0.018456140188211987, 0.018456140188211987, 0.018456140188211987, 0.018456140188211987, 0.018456140188211987, 0.01845614014893958, 0.01845614014893958, 0.01845614014893958, 0.01845614014893958, 0.01845614014893958, 0.01845614014893958, 0.01845614014893958, 0.01845614014893958, 0.01845614014893958, 0.01845614014893958, 0.01845614014893958, 0.01845614014893958, 0.01845614014893958, 0.01845614014893958, 0.01845614014893958, 0.01845614014893958, 0.01845614014893958, 0.01845614014893958, 0.01845614014893958, 0.0184561407047967, 0.0184561406439416, 0.0184561406439416, 0.018456140547401852, 0.018456140398666235, 0.018456140308715095, 0.018456140300615927, 0.01845614014986401, 0.01845614014986401], \"Total\": [0.0, 0.0, 0.0, 0.0, 0.0, 0.0, 0.0, 0.0, 0.0, 0.0, 0.0, 0.0, 0.0, 0.0, 0.0, 0.0, 0.0, 0.0, 0.0, 0.0, 0.0, 0.0, 0.0, 0.0, 0.0, 0.0, 0.0, 0.0, 0.0, 0.0, 0.5317749448977751, 0.5317749448977751, 0.5255373239923998, 0.5255373239923998, 0.5255373239923998, 0.5255373239923996, 0.5255373239923998, 0.5255373239923998, 0.47425430228990617, 0.47425430228990617, 0.47425430228990617, 0.47425430228990617, 0.47425430228990617, 0.5624811716521455, 0.4681044227003686, 0.4681044227003686, 0.5040558687947154, 0.5040558687947154, 0.594530374139278, 0.8240064669914584, 0.34865250937802544, 0.34865250937802544, 0.34865250937802544, 0.34865250937802544, 0.34865250937802544, 0.34865250937802544, 0.34865250937802544, 0.34865250937802544, 0.34865250937802544, 0.34865250937802544, 0.7848516656179396, 0.7430236622474015, 0.5996405543514579, 0.587483771574149, 0.587483771574149, 0.46136533416425035, 0.7848516656179396, 0.40691709752021243, 0.40691709752021243, 0.40691709752021243, 0.40691709752021243, 0.40691709752021243, 0.3524688591553685, 0.3524688591553685, 0.3524688591553685, 0.3524688591553685, 0.3524688591553685, 0.3524688591553685, 0.3524688591553685, 0.3524688591553685, 0.3524688591553685, 0.3524688591553685, 0.3524688591553685, 0.3524688591553685, 0.3524688591553685, 0.3524688591553685, 0.3524688591553685, 0.3524688591553685, 0.3524688591553685, 0.3524688591553685, 0.3524688591553685, 0.3524688591553685, 0.6679343747058164, 0.6679343747058164, 0.8240064669914584, 0.48297750026344016, 0.48297750026344016, 0.48297750026344016, 0.48297750026344016, 0.4829775002634401, 0.4829775002634401, 0.4829775002634401, 0.4829775002634401, 0.4510654389626371, 0.4510654389626371, 0.4510654389626371, 0.4510654389626371, 0.4510654389626371, 0.594530374139278, 0.34865250937802544, 0.34865250937802544, 0.34865250937802544, 0.34865250937802544, 0.34865250937802544, 0.34865250937802544, 0.34865250937802544, 0.34865250937802544, 0.34865250937802544, 0.34865250937802544, 0.3524688591553685, 0.3524688591553685, 0.3524688591553685, 0.5624811716521455, 0.5040558687947154, 0.5040558687947154, 0.7848516656179396, 0.7430236622474015, 0.6087089108571572, 0.7899610449417973, 0.5336762138557269, 0.533676213855727, 0.5269368823638498, 0.5177104191397356, 0.5177104191397356, 0.7848516656179396, 0.34865250937802544, 0.34865250937802544, 0.34865250937802544, 0.34865250937802544, 0.34865250937802544, 0.34865250937802544, 0.34865250937802544, 0.34865250937802544, 0.34865250937802544, 0.34865250937802544, 0.3524688591553685, 0.3524688591553685, 0.3524688591553685, 0.3524688591553685, 0.3524688591553685, 0.3524688591553685, 0.3524688591553685, 0.3524688591553685, 0.3524688591553685, 0.3524688591553685, 0.3524688591553685, 0.3524688591553685, 0.5624811716521455, 0.5040558687947154, 0.5040558687947154, 0.8240064669914584, 0.7430236622474015, 0.594530374139278, 0.6679343747058164, 0.6679343747058164, 0.5367562237562694, 0.5005481627660895, 0.7430236622474015, 0.3992843942408576, 0.39928439424085765, 0.39928439424085765, 0.34865250937802544, 0.34865250937802544, 0.34865250937802544, 0.34865250937802544, 0.34865250937802544, 0.34865250937802544, 0.34865250937802544, 0.34865250937802544, 0.34865250937802544, 0.34865250937802544, 0.7899610449417973, 0.3524688591553685, 0.3524688591553685, 0.3524688591553685, 0.3524688591553685, 0.3524688591553685, 0.3524688591553685, 0.3524688591553685, 0.3524688591553685, 0.3524688591553685, 0.3524688591553685, 0.3524688591553685, 0.3524688591553685, 0.3524688591553685, 0.5624811716521455, 0.5040558687947154, 0.5040558687947154, 0.8240064669914584, 0.7848516656179396, 0.594530374139278, 0.6679343747058164, 0.6679343747058164, 0.5843469025414225, 0.5843469025414225, 0.414912839118685, 0.414912839118685, 0.414912839118685, 0.414912839118685, 0.414912839118685, 0.414912839118685, 0.34865250937802544, 0.34865250937802544, 0.34865250937802544, 0.34865250937802544, 0.34865250937802544, 0.34865250937802544, 0.34865250937802544, 0.34865250937802544, 0.34865250937802544, 0.34865250937802544, 0.3524688591553685, 0.3524688591553685, 0.3524688591553685, 0.3524688591553685, 0.3524688591553685, 0.3524688591553685, 0.3524688591553685, 0.3524688591553685, 0.3524688591553685, 0.3524688591553685, 0.3524688591553685, 0.3524688591553685, 0.5624811716521455, 0.5040558687947154, 0.5040558687947154, 0.8240064669914584, 0.7848516656179396, 0.7430236622474015, 0.594530374139278, 0.6679343747058164, 0.6679343747058164, 0.4022240885575362, 0.4022240885575362, 0.4022240885575362, 0.4022240885575362, 0.4022240885575362, 0.4022240885575362, 0.34865250937802544, 0.34865250937802544, 0.34865250937802544, 0.34865250937802544, 0.34865250937802544, 0.34865250937802544, 0.34865250937802544, 0.34865250937802544, 0.34865250937802544, 0.34865250937802544, 0.3524688591553685, 0.3524688591553685, 0.3524688591553685, 0.3524688591553685, 0.3524688591553685, 0.3524688591553685, 0.3524688591553685, 0.3524688591553685, 0.3524688591553685, 0.3524688591553685, 0.3524688591553685, 0.3524688591553685, 0.3524688591553685, 0.3524688591553685, 0.5624811716521455, 0.5040558687947154, 0.5040558687947154, 0.8240064669914584, 0.7848516656179396, 0.7430236622474015, 0.594530374139278, 0.6679343747058164, 0.6679343747058164, 0.45778157627988214, 0.45778157627988214, 0.7430236622474015, 0.34865250937802544, 0.34865250937802544, 0.34865250937802544, 0.34865250937802544, 0.34865250937802544, 0.34865250937802544, 0.34865250937802544, 0.34865250937802544, 0.34865250937802544, 0.34865250937802544, 0.3524688591553685, 0.3524688591553685, 0.3524688591553685, 0.3524688591553685, 0.3524688591553685, 0.3524688591553685, 0.3524688591553685, 0.3524688591553685, 0.3524688591553685, 0.3524688591553685, 0.3524688591553685, 0.3524688591553685, 0.3524688591553685, 0.3524688591553685, 0.3524688591553685, 0.3524688591553685, 0.3524688591553685, 0.5624811716521455, 0.5040558687947154, 0.5040558687947154, 0.8240064669914584, 0.7848516656179396, 0.594530374139278, 0.6679343747058164, 0.6679343747058164, 0.42508775513903835, 0.42508775513903835, 0.42508775513903835, 0.34865250937802544, 0.34865250937802544, 0.34865250937802544, 0.34865250937802544, 0.34865250937802544, 0.34865250937802544, 0.34865250937802544, 0.34865250937802544, 0.34865250937802544, 0.34865250937802544, 0.3524688591553685, 0.3524688591553685, 0.3524688591553685, 0.3524688591553685, 0.3524688591553685, 0.3524688591553685, 0.3524688591553685, 0.3524688591553685, 0.3524688591553685, 0.3524688591553685, 0.3524688591553685, 0.3524688591553685, 0.3524688591553685, 0.3524688591553685, 0.3524688591553685, 0.3524688591553685, 0.3524688591553685, 0.5624811716521455, 0.5040558687947154, 0.5040558687947154, 0.8240064669914584, 0.7848516656179396, 0.7430236622474015, 0.594530374139278, 0.6679343747058164, 0.6679343747058164, 0.48258202291760444, 0.34865250937802544, 0.34865250937802544, 0.34865250937802544, 0.34865250937802544, 0.34865250937802544, 0.34865250937802544, 0.34865250937802544, 0.34865250937802544, 0.34865250937802544, 0.34865250937802544, 0.3524688591553685, 0.3524688591553685, 0.3524688591553685, 0.3524688591553685, 0.3524688591553685, 0.3524688591553685, 0.3524688591553685, 0.3524688591553685, 0.3524688591553685, 0.3524688591553685, 0.3524688591553685, 0.3524688591553685, 0.3524688591553685, 0.3524688591553685, 0.3524688591553685, 0.3524688591553685, 0.3524688591553685, 0.3524688591553685, 0.3524688591553685, 0.5624811716521455, 0.5040558687947154, 0.5040558687947154, 0.8240064669914584, 0.7848516656179396, 0.7430236622474015, 0.594530374139278, 0.6679343747058164, 0.6679343747058164], \"Category\": [\"Default\", \"Default\", \"Default\", \"Default\", \"Default\", \"Default\", \"Default\", \"Default\", \"Default\", \"Default\", \"Default\", \"Default\", \"Default\", \"Default\", \"Default\", \"Default\", \"Default\", \"Default\", \"Default\", \"Default\", \"Default\", \"Default\", \"Default\", \"Default\", \"Default\", \"Default\", \"Default\", \"Default\", \"Default\", \"Default\", \"Topic1\", \"Topic1\", \"Topic1\", \"Topic1\", \"Topic1\", \"Topic1\", \"Topic1\", \"Topic1\", \"Topic1\", \"Topic1\", \"Topic1\", \"Topic1\", \"Topic1\", \"Topic1\", \"Topic1\", \"Topic1\", \"Topic1\", \"Topic1\", \"Topic1\", \"Topic1\", \"Topic1\", \"Topic1\", \"Topic1\", \"Topic1\", \"Topic1\", \"Topic1\", \"Topic1\", \"Topic1\", \"Topic1\", \"Topic1\", \"Topic1\", \"Topic1\", \"Topic2\", \"Topic2\", \"Topic2\", \"Topic2\", \"Topic2\", \"Topic2\", \"Topic2\", \"Topic2\", \"Topic2\", \"Topic2\", \"Topic2\", \"Topic2\", \"Topic2\", \"Topic2\", \"Topic2\", \"Topic2\", \"Topic2\", \"Topic2\", \"Topic2\", \"Topic2\", \"Topic2\", \"Topic2\", \"Topic2\", \"Topic2\", \"Topic2\", \"Topic2\", \"Topic2\", \"Topic2\", \"Topic2\", \"Topic2\", \"Topic3\", \"Topic3\", \"Topic3\", \"Topic3\", \"Topic3\", \"Topic3\", \"Topic3\", \"Topic3\", \"Topic3\", \"Topic3\", \"Topic3\", \"Topic3\", \"Topic3\", \"Topic3\", \"Topic3\", \"Topic3\", \"Topic3\", \"Topic3\", \"Topic3\", \"Topic3\", \"Topic3\", \"Topic3\", \"Topic3\", \"Topic3\", \"Topic3\", \"Topic3\", \"Topic3\", \"Topic3\", \"Topic3\", \"Topic3\", \"Topic3\", \"Topic3\", \"Topic3\", \"Topic3\", \"Topic3\", \"Topic4\", \"Topic4\", \"Topic4\", \"Topic4\", \"Topic4\", \"Topic4\", \"Topic4\", \"Topic4\", \"Topic4\", \"Topic4\", \"Topic4\", \"Topic4\", \"Topic4\", \"Topic4\", \"Topic4\", \"Topic4\", \"Topic4\", \"Topic4\", \"Topic4\", \"Topic4\", \"Topic4\", \"Topic4\", \"Topic4\", \"Topic4\", \"Topic4\", \"Topic4\", \"Topic4\", \"Topic4\", \"Topic4\", \"Topic4\", \"Topic4\", \"Topic4\", \"Topic4\", \"Topic4\", \"Topic4\", \"Topic4\", \"Topic4\", \"Topic4\", \"Topic5\", \"Topic5\", \"Topic5\", \"Topic5\", \"Topic5\", \"Topic5\", \"Topic5\", \"Topic5\", \"Topic5\", \"Topic5\", \"Topic5\", \"Topic5\", \"Topic5\", \"Topic5\", \"Topic5\", \"Topic5\", \"Topic5\", \"Topic5\", \"Topic5\", \"Topic5\", \"Topic5\", \"Topic5\", \"Topic5\", \"Topic5\", \"Topic5\", \"Topic5\", \"Topic5\", \"Topic5\", \"Topic5\", \"Topic5\", \"Topic5\", \"Topic5\", \"Topic5\", \"Topic5\", \"Topic5\", \"Topic5\", \"Topic5\", \"Topic5\", \"Topic6\", \"Topic6\", \"Topic6\", \"Topic6\", \"Topic6\", \"Topic6\", \"Topic6\", \"Topic6\", \"Topic6\", \"Topic6\", \"Topic6\", \"Topic6\", \"Topic6\", \"Topic6\", \"Topic6\", \"Topic6\", \"Topic6\", \"Topic6\", \"Topic6\", \"Topic6\", \"Topic6\", \"Topic6\", \"Topic6\", \"Topic6\", \"Topic6\", \"Topic6\", \"Topic6\", \"Topic6\", \"Topic6\", \"Topic6\", \"Topic6\", \"Topic6\", \"Topic6\", \"Topic6\", \"Topic6\", \"Topic6\", \"Topic6\", \"Topic6\", \"Topic6\", \"Topic7\", \"Topic7\", \"Topic7\", \"Topic7\", \"Topic7\", \"Topic7\", \"Topic7\", \"Topic7\", \"Topic7\", \"Topic7\", \"Topic7\", \"Topic7\", \"Topic7\", \"Topic7\", \"Topic7\", \"Topic7\", \"Topic7\", \"Topic7\", \"Topic7\", \"Topic7\", \"Topic7\", \"Topic7\", \"Topic7\", \"Topic7\", \"Topic7\", \"Topic7\", \"Topic7\", \"Topic7\", \"Topic7\", \"Topic7\", \"Topic7\", \"Topic7\", \"Topic7\", \"Topic7\", \"Topic7\", \"Topic7\", \"Topic7\", \"Topic7\", \"Topic7\", \"Topic8\", \"Topic8\", \"Topic8\", \"Topic8\", \"Topic8\", \"Topic8\", \"Topic8\", \"Topic8\", \"Topic8\", \"Topic8\", \"Topic8\", \"Topic8\", \"Topic8\", \"Topic8\", \"Topic8\", \"Topic8\", \"Topic8\", \"Topic8\", \"Topic8\", \"Topic8\", \"Topic8\", \"Topic8\", \"Topic8\", \"Topic8\", \"Topic8\", \"Topic8\", \"Topic8\", \"Topic8\", \"Topic8\", \"Topic8\", \"Topic8\", \"Topic8\", \"Topic8\", \"Topic8\", \"Topic8\", \"Topic8\", \"Topic8\", \"Topic8\", \"Topic9\", \"Topic9\", \"Topic9\", \"Topic9\", \"Topic9\", \"Topic9\", \"Topic9\", \"Topic9\", \"Topic9\", \"Topic9\", \"Topic9\", \"Topic9\", \"Topic9\", \"Topic9\", \"Topic9\", \"Topic9\", \"Topic9\", \"Topic9\", \"Topic9\", \"Topic9\", \"Topic9\", \"Topic9\", \"Topic9\", \"Topic9\", \"Topic9\", \"Topic9\", \"Topic9\", \"Topic9\", \"Topic9\", \"Topic9\", \"Topic9\", \"Topic9\", \"Topic9\", \"Topic9\", \"Topic9\", \"Topic9\", \"Topic9\", \"Topic9\", \"Topic9\", \"Topic10\", \"Topic10\", \"Topic10\", \"Topic10\", \"Topic10\", \"Topic10\", \"Topic10\", \"Topic10\", \"Topic10\", \"Topic10\", \"Topic10\", \"Topic10\", \"Topic10\", \"Topic10\", \"Topic10\", \"Topic10\", \"Topic10\", \"Topic10\", \"Topic10\", \"Topic10\", \"Topic10\", \"Topic10\", \"Topic10\", \"Topic10\", \"Topic10\", \"Topic10\", \"Topic10\", \"Topic10\", \"Topic10\", \"Topic10\", \"Topic10\", \"Topic10\", \"Topic10\", \"Topic10\", \"Topic10\", \"Topic10\", \"Topic10\", \"Topic10\", \"Topic10\"], \"logprob\": [30.0, 29.0, 28.0, 27.0, 26.0, 25.0, 24.0, 23.0, 22.0, 21.0, 20.0, 19.0, 18.0, 17.0, 16.0, 15.0, 14.0, 13.0, 12.0, 11.0, 10.0, 9.0, 8.0, 7.0, 6.0, 5.0, 4.0, 3.0, 2.0, 1.0, -3.4194, -3.4194, -3.4425, -3.4425, -3.4425, -3.4425, -3.4425, -3.4425, -3.6559, -3.6559, -3.6559, -3.6559, -3.6559, -3.4925, -3.6848, -3.6848, -3.754, -3.754, -3.754, -3.7541, -5.3556, -5.3556, -5.3556, -5.3556, -5.3556, -5.3556, -5.3556, -5.3556, -5.3556, -5.3556, -5.3556, -5.3556, -3.151, -3.1871, -3.1871, -3.668, -3.2263, -3.9779, -3.9779, -3.9779, -3.9779, -3.9779, -4.4295, -4.4295, -4.4295, -4.4295, -4.4295, -4.4295, -4.4295, -4.4295, -4.4295, -4.4295, -4.4295, -4.4295, -4.4295, -4.4295, -4.4295, -4.4295, -4.4295, -4.4295, -4.4295, -4.4295, -2.9372, -2.9372, -2.9371, -3.5433, -3.5433, -3.5433, -3.5433, -3.5433, -3.5433, -3.5433, -3.5433, -3.6985, -3.6985, -3.6985, -3.6985, -3.6985, -3.7672, -5.3351, -5.3351, -5.3351, -5.3351, -5.3351, -5.3351, -5.3351, -5.3351, -5.3351, -5.3351, -5.3351, -5.3351, -5.3351, -5.3351, -5.3351, -5.3351, -5.3351, -5.3351, -2.7921, -2.5486, -3.04, -3.04, -3.0656, -3.1018, -3.1018, -3.1409, -5.19, -5.19, -5.19, -5.19, -5.19, -5.19, -5.19, -5.19, -5.19, -5.19, -5.19, -5.19, -5.19, -5.19, -5.19, -5.19, -5.19, -5.19, -5.19, -5.19, -5.19, -5.19, -5.19, -5.19, -5.19, -5.19, -5.19, -5.19, -5.19, -5.19, -2.9574, -3.1007, -3.0327, -3.6647, -3.6647, -3.6647, -4.1408, -4.1408, -4.1408, -4.1408, -4.1408, -4.1408, -4.1408, -4.1408, -4.1408, -4.1408, -3.7776, -5.0818, -5.0818, -5.0818, -5.0818, -5.0818, -5.0818, -5.0818, -5.0818, -5.0818, -5.0818, -5.0818, -5.0818, -5.0818, -5.0818, -5.0818, -5.0818, -5.0818, -5.0818, -5.0818, -5.0818, -5.0818, -2.6615, -2.6615, -3.4336, -3.4336, -3.4336, -3.4336, -3.4336, -3.4336, -5.0594, -5.0594, -5.0594, -5.0594, -5.0594, -5.0594, -5.0594, -5.0594, -5.0594, -5.0594, -5.0594, -5.0594, -5.0594, -5.0594, -5.0594, -5.0594, -5.0594, -5.0594, -5.0594, -5.0594, -5.0594, -5.0594, -5.0594, -5.0594, -5.0594, -5.0594, -5.0594, -5.0594, -5.0594, -5.0594, -5.0594, -3.2978, -3.2978, -3.2978, -3.2978, -3.2978, -3.2978, -4.9236, -4.9236, -4.9236, -4.9236, -4.9236, -4.9236, -4.9236, -4.9236, -4.9236, -4.9236, -4.9236, -4.9236, -4.9236, -4.9236, -4.9236, -4.9236, -4.9236, -4.9236, -4.9236, -4.9236, -4.9236, -4.9236, -4.9236, -4.9236, -4.9236, -4.9236, -4.9236, -4.9236, -4.9236, -4.9236, -4.9236, -4.9236, -4.9236, -2.8327, -2.8327, -2.5231, -4.921, -4.921, -4.921, -4.921, -4.921, -4.921, -4.921, -4.921, -4.921, -4.921, -4.921, -4.921, -4.921, -4.921, -4.921, -4.921, -4.921, -4.921, -4.921, -4.921, -4.921, -4.921, -4.921, -4.921, -4.921, -4.921, -4.921, -4.921, -4.921, -4.921, -4.921, -4.921, -4.921, -4.921, -4.921, -2.957, -2.957, -2.957, -4.87, -4.87, -4.87, -4.87, -4.87, -4.87, -4.87, -4.87, -4.87, -4.87, -4.87, -4.87, -4.87, -4.87, -4.87, -4.87, -4.87, -4.87, -4.87, -4.87, -4.87, -4.87, -4.87, -4.87, -4.87, -4.87, -4.87, -4.87, -4.87, -4.87, -4.87, -4.87, -4.87, -4.87, -4.87, -4.87, -2.4143, -4.8122, -4.8122, -4.8122, -4.8122, -4.8122, -4.8122, -4.8122, -4.8122, -4.8122, -4.8122, -4.8122, -4.8122, -4.8122, -4.8122, -4.8122, -4.8122, -4.8122, -4.8122, -4.8122, -4.8122, -4.8122, -4.8122, -4.8122, -4.8122, -4.8122, -4.8122, -4.8122, -4.8122, -4.8122, -4.8122, -4.8122, -4.8122, -4.8122, -4.8122, -4.8122, -4.8122, -4.8122, -4.8122], \"loglift\": [30.0, 29.0, 28.0, 27.0, 26.0, 25.0, 24.0, 23.0, 22.0, 21.0, 20.0, 19.0, 18.0, 17.0, 16.0, 15.0, 14.0, 13.0, 12.0, 11.0, 10.0, 9.0, 8.0, 7.0, 6.0, 5.0, 4.0, 3.0, 2.0, 1.0, 1.1454, 1.1454, 1.1341, 1.1341, 1.1341, 1.1341, 1.1341, 1.1341, 1.0234, 1.0234, 1.0234, 1.0234, 1.0234, 1.0161, 1.0075, 1.0075, 0.8643, 0.8643, 0.6992, 0.3728, -0.3686, -0.3686, -0.3686, -0.3686, -0.3686, -0.3686, -0.3686, -0.3686, -0.3686, -0.3686, -1.18, -1.1253, 1.2937, 1.278, 1.278, 1.0389, 0.9492, 0.8545, 0.8545, 0.8545, 0.8545, 0.8545, 0.5465, 0.5465, 0.5465, 0.5465, 0.5465, 0.5465, 0.5465, 0.5465, 0.5465, 0.5465, 0.5465, 0.5465, 0.5465, 0.5465, 0.5465, 0.5465, 0.5465, 0.5465, 0.5465, 0.5465, 1.3997, 1.3997, 1.1897, 1.1178, 1.1178, 1.1178, 1.1178, 1.1178, 1.1178, 1.1178, 1.1178, 1.0309, 1.0309, 1.0309, 1.0309, 1.0309, 0.6861, -0.3481, -0.3481, -0.3481, -0.3481, -0.3481, -0.3481, -0.3481, -0.3481, -0.3481, -0.3481, -0.359, -0.359, -0.359, -0.8264, -0.7167, -0.7167, -1.1595, -1.1048, 1.6375, 1.6205, 1.5212, 1.5212, 1.5083, 1.4899, 1.4899, 1.0346, -0.2031, -0.2031, -0.2031, -0.2031, -0.2031, -0.2031, -0.2031, -0.2031, -0.2031, -0.2031, -0.214, -0.214, -0.214, -0.214, -0.214, -0.214, -0.214, -0.214, -0.214, -0.214, -0.214, -0.214, -0.6814, -0.5717, -0.5717, -1.0632, -0.9597, -0.7368, -0.8532, -0.8532, 1.5981, 1.5246, 1.1976, 1.1867, 1.1867, 1.1867, 0.8462, 0.8462, 0.8462, 0.8462, 0.8462, 0.8462, 0.8462, 0.8462, 0.8462, 0.8462, 0.3914, -0.1058, -0.1058, -0.1058, -0.1058, -0.1058, -0.1058, -0.1058, -0.1058, -0.1058, -0.1058, -0.1058, -0.1058, -0.1058, -0.5732, -0.4635, -0.4635, -0.955, -0.9063, -0.6286, -0.745, -0.745, 1.809, 1.809, 1.3794, 1.3794, 1.3794, 1.3794, 1.3794, 1.3794, -0.0724, -0.0724, -0.0724, -0.0724, -0.0724, -0.0724, -0.0724, -0.0724, -0.0724, -0.0724, -0.0833, -0.0833, -0.0833, -0.0833, -0.0833, -0.0833, -0.0833, -0.0833, -0.0833, -0.0833, -0.0833, -0.0833, -0.5507, -0.4411, -0.4411, -0.9325, -0.8839, -0.8291, -0.6061, -0.7226, -0.7226, 1.5462, 1.5462, 1.5462, 1.5462, 1.5462, 1.5462, 0.0634, 0.0634, 0.0634, 0.0634, 0.0634, 0.0634, 0.0634, 0.0634, 0.0634, 0.0634, 0.0525, 0.0525, 0.0525, 0.0525, 0.0525, 0.0525, 0.0525, 0.0525, 0.0525, 0.0525, 0.0525, 0.0525, 0.0525, 0.0525, -0.4149, -0.3053, -0.3053, -0.7967, -0.7481, -0.6933, -0.4703, -0.5868, -0.5868, 1.8819, 1.8819, 1.7072, 0.0659, 0.0659, 0.0659, 0.0659, 0.0659, 0.0659, 0.0659, 0.0659, 0.0659, 0.0659, 0.055, 0.055, 0.055, 0.055, 0.055, 0.055, 0.055, 0.055, 0.055, 0.055, 0.055, 0.055, 0.055, 0.055, 0.055, 0.055, 0.055, -0.4124, -0.3027, -0.3027, -0.7942, -0.7455, -0.4678, -0.5842, -0.5842, 1.8317, 1.8317, 1.8317, 0.1169, 0.1169, 0.1169, 0.1169, 0.1169, 0.1169, 0.1169, 0.1169, 0.1169, 0.1169, 0.1061, 0.1061, 0.1061, 0.1061, 0.1061, 0.1061, 0.1061, 0.1061, 0.1061, 0.1061, 0.1061, 0.1061, 0.1061, 0.1061, 0.1061, 0.1061, 0.1061, -0.3613, -0.2517, -0.2517, -0.7432, -0.6945, -0.6397, -0.4167, -0.5332, -0.5332, 2.2476, 0.1748, 0.1748, 0.1748, 0.1748, 0.1748, 0.1748, 0.1748, 0.1748, 0.1748, 0.1748, 0.1639, 0.1639, 0.1639, 0.1639, 0.1639, 0.1639, 0.1639, 0.1639, 0.1639, 0.1639, 0.1639, 0.1639, 0.1639, 0.1639, 0.1639, 0.1639, 0.1639, 0.1639, 0.1639, -0.3035, -0.1938, -0.1938, -0.6853, -0.6367, -0.5819, -0.3589, -0.4754, -0.4754]}, \"token.table\": {\"Topic\": [], \"Freq\": [], \"Term\": []}, \"R\": 30, \"lambda.step\": 0.01, \"plot.opts\": {\"xlab\": \"PC1\", \"ylab\": \"PC2\"}, \"topic.order\": [1, 8, 9, 10, 4, 7, 3, 6, 5, 2]};\n",
       "\n",
       "function LDAvis_load_lib(url, callback){\n",
       "  var s = document.createElement('script');\n",
       "  s.src = url;\n",
       "  s.async = true;\n",
       "  s.onreadystatechange = s.onload = callback;\n",
       "  s.onerror = function(){console.warn(\"failed to load library \" + url);};\n",
       "  document.getElementsByTagName(\"head\")[0].appendChild(s);\n",
       "}\n",
       "\n",
       "if(typeof(LDAvis) !== \"undefined\"){\n",
       "   // already loaded: just create the visualization\n",
       "   !function(LDAvis){\n",
       "       new LDAvis(\"#\" + \"ldavis_el229621799512445608290406759\", ldavis_el229621799512445608290406759_data);\n",
       "   }(LDAvis);\n",
       "}else if(typeof define === \"function\" && define.amd){\n",
       "   // require.js is available: use it to load d3/LDAvis\n",
       "   require.config({paths: {d3: \"https://d3js.org/d3.v5\"}});\n",
       "   require([\"d3\"], function(d3){\n",
       "      window.d3 = d3;\n",
       "      LDAvis_load_lib(\"https://cdn.jsdelivr.net/gh/bmabey/pyLDAvis@3.3.1/pyLDAvis/js/ldavis.v3.0.0.js\", function(){\n",
       "        new LDAvis(\"#\" + \"ldavis_el229621799512445608290406759\", ldavis_el229621799512445608290406759_data);\n",
       "      });\n",
       "    });\n",
       "}else{\n",
       "    // require.js not available: dynamically load d3 & LDAvis\n",
       "    LDAvis_load_lib(\"https://d3js.org/d3.v5.js\", function(){\n",
       "         LDAvis_load_lib(\"https://cdn.jsdelivr.net/gh/bmabey/pyLDAvis@3.3.1/pyLDAvis/js/ldavis.v3.0.0.js\", function(){\n",
       "                 new LDAvis(\"#\" + \"ldavis_el229621799512445608290406759\", ldavis_el229621799512445608290406759_data);\n",
       "            })\n",
       "         });\n",
       "}\n",
       "</script>"
      ],
      "text/plain": [
       "PreparedData(topic_coordinates=              x         y  topics  cluster       Freq\n",
       "topic                                                \n",
       "0      0.048580 -0.090037       1        1  16.340629\n",
       "7     -0.031151 -0.007766       2        1  15.667645\n",
       "8      0.084680  0.073428       3        1  15.027525\n",
       "9     -0.082435  0.024389       4        1  10.917749\n",
       "3     -0.017444  0.004620       5        1  10.218206\n",
       "6     -0.005763 -0.001484       6        1   8.829411\n",
       "2      0.000272 -0.000745       7        1   6.871450\n",
       "5     -0.001921 -0.000661       8        1   6.066821\n",
       "4      0.001838 -0.000914       9        1   5.615787\n",
       "1      0.003345 -0.000830      10        1   4.444777, topic_info=            Term      Freq     Total Category  logprob  loglift\n",
       "55         later  0.000000  0.000000  Default  30.0000  30.0000\n",
       "63   marcellasne  0.000000  0.000000  Default  29.0000  29.0000\n",
       "68         naeun  0.000000  0.000000  Default  28.0000  28.0000\n",
       "87           sec  0.000000  0.000000  Default  27.0000  27.0000\n",
       "72        nonono  0.000000  0.000000  Default  26.0000  26.0000\n",
       "..           ...       ...       ...      ...      ...      ...\n",
       "104      version  0.018456  0.784852  Topic10  -4.8122  -0.6367\n",
       "55         later  0.018456  0.743024  Topic10  -4.8122  -0.5819\n",
       "78          post  0.018456  0.594530  Topic10  -4.8122  -0.3589\n",
       "23          date  0.018456  0.667934  Topic10  -4.8122  -0.4754\n",
       "58        likely  0.018456  0.667934  Topic10  -4.8122  -0.4754\n",
       "\n",
       "[397 rows x 6 columns], token_table=Empty DataFrame\n",
       "Columns: [Topic, Freq, Term]\n",
       "Index: [], R=30, lambda_step=0.01, plot_opts={'xlab': 'PC1', 'ylab': 'PC2'}, topic_order=[1, 8, 9, 10, 4, 7, 3, 6, 5, 2])"
      ]
     },
     "execution_count": 81,
     "metadata": {},
     "output_type": "execute_result"
    }
   ],
   "source": [
    "pyLDAvis.sklearn.prepare(lda_tfidf, dtm_tfidf, tfidf_vectorizer)"
   ]
  },
  {
   "cell_type": "code",
   "execution_count": null,
   "metadata": {},
   "outputs": [],
   "source": []
  }
 ],
 "metadata": {
  "kernelspec": {
   "display_name": "Python 3",
   "language": "python",
   "name": "python3"
  },
  "language_info": {
   "codemirror_mode": {
    "name": "ipython",
    "version": 3
   },
   "file_extension": ".py",
   "mimetype": "text/x-python",
   "name": "python",
   "nbconvert_exporter": "python",
   "pygments_lexer": "ipython3",
   "version": "3.8.5"
  }
 },
 "nbformat": 4,
 "nbformat_minor": 4
}
